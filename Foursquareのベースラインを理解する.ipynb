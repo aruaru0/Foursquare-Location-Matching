{
  "cells": [
    {
      "cell_type": "markdown",
      "metadata": {
        "id": "view-in-github",
        "colab_type": "text"
      },
      "source": [
        "<a href=\"https://colab.research.google.com/github/aruaru0/Foursquare-Location-Matching/blob/main/Foursquare%E3%81%AE%E3%83%99%E3%83%BC%E3%82%B9%E3%83%A9%E3%82%A4%E3%83%B3%E3%82%92%E7%90%86%E8%A7%A3%E3%81%99%E3%82%8B.ipynb\" target=\"_parent\"><img src=\"https://colab.research.google.com/assets/colab-badge.svg\" alt=\"Open In Colab\"/></a>"
      ]
    },
    {
      "cell_type": "markdown",
      "metadata": {
        "id": "BkMD546R6rUS"
      },
      "source": [
        "# Colab用用kaggle関連設定"
      ]
    },
    {
      "cell_type": "code",
      "execution_count": 1,
      "metadata": {
        "id": "lc4o8JWr6fkb"
      },
      "outputs": [],
      "source": [
        "import sys"
      ]
    },
    {
      "cell_type": "code",
      "execution_count": 2,
      "metadata": {
        "id": "reaxyANy6y4J"
      },
      "outputs": [],
      "source": [
        "is_colab = False\n",
        "if \"google.colab\" in sys.modules:\n",
        "  is_colab = True"
      ]
    },
    {
      "cell_type": "code",
      "execution_count": 3,
      "metadata": {
        "colab": {
          "base_uri": "https://localhost:8080/"
        },
        "id": "-ukudji07Koc",
        "outputId": "d8b05d87-848e-4d03-b1ef-3814967d84cd"
      },
      "outputs": [
        {
          "output_type": "stream",
          "name": "stdout",
          "text": [
            "Looking in indexes: https://pypi.org/simple, https://us-python.pkg.dev/colab-wheels/public/simple/\n",
            "Requirement already satisfied: kaggle in /usr/local/lib/python3.7/dist-packages (1.5.12)\n",
            "Requirement already satisfied: six>=1.10 in /usr/local/lib/python3.7/dist-packages (from kaggle) (1.15.0)\n",
            "Requirement already satisfied: requests in /usr/local/lib/python3.7/dist-packages (from kaggle) (2.23.0)\n",
            "Requirement already satisfied: python-slugify in /usr/local/lib/python3.7/dist-packages (from kaggle) (6.1.2)\n",
            "Requirement already satisfied: python-dateutil in /usr/local/lib/python3.7/dist-packages (from kaggle) (2.8.2)\n",
            "Requirement already satisfied: certifi in /usr/local/lib/python3.7/dist-packages (from kaggle) (2022.5.18.1)\n",
            "Requirement already satisfied: tqdm in /usr/local/lib/python3.7/dist-packages (from kaggle) (4.64.0)\n",
            "Requirement already satisfied: urllib3 in /usr/local/lib/python3.7/dist-packages (from kaggle) (1.24.3)\n",
            "Requirement already satisfied: text-unidecode>=1.3 in /usr/local/lib/python3.7/dist-packages (from python-slugify->kaggle) (1.3)\n",
            "Requirement already satisfied: idna<3,>=2.5 in /usr/local/lib/python3.7/dist-packages (from requests->kaggle) (2.10)\n",
            "Requirement already satisfied: chardet<4,>=3.0.2 in /usr/local/lib/python3.7/dist-packages (from requests->kaggle) (3.0.4)\n",
            "Reading package lists... Done\n",
            "Building dependency tree       \n",
            "Reading state information... Done\n",
            "unzip is already the newest version (6.0-21ubuntu1.1).\n",
            "The following package was automatically installed and is no longer required:\n",
            "  libnvidia-common-460\n",
            "Use 'apt autoremove' to remove it.\n",
            "0 upgraded, 0 newly installed, 0 to remove and 45 not upgraded.\n",
            "Downloading foursquare-location-matching.zip to /content\n",
            " 91% 144M/159M [00:00<00:00, 220MB/s]\n",
            "100% 159M/159M [00:00<00:00, 206MB/s]\n",
            "Archive:  foursquare-location-matching.zip\n",
            "  inflating: input/foursquare-location-matching/pairs.csv  \n",
            "  inflating: input/foursquare-location-matching/sample_submission.csv  \n",
            "  inflating: input/foursquare-location-matching/test.csv  \n",
            "  inflating: input/foursquare-location-matching/train.csv  \n"
          ]
        }
      ],
      "source": [
        "if is_colab:\n",
        "  !mkdir -p ~/.kaggle\n",
        "  !cp /content/drive/MyDrive/datas/kaggle.json  ~/.kaggle/\n",
        "  !pip install kaggle\n",
        "  !apt install unzip\n",
        "  !chmod 600 /root/.kaggle/kaggle.json\n",
        "\n",
        "  !kaggle competitions download -c foursquare-location-matching\n",
        "  !mkdir input output\n",
        "  !unzip foursquare-location-matching.zip -d input/foursquare-location-matching"
      ]
    },
    {
      "cell_type": "code",
      "execution_count": 4,
      "metadata": {
        "colab": {
          "base_uri": "https://localhost:8080/"
        },
        "id": "TAVU80BdNA3s",
        "outputId": "89e2f29d-357c-4aec-8fbd-a0fc05747251"
      },
      "outputs": [
        {
          "output_type": "stream",
          "name": "stdout",
          "text": [
            "Looking in indexes: https://pypi.org/simple, https://us-python.pkg.dev/colab-wheels/public/simple/\n",
            "Collecting Levenshtein\n",
            "  Downloading Levenshtein-0.18.1-cp37-cp37m-manylinux_2_17_x86_64.manylinux2014_x86_64.whl (258 kB)\n",
            "\u001b[K     |████████████████████████████████| 258 kB 5.2 MB/s \n",
            "\u001b[?25hCollecting rapidfuzz<3.0.0,>=2.0.1\n",
            "  Downloading rapidfuzz-2.0.11-cp37-cp37m-manylinux_2_17_x86_64.manylinux2014_x86_64.whl (1.8 MB)\n",
            "\u001b[K     |████████████████████████████████| 1.8 MB 85.9 MB/s \n",
            "\u001b[?25hCollecting jarowinkler<1.1.0,>=1.0.2\n",
            "  Downloading jarowinkler-1.0.2-cp37-cp37m-manylinux_2_17_x86_64.manylinux2014_x86_64.whl (103 kB)\n",
            "\u001b[K     |████████████████████████████████| 103 kB 38.5 MB/s \n",
            "\u001b[?25hInstalling collected packages: jarowinkler, rapidfuzz, Levenshtein\n",
            "Successfully installed Levenshtein-0.18.1 jarowinkler-1.0.2 rapidfuzz-2.0.11\n"
          ]
        }
      ],
      "source": [
        "if is_colab :\n",
        "    !pip install Levenshtein"
      ]
    },
    {
      "cell_type": "code",
      "execution_count": 5,
      "metadata": {
        "colab": {
          "base_uri": "https://localhost:8080/"
        },
        "id": "-j6t3Lgl7aJO",
        "outputId": "d3b864db-277b-48d0-bb8b-1f769e0fa272"
      },
      "outputs": [
        {
          "output_type": "stream",
          "name": "stdout",
          "text": [
            "/content/output\n"
          ]
        }
      ],
      "source": [
        "import sys\n",
        "is_colab = False\n",
        "if \"google.colab\" in sys.modules:\n",
        "  is_colab = True\n",
        "  \n",
        "if is_colab :\n",
        "  %cd /content/output\n",
        "  "
      ]
    },
    {
      "cell_type": "markdown",
      "metadata": {
        "id": "ZOycSEZo7hIE"
      },
      "source": [
        "# start here."
      ]
    },
    {
      "cell_type": "code",
      "execution_count": 7,
      "metadata": {
        "id": "l069L0_J7fRw"
      },
      "outputs": [],
      "source": [
        "import pandas as pd\n",
        "import numpy as np\n",
        "import matplotlib.pyplot as plt\n",
        "from tqdm.auto import tqdm\n",
        "import os\n",
        "import gc\n",
        "import random\n",
        "from glob import glob\n",
        "from sklearn.model_selection import GroupKFold, KFold, StratifiedKFold\n",
        "from sklearn.neighbors import KNeighborsRegressor\n",
        "import warnings\n",
        "import seaborn as sns\n",
        "import pickle\n",
        "import json\n",
        "import re\n",
        "import time\n",
        "import sys\n",
        "from requests import get\n",
        "import multiprocessing\n",
        "import joblib\n",
        "from scipy.special import softmax\n",
        "\n",
        "import Levenshtein\n",
        "import difflib\n",
        "\n",
        "import lightgbm as lgbm"
      ]
    },
    {
      "cell_type": "code",
      "execution_count": 11,
      "metadata": {
        "id": "-bAM1_ki77hM"
      },
      "outputs": [],
      "source": [
        "class CFG:\n",
        "    seed = 46\n",
        "    target = \"point_of_interest\"\n",
        "    n_splits = 3\n",
        "\n",
        "    n_neighbors = 25\n",
        "    is_debug = False\n",
        "    train = False\n",
        "\n",
        "    model_path = '/content/drive/MyDrive/datas/foursquare/pkl'"
      ]
    },
    {
      "cell_type": "code",
      "execution_count": 12,
      "metadata": {
        "id": "P7gRMzmk8TzD"
      },
      "outputs": [],
      "source": [
        "random.seed(CFG.seed)\n",
        "os.environ[\"PYTHONHASHSEED\"] = str(CFG.seed)\n",
        "np.random.seed(CFG.seed)\n",
        "\n",
        "plt.rcParams[\"font.size\"] = 13\n",
        "warnings.filterwarnings('ignore')"
      ]
    },
    {
      "cell_type": "markdown",
      "metadata": {
        "id": "wOn7ZVYi70R1"
      },
      "source": [
        "### ファイルの読み込み"
      ]
    },
    {
      "cell_type": "code",
      "execution_count": 13,
      "metadata": {
        "id": "XjpQ2oB67ska"
      },
      "outputs": [],
      "source": [
        "test = pd.read_csv(\"../input/foursquare-location-matching/test.csv\")\n",
        "test[CFG.target] = \"TEST\"\n",
        "\n",
        "if CFG.train :\n",
        "  train = pd.read_csv(\"../input/foursquare-location-matching/train.csv\")\n",
        "  if CFG.is_debug:\n",
        "      train = train.sample(n = 10000, random_state = CFG.seed)\n",
        "      train = train.reset_index(drop = True)\n",
        "\n",
        "  train.head(5)"
      ]
    },
    {
      "cell_type": "markdown",
      "metadata": {
        "id": "twwWfv5F8COM"
      },
      "source": [
        "### Trainを分割する"
      ]
    },
    {
      "cell_type": "code",
      "execution_count": 14,
      "metadata": {
        "id": "Fdcz2x_u7y3u"
      },
      "outputs": [],
      "source": [
        "if CFG.train :\n",
        "  kf = GroupKFold(n_splits=2)\n",
        "  for i,(trn_idx, val_idx) in enumerate(kf.split(train, train[CFG.target], train[CFG.target])) : \n",
        "    train.loc[val_idx, \"set\"] = i\n",
        "  train['set'].value_counts()"
      ]
    },
    {
      "cell_type": "markdown",
      "metadata": {
        "id": "9TuB_XCf83O_"
      },
      "source": [
        "### 候補を検索"
      ]
    },
    {
      "cell_type": "code",
      "execution_count": 15,
      "metadata": {
        "id": "8TnzuLid8WRD"
      },
      "outputs": [],
      "source": [
        "def add_neighbor_features(df) :\n",
        "  dfs = []\n",
        "  columns = ['id', 'name', 'address', 'city', 'state',\n",
        "          'zip', 'country', 'url', 'phone', 'categories']\n",
        "\n",
        "  # 小文字に変換\n",
        "  for c in columns:\n",
        "    if c != \"id\":\n",
        "        df[c] = df[c].astype(str).str.lower()\n",
        "\n",
        "  # 国ごとに分割して処理\n",
        "  for country, country_df in tqdm(df.groupby(\"country\")):\n",
        "      country_df = country_df.reset_index(drop=True) # 削除したindexを列に加えずに新たに番号をつける\n",
        "      \n",
        "      # k-最近傍法\n",
        "      knn = KNeighborsRegressor(n_neighbors=min(len(country_df), CFG.n_neighbors), \n",
        "                                metric='haversine', n_jobs=-1)\n",
        "      knn.fit(country_df[['latitude','longitude']], country_df.index)\n",
        "      # dists: 距離 nears: インデックス\n",
        "      dists, nears = knn.kneighbors(country_df[['latitude','longitude']], return_distance=True)\n",
        "\n",
        "      # 近傍に対して距離d_near_xと,　インデックスnear_target_x, 近傍の情報をセット\n",
        "      targets = country_df[CFG.target].values\n",
        "      for i in range(min(len(country_df), CFG.n_neighbors)):\n",
        "          country_df[f\"d_near_{i}\"] = dists[:, i]\n",
        "          country_df[f\"near_target_{i}\"] = targets[nears[:, i]]\n",
        "          for c in columns:\n",
        "              country_df[f\"near_{c}_{i}\"] = country_df[c].values[nears[:, i]]\n",
        "\n",
        "      # 近傍からもれた（TOPxxに入らなかった）データに関してはnanを入れる\n",
        "      for i in range(min(len(country_df), CFG.n_neighbors), CFG.n_neighbors):\n",
        "          country_df[f\"d_near_{i}\"] = np.nan\n",
        "          country_df[f\"near_target_{i}\"] = np.nan\n",
        "          for c in columns:\n",
        "              country_df[f\"near_{c}_{i}\"] = np.nan\n",
        "\n",
        "      dfs.append(country_df)\n",
        "  df = pd.concat(dfs).reset_index(drop=True)\n",
        "  return df"
      ]
    },
    {
      "cell_type": "code",
      "execution_count": 16,
      "metadata": {
        "colab": {
          "base_uri": "https://localhost:8080/",
          "height": 49,
          "referenced_widgets": [
            "c0f145903fd8443b9c72c6ca1e635eec",
            "a3f6f616600f4a78865747b08cf2945c",
            "b471437103a54d78a2ecd2366ec1fee3",
            "1f0d819cc1b64d77a6d209f5da8fc818",
            "91c517011f9d4869bd49205466458842",
            "aed7bdbe4cee41b7ab933c82c6c8bc0d",
            "b0a42348a4114adc90657316358b0e12",
            "7ab6dca2b13242bea0b2a59de00cfe96",
            "06d188670d9843dd8e06c3ee03b9a8a3",
            "5fb8bc6c603e48aabfd9098e86cdf89d",
            "05e9e2dbfaa343548f5410d4c4f2f785"
          ]
        },
        "id": "iX3rU0TB8W1u",
        "outputId": "4c3a7e35-e833-41a3-82ee-20af0cfd69a9"
      },
      "outputs": [
        {
          "output_type": "display_data",
          "data": {
            "text/plain": [
              "  0%|          | 0/4 [00:00<?, ?it/s]"
            ],
            "application/vnd.jupyter.widget-view+json": {
              "version_major": 2,
              "version_minor": 0,
              "model_id": "c0f145903fd8443b9c72c6ca1e635eec"
            }
          },
          "metadata": {}
        }
      ],
      "source": [
        "test = add_neighbor_features(test)\n",
        "\n",
        "if CFG.train :\n",
        "  train = pd.concat([\n",
        "      add_neighbor_features(train[train[\"set\"]==0]), \n",
        "      add_neighbor_features(train[train[\"set\"]==1]), \n",
        "  ])\n",
        "  train.head(1)"
      ]
    },
    {
      "cell_type": "code",
      "execution_count": 17,
      "metadata": {
        "id": "Lk2I0lyc_m4B",
        "colab": {
          "base_uri": "https://localhost:8080/"
        },
        "outputId": "eef13d5a-2f09-41c4-c510-dc492ceceb0a"
      },
      "outputs": [
        {
          "output_type": "execute_result",
          "data": {
            "text/plain": [
              "Index(['id', 'name', 'latitude', 'longitude', 'address', 'city', 'state',\n",
              "       'zip', 'country', 'url',\n",
              "       ...\n",
              "       'near_id_24', 'near_name_24', 'near_address_24', 'near_city_24',\n",
              "       'near_state_24', 'near_zip_24', 'near_country_24', 'near_url_24',\n",
              "       'near_phone_24', 'near_categories_24'],\n",
              "      dtype='object', length=313)"
            ]
          },
          "metadata": {},
          "execution_count": 17
        }
      ],
      "source": [
        "test.columns"
      ]
    },
    {
      "cell_type": "markdown",
      "metadata": {
        "id": "h9o_khonF-K4"
      },
      "source": [
        "### ターゲット作成"
      ]
    },
    {
      "cell_type": "code",
      "execution_count": 18,
      "metadata": {
        "id": "V9NDHWsBAdlf"
      },
      "outputs": [],
      "source": [
        "if CFG.train :\n",
        "  # ターゲットと同じID番号の近傍のインデックスをtargetに設定する\n",
        "  for i in range(CFG.n_neighbors) :\n",
        "    train.loc[train[CFG.target]==train[f\"near_target_{i}\"], \"target\"] = i"
      ]
    },
    {
      "cell_type": "code",
      "execution_count": 19,
      "metadata": {
        "id": "Y8vikzgAGL3B"
      },
      "outputs": [],
      "source": [
        "if CFG.train :\n",
        "  train[[CFG.target,\"near_target_0\",\"near_target_1\", \"target\"]].head()"
      ]
    },
    {
      "cell_type": "code",
      "execution_count": 20,
      "metadata": {
        "id": "ueW9c9YsHj1L"
      },
      "outputs": [],
      "source": [
        "if CFG.train :\n",
        "  sorted(train['target'].unique())"
      ]
    },
    {
      "cell_type": "code",
      "execution_count": 21,
      "metadata": {
        "id": "HkE2nBy7GTFY"
      },
      "outputs": [],
      "source": [
        "if CFG.train :\n",
        "  # ターゲットの分布頻度をグラフ表示\n",
        "  plt.hist(train[\"target\"], bins=sorted(train[\"target\"].unique()))\n",
        "  plt.grid()\n",
        "  plt.xlabel(\"target\")\n",
        "  plt.show()"
      ]
    },
    {
      "cell_type": "markdown",
      "metadata": {
        "id": "gbebaD6XHy_u"
      },
      "source": [
        "### 最大スコアをチェック"
      ]
    },
    {
      "cell_type": "code",
      "execution_count": 22,
      "metadata": {
        "id": "iq5SQtWGHtQf"
      },
      "outputs": [],
      "source": [
        "# https://www.kaggle.com/code/columbia2131/foursquare-iou-metrics\n",
        "def get_id2poi(input_df: pd.DataFrame) -> dict:\n",
        "  return dict(zip(input_df['id'], input_df['point_of_interest']))\n",
        "\n",
        "def get_poi2ids(input_df: pd.DataFrame) -> dict:\n",
        "  return input_df.groupby('point_of_interest')['id'].apply(set).to_dict()\n",
        "\n",
        "# KNNで選ばれたデータの正解のカバー率を計測する\n",
        "def get_score(input_df: pd.DataFrame):\n",
        "  scores = []\n",
        "  for id_str, matches in zip(input_df['id'].to_numpy(), input_df['matches'].to_numpy()):\n",
        "    targets = poi2ids[id2poi[id_str]]\n",
        "    preds = set(matches.split())\n",
        "    score = len((targets & preds)) / len((targets | preds))\n",
        "    scores.append(score)\n",
        "  scores = np.array(scores)\n",
        "  return scores.mean()"
      ]
    },
    {
      "cell_type": "code",
      "execution_count": 23,
      "metadata": {
        "id": "dp1q9CRLINYZ"
      },
      "outputs": [],
      "source": [
        "if CFG.train:\n",
        "  # id --> poi変換用の辞書. １対１の関係\n",
        "  id2poi = get_id2poi(train)\n",
        "  # poi --> id変換用の辞書辞書. １対多の関係\n",
        "  poi2ids = get_poi2ids(train)"
      ]
    },
    {
      "cell_type": "code",
      "execution_count": 24,
      "metadata": {
        "id": "uCjFU6gCITDf"
      },
      "outputs": [],
      "source": [
        "if CFG.train :\n",
        "  # match列に一致するIDを列挙する\n",
        "  scores = []\n",
        "\n",
        "  train[\"matches\"] = \"\"\n",
        "  for i in tqdm(range(CFG.n_neighbors)):\n",
        "    # point_of_interestが一致しているかどうか調べ、一致しているもののIDをmatchに追加していく\n",
        "    idx = train[CFG.target]==train[f\"near_target_{i}\"]\n",
        "    train.loc[idx, \"matches\"] += \" \" + train.loc[idx, f\"near_id_{i}\"]\n",
        "    scores.append(get_score(train))\n"
      ]
    },
    {
      "cell_type": "code",
      "execution_count": 25,
      "metadata": {
        "id": "xUCUHCNRK3eL"
      },
      "outputs": [],
      "source": [
        "if CFG.train :\n",
        "  print(scores[-1])\n",
        "  train[[\"id\", \"matches\"]].head()"
      ]
    },
    {
      "cell_type": "code",
      "execution_count": 26,
      "metadata": {
        "id": "HBK6lKAnKXsn"
      },
      "outputs": [],
      "source": [
        "if CFG.train :\n",
        "  # n近傍に対する正解が含まれる割合をグラフ化\n",
        "  plt.subplots(figsize=(8, 3), facecolor=\"white\")\n",
        "  plt.plot(range(CFG.n_neighbors), scores, marker=\"o\")\n",
        "  plt.grid()\n",
        "  plt.xlabel(\"# of candidates\")\n",
        "  plt.ylabel(\"Maximum Score\")\n",
        "  plt.ylim([0.6, 1.0])\n",
        "  plt.show()"
      ]
    },
    {
      "cell_type": "code",
      "execution_count": 27,
      "metadata": {
        "id": "Yl7elF54LYa6",
        "colab": {
          "base_uri": "https://localhost:8080/"
        },
        "outputId": "05013835-ea1e-4b10-da38-a3e326a8f5a3"
      },
      "outputs": [
        {
          "output_type": "execute_result",
          "data": {
            "text/plain": [
              "573"
            ]
          },
          "metadata": {},
          "execution_count": 27
        }
      ],
      "source": [
        "gc.collect()"
      ]
    },
    {
      "cell_type": "markdown",
      "metadata": {
        "id": "8OXx1y1zM4pf"
      },
      "source": [
        "### 特徴量エンジニアリング"
      ]
    },
    {
      "cell_type": "code",
      "execution_count": 28,
      "metadata": {
        "id": "kud5qgreMVqL"
      },
      "outputs": [],
      "source": [
        "%load_ext Cython"
      ]
    },
    {
      "cell_type": "code",
      "execution_count": 29,
      "metadata": {
        "id": "PM4SU1NDNIYJ"
      },
      "outputs": [],
      "source": [
        "%%cython\n",
        "def LCS(str S, str T):\n",
        "    cdef int i, j\n",
        "    cdef list dp = [[0] * (len(T) + 1) for _ in range(len(S) + 1)]\n",
        "    for i in range(len(S)):\n",
        "        for j in range(len(T)):\n",
        "            dp[i + 1][j + 1] = max(dp[i][j] + (S[i] == T[j]), dp[i + 1][j], dp[i][j + 1], dp[i + 1][j + 1])\n",
        "    return dp[len(S)][len(T)]"
      ]
    },
    {
      "cell_type": "code",
      "execution_count": 30,
      "metadata": {
        "id": "-aAmuKTjP7Cl"
      },
      "outputs": [],
      "source": [
        "def reduce_memory_one(data):\n",
        "#  for col in df.columns:\n",
        "  col_type = data.dtypes\n",
        "  if col_type != object:\n",
        "    cmin = data.min()\n",
        "    cmax = data.max()\n",
        "    if str(col_type)[:3] == 'int':\n",
        "      if cmin > np.iinfo(np.int8).min and cmax < np.iinfo(np.int8).max:\n",
        "        data = data.astype(np.int8)\n",
        "      elif cmin > np.iinfo(np.int16).min and cmax < np.iinfo(np.int16).max:\n",
        "        data = data.astype(np.int16)\n",
        "      elif cmin > np.iinfo(np.int32).min and cmax < np.iinfo(np.int32).max:\n",
        "        data = data.astype(np.int32)\n",
        "      elif cmin > np.iinfo(np.int64).min and cmax < np.iinfo(np.int64).max:\n",
        "        data = data.astype(np.int64)\n",
        "    else:\n",
        "      if cmin > np.finfo(np.float16).min and cmax < np.finfo(np.float16).max:\n",
        "        data = data.astype(np.float16)\n",
        "      elif cmin > np.finfo(np.float32).min and cmax < np.finfo(np.float32).max:\n",
        "        data = data.astype(np.float32)\n",
        "      else:\n",
        "        data = data.astype(np.float64)\n",
        "  return data\n",
        "\n",
        "def reduce_memory(df):\n",
        "    for col in df.columns:\n",
        "        col_type = df[col].dtypes\n",
        "        if col_type != object:\n",
        "            cmin = df[col].min()\n",
        "            cmax = df[col].max()\n",
        "            if str(col_type)[:3] == 'int':\n",
        "                if cmin > np.iinfo(np.int8).min and cmax < np.iinfo(np.int8).max:\n",
        "                    df[col] = df[col].astype(np.int8)\n",
        "                elif cmin > np.iinfo(np.int16).min and cmax < np.iinfo(np.int16).max:\n",
        "                    df[col] = df[col].astype(np.int16)\n",
        "                elif cmin > np.iinfo(np.int32).min and cmax < np.iinfo(np.int32).max:\n",
        "                    df[col] = df[col].astype(np.int32)\n",
        "                elif cmin > np.iinfo(np.int64).min and cmax < np.iinfo(np.int64).max:\n",
        "                    df[col] = df[col].astype(np.int64)\n",
        "            else:\n",
        "                if cmin > np.finfo(np.float16).min and cmax < np.finfo(np.float16).max:\n",
        "                    df[col] = df[col].astype(np.float16)\n",
        "                elif cmin > np.finfo(np.float32).min and cmax < np.finfo(np.float32).max:\n",
        "                    df[col] = df[col].astype(np.float32)\n",
        "                else:\n",
        "                    df[col] = df[col].astype(np.float64)\n",
        "    return df"
      ]
    },
    {
      "cell_type": "code",
      "execution_count": 31,
      "metadata": {
        "id": "6NpUq3uIQ_sv"
      },
      "outputs": [],
      "source": [
        "# train['latitude'] = reduce_memory_one(train['latitude'])"
      ]
    },
    {
      "cell_type": "code",
      "execution_count": 32,
      "metadata": {
        "id": "sqdPOxhPNKu3"
      },
      "outputs": [],
      "source": [
        "def _add_distance_features(args):\n",
        "  _, df = args\n",
        "\n",
        "  columns = ['name', 'address', 'city', 'state',\n",
        "          'zip', 'country', 'url', 'phone', 'categories']\n",
        "\n",
        "  for i in tqdm(range(CFG.n_neighbors)):\n",
        "    for c in columns:\n",
        "      geshs = []\n",
        "      levens = []\n",
        "      jaros = []\n",
        "      lcss = []\n",
        "      for str1, str2 in df[[f\"near_{c}_0\", f\"near_{c}_{i}\"]].values.astype(str):\n",
        "        if str1==str1 and str2==str2:\n",
        "          # 文字列の類似度(geshs)\n",
        "          geshs.append(difflib.SequenceMatcher(None, str1, str2).ratio())\n",
        "          # レーベンシュタイン距離（編集距離）\n",
        "          levens.append(Levenshtein.distance(str1, str2))\n",
        "          # ジャロ・ウィンクラー距離\n",
        "          jaros.append(Levenshtein.jaro_winkler(str1, str2))\n",
        "          # 最長一致部分文字列数\n",
        "          lcss.append(LCS(str(str1), str(str2)))\n",
        "        else: # こちらの条件を通過するかどうか不明（NAとかか？）\n",
        "          geshs.append(-1)\n",
        "          levens.append(-1)\n",
        "          jaros.append(-1)\n",
        "      df[f\"near_{c}_{i}_gesh\"] = geshs\n",
        "      df[f\"near_{c}_{i}_leven\"] = levens\n",
        "      df[f\"near_{c}_{i}_jaro\"] = jaros\n",
        "      df[f\"near_{c}_{i}_lcs\"] = lcss\n",
        "      df[f\"near_{c}_{i}_gesh\"] = reduce_memory_one(df[f\"near_{c}_{i}_gesh\"])\n",
        "      df[f\"near_{c}_{i}_leven\"] = reduce_memory_one(df[f\"near_{c}_{i}_leven\"])\n",
        "      df[f\"near_{c}_{i}_jaro\"] = reduce_memory_one(df[f\"near_{c}_{i}_jaro\"])\n",
        "      df[f\"near_{c}_{i}_lcs\"] = reduce_memory_one(df[f\"near_{c}_{i}_lcs\"])\n",
        "\n",
        "      # country phone zip以外の場合は以下の値も計算\n",
        "      if not c in ['country', \"phone\", \"zip\"]:\n",
        "        # 文字列の長さ\n",
        "        df[f\"near_{c}_{i}_len\"] = df[f\"near_{c}_{i}\"].astype(str).map(len)\n",
        "        df[f\"near_{c}_{i}_len\"] = reduce_memory_one(df[f\"near_{c}_{i}_len\"])\n",
        "        # リーベンシュタイン距離距離 / 長さの最大？\n",
        "        df[f\"near_{c}_{i}_nleven\"] = df[f\"near_{c}_{i}_leven\"] / df[[f\"near_{c}_{i}_len\", f\"near_{c}_0_len\"]].max(axis=1)\n",
        "        df[f\"near_{c}_{i}_nleven\"] = reduce_memory_one(df[f\"near_{c}_{i}_nleven\"])\n",
        "        # lcsの長さの比率（２種類）\n",
        "        df[f\"near_{c}_{i}_nlcsi\"] = df[f\"near_{c}_{i}_lcs\"] / df[f\"near_{c}_{i}_len\"]\n",
        "        df[f\"near_{c}_{i}_nlcsi\"] = reduce_memory_one(df[f\"near_{c}_{i}_nlcsi\"])\n",
        "        df[f\"near_{c}_{i}_nlcs0\"] = df[f\"near_{c}_{i}_lcs\"] / df[f\"near_{c}_0_len\"]\n",
        "        df[f\"near_{c}_{i}_nlcs0\"] = reduce_memory_one(df[f\"near_{c}_{i}_nlcs0\"])\n",
        "        # df = reduce_memory(df)\n",
        "  return df\n",
        "\n",
        "\n",
        "# 距離計算を並列化する（処理は上の関数をマルチプロセスで呼び出すだけ）\n",
        "def add_distance_features(df):\n",
        "  processes = multiprocessing.cpu_count()\n",
        "  with multiprocessing.Pool(processes=processes) as pool:\n",
        "    dfs = pool.imap_unordered(_add_distance_features, df.groupby('country'))\n",
        "    dfs = tqdm(dfs)\n",
        "    dfs = list(dfs)\n",
        "  df = pd.concat(dfs)\n",
        "  return df"
      ]
    },
    {
      "cell_type": "code",
      "execution_count": 33,
      "metadata": {
        "id": "bedHQUQcNRJY",
        "colab": {
          "base_uri": "https://localhost:8080/",
          "height": 49,
          "referenced_widgets": [
            "9b428e8c77ee49fb91a920f3272d428f",
            "a160c500afbb47528d77f60250e2d21d",
            "dbb38154ad6b40e6a7d16340f567f4b1",
            "56c9891baa044523af0da339ff4c2610",
            "7352c2596a5a46e0a3c49043a9cdd486",
            "9ed5daed47364b0f8cd24909f552dc8b",
            "bf4921efbb364fb8a1792b755774a447",
            "bb48dbddd53c4fb2a0ca0d72937eff48",
            "5e9355380c28419fa415d383495e7d4d",
            "7e7334413d744e8a8147d9941e5c1d6c",
            "3b818903f6364b948ed94f03aa386a5e"
          ]
        },
        "outputId": "aaa26a84-8083-44a1-907f-d73f27360a12"
      },
      "outputs": [
        {
          "output_type": "display_data",
          "data": {
            "text/plain": [
              "0it [00:00, ?it/s]"
            ],
            "application/vnd.jupyter.widget-view+json": {
              "version_major": 2,
              "version_minor": 0,
              "model_id": "9b428e8c77ee49fb91a920f3272d428f"
            }
          },
          "metadata": {}
        }
      ],
      "source": [
        "# colabで30分ほどかかるので気長に待つ\n",
        "if CFG.train:\n",
        "  train = add_distance_features(train)\n",
        "test = add_distance_features(test)"
      ]
    },
    {
      "cell_type": "markdown",
      "metadata": {
        "id": "t5lf1hbTQzRH"
      },
      "source": [
        "### 利用しない列を削除する（メモリ不足を避けるため）"
      ]
    },
    {
      "cell_type": "code",
      "execution_count": 34,
      "metadata": {
        "id": "3x8Bu-oLPE8G",
        "colab": {
          "base_uri": "https://localhost:8080/",
          "height": 86,
          "referenced_widgets": [
            "771f27f2a55948fa9c880645be918cd8",
            "7bca3bdff8104952b7a6a242d00854fe",
            "150c4b2548324b408d5c0541eb43818e",
            "31d1fc45cedf442dbaf528f1e3f13580",
            "c19d84977ff7427ebff1864cc2adf65c",
            "b9e8da10e1ec455cbb56ab64188d3174",
            "f5792152028a42b5bca5fad6b2f60bcd",
            "c69875d975bb4414955375463cd25cda",
            "0fb8ad37210f46db810ac959d8c90bc0",
            "770d0f03a6b04c37a807ee586e1f2ed0",
            "34c6eff3d8174b8c8b73a95f8ea3d5fc"
          ]
        },
        "outputId": "531930d4-dd36-4a6e-e0c5-13eca562508d"
      },
      "outputs": [
        {
          "output_type": "display_data",
          "data": {
            "text/plain": [
              "  0%|          | 0/25 [00:00<?, ?it/s]"
            ],
            "application/vnd.jupyter.widget-view+json": {
              "version_major": 2,
              "version_minor": 0,
              "model_id": "771f27f2a55948fa9c880645be918cd8"
            }
          },
          "metadata": {}
        },
        {
          "output_type": "stream",
          "name": "stdout",
          "text": [
            "['d_near_0', 'near_name_0_gesh', 'near_name_0_jaro', 'near_name_0_lcs', 'near_name_0_len', 'near_name_0_nleven', 'near_name_0_nlcsi', 'near_name_0_nlcs0', 'near_address_0_gesh', 'near_address_0_jaro', 'near_address_0_lcs', 'near_address_0_len', 'near_address_0_nleven', 'near_address_0_nlcsi', 'near_address_0_nlcs0', 'near_city_0_gesh', 'near_city_0_jaro', 'near_city_0_lcs', 'near_city_0_len', 'near_city_0_nleven', 'near_city_0_nlcsi', 'near_city_0_nlcs0', 'near_state_0_gesh', 'near_state_0_jaro', 'near_state_0_lcs', 'near_state_0_len', 'near_state_0_nleven', 'near_state_0_nlcsi', 'near_state_0_nlcs0', 'near_zip_0_gesh', 'near_zip_0_jaro', 'near_zip_0_lcs', 'near_zip_0_leven', 'near_country_0_gesh', 'near_country_0_jaro', 'near_country_0_lcs', 'near_country_0_leven', 'near_url_0_gesh', 'near_url_0_jaro', 'near_url_0_lcs', 'near_url_0_len', 'near_url_0_nleven', 'near_url_0_nlcsi', 'near_url_0_nlcs0', 'near_phone_0_gesh', 'near_phone_0_jaro', 'near_phone_0_lcs', 'near_phone_0_leven', 'near_categories_0_gesh', 'near_categories_0_jaro', 'near_categories_0_lcs', 'near_categories_0_len', 'near_categories_0_nleven', 'near_categories_0_nlcsi', 'near_categories_0_nlcs0', 'd_near_1', 'near_name_1_gesh', 'near_name_1_jaro', 'near_name_1_lcs', 'near_name_1_len', 'near_name_1_nleven', 'near_name_1_nlcsi', 'near_name_1_nlcs0', 'near_address_1_gesh', 'near_address_1_jaro', 'near_address_1_lcs', 'near_address_1_len', 'near_address_1_nleven', 'near_address_1_nlcsi', 'near_address_1_nlcs0', 'near_city_1_gesh', 'near_city_1_jaro', 'near_city_1_lcs', 'near_city_1_len', 'near_city_1_nleven', 'near_city_1_nlcsi', 'near_city_1_nlcs0', 'near_state_1_gesh', 'near_state_1_jaro', 'near_state_1_lcs', 'near_state_1_len', 'near_state_1_nleven', 'near_state_1_nlcsi', 'near_state_1_nlcs0', 'near_zip_1_gesh', 'near_zip_1_jaro', 'near_zip_1_lcs', 'near_zip_1_leven', 'near_country_1_gesh', 'near_country_1_jaro', 'near_country_1_lcs', 'near_country_1_leven', 'near_url_1_gesh', 'near_url_1_jaro', 'near_url_1_lcs', 'near_url_1_len', 'near_url_1_nleven', 'near_url_1_nlcsi', 'near_url_1_nlcs0', 'near_phone_1_gesh', 'near_phone_1_jaro', 'near_phone_1_lcs', 'near_phone_1_leven', 'near_categories_1_gesh', 'near_categories_1_jaro', 'near_categories_1_lcs', 'near_categories_1_len', 'near_categories_1_nleven', 'near_categories_1_nlcsi', 'near_categories_1_nlcs0', 'd_near_2', 'near_name_2_gesh', 'near_name_2_jaro', 'near_name_2_lcs', 'near_name_2_len', 'near_name_2_nleven', 'near_name_2_nlcsi', 'near_name_2_nlcs0', 'near_address_2_gesh', 'near_address_2_jaro', 'near_address_2_lcs', 'near_address_2_len', 'near_address_2_nleven', 'near_address_2_nlcsi', 'near_address_2_nlcs0', 'near_city_2_gesh', 'near_city_2_jaro', 'near_city_2_lcs', 'near_city_2_len', 'near_city_2_nleven', 'near_city_2_nlcsi', 'near_city_2_nlcs0', 'near_state_2_gesh', 'near_state_2_jaro', 'near_state_2_lcs', 'near_state_2_len', 'near_state_2_nleven', 'near_state_2_nlcsi', 'near_state_2_nlcs0', 'near_zip_2_gesh', 'near_zip_2_jaro', 'near_zip_2_lcs', 'near_zip_2_leven', 'near_country_2_gesh', 'near_country_2_jaro', 'near_country_2_lcs', 'near_country_2_leven', 'near_url_2_gesh', 'near_url_2_jaro', 'near_url_2_lcs', 'near_url_2_len', 'near_url_2_nleven', 'near_url_2_nlcsi', 'near_url_2_nlcs0', 'near_phone_2_gesh', 'near_phone_2_jaro', 'near_phone_2_lcs', 'near_phone_2_leven', 'near_categories_2_gesh', 'near_categories_2_jaro', 'near_categories_2_lcs', 'near_categories_2_len', 'near_categories_2_nleven', 'near_categories_2_nlcsi', 'near_categories_2_nlcs0', 'd_near_3', 'near_name_3_gesh', 'near_name_3_jaro', 'near_name_3_lcs', 'near_name_3_len', 'near_name_3_nleven', 'near_name_3_nlcsi', 'near_name_3_nlcs0', 'near_address_3_gesh', 'near_address_3_jaro', 'near_address_3_lcs', 'near_address_3_len', 'near_address_3_nleven', 'near_address_3_nlcsi', 'near_address_3_nlcs0', 'near_city_3_gesh', 'near_city_3_jaro', 'near_city_3_lcs', 'near_city_3_len', 'near_city_3_nleven', 'near_city_3_nlcsi', 'near_city_3_nlcs0', 'near_state_3_gesh', 'near_state_3_jaro', 'near_state_3_lcs', 'near_state_3_len', 'near_state_3_nleven', 'near_state_3_nlcsi', 'near_state_3_nlcs0', 'near_zip_3_gesh', 'near_zip_3_jaro', 'near_zip_3_lcs', 'near_zip_3_leven', 'near_country_3_gesh', 'near_country_3_jaro', 'near_country_3_lcs', 'near_country_3_leven', 'near_url_3_gesh', 'near_url_3_jaro', 'near_url_3_lcs', 'near_url_3_len', 'near_url_3_nleven', 'near_url_3_nlcsi', 'near_url_3_nlcs0', 'near_phone_3_gesh', 'near_phone_3_jaro', 'near_phone_3_lcs', 'near_phone_3_leven', 'near_categories_3_gesh', 'near_categories_3_jaro', 'near_categories_3_lcs', 'near_categories_3_len', 'near_categories_3_nleven', 'near_categories_3_nlcsi', 'near_categories_3_nlcs0', 'd_near_4', 'near_name_4_gesh', 'near_name_4_jaro', 'near_name_4_lcs', 'near_name_4_len', 'near_name_4_nleven', 'near_name_4_nlcsi', 'near_name_4_nlcs0', 'near_address_4_gesh', 'near_address_4_jaro', 'near_address_4_lcs', 'near_address_4_len', 'near_address_4_nleven', 'near_address_4_nlcsi', 'near_address_4_nlcs0', 'near_city_4_gesh', 'near_city_4_jaro', 'near_city_4_lcs', 'near_city_4_len', 'near_city_4_nleven', 'near_city_4_nlcsi', 'near_city_4_nlcs0', 'near_state_4_gesh', 'near_state_4_jaro', 'near_state_4_lcs', 'near_state_4_len', 'near_state_4_nleven', 'near_state_4_nlcsi', 'near_state_4_nlcs0', 'near_zip_4_gesh', 'near_zip_4_jaro', 'near_zip_4_lcs', 'near_zip_4_leven', 'near_country_4_gesh', 'near_country_4_jaro', 'near_country_4_lcs', 'near_country_4_leven', 'near_url_4_gesh', 'near_url_4_jaro', 'near_url_4_lcs', 'near_url_4_len', 'near_url_4_nleven', 'near_url_4_nlcsi', 'near_url_4_nlcs0', 'near_phone_4_gesh', 'near_phone_4_jaro', 'near_phone_4_lcs', 'near_phone_4_leven', 'near_categories_4_gesh', 'near_categories_4_jaro', 'near_categories_4_lcs', 'near_categories_4_len', 'near_categories_4_nleven', 'near_categories_4_nlcsi', 'near_categories_4_nlcs0', 'd_near_5', 'near_name_5_gesh', 'near_name_5_jaro', 'near_name_5_lcs', 'near_name_5_len', 'near_name_5_nleven', 'near_name_5_nlcsi', 'near_name_5_nlcs0', 'near_address_5_gesh', 'near_address_5_jaro', 'near_address_5_lcs', 'near_address_5_len', 'near_address_5_nleven', 'near_address_5_nlcsi', 'near_address_5_nlcs0', 'near_city_5_gesh', 'near_city_5_jaro', 'near_city_5_lcs', 'near_city_5_len', 'near_city_5_nleven', 'near_city_5_nlcsi', 'near_city_5_nlcs0', 'near_state_5_gesh', 'near_state_5_jaro', 'near_state_5_lcs', 'near_state_5_len', 'near_state_5_nleven', 'near_state_5_nlcsi', 'near_state_5_nlcs0', 'near_zip_5_gesh', 'near_zip_5_jaro', 'near_zip_5_lcs', 'near_zip_5_leven', 'near_country_5_gesh', 'near_country_5_jaro', 'near_country_5_lcs', 'near_country_5_leven', 'near_url_5_gesh', 'near_url_5_jaro', 'near_url_5_lcs', 'near_url_5_len', 'near_url_5_nleven', 'near_url_5_nlcsi', 'near_url_5_nlcs0', 'near_phone_5_gesh', 'near_phone_5_jaro', 'near_phone_5_lcs', 'near_phone_5_leven', 'near_categories_5_gesh', 'near_categories_5_jaro', 'near_categories_5_lcs', 'near_categories_5_len', 'near_categories_5_nleven', 'near_categories_5_nlcsi', 'near_categories_5_nlcs0', 'd_near_6', 'near_name_6_gesh', 'near_name_6_jaro', 'near_name_6_lcs', 'near_name_6_len', 'near_name_6_nleven', 'near_name_6_nlcsi', 'near_name_6_nlcs0', 'near_address_6_gesh', 'near_address_6_jaro', 'near_address_6_lcs', 'near_address_6_len', 'near_address_6_nleven', 'near_address_6_nlcsi', 'near_address_6_nlcs0', 'near_city_6_gesh', 'near_city_6_jaro', 'near_city_6_lcs', 'near_city_6_len', 'near_city_6_nleven', 'near_city_6_nlcsi', 'near_city_6_nlcs0', 'near_state_6_gesh', 'near_state_6_jaro', 'near_state_6_lcs', 'near_state_6_len', 'near_state_6_nleven', 'near_state_6_nlcsi', 'near_state_6_nlcs0', 'near_zip_6_gesh', 'near_zip_6_jaro', 'near_zip_6_lcs', 'near_zip_6_leven', 'near_country_6_gesh', 'near_country_6_jaro', 'near_country_6_lcs', 'near_country_6_leven', 'near_url_6_gesh', 'near_url_6_jaro', 'near_url_6_lcs', 'near_url_6_len', 'near_url_6_nleven', 'near_url_6_nlcsi', 'near_url_6_nlcs0', 'near_phone_6_gesh', 'near_phone_6_jaro', 'near_phone_6_lcs', 'near_phone_6_leven', 'near_categories_6_gesh', 'near_categories_6_jaro', 'near_categories_6_lcs', 'near_categories_6_len', 'near_categories_6_nleven', 'near_categories_6_nlcsi', 'near_categories_6_nlcs0', 'd_near_7', 'near_name_7_gesh', 'near_name_7_jaro', 'near_name_7_lcs', 'near_name_7_len', 'near_name_7_nleven', 'near_name_7_nlcsi', 'near_name_7_nlcs0', 'near_address_7_gesh', 'near_address_7_jaro', 'near_address_7_lcs', 'near_address_7_len', 'near_address_7_nleven', 'near_address_7_nlcsi', 'near_address_7_nlcs0', 'near_city_7_gesh', 'near_city_7_jaro', 'near_city_7_lcs', 'near_city_7_len', 'near_city_7_nleven', 'near_city_7_nlcsi', 'near_city_7_nlcs0', 'near_state_7_gesh', 'near_state_7_jaro', 'near_state_7_lcs', 'near_state_7_len', 'near_state_7_nleven', 'near_state_7_nlcsi', 'near_state_7_nlcs0', 'near_zip_7_gesh', 'near_zip_7_jaro', 'near_zip_7_lcs', 'near_zip_7_leven', 'near_country_7_gesh', 'near_country_7_jaro', 'near_country_7_lcs', 'near_country_7_leven', 'near_url_7_gesh', 'near_url_7_jaro', 'near_url_7_lcs', 'near_url_7_len', 'near_url_7_nleven', 'near_url_7_nlcsi', 'near_url_7_nlcs0', 'near_phone_7_gesh', 'near_phone_7_jaro', 'near_phone_7_lcs', 'near_phone_7_leven', 'near_categories_7_gesh', 'near_categories_7_jaro', 'near_categories_7_lcs', 'near_categories_7_len', 'near_categories_7_nleven', 'near_categories_7_nlcsi', 'near_categories_7_nlcs0', 'd_near_8', 'near_name_8_gesh', 'near_name_8_jaro', 'near_name_8_lcs', 'near_name_8_len', 'near_name_8_nleven', 'near_name_8_nlcsi', 'near_name_8_nlcs0', 'near_address_8_gesh', 'near_address_8_jaro', 'near_address_8_lcs', 'near_address_8_len', 'near_address_8_nleven', 'near_address_8_nlcsi', 'near_address_8_nlcs0', 'near_city_8_gesh', 'near_city_8_jaro', 'near_city_8_lcs', 'near_city_8_len', 'near_city_8_nleven', 'near_city_8_nlcsi', 'near_city_8_nlcs0', 'near_state_8_gesh', 'near_state_8_jaro', 'near_state_8_lcs', 'near_state_8_len', 'near_state_8_nleven', 'near_state_8_nlcsi', 'near_state_8_nlcs0', 'near_zip_8_gesh', 'near_zip_8_jaro', 'near_zip_8_lcs', 'near_zip_8_leven', 'near_country_8_gesh', 'near_country_8_jaro', 'near_country_8_lcs', 'near_country_8_leven', 'near_url_8_gesh', 'near_url_8_jaro', 'near_url_8_lcs', 'near_url_8_len', 'near_url_8_nleven', 'near_url_8_nlcsi', 'near_url_8_nlcs0', 'near_phone_8_gesh', 'near_phone_8_jaro', 'near_phone_8_lcs', 'near_phone_8_leven', 'near_categories_8_gesh', 'near_categories_8_jaro', 'near_categories_8_lcs', 'near_categories_8_len', 'near_categories_8_nleven', 'near_categories_8_nlcsi', 'near_categories_8_nlcs0', 'd_near_9', 'near_name_9_gesh', 'near_name_9_jaro', 'near_name_9_lcs', 'near_name_9_len', 'near_name_9_nleven', 'near_name_9_nlcsi', 'near_name_9_nlcs0', 'near_address_9_gesh', 'near_address_9_jaro', 'near_address_9_lcs', 'near_address_9_len', 'near_address_9_nleven', 'near_address_9_nlcsi', 'near_address_9_nlcs0', 'near_city_9_gesh', 'near_city_9_jaro', 'near_city_9_lcs', 'near_city_9_len', 'near_city_9_nleven', 'near_city_9_nlcsi', 'near_city_9_nlcs0', 'near_state_9_gesh', 'near_state_9_jaro', 'near_state_9_lcs', 'near_state_9_len', 'near_state_9_nleven', 'near_state_9_nlcsi', 'near_state_9_nlcs0', 'near_zip_9_gesh', 'near_zip_9_jaro', 'near_zip_9_lcs', 'near_zip_9_leven', 'near_country_9_gesh', 'near_country_9_jaro', 'near_country_9_lcs', 'near_country_9_leven', 'near_url_9_gesh', 'near_url_9_jaro', 'near_url_9_lcs', 'near_url_9_len', 'near_url_9_nleven', 'near_url_9_nlcsi', 'near_url_9_nlcs0', 'near_phone_9_gesh', 'near_phone_9_jaro', 'near_phone_9_lcs', 'near_phone_9_leven', 'near_categories_9_gesh', 'near_categories_9_jaro', 'near_categories_9_lcs', 'near_categories_9_len', 'near_categories_9_nleven', 'near_categories_9_nlcsi', 'near_categories_9_nlcs0', 'd_near_10', 'near_name_10_gesh', 'near_name_10_jaro', 'near_name_10_lcs', 'near_name_10_len', 'near_name_10_nleven', 'near_name_10_nlcsi', 'near_name_10_nlcs0', 'near_address_10_gesh', 'near_address_10_jaro', 'near_address_10_lcs', 'near_address_10_len', 'near_address_10_nleven', 'near_address_10_nlcsi', 'near_address_10_nlcs0', 'near_city_10_gesh', 'near_city_10_jaro', 'near_city_10_lcs', 'near_city_10_len', 'near_city_10_nleven', 'near_city_10_nlcsi', 'near_city_10_nlcs0', 'near_state_10_gesh', 'near_state_10_jaro', 'near_state_10_lcs', 'near_state_10_len', 'near_state_10_nleven', 'near_state_10_nlcsi', 'near_state_10_nlcs0', 'near_zip_10_gesh', 'near_zip_10_jaro', 'near_zip_10_lcs', 'near_zip_10_leven', 'near_country_10_gesh', 'near_country_10_jaro', 'near_country_10_lcs', 'near_country_10_leven', 'near_url_10_gesh', 'near_url_10_jaro', 'near_url_10_lcs', 'near_url_10_len', 'near_url_10_nleven', 'near_url_10_nlcsi', 'near_url_10_nlcs0', 'near_phone_10_gesh', 'near_phone_10_jaro', 'near_phone_10_lcs', 'near_phone_10_leven', 'near_categories_10_gesh', 'near_categories_10_jaro', 'near_categories_10_lcs', 'near_categories_10_len', 'near_categories_10_nleven', 'near_categories_10_nlcsi', 'near_categories_10_nlcs0', 'd_near_11', 'near_name_11_gesh', 'near_name_11_jaro', 'near_name_11_lcs', 'near_name_11_len', 'near_name_11_nleven', 'near_name_11_nlcsi', 'near_name_11_nlcs0', 'near_address_11_gesh', 'near_address_11_jaro', 'near_address_11_lcs', 'near_address_11_len', 'near_address_11_nleven', 'near_address_11_nlcsi', 'near_address_11_nlcs0', 'near_city_11_gesh', 'near_city_11_jaro', 'near_city_11_lcs', 'near_city_11_len', 'near_city_11_nleven', 'near_city_11_nlcsi', 'near_city_11_nlcs0', 'near_state_11_gesh', 'near_state_11_jaro', 'near_state_11_lcs', 'near_state_11_len', 'near_state_11_nleven', 'near_state_11_nlcsi', 'near_state_11_nlcs0', 'near_zip_11_gesh', 'near_zip_11_jaro', 'near_zip_11_lcs', 'near_zip_11_leven', 'near_country_11_gesh', 'near_country_11_jaro', 'near_country_11_lcs', 'near_country_11_leven', 'near_url_11_gesh', 'near_url_11_jaro', 'near_url_11_lcs', 'near_url_11_len', 'near_url_11_nleven', 'near_url_11_nlcsi', 'near_url_11_nlcs0', 'near_phone_11_gesh', 'near_phone_11_jaro', 'near_phone_11_lcs', 'near_phone_11_leven', 'near_categories_11_gesh', 'near_categories_11_jaro', 'near_categories_11_lcs', 'near_categories_11_len', 'near_categories_11_nleven', 'near_categories_11_nlcsi', 'near_categories_11_nlcs0', 'd_near_12', 'near_name_12_gesh', 'near_name_12_jaro', 'near_name_12_lcs', 'near_name_12_len', 'near_name_12_nleven', 'near_name_12_nlcsi', 'near_name_12_nlcs0', 'near_address_12_gesh', 'near_address_12_jaro', 'near_address_12_lcs', 'near_address_12_len', 'near_address_12_nleven', 'near_address_12_nlcsi', 'near_address_12_nlcs0', 'near_city_12_gesh', 'near_city_12_jaro', 'near_city_12_lcs', 'near_city_12_len', 'near_city_12_nleven', 'near_city_12_nlcsi', 'near_city_12_nlcs0', 'near_state_12_gesh', 'near_state_12_jaro', 'near_state_12_lcs', 'near_state_12_len', 'near_state_12_nleven', 'near_state_12_nlcsi', 'near_state_12_nlcs0', 'near_zip_12_gesh', 'near_zip_12_jaro', 'near_zip_12_lcs', 'near_zip_12_leven', 'near_country_12_gesh', 'near_country_12_jaro', 'near_country_12_lcs', 'near_country_12_leven', 'near_url_12_gesh', 'near_url_12_jaro', 'near_url_12_lcs', 'near_url_12_len', 'near_url_12_nleven', 'near_url_12_nlcsi', 'near_url_12_nlcs0', 'near_phone_12_gesh', 'near_phone_12_jaro', 'near_phone_12_lcs', 'near_phone_12_leven', 'near_categories_12_gesh', 'near_categories_12_jaro', 'near_categories_12_lcs', 'near_categories_12_len', 'near_categories_12_nleven', 'near_categories_12_nlcsi', 'near_categories_12_nlcs0', 'd_near_13', 'near_name_13_gesh', 'near_name_13_jaro', 'near_name_13_lcs', 'near_name_13_len', 'near_name_13_nleven', 'near_name_13_nlcsi', 'near_name_13_nlcs0', 'near_address_13_gesh', 'near_address_13_jaro', 'near_address_13_lcs', 'near_address_13_len', 'near_address_13_nleven', 'near_address_13_nlcsi', 'near_address_13_nlcs0', 'near_city_13_gesh', 'near_city_13_jaro', 'near_city_13_lcs', 'near_city_13_len', 'near_city_13_nleven', 'near_city_13_nlcsi', 'near_city_13_nlcs0', 'near_state_13_gesh', 'near_state_13_jaro', 'near_state_13_lcs', 'near_state_13_len', 'near_state_13_nleven', 'near_state_13_nlcsi', 'near_state_13_nlcs0', 'near_zip_13_gesh', 'near_zip_13_jaro', 'near_zip_13_lcs', 'near_zip_13_leven', 'near_country_13_gesh', 'near_country_13_jaro', 'near_country_13_lcs', 'near_country_13_leven', 'near_url_13_gesh', 'near_url_13_jaro', 'near_url_13_lcs', 'near_url_13_len', 'near_url_13_nleven', 'near_url_13_nlcsi', 'near_url_13_nlcs0', 'near_phone_13_gesh', 'near_phone_13_jaro', 'near_phone_13_lcs', 'near_phone_13_leven', 'near_categories_13_gesh', 'near_categories_13_jaro', 'near_categories_13_lcs', 'near_categories_13_len', 'near_categories_13_nleven', 'near_categories_13_nlcsi', 'near_categories_13_nlcs0', 'd_near_14', 'near_name_14_gesh', 'near_name_14_jaro', 'near_name_14_lcs', 'near_name_14_len', 'near_name_14_nleven', 'near_name_14_nlcsi', 'near_name_14_nlcs0', 'near_address_14_gesh', 'near_address_14_jaro', 'near_address_14_lcs', 'near_address_14_len', 'near_address_14_nleven', 'near_address_14_nlcsi', 'near_address_14_nlcs0', 'near_city_14_gesh', 'near_city_14_jaro', 'near_city_14_lcs', 'near_city_14_len', 'near_city_14_nleven', 'near_city_14_nlcsi', 'near_city_14_nlcs0', 'near_state_14_gesh', 'near_state_14_jaro', 'near_state_14_lcs', 'near_state_14_len', 'near_state_14_nleven', 'near_state_14_nlcsi', 'near_state_14_nlcs0', 'near_zip_14_gesh', 'near_zip_14_jaro', 'near_zip_14_lcs', 'near_zip_14_leven', 'near_country_14_gesh', 'near_country_14_jaro', 'near_country_14_lcs', 'near_country_14_leven', 'near_url_14_gesh', 'near_url_14_jaro', 'near_url_14_lcs', 'near_url_14_len', 'near_url_14_nleven', 'near_url_14_nlcsi', 'near_url_14_nlcs0', 'near_phone_14_gesh', 'near_phone_14_jaro', 'near_phone_14_lcs', 'near_phone_14_leven', 'near_categories_14_gesh', 'near_categories_14_jaro', 'near_categories_14_lcs', 'near_categories_14_len', 'near_categories_14_nleven', 'near_categories_14_nlcsi', 'near_categories_14_nlcs0', 'd_near_15', 'near_name_15_gesh', 'near_name_15_jaro', 'near_name_15_lcs', 'near_name_15_len', 'near_name_15_nleven', 'near_name_15_nlcsi', 'near_name_15_nlcs0', 'near_address_15_gesh', 'near_address_15_jaro', 'near_address_15_lcs', 'near_address_15_len', 'near_address_15_nleven', 'near_address_15_nlcsi', 'near_address_15_nlcs0', 'near_city_15_gesh', 'near_city_15_jaro', 'near_city_15_lcs', 'near_city_15_len', 'near_city_15_nleven', 'near_city_15_nlcsi', 'near_city_15_nlcs0', 'near_state_15_gesh', 'near_state_15_jaro', 'near_state_15_lcs', 'near_state_15_len', 'near_state_15_nleven', 'near_state_15_nlcsi', 'near_state_15_nlcs0', 'near_zip_15_gesh', 'near_zip_15_jaro', 'near_zip_15_lcs', 'near_zip_15_leven', 'near_country_15_gesh', 'near_country_15_jaro', 'near_country_15_lcs', 'near_country_15_leven', 'near_url_15_gesh', 'near_url_15_jaro', 'near_url_15_lcs', 'near_url_15_len', 'near_url_15_nleven', 'near_url_15_nlcsi', 'near_url_15_nlcs0', 'near_phone_15_gesh', 'near_phone_15_jaro', 'near_phone_15_lcs', 'near_phone_15_leven', 'near_categories_15_gesh', 'near_categories_15_jaro', 'near_categories_15_lcs', 'near_categories_15_len', 'near_categories_15_nleven', 'near_categories_15_nlcsi', 'near_categories_15_nlcs0', 'd_near_16', 'near_name_16_gesh', 'near_name_16_jaro', 'near_name_16_lcs', 'near_name_16_len', 'near_name_16_nleven', 'near_name_16_nlcsi', 'near_name_16_nlcs0', 'near_address_16_gesh', 'near_address_16_jaro', 'near_address_16_lcs', 'near_address_16_len', 'near_address_16_nleven', 'near_address_16_nlcsi', 'near_address_16_nlcs0', 'near_city_16_gesh', 'near_city_16_jaro', 'near_city_16_lcs', 'near_city_16_len', 'near_city_16_nleven', 'near_city_16_nlcsi', 'near_city_16_nlcs0', 'near_state_16_gesh', 'near_state_16_jaro', 'near_state_16_lcs', 'near_state_16_len', 'near_state_16_nleven', 'near_state_16_nlcsi', 'near_state_16_nlcs0', 'near_zip_16_gesh', 'near_zip_16_jaro', 'near_zip_16_lcs', 'near_zip_16_leven', 'near_country_16_gesh', 'near_country_16_jaro', 'near_country_16_lcs', 'near_country_16_leven', 'near_url_16_gesh', 'near_url_16_jaro', 'near_url_16_lcs', 'near_url_16_len', 'near_url_16_nleven', 'near_url_16_nlcsi', 'near_url_16_nlcs0', 'near_phone_16_gesh', 'near_phone_16_jaro', 'near_phone_16_lcs', 'near_phone_16_leven', 'near_categories_16_gesh', 'near_categories_16_jaro', 'near_categories_16_lcs', 'near_categories_16_len', 'near_categories_16_nleven', 'near_categories_16_nlcsi', 'near_categories_16_nlcs0', 'd_near_17', 'near_name_17_gesh', 'near_name_17_jaro', 'near_name_17_lcs', 'near_name_17_len', 'near_name_17_nleven', 'near_name_17_nlcsi', 'near_name_17_nlcs0', 'near_address_17_gesh', 'near_address_17_jaro', 'near_address_17_lcs', 'near_address_17_len', 'near_address_17_nleven', 'near_address_17_nlcsi', 'near_address_17_nlcs0', 'near_city_17_gesh', 'near_city_17_jaro', 'near_city_17_lcs', 'near_city_17_len', 'near_city_17_nleven', 'near_city_17_nlcsi', 'near_city_17_nlcs0', 'near_state_17_gesh', 'near_state_17_jaro', 'near_state_17_lcs', 'near_state_17_len', 'near_state_17_nleven', 'near_state_17_nlcsi', 'near_state_17_nlcs0', 'near_zip_17_gesh', 'near_zip_17_jaro', 'near_zip_17_lcs', 'near_zip_17_leven', 'near_country_17_gesh', 'near_country_17_jaro', 'near_country_17_lcs', 'near_country_17_leven', 'near_url_17_gesh', 'near_url_17_jaro', 'near_url_17_lcs', 'near_url_17_len', 'near_url_17_nleven', 'near_url_17_nlcsi', 'near_url_17_nlcs0', 'near_phone_17_gesh', 'near_phone_17_jaro', 'near_phone_17_lcs', 'near_phone_17_leven', 'near_categories_17_gesh', 'near_categories_17_jaro', 'near_categories_17_lcs', 'near_categories_17_len', 'near_categories_17_nleven', 'near_categories_17_nlcsi', 'near_categories_17_nlcs0', 'd_near_18', 'near_name_18_gesh', 'near_name_18_jaro', 'near_name_18_lcs', 'near_name_18_len', 'near_name_18_nleven', 'near_name_18_nlcsi', 'near_name_18_nlcs0', 'near_address_18_gesh', 'near_address_18_jaro', 'near_address_18_lcs', 'near_address_18_len', 'near_address_18_nleven', 'near_address_18_nlcsi', 'near_address_18_nlcs0', 'near_city_18_gesh', 'near_city_18_jaro', 'near_city_18_lcs', 'near_city_18_len', 'near_city_18_nleven', 'near_city_18_nlcsi', 'near_city_18_nlcs0', 'near_state_18_gesh', 'near_state_18_jaro', 'near_state_18_lcs', 'near_state_18_len', 'near_state_18_nleven', 'near_state_18_nlcsi', 'near_state_18_nlcs0', 'near_zip_18_gesh', 'near_zip_18_jaro', 'near_zip_18_lcs', 'near_zip_18_leven', 'near_country_18_gesh', 'near_country_18_jaro', 'near_country_18_lcs', 'near_country_18_leven', 'near_url_18_gesh', 'near_url_18_jaro', 'near_url_18_lcs', 'near_url_18_len', 'near_url_18_nleven', 'near_url_18_nlcsi', 'near_url_18_nlcs0', 'near_phone_18_gesh', 'near_phone_18_jaro', 'near_phone_18_lcs', 'near_phone_18_leven', 'near_categories_18_gesh', 'near_categories_18_jaro', 'near_categories_18_lcs', 'near_categories_18_len', 'near_categories_18_nleven', 'near_categories_18_nlcsi', 'near_categories_18_nlcs0', 'd_near_19', 'near_name_19_gesh', 'near_name_19_jaro', 'near_name_19_lcs', 'near_name_19_len', 'near_name_19_nleven', 'near_name_19_nlcsi', 'near_name_19_nlcs0', 'near_address_19_gesh', 'near_address_19_jaro', 'near_address_19_lcs', 'near_address_19_len', 'near_address_19_nleven', 'near_address_19_nlcsi', 'near_address_19_nlcs0', 'near_city_19_gesh', 'near_city_19_jaro', 'near_city_19_lcs', 'near_city_19_len', 'near_city_19_nleven', 'near_city_19_nlcsi', 'near_city_19_nlcs0', 'near_state_19_gesh', 'near_state_19_jaro', 'near_state_19_lcs', 'near_state_19_len', 'near_state_19_nleven', 'near_state_19_nlcsi', 'near_state_19_nlcs0', 'near_zip_19_gesh', 'near_zip_19_jaro', 'near_zip_19_lcs', 'near_zip_19_leven', 'near_country_19_gesh', 'near_country_19_jaro', 'near_country_19_lcs', 'near_country_19_leven', 'near_url_19_gesh', 'near_url_19_jaro', 'near_url_19_lcs', 'near_url_19_len', 'near_url_19_nleven', 'near_url_19_nlcsi', 'near_url_19_nlcs0', 'near_phone_19_gesh', 'near_phone_19_jaro', 'near_phone_19_lcs', 'near_phone_19_leven', 'near_categories_19_gesh', 'near_categories_19_jaro', 'near_categories_19_lcs', 'near_categories_19_len', 'near_categories_19_nleven', 'near_categories_19_nlcsi', 'near_categories_19_nlcs0', 'd_near_20', 'near_name_20_gesh', 'near_name_20_jaro', 'near_name_20_lcs', 'near_name_20_len', 'near_name_20_nleven', 'near_name_20_nlcsi', 'near_name_20_nlcs0', 'near_address_20_gesh', 'near_address_20_jaro', 'near_address_20_lcs', 'near_address_20_len', 'near_address_20_nleven', 'near_address_20_nlcsi', 'near_address_20_nlcs0', 'near_city_20_gesh', 'near_city_20_jaro', 'near_city_20_lcs', 'near_city_20_len', 'near_city_20_nleven', 'near_city_20_nlcsi', 'near_city_20_nlcs0', 'near_state_20_gesh', 'near_state_20_jaro', 'near_state_20_lcs', 'near_state_20_len', 'near_state_20_nleven', 'near_state_20_nlcsi', 'near_state_20_nlcs0', 'near_zip_20_gesh', 'near_zip_20_jaro', 'near_zip_20_lcs', 'near_zip_20_leven', 'near_country_20_gesh', 'near_country_20_jaro', 'near_country_20_lcs', 'near_country_20_leven', 'near_url_20_gesh', 'near_url_20_jaro', 'near_url_20_lcs', 'near_url_20_len', 'near_url_20_nleven', 'near_url_20_nlcsi', 'near_url_20_nlcs0', 'near_phone_20_gesh', 'near_phone_20_jaro', 'near_phone_20_lcs', 'near_phone_20_leven', 'near_categories_20_gesh', 'near_categories_20_jaro', 'near_categories_20_lcs', 'near_categories_20_len', 'near_categories_20_nleven', 'near_categories_20_nlcsi', 'near_categories_20_nlcs0', 'd_near_21', 'near_name_21_gesh', 'near_name_21_jaro', 'near_name_21_lcs', 'near_name_21_len', 'near_name_21_nleven', 'near_name_21_nlcsi', 'near_name_21_nlcs0', 'near_address_21_gesh', 'near_address_21_jaro', 'near_address_21_lcs', 'near_address_21_len', 'near_address_21_nleven', 'near_address_21_nlcsi', 'near_address_21_nlcs0', 'near_city_21_gesh', 'near_city_21_jaro', 'near_city_21_lcs', 'near_city_21_len', 'near_city_21_nleven', 'near_city_21_nlcsi', 'near_city_21_nlcs0', 'near_state_21_gesh', 'near_state_21_jaro', 'near_state_21_lcs', 'near_state_21_len', 'near_state_21_nleven', 'near_state_21_nlcsi', 'near_state_21_nlcs0', 'near_zip_21_gesh', 'near_zip_21_jaro', 'near_zip_21_lcs', 'near_zip_21_leven', 'near_country_21_gesh', 'near_country_21_jaro', 'near_country_21_lcs', 'near_country_21_leven', 'near_url_21_gesh', 'near_url_21_jaro', 'near_url_21_lcs', 'near_url_21_len', 'near_url_21_nleven', 'near_url_21_nlcsi', 'near_url_21_nlcs0', 'near_phone_21_gesh', 'near_phone_21_jaro', 'near_phone_21_lcs', 'near_phone_21_leven', 'near_categories_21_gesh', 'near_categories_21_jaro', 'near_categories_21_lcs', 'near_categories_21_len', 'near_categories_21_nleven', 'near_categories_21_nlcsi', 'near_categories_21_nlcs0', 'd_near_22', 'near_name_22_gesh', 'near_name_22_jaro', 'near_name_22_lcs', 'near_name_22_len', 'near_name_22_nleven', 'near_name_22_nlcsi', 'near_name_22_nlcs0', 'near_address_22_gesh', 'near_address_22_jaro', 'near_address_22_lcs', 'near_address_22_len', 'near_address_22_nleven', 'near_address_22_nlcsi', 'near_address_22_nlcs0', 'near_city_22_gesh', 'near_city_22_jaro', 'near_city_22_lcs', 'near_city_22_len', 'near_city_22_nleven', 'near_city_22_nlcsi', 'near_city_22_nlcs0', 'near_state_22_gesh', 'near_state_22_jaro', 'near_state_22_lcs', 'near_state_22_len', 'near_state_22_nleven', 'near_state_22_nlcsi', 'near_state_22_nlcs0', 'near_zip_22_gesh', 'near_zip_22_jaro', 'near_zip_22_lcs', 'near_zip_22_leven', 'near_country_22_gesh', 'near_country_22_jaro', 'near_country_22_lcs', 'near_country_22_leven', 'near_url_22_gesh', 'near_url_22_jaro', 'near_url_22_lcs', 'near_url_22_len', 'near_url_22_nleven', 'near_url_22_nlcsi', 'near_url_22_nlcs0', 'near_phone_22_gesh', 'near_phone_22_jaro', 'near_phone_22_lcs', 'near_phone_22_leven', 'near_categories_22_gesh', 'near_categories_22_jaro', 'near_categories_22_lcs', 'near_categories_22_len', 'near_categories_22_nleven', 'near_categories_22_nlcsi', 'near_categories_22_nlcs0', 'd_near_23', 'near_name_23_gesh', 'near_name_23_jaro', 'near_name_23_lcs', 'near_name_23_len', 'near_name_23_nleven', 'near_name_23_nlcsi', 'near_name_23_nlcs0', 'near_address_23_gesh', 'near_address_23_jaro', 'near_address_23_lcs', 'near_address_23_len', 'near_address_23_nleven', 'near_address_23_nlcsi', 'near_address_23_nlcs0', 'near_city_23_gesh', 'near_city_23_jaro', 'near_city_23_lcs', 'near_city_23_len', 'near_city_23_nleven', 'near_city_23_nlcsi', 'near_city_23_nlcs0', 'near_state_23_gesh', 'near_state_23_jaro', 'near_state_23_lcs', 'near_state_23_len', 'near_state_23_nleven', 'near_state_23_nlcsi', 'near_state_23_nlcs0', 'near_zip_23_gesh', 'near_zip_23_jaro', 'near_zip_23_lcs', 'near_zip_23_leven', 'near_country_23_gesh', 'near_country_23_jaro', 'near_country_23_lcs', 'near_country_23_leven', 'near_url_23_gesh', 'near_url_23_jaro', 'near_url_23_lcs', 'near_url_23_len', 'near_url_23_nleven', 'near_url_23_nlcsi', 'near_url_23_nlcs0', 'near_phone_23_gesh', 'near_phone_23_jaro', 'near_phone_23_lcs', 'near_phone_23_leven', 'near_categories_23_gesh', 'near_categories_23_jaro', 'near_categories_23_lcs', 'near_categories_23_len', 'near_categories_23_nleven', 'near_categories_23_nlcsi', 'near_categories_23_nlcs0', 'd_near_24', 'near_name_24_gesh', 'near_name_24_jaro', 'near_name_24_lcs', 'near_name_24_len', 'near_name_24_nleven', 'near_name_24_nlcsi', 'near_name_24_nlcs0', 'near_address_24_gesh', 'near_address_24_jaro', 'near_address_24_lcs', 'near_address_24_len', 'near_address_24_nleven', 'near_address_24_nlcsi', 'near_address_24_nlcs0', 'near_city_24_gesh', 'near_city_24_jaro', 'near_city_24_lcs', 'near_city_24_len', 'near_city_24_nleven', 'near_city_24_nlcsi', 'near_city_24_nlcs0', 'near_state_24_gesh', 'near_state_24_jaro', 'near_state_24_lcs', 'near_state_24_len', 'near_state_24_nleven', 'near_state_24_nlcsi', 'near_state_24_nlcs0', 'near_zip_24_gesh', 'near_zip_24_jaro', 'near_zip_24_lcs', 'near_zip_24_leven', 'near_country_24_gesh', 'near_country_24_jaro', 'near_country_24_lcs', 'near_country_24_leven', 'near_url_24_gesh', 'near_url_24_jaro', 'near_url_24_lcs', 'near_url_24_len', 'near_url_24_nleven', 'near_url_24_nlcsi', 'near_url_24_nlcs0', 'near_phone_24_gesh', 'near_phone_24_jaro', 'near_phone_24_lcs', 'near_phone_24_leven', 'near_categories_24_gesh', 'near_categories_24_jaro', 'near_categories_24_lcs', 'near_categories_24_len', 'near_categories_24_nleven', 'near_categories_24_nlcsi', 'near_categories_24_nlcs0']\n"
          ]
        }
      ],
      "source": [
        "# featuresに残す候補が入る\n",
        "# 特徴量としては文字列間の長さを使っている。これに特徴量を加えていけば性能が上がる可能性ありあり\n",
        "# 他のコードを参考に追加してみる（2022.6.10）\n",
        "\n",
        "features = []\n",
        "\n",
        "columns = ['name', 'address', 'city', 'state',\n",
        "       'zip', 'country', 'url', 'phone', 'categories']\n",
        "\n",
        "for i in tqdm(range(CFG.n_neighbors)):\n",
        "  features.append(f\"d_near_{i}\")\n",
        "  for c in columns:        \n",
        "    features += [f\"near_{c}_{i}_gesh\", f\"near_{c}_{i}_jaro\", f\"near_{c}_{i}_lcs\"]\n",
        "    if c in ['country', \"phone\", \"zip\"]:\n",
        "      features += [f\"near_{c}_{i}_leven\"]\n",
        "    else:\n",
        "      features += [f\"near_{c}_{i}_len\", f\"near_{c}_{i}_nleven\", f\"near_{c}_{i}_nlcsi\", f\"near_{c}_{i}_nlcs0\"]\n",
        "\n",
        "for f in features:\n",
        "#     assert f in train.columns\n",
        "  if f not in test.columns:\n",
        "    test[f] = np.nan\n",
        "\n",
        "print(features)"
      ]
    },
    {
      "cell_type": "code",
      "execution_count": 35,
      "metadata": {
        "id": "jFAZWXCG8u4D"
      },
      "outputs": [],
      "source": [
        "if CFG.train:\n",
        "  train.info()"
      ]
    },
    {
      "cell_type": "code",
      "execution_count": 36,
      "metadata": {
        "id": "F8IU0rpHRUP6"
      },
      "outputs": [],
      "source": [
        "# 必要な列だけコピーする\n",
        "if CFG.train :\n",
        "  train = train[features + [CFG.target, \"target\", \"id\"] + [f\"near_id_{i}\" for i in range(CFG.n_neighbors)]]\n",
        "test = test[features + [\"id\"] + [f\"near_id_{i}\" for i in range(CFG.n_neighbors)]]\n",
        "\n",
        "# 型を変更\n",
        "if CFG.train:\n",
        "  train[features] = train[features].astype(np.float16)\n",
        "test[features] = test[features].astype(np.float16)\n",
        "#train = reduce_memory(train)\n",
        "#test = reduce_memory(test)\n",
        "\n",
        "# naを0にする\n",
        "if CFG.train:\n",
        "  train[\"target\"] = train[\"target\"].fillna(0)\n",
        "\n",
        "# 番号を振り直す\n",
        "if CFG.train:\n",
        "  train.reset_index(drop=True, inplace=True)\n",
        "test.reset_index(drop=True, inplace=True)\n",
        "\n",
        "# 繰り返しているけど意味はなさそう？（おまじない？）\n",
        "for _ in range(5):\n",
        "  gc.collect()\n",
        "\n",
        "if CFG.train:\n",
        "  train.info()"
      ]
    },
    {
      "cell_type": "code",
      "execution_count": 36,
      "metadata": {
        "id": "Ya3Q1ivj8NE_"
      },
      "outputs": [],
      "source": [
        ""
      ]
    },
    {
      "cell_type": "markdown",
      "metadata": {
        "id": "wDby508uSO_Y"
      },
      "source": [
        "### Foldに分割する"
      ]
    },
    {
      "cell_type": "code",
      "execution_count": 37,
      "metadata": {
        "id": "OCKpVcRhSPkS"
      },
      "outputs": [],
      "source": [
        "if CFG.train:\n",
        "  # foldに分割時の番号が入る\n",
        "  kf = StratifiedKFold(n_splits=CFG.n_splits, shuffle=True, random_state=CFG.seed)\n",
        "  for i, (trn_idx, val_idx) in tqdm(enumerate(kf.split(train, train[\"target\"], train[\"target\"]))):\n",
        "      train.loc[val_idx, \"fold\"] = i"
      ]
    },
    {
      "cell_type": "markdown",
      "metadata": {
        "id": "Z_1r7XFLSd0P"
      },
      "source": [
        "### モデルの学習"
      ]
    },
    {
      "cell_type": "code",
      "execution_count": 38,
      "metadata": {
        "id": "TDtYchRiSePc"
      },
      "outputs": [],
      "source": [
        "def fit_lgbm(X, y, params=None, es_rounds=20, seed=42, N_SPLITS=5, \n",
        "             n_class=None, model_dir=None, folds=None):\n",
        "  models = []\n",
        "  oof = np.zeros((len(y), n_class), dtype=np.float64)\n",
        "  \n",
        "  for i in tqdm(range(CFG.n_splits)):\n",
        "    print(f\"== fold {i} ==\")\n",
        "    trn_idx = folds!=i\n",
        "    val_idx = folds==i\n",
        "    # train, validデータに分割\n",
        "    X_train, y_train = X[trn_idx], y.iloc[trn_idx]\n",
        "    X_valid, y_valid = X.iloc[val_idx], y.iloc[val_idx]\n",
        "\n",
        "    if model_dir is None:\n",
        "      # 学習\n",
        "      model = lgbm.LGBMClassifier(**params)\n",
        "      model.fit(\n",
        "          X_train, y_train, \n",
        "          eval_set=[(X_valid, y_valid)],  \n",
        "          early_stopping_rounds=es_rounds, \n",
        "          eval_metric='logloss',  \n",
        "#             verbose=-1)\n",
        "          verbose=50)\n",
        "    else: \n",
        "      # 既に学習している場合は、読み込む（トレーニングをしない）\n",
        "      with open(f'{model_dir}/lgbm_fold{i}.pkl', 'rb') as f:\n",
        "          model = pickle.load(f)\n",
        "\n",
        "    # validデータに対して予測し、結果を格納    \n",
        "    pred = model.predict_proba(X_valid)\n",
        "    oof[val_idx] = pred\n",
        "    models.append(model)\n",
        "    \n",
        "    # 学習した結果をファイルに保存（！！！colabの場合は、、google driveに保存するように変更しておくしておく！！！）\n",
        "    #file = f'lgbm_fold{i}.pkl'\n",
        "    file = f'{CFG.model_path}/lgbm_fold{i}.pkl'\n",
        "\n",
        "    pickle.dump(model, open(file, 'wb'))\n",
        "    #joblib.dump(model, open(file, 'wb'))\n",
        "    print()\n",
        "    model.booster_.save_model(f'{CFG.model_path}/lgbm_fold{i}.txt')\n",
        "\n",
        "\n",
        "  cv = (oof.argmax(axis=-1) == y).mean()\n",
        "  print(f\"CV-accuracy: {cv}\")\n",
        "\n",
        "  return oof, models\n",
        "\n",
        "# 予測コード\n",
        "def inference_lgbm(models, feat_df):\n",
        "    pred = np.array([model.predict_proba(feat_df) for model in models])\n",
        "    pred = np.mean(pred, axis=0)\n",
        "    return pred\n",
        "\n",
        "# 予測コード\n",
        "def inference_lgbm2(models, feat_df):\n",
        "    pred = np.array([softmax(model.predict(feat_df, raw_score=True), axis=1) for model in models])\n",
        "    pred = np.mean(pred, axis=0)\n",
        "    return pred"
      ]
    },
    {
      "cell_type": "code",
      "execution_count": 42,
      "metadata": {
        "id": "n_3gYDZ8SevJ"
      },
      "outputs": [],
      "source": [
        "params = {\n",
        "    'objective': \"logloss\",\n",
        "    'learning_rate': 0.2,\n",
        "    'reg_alpha': 0.1,\n",
        "    'reg_lambda': 0.1,\n",
        "    'random_state': 42,\n",
        "\n",
        "    'max_depth': 7,   \n",
        "    'num_leaves': 35, \n",
        "    'n_estimators': 1000000, \n",
        "    \"colsample_bytree\": 0.9,\n",
        "}\n",
        "\n",
        "if CFG.train :\n",
        "  oof, models = fit_lgbm(train[features], train[\"target\"].astype(int), \n",
        "                        params=params, n_class=int(train[\"target\"].max() + 1), \n",
        "                        N_SPLITS=CFG.n_splits, folds=train[\"fold\"].values)\n",
        "\n",
        "# inference用にフラグを作って分けておいた方が良い気がする（2022.06.10)\n",
        "\n",
        "if CFG.train is False :\n",
        "  #models = [joblib.load(f'{CFG.model_path}/lgbm_fold{i}.pkl') for i in range(CFG.n_splits)]\n",
        "  models = [lgbm.Booster(model_file=f'{CFG.model_path}/lgbm_fold{i}.txt') for i in range(CFG.n_splits)]\n",
        "pred = inference_lgbm2(models, test[features])"
      ]
    },
    {
      "cell_type": "code",
      "source": [
        "# models = [joblib.load(f'{CFG.model_path}/lgbm_fold{i}.pkl') for i in range(CFG.n_splits)]\n",
        "# pred = inference_lgbm(models, test[features])\n",
        "# pred"
      ],
      "metadata": {
        "colab": {
          "base_uri": "https://localhost:8080/"
        },
        "id": "4dAuFDjVUfXP",
        "outputId": "d4853f2a-2d97-4c1d-d80e-4a1a1eef4d9a"
      },
      "execution_count": 40,
      "outputs": [
        {
          "output_type": "execute_result",
          "data": {
            "text/plain": [
              "array([[1.33648563e-01, 8.54896132e-01, 6.77097298e-03, 3.18725572e-04,\n",
              "        3.81747486e-04, 1.03056899e-03, 7.75963078e-04, 3.62774512e-04,\n",
              "        2.11415670e-04, 3.78962838e-04, 2.45132354e-04, 7.48050578e-05,\n",
              "        1.12593049e-04, 1.08564934e-04, 3.09192417e-05, 9.27710364e-05,\n",
              "        1.25564045e-04, 4.54617903e-05, 2.94092894e-05, 2.19173911e-05,\n",
              "        4.68924467e-05, 2.07717464e-05, 3.91151219e-05, 1.64591709e-04,\n",
              "        6.56644990e-05],\n",
              "       [1.94866535e-01, 8.01939022e-01, 1.14529994e-03, 2.47809801e-04,\n",
              "        1.61032922e-04, 2.30959577e-04, 3.29757985e-04, 1.16766005e-04,\n",
              "        1.78950925e-04, 8.29802053e-05, 6.11953275e-05, 7.76268832e-05,\n",
              "        2.33807612e-04, 1.86649242e-05, 1.44811750e-05, 3.16500241e-05,\n",
              "        1.79366816e-05, 2.25277706e-05, 2.56998987e-05, 1.70913931e-05,\n",
              "        8.53409212e-05, 8.48987588e-06, 9.33737774e-06, 1.88195480e-05,\n",
              "        5.82168298e-05],\n",
              "       [9.91491092e-01, 4.66711392e-03, 1.63187985e-03, 2.05567203e-04,\n",
              "        1.53194175e-04, 2.99708281e-04, 6.01784230e-04, 1.67870486e-04,\n",
              "        8.48851822e-05, 2.56048632e-04, 4.26434620e-05, 3.93042736e-05,\n",
              "        3.79135066e-05, 3.54823259e-05, 1.82322601e-05, 9.38059023e-05,\n",
              "        2.25998821e-05, 1.71396759e-05, 3.85996604e-05, 2.49351875e-06,\n",
              "        3.58244622e-05, 1.04085140e-05, 8.75678754e-06, 1.40170811e-05,\n",
              "        2.36350929e-05],\n",
              "       [9.52911648e-01, 2.80500411e-02, 7.97474003e-03, 4.37742580e-04,\n",
              "        8.89299580e-04, 3.94649993e-03, 7.91093136e-04, 1.38238703e-03,\n",
              "        1.18102279e-04, 2.66823409e-04, 2.13373826e-03, 3.25658377e-04,\n",
              "        3.46720245e-05, 8.02413176e-05, 1.64732106e-05, 4.91743277e-05,\n",
              "        5.17029774e-06, 4.19355270e-04, 9.54341477e-06, 1.20631665e-05,\n",
              "        5.00401241e-06, 2.45810378e-05, 3.73708536e-05, 1.31672829e-05,\n",
              "        6.54104936e-05],\n",
              "       [8.07315533e-01, 7.86511075e-02, 7.52803859e-02, 4.67319371e-03,\n",
              "        2.80609087e-03, 6.09256602e-03, 1.77644332e-03, 5.76087128e-04,\n",
              "        4.44814668e-04, 2.85465642e-04, 6.00706108e-03, 5.43612391e-04,\n",
              "        3.63593265e-04, 2.76796807e-04, 2.48502170e-04, 2.30336313e-04,\n",
              "        1.12988443e-03, 4.93601338e-06, 8.50031646e-04, 1.66220963e-04,\n",
              "        7.49449580e-05, 1.45497436e-04, 5.26812935e-04, 4.78267763e-04,\n",
              "        1.10518145e-02]])"
            ]
          },
          "metadata": {},
          "execution_count": 40
        }
      ]
    },
    {
      "cell_type": "code",
      "source": [
        "# models = [lgbm.Booster(model_file=f'{CFG.model_path}/lgbm_fold{i}.txt') for i in range(CFG.n_splits)]\n",
        "# pred = inference_lgbm2(models, test[features])\n",
        "# pred"
      ],
      "metadata": {
        "colab": {
          "base_uri": "https://localhost:8080/"
        },
        "id": "V8PTwVfdaEut",
        "outputId": "80e66aeb-a8f9-4213-d825-d343d81fe90e"
      },
      "execution_count": 41,
      "outputs": [
        {
          "output_type": "execute_result",
          "data": {
            "text/plain": [
              "array([[1.33648563e-01, 8.54896132e-01, 6.77097298e-03, 3.18725572e-04,\n",
              "        3.81747486e-04, 1.03056899e-03, 7.75963078e-04, 3.62774512e-04,\n",
              "        2.11415670e-04, 3.78962838e-04, 2.45132354e-04, 7.48050578e-05,\n",
              "        1.12593049e-04, 1.08564934e-04, 3.09192417e-05, 9.27710364e-05,\n",
              "        1.25564045e-04, 4.54617903e-05, 2.94092894e-05, 2.19173911e-05,\n",
              "        4.68924467e-05, 2.07717464e-05, 3.91151219e-05, 1.64591709e-04,\n",
              "        6.56644990e-05],\n",
              "       [1.94866535e-01, 8.01939022e-01, 1.14529994e-03, 2.47809801e-04,\n",
              "        1.61032922e-04, 2.30959577e-04, 3.29757985e-04, 1.16766005e-04,\n",
              "        1.78950925e-04, 8.29802053e-05, 6.11953275e-05, 7.76268832e-05,\n",
              "        2.33807612e-04, 1.86649242e-05, 1.44811750e-05, 3.16500241e-05,\n",
              "        1.79366816e-05, 2.25277706e-05, 2.56998987e-05, 1.70913931e-05,\n",
              "        8.53409212e-05, 8.48987588e-06, 9.33737774e-06, 1.88195480e-05,\n",
              "        5.82168298e-05],\n",
              "       [9.91491092e-01, 4.66711392e-03, 1.63187985e-03, 2.05567203e-04,\n",
              "        1.53194175e-04, 2.99708281e-04, 6.01784230e-04, 1.67870486e-04,\n",
              "        8.48851822e-05, 2.56048632e-04, 4.26434620e-05, 3.93042736e-05,\n",
              "        3.79135066e-05, 3.54823259e-05, 1.82322601e-05, 9.38059023e-05,\n",
              "        2.25998821e-05, 1.71396759e-05, 3.85996604e-05, 2.49351875e-06,\n",
              "        3.58244622e-05, 1.04085140e-05, 8.75678754e-06, 1.40170811e-05,\n",
              "        2.36350929e-05],\n",
              "       [9.52911648e-01, 2.80500411e-02, 7.97474003e-03, 4.37742580e-04,\n",
              "        8.89299580e-04, 3.94649993e-03, 7.91093136e-04, 1.38238703e-03,\n",
              "        1.18102279e-04, 2.66823409e-04, 2.13373826e-03, 3.25658377e-04,\n",
              "        3.46720245e-05, 8.02413176e-05, 1.64732106e-05, 4.91743277e-05,\n",
              "        5.17029774e-06, 4.19355270e-04, 9.54341477e-06, 1.20631665e-05,\n",
              "        5.00401241e-06, 2.45810378e-05, 3.73708536e-05, 1.31672829e-05,\n",
              "        6.54104936e-05],\n",
              "       [8.07315533e-01, 7.86511075e-02, 7.52803859e-02, 4.67319371e-03,\n",
              "        2.80609087e-03, 6.09256602e-03, 1.77644332e-03, 5.76087128e-04,\n",
              "        4.44814668e-04, 2.85465642e-04, 6.00706108e-03, 5.43612391e-04,\n",
              "        3.63593265e-04, 2.76796807e-04, 2.48502170e-04, 2.30336313e-04,\n",
              "        1.12988443e-03, 4.93601338e-06, 8.50031646e-04, 1.66220963e-04,\n",
              "        7.49449580e-05, 1.45497436e-04, 5.26812935e-04, 4.78267763e-04,\n",
              "        1.10518145e-02]])"
            ]
          },
          "metadata": {},
          "execution_count": 41
        }
      ]
    },
    {
      "cell_type": "code",
      "source": [
        "# models = [joblib.load(f'{CFG.model_path}/lgbm_fold{i}.pkl') for i in range(CFG.n_splits)]\n",
        "# for i in range(3) :\n",
        "#     models[i].booster_.save_model(f'{CFG.model_path}/lgbm_fold{i}.txt')"
      ],
      "metadata": {
        "id": "HmtbAp0PbZ2a"
      },
      "execution_count": 10,
      "outputs": []
    },
    {
      "cell_type": "markdown",
      "metadata": {
        "id": "jK9k3miZWWi6"
      },
      "source": [
        "### CVをチェック"
      ]
    },
    {
      "cell_type": "code",
      "execution_count": null,
      "metadata": {
        "id": "B18TbU5LWX8w"
      },
      "outputs": [],
      "source": [
        "if CFG.train :\n",
        "  # 学習に使っているデータなので、厳密にはCVではない？\n",
        "  near_ids = train[[f\"near_id_{i}\" for i in range(CFG.n_neighbors)]].values\n",
        "\n",
        "  matches = []\n",
        "  for id, ps, ids in tqdm(zip(train[\"id\"], oof, near_ids)):\n",
        "    idx = np.argmax(ps)\n",
        "    if idx > 0 and ids[idx]==ids[idx]:\n",
        "      matches.append(id + \" \" + ids[idx])\n",
        "    else:\n",
        "      matches.append(id)\n",
        "  train[\"matches\"] = matches\n",
        "  print(f\"CV: {get_score(train):.6f}\")"
      ]
    },
    {
      "cell_type": "code",
      "execution_count": null,
      "metadata": {
        "id": "Cj95f6KKWX1z"
      },
      "outputs": [],
      "source": [
        "near_ids = test[[f\"near_id_{i}\" for i in range(CFG.n_neighbors)]].values\n",
        "\n",
        "matches = []\n",
        "for id, ps, ids in tqdm(zip(test[\"id\"], pred, near_ids)):\n",
        "  idx = np.argmax(ps)\n",
        "  if idx > 0 and ids[idx]==ids[idx]:\n",
        "    matches.append(id + \" \" + ids[idx])\n",
        "  else:\n",
        "    matches.append(id)\n",
        "test[\"matches\"] = matches"
      ]
    },
    {
      "cell_type": "markdown",
      "metadata": {
        "id": "toDdERKhXZzG"
      },
      "source": [
        "### 特徴量の重要度を表示"
      ]
    },
    {
      "cell_type": "code",
      "execution_count": null,
      "metadata": {
        "id": "mwKSOg4xWXGp"
      },
      "outputs": [],
      "source": [
        "def plot_importances(models):\n",
        "  importance_df = pd.DataFrame(models[0].feature_importances_, \n",
        "                                index=features, \n",
        "                                columns=['importance'])\\\n",
        "                      .sort_values(\"importance\", ascending=False)\n",
        "\n",
        "  plt.subplots(figsize=(len(features) // 4, 5))\n",
        "  plt.bar(importance_df.index, importance_df.importance)\n",
        "  plt.grid()\n",
        "  plt.xticks(rotation=90)\n",
        "  plt.ylabel(\"importance\")\n",
        "  plt.tight_layout()\n",
        "  plt.show()\n",
        "\n",
        "if CFG.train :\n",
        "  plot_importances(models)"
      ]
    },
    {
      "cell_type": "markdown",
      "metadata": {
        "id": "mOKFF_jxXk6U"
      },
      "source": [
        "### 後処理"
      ]
    },
    {
      "cell_type": "code",
      "execution_count": null,
      "metadata": {
        "id": "2_8tkwVlXgWl"
      },
      "outputs": [],
      "source": [
        "# 場所が同じだと判定されたものの結果を同じにする処理（に見える）\n",
        "def postprocess(df):\n",
        "    # IDに対して、一致したと判定したIDの辞書を作成\n",
        "    id2match = dict(zip(df[\"id\"].values, df[\"matches\"].str.split()))\n",
        "\n",
        "    for match in tqdm(df[\"matches\"]):\n",
        "        match = match.split()\n",
        "        if len(match) == 1:        \n",
        "            continue\n",
        "\n",
        "        base = match[0]\n",
        "        for m in match[1:]:\n",
        "            # baseががmの一致列に入っていないなら追加\n",
        "            if not base in id2match[m]:\n",
        "                id2match[m].append(base)\n",
        "    df[\"matches\"] = df[\"id\"].map(id2match).map(\" \".join)\n",
        "    return df "
      ]
    },
    {
      "cell_type": "code",
      "execution_count": null,
      "metadata": {
        "id": "BbHpTYwEX8p4"
      },
      "outputs": [],
      "source": [
        "if CFG.train:\n",
        "  train = postprocess(train)\n",
        "  print(f\"CV: {get_score(train):.6f}\")\n",
        "\n",
        "test = postprocess(test)\n",
        "\n",
        "#CV: 0.823274"
      ]
    },
    {
      "cell_type": "markdown",
      "metadata": {
        "id": "PfLu3BQCXqoC"
      },
      "source": [
        "### Submit"
      ]
    },
    {
      "cell_type": "code",
      "execution_count": null,
      "metadata": {
        "id": "yLuxfiRoXrM8"
      },
      "outputs": [],
      "source": [
        "ssub = pd.read_csv(\"../input/foursquare-location-matching/sample_submission.csv\")\n",
        "ssub = ssub.drop(columns=\"matches\")\n",
        "ssub = ssub.merge(test[[\"id\", \"matches\"]], on=\"id\")\n",
        "ssub.to_csv(\"submission.csv\", index=False)\n",
        "\n",
        "ssub.head()"
      ]
    },
    {
      "cell_type": "code",
      "execution_count": null,
      "metadata": {
        "id": "D-la0j-YSf4A"
      },
      "outputs": [],
      "source": [
        ""
      ]
    }
  ],
  "metadata": {
    "accelerator": "TPU",
    "colab": {
      "collapsed_sections": [],
      "machine_shape": "hm",
      "name": "Foursquareのベースラインを理解する.ipynb",
      "provenance": [],
      "mount_file_id": "12sdC9KGIFhXascT-F0XPsI9zbFBThR6h",
      "authorship_tag": "ABX9TyNJBpbtIDb82G8TRsM7sD4a",
      "include_colab_link": true
    },
    "kernelspec": {
      "display_name": "Python 3",
      "name": "python3"
    },
    "language_info": {
      "name": "python"
    },
    "widgets": {
      "application/vnd.jupyter.widget-state+json": {
        "c0f145903fd8443b9c72c6ca1e635eec": {
          "model_module": "@jupyter-widgets/controls",
          "model_name": "HBoxModel",
          "model_module_version": "1.5.0",
          "state": {
            "_dom_classes": [],
            "_model_module": "@jupyter-widgets/controls",
            "_model_module_version": "1.5.0",
            "_model_name": "HBoxModel",
            "_view_count": null,
            "_view_module": "@jupyter-widgets/controls",
            "_view_module_version": "1.5.0",
            "_view_name": "HBoxView",
            "box_style": "",
            "children": [
              "IPY_MODEL_a3f6f616600f4a78865747b08cf2945c",
              "IPY_MODEL_b471437103a54d78a2ecd2366ec1fee3",
              "IPY_MODEL_1f0d819cc1b64d77a6d209f5da8fc818"
            ],
            "layout": "IPY_MODEL_91c517011f9d4869bd49205466458842"
          }
        },
        "a3f6f616600f4a78865747b08cf2945c": {
          "model_module": "@jupyter-widgets/controls",
          "model_name": "HTMLModel",
          "model_module_version": "1.5.0",
          "state": {
            "_dom_classes": [],
            "_model_module": "@jupyter-widgets/controls",
            "_model_module_version": "1.5.0",
            "_model_name": "HTMLModel",
            "_view_count": null,
            "_view_module": "@jupyter-widgets/controls",
            "_view_module_version": "1.5.0",
            "_view_name": "HTMLView",
            "description": "",
            "description_tooltip": null,
            "layout": "IPY_MODEL_aed7bdbe4cee41b7ab933c82c6c8bc0d",
            "placeholder": "​",
            "style": "IPY_MODEL_b0a42348a4114adc90657316358b0e12",
            "value": "100%"
          }
        },
        "b471437103a54d78a2ecd2366ec1fee3": {
          "model_module": "@jupyter-widgets/controls",
          "model_name": "FloatProgressModel",
          "model_module_version": "1.5.0",
          "state": {
            "_dom_classes": [],
            "_model_module": "@jupyter-widgets/controls",
            "_model_module_version": "1.5.0",
            "_model_name": "FloatProgressModel",
            "_view_count": null,
            "_view_module": "@jupyter-widgets/controls",
            "_view_module_version": "1.5.0",
            "_view_name": "ProgressView",
            "bar_style": "success",
            "description": "",
            "description_tooltip": null,
            "layout": "IPY_MODEL_7ab6dca2b13242bea0b2a59de00cfe96",
            "max": 4,
            "min": 0,
            "orientation": "horizontal",
            "style": "IPY_MODEL_06d188670d9843dd8e06c3ee03b9a8a3",
            "value": 4
          }
        },
        "1f0d819cc1b64d77a6d209f5da8fc818": {
          "model_module": "@jupyter-widgets/controls",
          "model_name": "HTMLModel",
          "model_module_version": "1.5.0",
          "state": {
            "_dom_classes": [],
            "_model_module": "@jupyter-widgets/controls",
            "_model_module_version": "1.5.0",
            "_model_name": "HTMLModel",
            "_view_count": null,
            "_view_module": "@jupyter-widgets/controls",
            "_view_module_version": "1.5.0",
            "_view_name": "HTMLView",
            "description": "",
            "description_tooltip": null,
            "layout": "IPY_MODEL_5fb8bc6c603e48aabfd9098e86cdf89d",
            "placeholder": "​",
            "style": "IPY_MODEL_05e9e2dbfaa343548f5410d4c4f2f785",
            "value": " 4/4 [00:00&lt;00:00,  4.95it/s]"
          }
        },
        "91c517011f9d4869bd49205466458842": {
          "model_module": "@jupyter-widgets/base",
          "model_name": "LayoutModel",
          "model_module_version": "1.2.0",
          "state": {
            "_model_module": "@jupyter-widgets/base",
            "_model_module_version": "1.2.0",
            "_model_name": "LayoutModel",
            "_view_count": null,
            "_view_module": "@jupyter-widgets/base",
            "_view_module_version": "1.2.0",
            "_view_name": "LayoutView",
            "align_content": null,
            "align_items": null,
            "align_self": null,
            "border": null,
            "bottom": null,
            "display": null,
            "flex": null,
            "flex_flow": null,
            "grid_area": null,
            "grid_auto_columns": null,
            "grid_auto_flow": null,
            "grid_auto_rows": null,
            "grid_column": null,
            "grid_gap": null,
            "grid_row": null,
            "grid_template_areas": null,
            "grid_template_columns": null,
            "grid_template_rows": null,
            "height": null,
            "justify_content": null,
            "justify_items": null,
            "left": null,
            "margin": null,
            "max_height": null,
            "max_width": null,
            "min_height": null,
            "min_width": null,
            "object_fit": null,
            "object_position": null,
            "order": null,
            "overflow": null,
            "overflow_x": null,
            "overflow_y": null,
            "padding": null,
            "right": null,
            "top": null,
            "visibility": null,
            "width": null
          }
        },
        "aed7bdbe4cee41b7ab933c82c6c8bc0d": {
          "model_module": "@jupyter-widgets/base",
          "model_name": "LayoutModel",
          "model_module_version": "1.2.0",
          "state": {
            "_model_module": "@jupyter-widgets/base",
            "_model_module_version": "1.2.0",
            "_model_name": "LayoutModel",
            "_view_count": null,
            "_view_module": "@jupyter-widgets/base",
            "_view_module_version": "1.2.0",
            "_view_name": "LayoutView",
            "align_content": null,
            "align_items": null,
            "align_self": null,
            "border": null,
            "bottom": null,
            "display": null,
            "flex": null,
            "flex_flow": null,
            "grid_area": null,
            "grid_auto_columns": null,
            "grid_auto_flow": null,
            "grid_auto_rows": null,
            "grid_column": null,
            "grid_gap": null,
            "grid_row": null,
            "grid_template_areas": null,
            "grid_template_columns": null,
            "grid_template_rows": null,
            "height": null,
            "justify_content": null,
            "justify_items": null,
            "left": null,
            "margin": null,
            "max_height": null,
            "max_width": null,
            "min_height": null,
            "min_width": null,
            "object_fit": null,
            "object_position": null,
            "order": null,
            "overflow": null,
            "overflow_x": null,
            "overflow_y": null,
            "padding": null,
            "right": null,
            "top": null,
            "visibility": null,
            "width": null
          }
        },
        "b0a42348a4114adc90657316358b0e12": {
          "model_module": "@jupyter-widgets/controls",
          "model_name": "DescriptionStyleModel",
          "model_module_version": "1.5.0",
          "state": {
            "_model_module": "@jupyter-widgets/controls",
            "_model_module_version": "1.5.0",
            "_model_name": "DescriptionStyleModel",
            "_view_count": null,
            "_view_module": "@jupyter-widgets/base",
            "_view_module_version": "1.2.0",
            "_view_name": "StyleView",
            "description_width": ""
          }
        },
        "7ab6dca2b13242bea0b2a59de00cfe96": {
          "model_module": "@jupyter-widgets/base",
          "model_name": "LayoutModel",
          "model_module_version": "1.2.0",
          "state": {
            "_model_module": "@jupyter-widgets/base",
            "_model_module_version": "1.2.0",
            "_model_name": "LayoutModel",
            "_view_count": null,
            "_view_module": "@jupyter-widgets/base",
            "_view_module_version": "1.2.0",
            "_view_name": "LayoutView",
            "align_content": null,
            "align_items": null,
            "align_self": null,
            "border": null,
            "bottom": null,
            "display": null,
            "flex": null,
            "flex_flow": null,
            "grid_area": null,
            "grid_auto_columns": null,
            "grid_auto_flow": null,
            "grid_auto_rows": null,
            "grid_column": null,
            "grid_gap": null,
            "grid_row": null,
            "grid_template_areas": null,
            "grid_template_columns": null,
            "grid_template_rows": null,
            "height": null,
            "justify_content": null,
            "justify_items": null,
            "left": null,
            "margin": null,
            "max_height": null,
            "max_width": null,
            "min_height": null,
            "min_width": null,
            "object_fit": null,
            "object_position": null,
            "order": null,
            "overflow": null,
            "overflow_x": null,
            "overflow_y": null,
            "padding": null,
            "right": null,
            "top": null,
            "visibility": null,
            "width": null
          }
        },
        "06d188670d9843dd8e06c3ee03b9a8a3": {
          "model_module": "@jupyter-widgets/controls",
          "model_name": "ProgressStyleModel",
          "model_module_version": "1.5.0",
          "state": {
            "_model_module": "@jupyter-widgets/controls",
            "_model_module_version": "1.5.0",
            "_model_name": "ProgressStyleModel",
            "_view_count": null,
            "_view_module": "@jupyter-widgets/base",
            "_view_module_version": "1.2.0",
            "_view_name": "StyleView",
            "bar_color": null,
            "description_width": ""
          }
        },
        "5fb8bc6c603e48aabfd9098e86cdf89d": {
          "model_module": "@jupyter-widgets/base",
          "model_name": "LayoutModel",
          "model_module_version": "1.2.0",
          "state": {
            "_model_module": "@jupyter-widgets/base",
            "_model_module_version": "1.2.0",
            "_model_name": "LayoutModel",
            "_view_count": null,
            "_view_module": "@jupyter-widgets/base",
            "_view_module_version": "1.2.0",
            "_view_name": "LayoutView",
            "align_content": null,
            "align_items": null,
            "align_self": null,
            "border": null,
            "bottom": null,
            "display": null,
            "flex": null,
            "flex_flow": null,
            "grid_area": null,
            "grid_auto_columns": null,
            "grid_auto_flow": null,
            "grid_auto_rows": null,
            "grid_column": null,
            "grid_gap": null,
            "grid_row": null,
            "grid_template_areas": null,
            "grid_template_columns": null,
            "grid_template_rows": null,
            "height": null,
            "justify_content": null,
            "justify_items": null,
            "left": null,
            "margin": null,
            "max_height": null,
            "max_width": null,
            "min_height": null,
            "min_width": null,
            "object_fit": null,
            "object_position": null,
            "order": null,
            "overflow": null,
            "overflow_x": null,
            "overflow_y": null,
            "padding": null,
            "right": null,
            "top": null,
            "visibility": null,
            "width": null
          }
        },
        "05e9e2dbfaa343548f5410d4c4f2f785": {
          "model_module": "@jupyter-widgets/controls",
          "model_name": "DescriptionStyleModel",
          "model_module_version": "1.5.0",
          "state": {
            "_model_module": "@jupyter-widgets/controls",
            "_model_module_version": "1.5.0",
            "_model_name": "DescriptionStyleModel",
            "_view_count": null,
            "_view_module": "@jupyter-widgets/base",
            "_view_module_version": "1.2.0",
            "_view_name": "StyleView",
            "description_width": ""
          }
        },
        "9b428e8c77ee49fb91a920f3272d428f": {
          "model_module": "@jupyter-widgets/controls",
          "model_name": "HBoxModel",
          "model_module_version": "1.5.0",
          "state": {
            "_dom_classes": [],
            "_model_module": "@jupyter-widgets/controls",
            "_model_module_version": "1.5.0",
            "_model_name": "HBoxModel",
            "_view_count": null,
            "_view_module": "@jupyter-widgets/controls",
            "_view_module_version": "1.5.0",
            "_view_name": "HBoxView",
            "box_style": "",
            "children": [
              "IPY_MODEL_a160c500afbb47528d77f60250e2d21d",
              "IPY_MODEL_dbb38154ad6b40e6a7d16340f567f4b1",
              "IPY_MODEL_56c9891baa044523af0da339ff4c2610"
            ],
            "layout": "IPY_MODEL_7352c2596a5a46e0a3c49043a9cdd486"
          }
        },
        "a160c500afbb47528d77f60250e2d21d": {
          "model_module": "@jupyter-widgets/controls",
          "model_name": "HTMLModel",
          "model_module_version": "1.5.0",
          "state": {
            "_dom_classes": [],
            "_model_module": "@jupyter-widgets/controls",
            "_model_module_version": "1.5.0",
            "_model_name": "HTMLModel",
            "_view_count": null,
            "_view_module": "@jupyter-widgets/controls",
            "_view_module_version": "1.5.0",
            "_view_name": "HTMLView",
            "description": "",
            "description_tooltip": null,
            "layout": "IPY_MODEL_9ed5daed47364b0f8cd24909f552dc8b",
            "placeholder": "​",
            "style": "IPY_MODEL_bf4921efbb364fb8a1792b755774a447",
            "value": ""
          }
        },
        "dbb38154ad6b40e6a7d16340f567f4b1": {
          "model_module": "@jupyter-widgets/controls",
          "model_name": "FloatProgressModel",
          "model_module_version": "1.5.0",
          "state": {
            "_dom_classes": [],
            "_model_module": "@jupyter-widgets/controls",
            "_model_module_version": "1.5.0",
            "_model_name": "FloatProgressModel",
            "_view_count": null,
            "_view_module": "@jupyter-widgets/controls",
            "_view_module_version": "1.5.0",
            "_view_name": "ProgressView",
            "bar_style": "success",
            "description": "",
            "description_tooltip": null,
            "layout": "IPY_MODEL_bb48dbddd53c4fb2a0ca0d72937eff48",
            "max": 1,
            "min": 0,
            "orientation": "horizontal",
            "style": "IPY_MODEL_5e9355380c28419fa415d383495e7d4d",
            "value": 1
          }
        },
        "56c9891baa044523af0da339ff4c2610": {
          "model_module": "@jupyter-widgets/controls",
          "model_name": "HTMLModel",
          "model_module_version": "1.5.0",
          "state": {
            "_dom_classes": [],
            "_model_module": "@jupyter-widgets/controls",
            "_model_module_version": "1.5.0",
            "_model_name": "HTMLModel",
            "_view_count": null,
            "_view_module": "@jupyter-widgets/controls",
            "_view_module_version": "1.5.0",
            "_view_name": "HTMLView",
            "description": "",
            "description_tooltip": null,
            "layout": "IPY_MODEL_7e7334413d744e8a8147d9941e5c1d6c",
            "placeholder": "​",
            "style": "IPY_MODEL_3b818903f6364b948ed94f03aa386a5e",
            "value": " 4/? [00:01&lt;00:00,  1.71s/it]"
          }
        },
        "7352c2596a5a46e0a3c49043a9cdd486": {
          "model_module": "@jupyter-widgets/base",
          "model_name": "LayoutModel",
          "model_module_version": "1.2.0",
          "state": {
            "_model_module": "@jupyter-widgets/base",
            "_model_module_version": "1.2.0",
            "_model_name": "LayoutModel",
            "_view_count": null,
            "_view_module": "@jupyter-widgets/base",
            "_view_module_version": "1.2.0",
            "_view_name": "LayoutView",
            "align_content": null,
            "align_items": null,
            "align_self": null,
            "border": null,
            "bottom": null,
            "display": null,
            "flex": null,
            "flex_flow": null,
            "grid_area": null,
            "grid_auto_columns": null,
            "grid_auto_flow": null,
            "grid_auto_rows": null,
            "grid_column": null,
            "grid_gap": null,
            "grid_row": null,
            "grid_template_areas": null,
            "grid_template_columns": null,
            "grid_template_rows": null,
            "height": null,
            "justify_content": null,
            "justify_items": null,
            "left": null,
            "margin": null,
            "max_height": null,
            "max_width": null,
            "min_height": null,
            "min_width": null,
            "object_fit": null,
            "object_position": null,
            "order": null,
            "overflow": null,
            "overflow_x": null,
            "overflow_y": null,
            "padding": null,
            "right": null,
            "top": null,
            "visibility": null,
            "width": null
          }
        },
        "9ed5daed47364b0f8cd24909f552dc8b": {
          "model_module": "@jupyter-widgets/base",
          "model_name": "LayoutModel",
          "model_module_version": "1.2.0",
          "state": {
            "_model_module": "@jupyter-widgets/base",
            "_model_module_version": "1.2.0",
            "_model_name": "LayoutModel",
            "_view_count": null,
            "_view_module": "@jupyter-widgets/base",
            "_view_module_version": "1.2.0",
            "_view_name": "LayoutView",
            "align_content": null,
            "align_items": null,
            "align_self": null,
            "border": null,
            "bottom": null,
            "display": null,
            "flex": null,
            "flex_flow": null,
            "grid_area": null,
            "grid_auto_columns": null,
            "grid_auto_flow": null,
            "grid_auto_rows": null,
            "grid_column": null,
            "grid_gap": null,
            "grid_row": null,
            "grid_template_areas": null,
            "grid_template_columns": null,
            "grid_template_rows": null,
            "height": null,
            "justify_content": null,
            "justify_items": null,
            "left": null,
            "margin": null,
            "max_height": null,
            "max_width": null,
            "min_height": null,
            "min_width": null,
            "object_fit": null,
            "object_position": null,
            "order": null,
            "overflow": null,
            "overflow_x": null,
            "overflow_y": null,
            "padding": null,
            "right": null,
            "top": null,
            "visibility": null,
            "width": null
          }
        },
        "bf4921efbb364fb8a1792b755774a447": {
          "model_module": "@jupyter-widgets/controls",
          "model_name": "DescriptionStyleModel",
          "model_module_version": "1.5.0",
          "state": {
            "_model_module": "@jupyter-widgets/controls",
            "_model_module_version": "1.5.0",
            "_model_name": "DescriptionStyleModel",
            "_view_count": null,
            "_view_module": "@jupyter-widgets/base",
            "_view_module_version": "1.2.0",
            "_view_name": "StyleView",
            "description_width": ""
          }
        },
        "bb48dbddd53c4fb2a0ca0d72937eff48": {
          "model_module": "@jupyter-widgets/base",
          "model_name": "LayoutModel",
          "model_module_version": "1.2.0",
          "state": {
            "_model_module": "@jupyter-widgets/base",
            "_model_module_version": "1.2.0",
            "_model_name": "LayoutModel",
            "_view_count": null,
            "_view_module": "@jupyter-widgets/base",
            "_view_module_version": "1.2.0",
            "_view_name": "LayoutView",
            "align_content": null,
            "align_items": null,
            "align_self": null,
            "border": null,
            "bottom": null,
            "display": null,
            "flex": null,
            "flex_flow": null,
            "grid_area": null,
            "grid_auto_columns": null,
            "grid_auto_flow": null,
            "grid_auto_rows": null,
            "grid_column": null,
            "grid_gap": null,
            "grid_row": null,
            "grid_template_areas": null,
            "grid_template_columns": null,
            "grid_template_rows": null,
            "height": null,
            "justify_content": null,
            "justify_items": null,
            "left": null,
            "margin": null,
            "max_height": null,
            "max_width": null,
            "min_height": null,
            "min_width": null,
            "object_fit": null,
            "object_position": null,
            "order": null,
            "overflow": null,
            "overflow_x": null,
            "overflow_y": null,
            "padding": null,
            "right": null,
            "top": null,
            "visibility": null,
            "width": "20px"
          }
        },
        "5e9355380c28419fa415d383495e7d4d": {
          "model_module": "@jupyter-widgets/controls",
          "model_name": "ProgressStyleModel",
          "model_module_version": "1.5.0",
          "state": {
            "_model_module": "@jupyter-widgets/controls",
            "_model_module_version": "1.5.0",
            "_model_name": "ProgressStyleModel",
            "_view_count": null,
            "_view_module": "@jupyter-widgets/base",
            "_view_module_version": "1.2.0",
            "_view_name": "StyleView",
            "bar_color": null,
            "description_width": ""
          }
        },
        "7e7334413d744e8a8147d9941e5c1d6c": {
          "model_module": "@jupyter-widgets/base",
          "model_name": "LayoutModel",
          "model_module_version": "1.2.0",
          "state": {
            "_model_module": "@jupyter-widgets/base",
            "_model_module_version": "1.2.0",
            "_model_name": "LayoutModel",
            "_view_count": null,
            "_view_module": "@jupyter-widgets/base",
            "_view_module_version": "1.2.0",
            "_view_name": "LayoutView",
            "align_content": null,
            "align_items": null,
            "align_self": null,
            "border": null,
            "bottom": null,
            "display": null,
            "flex": null,
            "flex_flow": null,
            "grid_area": null,
            "grid_auto_columns": null,
            "grid_auto_flow": null,
            "grid_auto_rows": null,
            "grid_column": null,
            "grid_gap": null,
            "grid_row": null,
            "grid_template_areas": null,
            "grid_template_columns": null,
            "grid_template_rows": null,
            "height": null,
            "justify_content": null,
            "justify_items": null,
            "left": null,
            "margin": null,
            "max_height": null,
            "max_width": null,
            "min_height": null,
            "min_width": null,
            "object_fit": null,
            "object_position": null,
            "order": null,
            "overflow": null,
            "overflow_x": null,
            "overflow_y": null,
            "padding": null,
            "right": null,
            "top": null,
            "visibility": null,
            "width": null
          }
        },
        "3b818903f6364b948ed94f03aa386a5e": {
          "model_module": "@jupyter-widgets/controls",
          "model_name": "DescriptionStyleModel",
          "model_module_version": "1.5.0",
          "state": {
            "_model_module": "@jupyter-widgets/controls",
            "_model_module_version": "1.5.0",
            "_model_name": "DescriptionStyleModel",
            "_view_count": null,
            "_view_module": "@jupyter-widgets/base",
            "_view_module_version": "1.2.0",
            "_view_name": "StyleView",
            "description_width": ""
          }
        },
        "771f27f2a55948fa9c880645be918cd8": {
          "model_module": "@jupyter-widgets/controls",
          "model_name": "HBoxModel",
          "model_module_version": "1.5.0",
          "state": {
            "_dom_classes": [],
            "_model_module": "@jupyter-widgets/controls",
            "_model_module_version": "1.5.0",
            "_model_name": "HBoxModel",
            "_view_count": null,
            "_view_module": "@jupyter-widgets/controls",
            "_view_module_version": "1.5.0",
            "_view_name": "HBoxView",
            "box_style": "",
            "children": [
              "IPY_MODEL_7bca3bdff8104952b7a6a242d00854fe",
              "IPY_MODEL_150c4b2548324b408d5c0541eb43818e",
              "IPY_MODEL_31d1fc45cedf442dbaf528f1e3f13580"
            ],
            "layout": "IPY_MODEL_c19d84977ff7427ebff1864cc2adf65c"
          }
        },
        "7bca3bdff8104952b7a6a242d00854fe": {
          "model_module": "@jupyter-widgets/controls",
          "model_name": "HTMLModel",
          "model_module_version": "1.5.0",
          "state": {
            "_dom_classes": [],
            "_model_module": "@jupyter-widgets/controls",
            "_model_module_version": "1.5.0",
            "_model_name": "HTMLModel",
            "_view_count": null,
            "_view_module": "@jupyter-widgets/controls",
            "_view_module_version": "1.5.0",
            "_view_name": "HTMLView",
            "description": "",
            "description_tooltip": null,
            "layout": "IPY_MODEL_b9e8da10e1ec455cbb56ab64188d3174",
            "placeholder": "​",
            "style": "IPY_MODEL_f5792152028a42b5bca5fad6b2f60bcd",
            "value": "100%"
          }
        },
        "150c4b2548324b408d5c0541eb43818e": {
          "model_module": "@jupyter-widgets/controls",
          "model_name": "FloatProgressModel",
          "model_module_version": "1.5.0",
          "state": {
            "_dom_classes": [],
            "_model_module": "@jupyter-widgets/controls",
            "_model_module_version": "1.5.0",
            "_model_name": "FloatProgressModel",
            "_view_count": null,
            "_view_module": "@jupyter-widgets/controls",
            "_view_module_version": "1.5.0",
            "_view_name": "ProgressView",
            "bar_style": "success",
            "description": "",
            "description_tooltip": null,
            "layout": "IPY_MODEL_c69875d975bb4414955375463cd25cda",
            "max": 25,
            "min": 0,
            "orientation": "horizontal",
            "style": "IPY_MODEL_0fb8ad37210f46db810ac959d8c90bc0",
            "value": 25
          }
        },
        "31d1fc45cedf442dbaf528f1e3f13580": {
          "model_module": "@jupyter-widgets/controls",
          "model_name": "HTMLModel",
          "model_module_version": "1.5.0",
          "state": {
            "_dom_classes": [],
            "_model_module": "@jupyter-widgets/controls",
            "_model_module_version": "1.5.0",
            "_model_name": "HTMLModel",
            "_view_count": null,
            "_view_module": "@jupyter-widgets/controls",
            "_view_module_version": "1.5.0",
            "_view_name": "HTMLView",
            "description": "",
            "description_tooltip": null,
            "layout": "IPY_MODEL_770d0f03a6b04c37a807ee586e1f2ed0",
            "placeholder": "​",
            "style": "IPY_MODEL_34c6eff3d8174b8c8b73a95f8ea3d5fc",
            "value": " 25/25 [00:00&lt;00:00, 931.01it/s]"
          }
        },
        "c19d84977ff7427ebff1864cc2adf65c": {
          "model_module": "@jupyter-widgets/base",
          "model_name": "LayoutModel",
          "model_module_version": "1.2.0",
          "state": {
            "_model_module": "@jupyter-widgets/base",
            "_model_module_version": "1.2.0",
            "_model_name": "LayoutModel",
            "_view_count": null,
            "_view_module": "@jupyter-widgets/base",
            "_view_module_version": "1.2.0",
            "_view_name": "LayoutView",
            "align_content": null,
            "align_items": null,
            "align_self": null,
            "border": null,
            "bottom": null,
            "display": null,
            "flex": null,
            "flex_flow": null,
            "grid_area": null,
            "grid_auto_columns": null,
            "grid_auto_flow": null,
            "grid_auto_rows": null,
            "grid_column": null,
            "grid_gap": null,
            "grid_row": null,
            "grid_template_areas": null,
            "grid_template_columns": null,
            "grid_template_rows": null,
            "height": null,
            "justify_content": null,
            "justify_items": null,
            "left": null,
            "margin": null,
            "max_height": null,
            "max_width": null,
            "min_height": null,
            "min_width": null,
            "object_fit": null,
            "object_position": null,
            "order": null,
            "overflow": null,
            "overflow_x": null,
            "overflow_y": null,
            "padding": null,
            "right": null,
            "top": null,
            "visibility": null,
            "width": null
          }
        },
        "b9e8da10e1ec455cbb56ab64188d3174": {
          "model_module": "@jupyter-widgets/base",
          "model_name": "LayoutModel",
          "model_module_version": "1.2.0",
          "state": {
            "_model_module": "@jupyter-widgets/base",
            "_model_module_version": "1.2.0",
            "_model_name": "LayoutModel",
            "_view_count": null,
            "_view_module": "@jupyter-widgets/base",
            "_view_module_version": "1.2.0",
            "_view_name": "LayoutView",
            "align_content": null,
            "align_items": null,
            "align_self": null,
            "border": null,
            "bottom": null,
            "display": null,
            "flex": null,
            "flex_flow": null,
            "grid_area": null,
            "grid_auto_columns": null,
            "grid_auto_flow": null,
            "grid_auto_rows": null,
            "grid_column": null,
            "grid_gap": null,
            "grid_row": null,
            "grid_template_areas": null,
            "grid_template_columns": null,
            "grid_template_rows": null,
            "height": null,
            "justify_content": null,
            "justify_items": null,
            "left": null,
            "margin": null,
            "max_height": null,
            "max_width": null,
            "min_height": null,
            "min_width": null,
            "object_fit": null,
            "object_position": null,
            "order": null,
            "overflow": null,
            "overflow_x": null,
            "overflow_y": null,
            "padding": null,
            "right": null,
            "top": null,
            "visibility": null,
            "width": null
          }
        },
        "f5792152028a42b5bca5fad6b2f60bcd": {
          "model_module": "@jupyter-widgets/controls",
          "model_name": "DescriptionStyleModel",
          "model_module_version": "1.5.0",
          "state": {
            "_model_module": "@jupyter-widgets/controls",
            "_model_module_version": "1.5.0",
            "_model_name": "DescriptionStyleModel",
            "_view_count": null,
            "_view_module": "@jupyter-widgets/base",
            "_view_module_version": "1.2.0",
            "_view_name": "StyleView",
            "description_width": ""
          }
        },
        "c69875d975bb4414955375463cd25cda": {
          "model_module": "@jupyter-widgets/base",
          "model_name": "LayoutModel",
          "model_module_version": "1.2.0",
          "state": {
            "_model_module": "@jupyter-widgets/base",
            "_model_module_version": "1.2.0",
            "_model_name": "LayoutModel",
            "_view_count": null,
            "_view_module": "@jupyter-widgets/base",
            "_view_module_version": "1.2.0",
            "_view_name": "LayoutView",
            "align_content": null,
            "align_items": null,
            "align_self": null,
            "border": null,
            "bottom": null,
            "display": null,
            "flex": null,
            "flex_flow": null,
            "grid_area": null,
            "grid_auto_columns": null,
            "grid_auto_flow": null,
            "grid_auto_rows": null,
            "grid_column": null,
            "grid_gap": null,
            "grid_row": null,
            "grid_template_areas": null,
            "grid_template_columns": null,
            "grid_template_rows": null,
            "height": null,
            "justify_content": null,
            "justify_items": null,
            "left": null,
            "margin": null,
            "max_height": null,
            "max_width": null,
            "min_height": null,
            "min_width": null,
            "object_fit": null,
            "object_position": null,
            "order": null,
            "overflow": null,
            "overflow_x": null,
            "overflow_y": null,
            "padding": null,
            "right": null,
            "top": null,
            "visibility": null,
            "width": null
          }
        },
        "0fb8ad37210f46db810ac959d8c90bc0": {
          "model_module": "@jupyter-widgets/controls",
          "model_name": "ProgressStyleModel",
          "model_module_version": "1.5.0",
          "state": {
            "_model_module": "@jupyter-widgets/controls",
            "_model_module_version": "1.5.0",
            "_model_name": "ProgressStyleModel",
            "_view_count": null,
            "_view_module": "@jupyter-widgets/base",
            "_view_module_version": "1.2.0",
            "_view_name": "StyleView",
            "bar_color": null,
            "description_width": ""
          }
        },
        "770d0f03a6b04c37a807ee586e1f2ed0": {
          "model_module": "@jupyter-widgets/base",
          "model_name": "LayoutModel",
          "model_module_version": "1.2.0",
          "state": {
            "_model_module": "@jupyter-widgets/base",
            "_model_module_version": "1.2.0",
            "_model_name": "LayoutModel",
            "_view_count": null,
            "_view_module": "@jupyter-widgets/base",
            "_view_module_version": "1.2.0",
            "_view_name": "LayoutView",
            "align_content": null,
            "align_items": null,
            "align_self": null,
            "border": null,
            "bottom": null,
            "display": null,
            "flex": null,
            "flex_flow": null,
            "grid_area": null,
            "grid_auto_columns": null,
            "grid_auto_flow": null,
            "grid_auto_rows": null,
            "grid_column": null,
            "grid_gap": null,
            "grid_row": null,
            "grid_template_areas": null,
            "grid_template_columns": null,
            "grid_template_rows": null,
            "height": null,
            "justify_content": null,
            "justify_items": null,
            "left": null,
            "margin": null,
            "max_height": null,
            "max_width": null,
            "min_height": null,
            "min_width": null,
            "object_fit": null,
            "object_position": null,
            "order": null,
            "overflow": null,
            "overflow_x": null,
            "overflow_y": null,
            "padding": null,
            "right": null,
            "top": null,
            "visibility": null,
            "width": null
          }
        },
        "34c6eff3d8174b8c8b73a95f8ea3d5fc": {
          "model_module": "@jupyter-widgets/controls",
          "model_name": "DescriptionStyleModel",
          "model_module_version": "1.5.0",
          "state": {
            "_model_module": "@jupyter-widgets/controls",
            "_model_module_version": "1.5.0",
            "_model_name": "DescriptionStyleModel",
            "_view_count": null,
            "_view_module": "@jupyter-widgets/base",
            "_view_module_version": "1.2.0",
            "_view_name": "StyleView",
            "description_width": ""
          }
        }
      }
    }
  },
  "nbformat": 4,
  "nbformat_minor": 0
}