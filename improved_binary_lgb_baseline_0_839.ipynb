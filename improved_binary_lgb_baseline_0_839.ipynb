{
  "cells": [
    {
      "cell_type": "markdown",
      "metadata": {
        "id": "view-in-github",
        "colab_type": "text"
      },
      "source": [
        "<a href=\"https://colab.research.google.com/github/aruaru0/Foursquare-Location-Matching/blob/main/improved_binary_lgb_baseline_0_839.ipynb\" target=\"_parent\"><img src=\"https://colab.research.google.com/assets/colab-badge.svg\" alt=\"Open In Colab\"/></a>"
      ]
    },
    {
      "cell_type": "markdown",
      "source": [
        "# for colab"
      ],
      "metadata": {
        "id": "VApm6J_51Ov9"
      },
      "id": "VApm6J_51Ov9"
    },
    {
      "cell_type": "code",
      "source": [
        "from google.colab import drive\n",
        "drive.mount('/content/drive')"
      ],
      "metadata": {
        "colab": {
          "base_uri": "https://localhost:8080/"
        },
        "id": "7_2meDJ11QpC",
        "outputId": "c964c6d1-e5be-4043-a76b-3d0c460f56e3"
      },
      "id": "7_2meDJ11QpC",
      "execution_count": 1,
      "outputs": [
        {
          "output_type": "stream",
          "name": "stdout",
          "text": [
            "Mounted at /content/drive\n"
          ]
        }
      ]
    },
    {
      "cell_type": "code",
      "source": [
        "!mkdir -p ~/.kaggle\n",
        "!cp /content/drive/MyDrive/datas/kaggle.json  ~/.kaggle/\n",
        "!chmod 600 /root/.kaggle/kaggle.json"
      ],
      "metadata": {
        "id": "CPWku_v31QmI"
      },
      "id": "CPWku_v31QmI",
      "execution_count": 2,
      "outputs": []
    },
    {
      "cell_type": "code",
      "source": [
        "!pip install kaggle\n",
        "!apt install unzip"
      ],
      "metadata": {
        "colab": {
          "base_uri": "https://localhost:8080/"
        },
        "id": "ql2fOqy61QjW",
        "outputId": "875ba91f-f5b3-4653-f537-9f8efe203472"
      },
      "id": "ql2fOqy61QjW",
      "execution_count": 3,
      "outputs": [
        {
          "output_type": "stream",
          "name": "stdout",
          "text": [
            "Looking in indexes: https://pypi.org/simple, https://us-python.pkg.dev/colab-wheels/public/simple/\n",
            "Requirement already satisfied: kaggle in /usr/local/lib/python3.7/dist-packages (1.5.12)\n",
            "Requirement already satisfied: python-slugify in /usr/local/lib/python3.7/dist-packages (from kaggle) (6.1.2)\n",
            "Requirement already satisfied: tqdm in /usr/local/lib/python3.7/dist-packages (from kaggle) (4.64.0)\n",
            "Requirement already satisfied: python-dateutil in /usr/local/lib/python3.7/dist-packages (from kaggle) (2.8.2)\n",
            "Requirement already satisfied: requests in /usr/local/lib/python3.7/dist-packages (from kaggle) (2.23.0)\n",
            "Requirement already satisfied: certifi in /usr/local/lib/python3.7/dist-packages (from kaggle) (2022.5.18.1)\n",
            "Requirement already satisfied: six>=1.10 in /usr/local/lib/python3.7/dist-packages (from kaggle) (1.15.0)\n",
            "Requirement already satisfied: urllib3 in /usr/local/lib/python3.7/dist-packages (from kaggle) (1.24.3)\n",
            "Requirement already satisfied: text-unidecode>=1.3 in /usr/local/lib/python3.7/dist-packages (from python-slugify->kaggle) (1.3)\n",
            "Requirement already satisfied: chardet<4,>=3.0.2 in /usr/local/lib/python3.7/dist-packages (from requests->kaggle) (3.0.4)\n",
            "Requirement already satisfied: idna<3,>=2.5 in /usr/local/lib/python3.7/dist-packages (from requests->kaggle) (2.10)\n",
            "Reading package lists... Done\n",
            "Building dependency tree       \n",
            "Reading state information... Done\n",
            "unzip is already the newest version (6.0-21ubuntu1.1).\n",
            "The following package was automatically installed and is no longer required:\n",
            "  libnvidia-common-460\n",
            "Use 'apt autoremove' to remove it.\n",
            "0 upgraded, 0 newly installed, 0 to remove and 45 not upgraded.\n"
          ]
        }
      ]
    },
    {
      "cell_type": "code",
      "source": [
        "!mkdir input output"
      ],
      "metadata": {
        "id": "GvGvvP_P1Qgg"
      },
      "id": "GvGvvP_P1Qgg",
      "execution_count": 4,
      "outputs": []
    },
    {
      "cell_type": "code",
      "source": [
        "!kaggle competitions download -c foursquare-location-matching\n",
        "!unzip foursquare-location-matching.zip -d input/foursquare-location-matching"
      ],
      "metadata": {
        "colab": {
          "base_uri": "https://localhost:8080/"
        },
        "id": "PIe1nZ0-1QY1",
        "outputId": "1be4de0c-5df6-4b38-a177-352f07eae7c5"
      },
      "id": "PIe1nZ0-1QY1",
      "execution_count": 5,
      "outputs": [
        {
          "output_type": "stream",
          "name": "stdout",
          "text": [
            "Downloading foursquare-location-matching.zip to /content\n",
            " 95% 151M/159M [00:02<00:00, 61.7MB/s]\n",
            "100% 159M/159M [00:02<00:00, 56.3MB/s]\n",
            "Archive:  foursquare-location-matching.zip\n",
            "  inflating: input/foursquare-location-matching/pairs.csv  \n",
            "  inflating: input/foursquare-location-matching/sample_submission.csv  \n",
            "  inflating: input/foursquare-location-matching/test.csv  \n",
            "  inflating: input/foursquare-location-matching/train.csv  \n"
          ]
        }
      ]
    },
    {
      "cell_type": "code",
      "source": [
        "!kaggle datasets download -d guoyonfan/binary-lgb-baseline\n",
        "!unzip /content/binary-lgb-baseline.zip -d input/binary-lgb-baseline"
      ],
      "metadata": {
        "colab": {
          "base_uri": "https://localhost:8080/"
        },
        "id": "MvjTvHFc1QWX",
        "outputId": "759b8031-27d5-46fd-e5d4-b92a873776c4"
      },
      "id": "MvjTvHFc1QWX",
      "execution_count": 6,
      "outputs": [
        {
          "output_type": "stream",
          "name": "stdout",
          "text": [
            "Downloading binary-lgb-baseline.zip to /content\n",
            "\r  0% 0.00/3.90M [00:00<?, ?B/s]\n",
            "\r100% 3.90M/3.90M [00:00<00:00, 45.4MB/s]\n"
          ]
        }
      ]
    },
    {
      "cell_type": "code",
      "source": [
        ""
      ],
      "metadata": {
        "colab": {
          "base_uri": "https://localhost:8080/"
        },
        "id": "DdULjJBJ1QRy",
        "outputId": "23e559f1-b539-4e6f-a664-38a691077502"
      },
      "id": "DdULjJBJ1QRy",
      "execution_count": 7,
      "outputs": [
        {
          "output_type": "stream",
          "name": "stdout",
          "text": [
            "Archive:  /content/binary-lgb-baseline.zip\n",
            "  inflating: input/binary-lgb-baseline/improved_lgb_baseline.lgb  \n",
            "  inflating: input/binary-lgb-baseline/lgb_baseline.lgb  \n"
          ]
        }
      ]
    },
    {
      "cell_type": "code",
      "source": [
        "!pip install Levenshtein"
      ],
      "metadata": {
        "colab": {
          "base_uri": "https://localhost:8080/"
        },
        "id": "qV79fkLz1QIe",
        "outputId": "6a49fe93-e348-481b-9652-e2158f61e29b"
      },
      "id": "qV79fkLz1QIe",
      "execution_count": 9,
      "outputs": [
        {
          "output_type": "stream",
          "name": "stdout",
          "text": [
            "Looking in indexes: https://pypi.org/simple, https://us-python.pkg.dev/colab-wheels/public/simple/\n",
            "Collecting Levenshtein\n",
            "  Downloading Levenshtein-0.18.1-cp37-cp37m-manylinux_2_17_x86_64.manylinux2014_x86_64.whl (258 kB)\n",
            "\u001b[K     |████████████████████████████████| 258 kB 7.3 MB/s \n",
            "\u001b[?25hCollecting rapidfuzz<3.0.0,>=2.0.1\n",
            "  Downloading rapidfuzz-2.0.11-cp37-cp37m-manylinux_2_17_x86_64.manylinux2014_x86_64.whl (1.8 MB)\n",
            "\u001b[K     |████████████████████████████████| 1.8 MB 48.3 MB/s \n",
            "\u001b[?25hCollecting jarowinkler<1.1.0,>=1.0.2\n",
            "  Downloading jarowinkler-1.0.2-cp37-cp37m-manylinux_2_17_x86_64.manylinux2014_x86_64.whl (103 kB)\n",
            "\u001b[K     |████████████████████████████████| 103 kB 48.1 MB/s \n",
            "\u001b[?25hInstalling collected packages: jarowinkler, rapidfuzz, Levenshtein\n",
            "Successfully installed Levenshtein-0.18.1 jarowinkler-1.0.2 rapidfuzz-2.0.11\n"
          ]
        }
      ]
    },
    {
      "cell_type": "markdown",
      "source": [
        "# change directory"
      ],
      "metadata": {
        "id": "MeRu6Kqt2OM1"
      },
      "id": "MeRu6Kqt2OM1"
    },
    {
      "cell_type": "code",
      "source": [
        "%cd /content/output"
      ],
      "metadata": {
        "colab": {
          "base_uri": "https://localhost:8080/"
        },
        "id": "dNY2FdNS2Rbf",
        "outputId": "61892ae9-d83f-41e9-f81c-493b691ac77e"
      },
      "id": "dNY2FdNS2Rbf",
      "execution_count": 10,
      "outputs": [
        {
          "output_type": "stream",
          "name": "stdout",
          "text": [
            "/content/output\n"
          ]
        }
      ]
    },
    {
      "cell_type": "markdown",
      "id": "7d2a768d",
      "metadata": {
        "papermill": {
          "duration": 0.012822,
          "end_time": "2022-06-02T05:11:22.913530",
          "exception": false,
          "start_time": "2022-06-02T05:11:22.900708",
          "status": "completed"
        },
        "tags": [],
        "id": "7d2a768d"
      },
      "source": [
        "### This notebook is the improved version of [binary_lgb_baseline](https://www.kaggle.com/code/guoyonfan/binary-lgb-baseline-0-834), and mainly benefits from the [simple_recall_method](https://www.kaggle.com/code/guoyonfan/simple-recall-method). This notebook improves the LB score of the binary_lgb_baseline from 0.834 to 0.839.\n",
        "\n",
        "### If you find these notebooks useful, please UPVOTE!"
      ]
    },
    {
      "cell_type": "code",
      "execution_count": 11,
      "id": "6dfd2ab5",
      "metadata": {
        "execution": {
          "iopub.execute_input": "2022-06-02T05:11:22.939165Z",
          "iopub.status.busy": "2022-06-02T05:11:22.938424Z",
          "iopub.status.idle": "2022-06-02T05:11:25.309836Z",
          "shell.execute_reply": "2022-06-02T05:11:25.309025Z"
        },
        "papermill": {
          "duration": 2.386788,
          "end_time": "2022-06-02T05:11:25.312190",
          "exception": false,
          "start_time": "2022-06-02T05:11:22.925402",
          "status": "completed"
        },
        "tags": [],
        "id": "6dfd2ab5"
      },
      "outputs": [],
      "source": [
        "## Imports\n",
        "import warnings\n",
        "warnings.filterwarnings('ignore')\n",
        "\n",
        "import os\n",
        "import gc\n",
        "import time\n",
        "import random\n",
        "import Levenshtein\n",
        "import difflib\n",
        "import multiprocessing\n",
        "import pandas as pd\n",
        "import numpy as np\n",
        "import lightgbm as lgb\n",
        "from collections import Counter\n",
        "from tqdm.auto import tqdm\n",
        "from sklearn.neighbors import KNeighborsRegressor\n",
        "from sklearn.feature_extraction.text import TfidfVectorizer\n",
        "from sklearn.neighbors import NearestNeighbors"
      ]
    },
    {
      "cell_type": "code",
      "execution_count": 12,
      "id": "1dcd5a81",
      "metadata": {
        "execution": {
          "iopub.execute_input": "2022-06-02T05:11:25.340664Z",
          "iopub.status.busy": "2022-06-02T05:11:25.340116Z",
          "iopub.status.idle": "2022-06-02T05:11:25.347351Z",
          "shell.execute_reply": "2022-06-02T05:11:25.346692Z"
        },
        "papermill": {
          "duration": 0.023144,
          "end_time": "2022-06-02T05:11:25.349384",
          "exception": false,
          "start_time": "2022-06-02T05:11:25.326240",
          "status": "completed"
        },
        "tags": [],
        "id": "1dcd5a81"
      },
      "outputs": [],
      "source": [
        "TRAIN_FEATURES = ['kdist',\n",
        "                'kneighbors',\n",
        "                'kdist_country',\n",
        "                'kneighbors_country',\n",
        "                'latdiff',\n",
        "                'londiff',\n",
        "                'manhattan',\n",
        "                'euclidean',\n",
        "                'haversine',\n",
        "                'name_sim',\n",
        "                'name_gesh',\n",
        "                'name_leven',\n",
        "                'name_jaro',\n",
        "                'name_lcs',\n",
        "                'name_len_diff',\n",
        "                'name_nleven',\n",
        "                'name_nlcsk',\n",
        "                'name_nlcs',\n",
        "                'address_sim',\n",
        "                'address_gesh',\n",
        "                'address_leven',\n",
        "                'address_jaro',\n",
        "                'address_lcs',\n",
        "                'address_len_diff',\n",
        "                'address_nleven',\n",
        "                'address_nlcsk',\n",
        "                'address_nlcs',\n",
        "                'city_gesh',\n",
        "                'city_leven',\n",
        "                'city_jaro',\n",
        "                'city_lcs',\n",
        "                'city_len_diff',\n",
        "                'city_nleven',\n",
        "                'city_nlcsk',\n",
        "                'city_nlcs',\n",
        "                'state_sim',\n",
        "                'state_gesh',\n",
        "                'state_leven',\n",
        "                'state_jaro',\n",
        "                'state_lcs',\n",
        "                'state_len_diff',\n",
        "                'state_nleven',\n",
        "                'state_nlcsk',\n",
        "                'state_nlcs',\n",
        "                'zip_gesh',\n",
        "                'zip_leven',\n",
        "                'zip_jaro',\n",
        "                'zip_lcs',\n",
        "                'url_sim',\n",
        "                'url_gesh',\n",
        "                'url_leven',\n",
        "                'url_jaro',\n",
        "                'url_lcs',\n",
        "                'url_len_diff',\n",
        "                'url_nleven',\n",
        "                'url_nlcsk',\n",
        "                'url_nlcs',\n",
        "                'phone_gesh',\n",
        "                'phone_leven',\n",
        "                'phone_jaro',\n",
        "                'phone_lcs',\n",
        "                'categories_sim',\n",
        "                'categories_gesh',\n",
        "                'categories_leven',\n",
        "                'categories_jaro',\n",
        "                'categories_lcs',\n",
        "                'categories_len_diff',\n",
        "                'categories_nleven',\n",
        "                'categories_nlcsk',\n",
        "                'categories_nlcs',\n",
        "                'country_sim',\n",
        "                'country_gesh',\n",
        "                'country_leven',\n",
        "                'country_nleven',\n",
        "                'kdist_diff',\n",
        "                'kneighbors_mean',]"
      ]
    },
    {
      "cell_type": "code",
      "execution_count": 13,
      "id": "c851cf2a",
      "metadata": {
        "execution": {
          "iopub.execute_input": "2022-06-02T05:11:25.376641Z",
          "iopub.status.busy": "2022-06-02T05:11:25.376215Z",
          "iopub.status.idle": "2022-06-02T05:11:25.381872Z",
          "shell.execute_reply": "2022-06-02T05:11:25.381122Z"
        },
        "papermill": {
          "duration": 0.022226,
          "end_time": "2022-06-02T05:11:25.384337",
          "exception": false,
          "start_time": "2022-06-02T05:11:25.362111",
          "status": "completed"
        },
        "tags": [],
        "id": "c851cf2a"
      },
      "outputs": [],
      "source": [
        "## Parameters\n",
        "NUM_NEIGHBOR = 20\n",
        "SEED = 2022\n",
        "THRESHOLD = 0.5\n",
        "NUM_SPLIT = 10\n",
        "feat_columns = ['dist', 'name', 'address', 'city', \n",
        "            'state', 'zip', 'url', \n",
        "           'phone', 'categories', 'country']\n",
        "vec_columns = ['name', 'categories', 'address', \n",
        "               'state', 'url', 'country']\n",
        "rec_columns = ['name', 'address', 'categories', 'address', 'phone']\n",
        "\n",
        "def seed_everything(seed):\n",
        "    random.seed(seed)\n",
        "    np.random.seed(seed)\n",
        "    os.environ['PYTHONHASHSEED'] = str(seed)\n",
        "    \n",
        "seed_everything(SEED)"
      ]
    },
    {
      "cell_type": "code",
      "execution_count": 14,
      "id": "3cbb9ba2",
      "metadata": {
        "execution": {
          "iopub.execute_input": "2022-06-02T05:11:25.411730Z",
          "iopub.status.busy": "2022-06-02T05:11:25.411327Z",
          "iopub.status.idle": "2022-06-02T05:11:26.243381Z",
          "shell.execute_reply": "2022-06-02T05:11:26.242452Z"
        },
        "papermill": {
          "duration": 0.848221,
          "end_time": "2022-06-02T05:11:26.245862",
          "exception": false,
          "start_time": "2022-06-02T05:11:25.397641",
          "status": "completed"
        },
        "tags": [],
        "id": "3cbb9ba2"
      },
      "outputs": [],
      "source": [
        "%load_ext Cython"
      ]
    },
    {
      "cell_type": "code",
      "execution_count": 15,
      "id": "531381cb",
      "metadata": {
        "execution": {
          "iopub.execute_input": "2022-06-02T05:11:26.272336Z",
          "iopub.status.busy": "2022-06-02T05:11:26.272027Z",
          "iopub.status.idle": "2022-06-02T05:11:27.589670Z",
          "shell.execute_reply": "2022-06-02T05:11:27.588706Z"
        },
        "papermill": {
          "duration": 1.333621,
          "end_time": "2022-06-02T05:11:27.591930",
          "exception": false,
          "start_time": "2022-06-02T05:11:26.258309",
          "status": "completed"
        },
        "tags": [],
        "id": "531381cb"
      },
      "outputs": [],
      "source": [
        "%%cython\n",
        "def LCS(str S, str T):\n",
        "    cdef int i, j\n",
        "    cdef list dp = [[0] * (len(T) + 1) for _ in range(len(S) + 1)]\n",
        "    for i in range(len(S)):\n",
        "        for j in range(len(T)):\n",
        "            dp[i + 1][j + 1] = max(dp[i][j] + (S[i] == T[j]), dp[i + 1][j], dp[i][j + 1], dp[i + 1][j + 1])\n",
        "    return dp[len(S)][len(T)]"
      ]
    },
    {
      "cell_type": "code",
      "execution_count": 16,
      "id": "123fec34",
      "metadata": {
        "execution": {
          "iopub.execute_input": "2022-06-02T05:11:27.618875Z",
          "iopub.status.busy": "2022-06-02T05:11:27.617917Z",
          "iopub.status.idle": "2022-06-02T05:11:27.627975Z",
          "shell.execute_reply": "2022-06-02T05:11:27.627274Z"
        },
        "papermill": {
          "duration": 0.025746,
          "end_time": "2022-06-02T05:11:27.629963",
          "exception": false,
          "start_time": "2022-06-02T05:11:27.604217",
          "status": "completed"
        },
        "tags": [],
        "id": "123fec34"
      },
      "outputs": [],
      "source": [
        "def post_process(df):\n",
        "    id2match = dict(zip(df['id'].values, df['matches'].str.split()))\n",
        "\n",
        "    for base, match in df[['id', 'matches']].values:\n",
        "        match = match.split()\n",
        "        if len(match) == 1:        \n",
        "            continue\n",
        "\n",
        "        for m in match:\n",
        "            if base not in id2match[m]:\n",
        "                id2match[m].append(base)\n",
        "    df['matches'] = df['id'].map(id2match).map(' '.join)\n",
        "    return df \n",
        "\n",
        "# get manhattan distance\n",
        "def manhattan(lat1, long1, lat2, long2):\n",
        "    return np.abs(lat2 - lat1) + np.abs(long2 - long1)\n",
        "\n",
        "# get haversine distance\n",
        "def vectorized_haversine(lats1, lats2, longs1, longs2):\n",
        "    radius = 6371\n",
        "    dlat=np.radians(lats2 - lats1)\n",
        "    dlon=np.radians(longs2 - longs1)\n",
        "    a = np.sin(dlat/2) * np.sin(dlat/2) + np.cos(np.radians(lats1)) \\\n",
        "        * np.cos(np.radians(lats2)) * np.sin(dlon/2) * np.sin(dlon/2)\n",
        "    c = 2 * np.arctan2(np.sqrt(a), np.sqrt(1-a))\n",
        "    d = radius * c\n",
        "    return d"
      ]
    },
    {
      "cell_type": "code",
      "execution_count": 17,
      "id": "77bad08e",
      "metadata": {
        "execution": {
          "iopub.execute_input": "2022-06-02T05:11:27.656775Z",
          "iopub.status.busy": "2022-06-02T05:11:27.656248Z",
          "iopub.status.idle": "2022-06-02T05:11:27.665671Z",
          "shell.execute_reply": "2022-06-02T05:11:27.665052Z"
        },
        "papermill": {
          "duration": 0.025419,
          "end_time": "2022-06-02T05:11:27.667667",
          "exception": false,
          "start_time": "2022-06-02T05:11:27.642248",
          "status": "completed"
        },
        "tags": [],
        "id": "77bad08e"
      },
      "outputs": [],
      "source": [
        "def recall_simple(df):\n",
        "    threshold = 2\n",
        "    \n",
        "    val2id_d = {}\n",
        "    for col in rec_columns:\n",
        "        temp_df = df[['id', col]]\n",
        "        temp_df[col] = temp_df[col].str.lower()\n",
        "        val2id = temp_df.groupby(col)['id'].apply(set).to_dict()\n",
        "        val2id_d[col] = val2id\n",
        "        del val2id\n",
        "    \n",
        "    cus_ids = []\n",
        "    match_ids = []\n",
        "    for vals in tqdm(df[rec_columns + ['id']].fillna('null').values):\n",
        "        cus_id = vals[-1]\n",
        "        match_id = []\n",
        "        \n",
        "        rec_match_count = []\n",
        "        for i in range(len(rec_columns)):\n",
        "            col = rec_columns[i]\n",
        "            \n",
        "            if vals[i] != 'null':\n",
        "                rec_match_count += list(val2id_d[col][vals[i].lower()])\n",
        "        rec_match_count = dict(Counter(rec_match_count))\n",
        "        \n",
        "        for k, v in rec_match_count.items():\n",
        "            if v > threshold:\n",
        "                match_id.append(k)\n",
        "        \n",
        "        cus_ids += [cus_id] * len(match_id)\n",
        "        match_ids += match_id\n",
        "    \n",
        "    train_df = pd.DataFrame()\n",
        "    train_df['id'] = cus_ids\n",
        "    train_df['match_id'] = match_ids\n",
        "    train_df = train_df.drop_duplicates()\n",
        "    del cus_ids, match_ids\n",
        "    \n",
        "    num_data = len(train_df)\n",
        "    num_data_per_id = num_data / train_df['id'].nunique()\n",
        "    print('Num of data: %s' % num_data)\n",
        "    print('Num of data per id: %s' % num_data_per_id)\n",
        "    \n",
        "    return train_df"
      ]
    },
    {
      "cell_type": "code",
      "execution_count": 18,
      "id": "6e65e044",
      "metadata": {
        "execution": {
          "iopub.execute_input": "2022-06-02T05:11:27.693780Z",
          "iopub.status.busy": "2022-06-02T05:11:27.693230Z",
          "iopub.status.idle": "2022-06-02T05:11:27.703893Z",
          "shell.execute_reply": "2022-06-02T05:11:27.703207Z"
        },
        "papermill": {
          "duration": 0.026191,
          "end_time": "2022-06-02T05:11:27.705964",
          "exception": false,
          "start_time": "2022-06-02T05:11:27.679773",
          "status": "completed"
        },
        "tags": [],
        "id": "6e65e044"
      },
      "outputs": [],
      "source": [
        "def recall_knn(df, Neighbors = 10):\n",
        "    print('Start knn grouped by country')\n",
        "    train_df_country = []\n",
        "    for country, country_df in tqdm(df.groupby('country')):\n",
        "        country_df = country_df.reset_index(drop = True)\n",
        "\n",
        "        neighbors = min(len(country_df), Neighbors)\n",
        "        knn = KNeighborsRegressor(n_neighbors = neighbors,\n",
        "                                    metric = 'haversine',\n",
        "                                    n_jobs = -1)\n",
        "        knn.fit(country_df[['latitude','longitude']], country_df.index)\n",
        "        dists, nears = knn.kneighbors(country_df[['latitude', 'longitude']], \n",
        "                                        return_distance = True)\n",
        "\n",
        "        for k in range(neighbors):            \n",
        "            cur_df = country_df[['id']]\n",
        "            cur_df['match_id'] = country_df['id'].values[nears[:, k]]\n",
        "            cur_df['kdist_country'] = dists[:, k]\n",
        "            cur_df['kneighbors_country'] = k\n",
        "            \n",
        "            train_df_country.append(cur_df)\n",
        "    train_df_country = pd.concat(train_df_country)\n",
        "    \n",
        "    print('Start knn')\n",
        "    train_df = []\n",
        "    knn = NearestNeighbors(n_neighbors = Neighbors)\n",
        "    knn.fit(df[['latitude','longitude']], df.index)\n",
        "    dists, nears = knn.kneighbors(df[['latitude','longitude']])\n",
        "    \n",
        "    for k in range(Neighbors):            \n",
        "        cur_df = df[['id']]\n",
        "        cur_df['match_id'] = df['id'].values[nears[:, k]]\n",
        "        cur_df['kdist'] = dists[:, k]\n",
        "        cur_df['kneighbors'] = k\n",
        "        train_df.append(cur_df)\n",
        "    \n",
        "    train_df = pd.concat(train_df)\n",
        "    train_df = train_df.merge(train_df_country,\n",
        "                                 on = ['id', 'match_id'],\n",
        "                                 how = 'outer')\n",
        "    del train_df_country\n",
        "    \n",
        "    return train_df"
      ]
    },
    {
      "cell_type": "code",
      "execution_count": 19,
      "id": "2cf78179",
      "metadata": {
        "execution": {
          "iopub.execute_input": "2022-06-02T05:11:27.732040Z",
          "iopub.status.busy": "2022-06-02T05:11:27.731486Z",
          "iopub.status.idle": "2022-06-02T05:11:27.746869Z",
          "shell.execute_reply": "2022-06-02T05:11:27.746129Z"
        },
        "papermill": {
          "duration": 0.03097,
          "end_time": "2022-06-02T05:11:27.749055",
          "exception": false,
          "start_time": "2022-06-02T05:11:27.718085",
          "status": "completed"
        },
        "tags": [],
        "id": "2cf78179"
      },
      "outputs": [],
      "source": [
        "def add_features(df):    \n",
        "    for col in tqdm(feat_columns):\n",
        "        if col == 'dist':\n",
        "            lat = data.loc[df['id']]['latitude'].values\n",
        "            match_lat = data.loc[df['match_id']]['latitude'].values\n",
        "            lon = data.loc[df['id']]['longitude'].values\n",
        "            match_lon = data.loc[df['match_id']]['longitude'].values\n",
        "            df['latdiff'] = (lat - match_lat)\n",
        "            df['londiff'] = (lon - match_lon)\n",
        "            df['manhattan'] = manhattan(lat, lon, match_lat, match_lon)\n",
        "            df['euclidean'] = (df['latdiff'] ** 2 + df['londiff'] ** 2) ** 0.5\n",
        "            df['haversine'] = vectorized_haversine(lat, match_lat, lon, match_lon)\n",
        "            continue\n",
        "        \n",
        "        col_values = data.loc[df['id']][col].values.astype(str)\n",
        "        matcol_values = data.loc[df['match_id']][col].values.astype(str)\n",
        "        \n",
        "        if col in vec_columns:\n",
        "            tv_fit = tfidf_d[col]\n",
        "            indexs = [id2index_d[i] for i in df['id']]\n",
        "            match_indexs = [id2index_d[i] for i in df['match_id']]                    \n",
        "            df[f'{col}_sim'] = tv_fit[indexs].multiply(tv_fit[match_indexs]).\\\n",
        "                                            sum(axis = 1).A.ravel()\n",
        "        \n",
        "        geshs = []\n",
        "        levens = []\n",
        "        jaros = []\n",
        "        lcss = []\n",
        "        for s, match_s in zip(col_values, matcol_values):\n",
        "            if s != 'nan' and match_s != 'nan':                    \n",
        "                geshs.append(difflib.SequenceMatcher(None, s, match_s).ratio())\n",
        "                levens.append(Levenshtein.distance(s, match_s))\n",
        "                jaros.append(Levenshtein.jaro_winkler(s, match_s))\n",
        "                lcss.append(LCS(str(s), str(match_s)))\n",
        "            else:\n",
        "                geshs.append(np.nan)\n",
        "                levens.append(np.nan)\n",
        "                jaros.append(np.nan)\n",
        "                lcss.append(np.nan)\n",
        "        \n",
        "        df[f'{col}_gesh'] = geshs\n",
        "        df[f'{col}_leven'] = levens\n",
        "        df[f'{col}_jaro'] = jaros\n",
        "        df[f'{col}_lcs'] = lcss\n",
        "        \n",
        "        if col not in ['phone', 'zip']:\n",
        "            df[f'{col}_len'] = list(map(len, col_values))\n",
        "            df[f'match_{col}_len'] = list(map(len, matcol_values)) \n",
        "            df[f'{col}_len_diff'] = np.abs(df[f'{col}_len'] - df[f'match_{col}_len']) /\\\n",
        "                                        df[f'{col}_len'] \n",
        "            df[f'{col}_nleven'] = df[f'{col}_leven'] / \\\n",
        "                                    df[[f'{col}_len', f'match_{col}_len']].max(axis = 1)\n",
        "            \n",
        "            df[f'{col}_nlcsk'] = df[f'{col}_lcs'] / df[f'match_{col}_len']\n",
        "            df[f'{col}_nlcs'] = df[f'{col}_lcs'] / df[f'{col}_len']\n",
        "            \n",
        "            df = df.drop(f'{col}_len', axis = 1)\n",
        "            df = df.drop(f'match_{col}_len', axis = 1)\n",
        "            gc.collect()\n",
        "            \n",
        "    return df"
      ]
    },
    {
      "cell_type": "code",
      "execution_count": 20,
      "id": "e21d755e",
      "metadata": {
        "execution": {
          "iopub.execute_input": "2022-06-02T05:11:27.775748Z",
          "iopub.status.busy": "2022-06-02T05:11:27.775209Z",
          "iopub.status.idle": "2022-06-02T05:11:31.813177Z",
          "shell.execute_reply": "2022-06-02T05:11:31.812003Z"
        },
        "papermill": {
          "duration": 4.053679,
          "end_time": "2022-06-02T05:11:31.815438",
          "exception": false,
          "start_time": "2022-06-02T05:11:27.761759",
          "status": "completed"
        },
        "tags": [],
        "colab": {
          "base_uri": "https://localhost:8080/",
          "height": 444,
          "referenced_widgets": [
            "bed45f5470ac4aca9137b9e6de776882",
            "da4451dfd7e34a098245977609edec40",
            "65d4b688bf0445e39944bca98b68e002",
            "891eb0f992044d249f603ba88fd4c10d",
            "2b1fb3fefa57449c9b2f92ce52e6b72b",
            "fdd8097e6a084716a04ed2e0452ec591",
            "8b2128f0a2eb4d368ffc1f12345c526c",
            "48a72bdfec0a492791a43cb0db281ad7",
            "e40257a622d04fca9cb282967369931f",
            "61f8970d7a5a4710bf9cf40709c43bc2",
            "fd760abbbfd247d2b7fb609f813773e5",
            "db2e438762f24eabafbcfac074de497d",
            "e9504d95761c4eb6a5da0c56ac890b59",
            "b410b928cf32489c965a64fea90e2697",
            "36a45427374b4620a18eb32329878b64",
            "c98df0a495fd49f2b939c9eb3c8bf03d",
            "ecad055c7ccc472cb7d812ac8fca86cb",
            "dd550157cfe94886bb2af18660dd43d7",
            "45e0bdc9c4f94ea98869565526c5d5a7",
            "bbb530ed3e9d466b8d7092ee2f50e9f0",
            "e5faef0c1325491c933ded395eb19595",
            "76226a62b3af413ba364b66f434facfc"
          ]
        },
        "id": "e21d755e",
        "outputId": "0dd5971e-0f71-48f2-bded-e944a2947d44"
      },
      "outputs": [
        {
          "output_type": "display_data",
          "data": {
            "text/plain": [
              "  0%|          | 0/100 [00:00<?, ?it/s]"
            ],
            "application/vnd.jupyter.widget-view+json": {
              "version_major": 2,
              "version_minor": 0,
              "model_id": "bed45f5470ac4aca9137b9e6de776882"
            }
          },
          "metadata": {}
        },
        {
          "output_type": "stream",
          "name": "stdout",
          "text": [
            "Num of data: 70\n",
            "Num of data per id: 1.0\n",
            "Start knn grouped by country\n"
          ]
        },
        {
          "output_type": "display_data",
          "data": {
            "text/plain": [
              "  0%|          | 0/32 [00:00<?, ?it/s]"
            ],
            "application/vnd.jupyter.widget-view+json": {
              "version_major": 2,
              "version_minor": 0,
              "model_id": "db2e438762f24eabafbcfac074de497d"
            }
          },
          "metadata": {}
        },
        {
          "output_type": "stream",
          "name": "stdout",
          "text": [
            "Start knn\n",
            "train data by knn: 2167\n",
            "Num of unique id: 100\n",
            "Num of test data: 2167\n",
            "                    id          match_id      kdist  kneighbors  \\\n",
            "1867  E_00045931e0bb56  E_000641a9bc89cf  16.073951        18.0   \n",
            "1296  E_00063a791601cc  E_000610912e6c85  14.179003        12.0   \n",
            "177   E_0004df74e86f9b  E_000447490ccd7d   0.410916         1.0   \n",
            "2156  E_00011cca3f0bd6  E_00023aca352f63        NaN         NaN   \n",
            "629   E_00021310ea7a71  E_0004d7b2919f69   5.396161         6.0   \n",
            "\n",
            "      kdist_country  kneighbors_country  \n",
            "1867       2.617209                19.0  \n",
            "1296            NaN                 NaN  \n",
            "177        0.342056                 1.0  \n",
            "2156       2.514569                18.0  \n",
            "629             NaN                 NaN  \n"
          ]
        }
      ],
      "source": [
        "## Dada process\n",
        "data = pd.read_csv('../input/foursquare-location-matching/test.csv')\n",
        "\n",
        "if len(data) < 20:\n",
        "    data = pd.read_csv('../input/foursquare-location-matching/train.csv',\n",
        "                      nrows = 100)\n",
        "    data = data.drop('point_of_interest', axis = 1)\n",
        "\n",
        "# special process\n",
        "def get_lower(x):\n",
        "    try:\n",
        "        return x.lower()\n",
        "    except:\n",
        "        return x\n",
        "\n",
        "for col in data.columns:\n",
        "    if data[col].dtype == object and col != 'id':\n",
        "        data[col] = data[col].apply(get_lower)\n",
        "        \n",
        "id2index_d = dict(zip(data['id'].values, data.index))\n",
        "\n",
        "tfidf_d = {}\n",
        "for col in vec_columns:\n",
        "    tfidf = TfidfVectorizer()\n",
        "    tv_fit = tfidf.fit_transform(data[col].fillna('nan'))\n",
        "    tfidf_d[col] = tv_fit\n",
        "\n",
        "out_df = pd.DataFrame()\n",
        "out_df['id'] = data['id'].unique().tolist()\n",
        "out_df['match_id'] = out_df['id']\n",
        "\n",
        "test_data_simple = recall_simple(data)\n",
        "test_data = recall_knn(data, NUM_NEIGHBOR)\n",
        "\n",
        "print('train data by knn: %s' % len(test_data))\n",
        "test_data = test_data.merge(test_data_simple,\n",
        "                             on = ['id', 'match_id'],\n",
        "                             how = 'outer')\n",
        "del test_data_simple\n",
        "gc.collect()\n",
        "\n",
        "data = data.set_index('id')\n",
        "print('Num of unique id: %s' % test_data['id'].nunique())\n",
        "print('Num of test data: %s' % len(test_data))\n",
        "print(test_data.sample(5))"
      ]
    },
    {
      "cell_type": "code",
      "source": [
        "test_data.head()"
      ],
      "metadata": {
        "colab": {
          "base_uri": "https://localhost:8080/",
          "height": 206
        },
        "id": "7RNmu5CO2rcl",
        "outputId": "d074db33-6272-4d14-904a-a6dc991979c7"
      },
      "id": "7RNmu5CO2rcl",
      "execution_count": 24,
      "outputs": [
        {
          "output_type": "execute_result",
          "data": {
            "text/plain": [
              "                 id          match_id  kdist  kneighbors  kdist_country  \\\n",
              "0  E_000001272c6c5d  E_000001272c6c5d    0.0         0.0            0.0   \n",
              "1  E_000002eae2a589  E_000002eae2a589    0.0         0.0            0.0   \n",
              "2  E_000007f24ebc95  E_000007f24ebc95    0.0         0.0            0.0   \n",
              "3  E_000008a8ba4f48  E_000008a8ba4f48    0.0         0.0            0.0   \n",
              "4  E_00001d92066153  E_00001d92066153    0.0         0.0            0.0   \n",
              "\n",
              "   kneighbors_country  \n",
              "0                 0.0  \n",
              "1                 0.0  \n",
              "2                 0.0  \n",
              "3                 0.0  \n",
              "4                 0.0  "
            ],
            "text/html": [
              "\n",
              "  <div id=\"df-007a2519-3504-428a-92f2-dceae74eaa9d\">\n",
              "    <div class=\"colab-df-container\">\n",
              "      <div>\n",
              "<style scoped>\n",
              "    .dataframe tbody tr th:only-of-type {\n",
              "        vertical-align: middle;\n",
              "    }\n",
              "\n",
              "    .dataframe tbody tr th {\n",
              "        vertical-align: top;\n",
              "    }\n",
              "\n",
              "    .dataframe thead th {\n",
              "        text-align: right;\n",
              "    }\n",
              "</style>\n",
              "<table border=\"1\" class=\"dataframe\">\n",
              "  <thead>\n",
              "    <tr style=\"text-align: right;\">\n",
              "      <th></th>\n",
              "      <th>id</th>\n",
              "      <th>match_id</th>\n",
              "      <th>kdist</th>\n",
              "      <th>kneighbors</th>\n",
              "      <th>kdist_country</th>\n",
              "      <th>kneighbors_country</th>\n",
              "    </tr>\n",
              "  </thead>\n",
              "  <tbody>\n",
              "    <tr>\n",
              "      <th>0</th>\n",
              "      <td>E_000001272c6c5d</td>\n",
              "      <td>E_000001272c6c5d</td>\n",
              "      <td>0.0</td>\n",
              "      <td>0.0</td>\n",
              "      <td>0.0</td>\n",
              "      <td>0.0</td>\n",
              "    </tr>\n",
              "    <tr>\n",
              "      <th>1</th>\n",
              "      <td>E_000002eae2a589</td>\n",
              "      <td>E_000002eae2a589</td>\n",
              "      <td>0.0</td>\n",
              "      <td>0.0</td>\n",
              "      <td>0.0</td>\n",
              "      <td>0.0</td>\n",
              "    </tr>\n",
              "    <tr>\n",
              "      <th>2</th>\n",
              "      <td>E_000007f24ebc95</td>\n",
              "      <td>E_000007f24ebc95</td>\n",
              "      <td>0.0</td>\n",
              "      <td>0.0</td>\n",
              "      <td>0.0</td>\n",
              "      <td>0.0</td>\n",
              "    </tr>\n",
              "    <tr>\n",
              "      <th>3</th>\n",
              "      <td>E_000008a8ba4f48</td>\n",
              "      <td>E_000008a8ba4f48</td>\n",
              "      <td>0.0</td>\n",
              "      <td>0.0</td>\n",
              "      <td>0.0</td>\n",
              "      <td>0.0</td>\n",
              "    </tr>\n",
              "    <tr>\n",
              "      <th>4</th>\n",
              "      <td>E_00001d92066153</td>\n",
              "      <td>E_00001d92066153</td>\n",
              "      <td>0.0</td>\n",
              "      <td>0.0</td>\n",
              "      <td>0.0</td>\n",
              "      <td>0.0</td>\n",
              "    </tr>\n",
              "  </tbody>\n",
              "</table>\n",
              "</div>\n",
              "      <button class=\"colab-df-convert\" onclick=\"convertToInteractive('df-007a2519-3504-428a-92f2-dceae74eaa9d')\"\n",
              "              title=\"Convert this dataframe to an interactive table.\"\n",
              "              style=\"display:none;\">\n",
              "        \n",
              "  <svg xmlns=\"http://www.w3.org/2000/svg\" height=\"24px\"viewBox=\"0 0 24 24\"\n",
              "       width=\"24px\">\n",
              "    <path d=\"M0 0h24v24H0V0z\" fill=\"none\"/>\n",
              "    <path d=\"M18.56 5.44l.94 2.06.94-2.06 2.06-.94-2.06-.94-.94-2.06-.94 2.06-2.06.94zm-11 1L8.5 8.5l.94-2.06 2.06-.94-2.06-.94L8.5 2.5l-.94 2.06-2.06.94zm10 10l.94 2.06.94-2.06 2.06-.94-2.06-.94-.94-2.06-.94 2.06-2.06.94z\"/><path d=\"M17.41 7.96l-1.37-1.37c-.4-.4-.92-.59-1.43-.59-.52 0-1.04.2-1.43.59L10.3 9.45l-7.72 7.72c-.78.78-.78 2.05 0 2.83L4 21.41c.39.39.9.59 1.41.59.51 0 1.02-.2 1.41-.59l7.78-7.78 2.81-2.81c.8-.78.8-2.07 0-2.86zM5.41 20L4 18.59l7.72-7.72 1.47 1.35L5.41 20z\"/>\n",
              "  </svg>\n",
              "      </button>\n",
              "      \n",
              "  <style>\n",
              "    .colab-df-container {\n",
              "      display:flex;\n",
              "      flex-wrap:wrap;\n",
              "      gap: 12px;\n",
              "    }\n",
              "\n",
              "    .colab-df-convert {\n",
              "      background-color: #E8F0FE;\n",
              "      border: none;\n",
              "      border-radius: 50%;\n",
              "      cursor: pointer;\n",
              "      display: none;\n",
              "      fill: #1967D2;\n",
              "      height: 32px;\n",
              "      padding: 0 0 0 0;\n",
              "      width: 32px;\n",
              "    }\n",
              "\n",
              "    .colab-df-convert:hover {\n",
              "      background-color: #E2EBFA;\n",
              "      box-shadow: 0px 1px 2px rgba(60, 64, 67, 0.3), 0px 1px 3px 1px rgba(60, 64, 67, 0.15);\n",
              "      fill: #174EA6;\n",
              "    }\n",
              "\n",
              "    [theme=dark] .colab-df-convert {\n",
              "      background-color: #3B4455;\n",
              "      fill: #D2E3FC;\n",
              "    }\n",
              "\n",
              "    [theme=dark] .colab-df-convert:hover {\n",
              "      background-color: #434B5C;\n",
              "      box-shadow: 0px 1px 3px 1px rgba(0, 0, 0, 0.15);\n",
              "      filter: drop-shadow(0px 1px 2px rgba(0, 0, 0, 0.3));\n",
              "      fill: #FFFFFF;\n",
              "    }\n",
              "  </style>\n",
              "\n",
              "      <script>\n",
              "        const buttonEl =\n",
              "          document.querySelector('#df-007a2519-3504-428a-92f2-dceae74eaa9d button.colab-df-convert');\n",
              "        buttonEl.style.display =\n",
              "          google.colab.kernel.accessAllowed ? 'block' : 'none';\n",
              "\n",
              "        async function convertToInteractive(key) {\n",
              "          const element = document.querySelector('#df-007a2519-3504-428a-92f2-dceae74eaa9d');\n",
              "          const dataTable =\n",
              "            await google.colab.kernel.invokeFunction('convertToInteractive',\n",
              "                                                     [key], {});\n",
              "          if (!dataTable) return;\n",
              "\n",
              "          const docLinkHtml = 'Like what you see? Visit the ' +\n",
              "            '<a target=\"_blank\" href=https://colab.research.google.com/notebooks/data_table.ipynb>data table notebook</a>'\n",
              "            + ' to learn more about interactive tables.';\n",
              "          element.innerHTML = '';\n",
              "          dataTable['output_type'] = 'display_data';\n",
              "          await google.colab.output.renderOutput(dataTable, element);\n",
              "          const docLink = document.createElement('div');\n",
              "          docLink.innerHTML = docLinkHtml;\n",
              "          element.appendChild(docLink);\n",
              "        }\n",
              "      </script>\n",
              "    </div>\n",
              "  </div>\n",
              "  "
            ]
          },
          "metadata": {},
          "execution_count": 24
        }
      ]
    },
    {
      "cell_type": "code",
      "execution_count": 21,
      "id": "8a3804e2",
      "metadata": {
        "execution": {
          "iopub.execute_input": "2022-06-02T05:11:31.845265Z",
          "iopub.status.busy": "2022-06-02T05:11:31.844636Z",
          "iopub.status.idle": "2022-06-02T05:11:32.001737Z",
          "shell.execute_reply": "2022-06-02T05:11:32.000917Z"
        },
        "papermill": {
          "duration": 0.17436,
          "end_time": "2022-06-02T05:11:32.003923",
          "exception": false,
          "start_time": "2022-06-02T05:11:31.829563",
          "status": "completed"
        },
        "tags": [],
        "id": "8a3804e2"
      },
      "outputs": [],
      "source": [
        "## Model load\n",
        "lgb_model_path = '../input/binary-lgb-baseline/improved_lgb_baseline.lgb'\n",
        "lgb_model = lgb.Booster(model_file = lgb_model_path)"
      ]
    },
    {
      "cell_type": "code",
      "execution_count": 28,
      "id": "f7ffc8b5",
      "metadata": {
        "execution": {
          "iopub.execute_input": "2022-06-02T05:11:32.034587Z",
          "iopub.status.busy": "2022-06-02T05:11:32.033892Z",
          "iopub.status.idle": "2022-06-02T05:11:44.192035Z",
          "shell.execute_reply": "2022-06-02T05:11:44.191319Z"
        },
        "papermill": {
          "duration": 12.176107,
          "end_time": "2022-06-02T05:11:44.194503",
          "exception": false,
          "start_time": "2022-06-02T05:11:32.018396",
          "status": "completed"
        },
        "tags": [],
        "colab": {
          "base_uri": "https://localhost:8080/",
          "height": 1000,
          "referenced_widgets": [
            "d690629af76e43068ec73847f8b43b17",
            "61c1c74c96184c20885425e62f623da8",
            "67be1825fa64484eb5871c4c284fb720",
            "d08962b77542494db00877147e237efc",
            "57e1b3f089c9425292806d531725d4e5",
            "d1fc48837b88490daddde5f85f090bf7",
            "48291ac0422147c6bfae27d1030eabd4",
            "fa7070447b434a0e9c7b668349e1a877",
            "c60dad39f0884488a0e97d18f89a763c",
            "1efb73aeb1424e9c9b054e04f2306ec7",
            "4f2025ce659e4884b82ab024c6f78423"
          ]
        },
        "id": "f7ffc8b5",
        "outputId": "4dba7e4d-8844-4984-b19e-fe6d13cb0f02"
      },
      "outputs": [
        {
          "output_type": "stream",
          "name": "stdout",
          "text": [
            "Current split: 1\n",
            "                    id          match_id  kdist  kneighbors  kdist_country  \\\n",
            "0     E_000001272c6c5d  E_000001272c6c5d    0.0         0.0       0.000000   \n",
            "1     E_000002eae2a589  E_000002eae2a589    0.0         0.0       0.000000   \n",
            "2     E_000007f24ebc95  E_000007f24ebc95    0.0         0.0       0.000000   \n",
            "3     E_000008a8ba4f48  E_000008a8ba4f48    0.0         0.0       0.000000   \n",
            "4     E_00001d92066153  E_00001d92066153    0.0         0.0       0.000000   \n",
            "...                ...               ...    ...         ...            ...   \n",
            "2052  E_00007dcd2bb53f  E_00023aca352f63    NaN         NaN       0.827894   \n",
            "2065  E_00007dcd2bb53f  E_00015cd7e0227f    NaN         NaN       0.941354   \n",
            "2096  E_00007dcd2bb53f  E_0005bf4d1354e4    NaN         NaN       1.029394   \n",
            "2119  E_00007dcd2bb53f  E_00064faa02eea8    NaN         NaN       1.453606   \n",
            "2134  E_00007dcd2bb53f  E_0004ea391c9404    NaN         NaN       1.629108   \n",
            "\n",
            "      kneighbors_country  \n",
            "0                    0.0  \n",
            "1                    0.0  \n",
            "2                    0.0  \n",
            "3                    0.0  \n",
            "4                    0.0  \n",
            "...                  ...  \n",
            "2052                 5.0  \n",
            "2065                 7.0  \n",
            "2096                10.0  \n",
            "2119                14.0  \n",
            "2134                16.0  \n",
            "\n",
            "[206 rows x 6 columns]\n"
          ]
        },
        {
          "output_type": "display_data",
          "data": {
            "text/plain": [
              "  0%|          | 0/10 [00:00<?, ?it/s]"
            ],
            "application/vnd.jupyter.widget-view+json": {
              "version_major": 2,
              "version_minor": 0,
              "model_id": "d690629af76e43068ec73847f8b43b17"
            }
          },
          "metadata": {}
        },
        {
          "output_type": "stream",
          "name": "stdout",
          "text": [
            "                    id          match_id  kdist  kneighbors  kdist_country  \\\n",
            "0     E_000001272c6c5d  E_000001272c6c5d    0.0         0.0       0.000000   \n",
            "1     E_000002eae2a589  E_000002eae2a589    0.0         0.0       0.000000   \n",
            "2     E_000007f24ebc95  E_000007f24ebc95    0.0         0.0       0.000000   \n",
            "3     E_000008a8ba4f48  E_000008a8ba4f48    0.0         0.0       0.000000   \n",
            "4     E_00001d92066153  E_00001d92066153    0.0         0.0       0.000000   \n",
            "...                ...               ...    ...         ...            ...   \n",
            "2052  E_00007dcd2bb53f  E_00023aca352f63    NaN         NaN       0.827894   \n",
            "2065  E_00007dcd2bb53f  E_00015cd7e0227f    NaN         NaN       0.941354   \n",
            "2096  E_00007dcd2bb53f  E_0005bf4d1354e4    NaN         NaN       1.029394   \n",
            "2119  E_00007dcd2bb53f  E_00064faa02eea8    NaN         NaN       1.453606   \n",
            "2134  E_00007dcd2bb53f  E_0004ea391c9404    NaN         NaN       1.629108   \n",
            "\n",
            "      kneighbors_country   latdiff    londiff  manhattan  euclidean  ...  \\\n",
            "0                    0.0  0.000000   0.000000   0.000000   0.000000  ...   \n",
            "1                    0.0  0.000000   0.000000   0.000000   0.000000  ...   \n",
            "2                    0.0  0.000000   0.000000   0.000000   0.000000  ...   \n",
            "3                    0.0  0.000000   0.000000   0.000000   0.000000  ...   \n",
            "4                    0.0  0.000000   0.000000   0.000000   0.000000  ...   \n",
            "...                  ...       ...        ...        ...        ...  ...   \n",
            "2052                 5.0 -1.200832 -47.328255  48.529087  47.343487  ...   \n",
            "2065                 7.0  9.614184 -40.675468  50.289652  41.796246  ...   \n",
            "2096                10.0 -1.146089 -45.464840  46.610929  45.479284  ...   \n",
            "2119                14.0 -2.476627 -48.622642  51.099269  48.685676  ...   \n",
            "2134                16.0 -1.819417 -43.177764  44.997181  43.216080  ...   \n",
            "\n",
            "      categories_nlcs  country_sim  country_gesh  country_leven  country_jaro  \\\n",
            "0            1.000000          1.0           1.0              0           1.0   \n",
            "1            1.000000          1.0           1.0              0           1.0   \n",
            "2            1.000000          1.0           1.0              0           1.0   \n",
            "3            1.000000          1.0           1.0              0           1.0   \n",
            "4            1.000000          1.0           1.0              0           1.0   \n",
            "...               ...          ...           ...            ...           ...   \n",
            "2052         0.266667          1.0           1.0              0           1.0   \n",
            "2065         0.266667          1.0           1.0              0           1.0   \n",
            "2096         0.333333          1.0           1.0              0           1.0   \n",
            "2119              NaN          1.0           1.0              0           1.0   \n",
            "2134              NaN          1.0           1.0              0           1.0   \n",
            "\n",
            "      country_lcs  country_len_diff  country_nleven  country_nlcsk  \\\n",
            "0               2               0.0             0.0            1.0   \n",
            "1               2               0.0             0.0            1.0   \n",
            "2               2               0.0             0.0            1.0   \n",
            "3               2               0.0             0.0            1.0   \n",
            "4               2               0.0             0.0            1.0   \n",
            "...           ...               ...             ...            ...   \n",
            "2052            2               0.0             0.0            1.0   \n",
            "2065            2               0.0             0.0            1.0   \n",
            "2096            2               0.0             0.0            1.0   \n",
            "2119            2               0.0             0.0            1.0   \n",
            "2134            2               0.0             0.0            1.0   \n",
            "\n",
            "      country_nlcs  \n",
            "0              1.0  \n",
            "1              1.0  \n",
            "2              1.0  \n",
            "3              1.0  \n",
            "4              1.0  \n",
            "...            ...  \n",
            "2052           1.0  \n",
            "2065           1.0  \n",
            "2096           1.0  \n",
            "2119           1.0  \n",
            "2134           1.0  \n",
            "\n",
            "[206 rows x 81 columns]\n",
            "0\n"
          ]
        }
      ],
      "source": [
        "## Prediction\n",
        "count = 0\n",
        "start_row = 0\n",
        "pred_df = pd.DataFrame()\n",
        "unique_id = test_data['id'].unique().tolist()\n",
        "num_split_id = len(unique_id) // NUM_SPLIT\n",
        "for k in range(1, NUM_SPLIT + 1):\n",
        "    print('Current split: %s' % k)\n",
        "    end_row = start_row + num_split_id\n",
        "    if k < NUM_SPLIT:\n",
        "        cur_id = unique_id[start_row : end_row]\n",
        "        cur_data = test_data[test_data['id'].isin(cur_id)]\n",
        "    else:\n",
        "        cur_id = unique_id[start_row: ]\n",
        "        cur_data = test_data[test_data['id'].isin(cur_id)]\n",
        "    \n",
        "    # add features & model prediction\n",
        "    print(cur_data)\n",
        "    cur_data = add_features(cur_data)\n",
        "    print(cur_data)\n",
        "    break\n",
        "    cur_data['kdist_diff'] = (cur_data['kdist'] - cur_data['kdist_country']) /\\\n",
        "                                cur_data['kdist_country']\n",
        "    cur_data['kneighbors_mean'] = cur_data[['kneighbors', 'kneighbors_country']].mean(axis = 1)\n",
        "    cur_data['pred'] = lgb_model.predict(cur_data[TRAIN_FEATURES])\n",
        "    cur_pred_df = cur_data[cur_data['pred'] > THRESHOLD][['id', 'match_id']]\n",
        "    pred_df = pd.concat([pred_df, cur_pred_df])\n",
        "    \n",
        "    start_row = end_row\n",
        "    count += len(cur_data)\n",
        "\n",
        "    del cur_data, cur_pred_df\n",
        "    gc.collect()\n",
        "print(count)"
      ]
    },
    {
      "cell_type": "code",
      "execution_count": 23,
      "id": "40a0733b",
      "metadata": {
        "execution": {
          "iopub.execute_input": "2022-06-02T05:11:44.248270Z",
          "iopub.status.busy": "2022-06-02T05:11:44.247356Z",
          "iopub.status.idle": "2022-06-02T05:11:44.272309Z",
          "shell.execute_reply": "2022-06-02T05:11:44.271465Z"
        },
        "papermill": {
          "duration": 0.053663,
          "end_time": "2022-06-02T05:11:44.275075",
          "exception": false,
          "start_time": "2022-06-02T05:11:44.221412",
          "status": "completed"
        },
        "tags": [],
        "colab": {
          "base_uri": "https://localhost:8080/"
        },
        "id": "40a0733b",
        "outputId": "37bdb5e2-cfa2-4cd3-ee89-d012e53138e3"
      },
      "outputs": [
        {
          "output_type": "stream",
          "name": "stdout",
          "text": [
            "Unique id: 100\n",
            "                 id                              match_id           matches\n",
            "0  E_000001272c6c5d  [E_000001272c6c5d, E_000001272c6c5d]  E_000001272c6c5d\n",
            "1  E_000002eae2a589  [E_000002eae2a589, E_000002eae2a589]  E_000002eae2a589\n",
            "2  E_000007f24ebc95  [E_000007f24ebc95, E_000007f24ebc95]  E_000007f24ebc95\n",
            "3  E_000008a8ba4f48  [E_000008a8ba4f48, E_000008a8ba4f48]  E_000008a8ba4f48\n",
            "4  E_00001d92066153  [E_00001d92066153, E_00001d92066153]  E_00001d92066153\n"
          ]
        }
      ],
      "source": [
        "## Submission    \n",
        "out_df = pd.concat([out_df, pred_df])\n",
        "out_df = out_df.groupby('id')['match_id'].\\\n",
        "                        apply(list).reset_index()\n",
        "out_df['matches'] = out_df['match_id'].apply(lambda x: ' '.join(set(x)))\n",
        "out_df = post_process(out_df)\n",
        "print('Unique id: %s' % len(out_df))\n",
        "print(out_df.head())\n",
        "\n",
        "out_df[['id', 'matches']].to_csv('submission.csv', index = False)"
      ]
    },
    {
      "cell_type": "code",
      "source": [
        ""
      ],
      "metadata": {
        "id": "TBIaAf4Q2jsA"
      },
      "id": "TBIaAf4Q2jsA",
      "execution_count": null,
      "outputs": []
    }
  ],
  "metadata": {
    "kernelspec": {
      "display_name": "Python 3",
      "language": "python",
      "name": "python3"
    },
    "language_info": {
      "codemirror_mode": {
        "name": "ipython",
        "version": 3
      },
      "file_extension": ".py",
      "mimetype": "text/x-python",
      "name": "python",
      "nbconvert_exporter": "python",
      "pygments_lexer": "ipython3",
      "version": "3.7.12"
    },
    "papermill": {
      "default_parameters": {},
      "duration": 31.505632,
      "end_time": "2022-06-02T05:11:45.121560",
      "environment_variables": {},
      "exception": null,
      "input_path": "__notebook__.ipynb",
      "output_path": "__notebook__.ipynb",
      "parameters": {},
      "start_time": "2022-06-02T05:11:13.615928",
      "version": "2.3.4"
    },
    "widgets": {
      "application/vnd.jupyter.widget-state+json": {
        "bed45f5470ac4aca9137b9e6de776882": {
          "model_module": "@jupyter-widgets/controls",
          "model_name": "HBoxModel",
          "model_module_version": "1.5.0",
          "state": {
            "_dom_classes": [],
            "_model_module": "@jupyter-widgets/controls",
            "_model_module_version": "1.5.0",
            "_model_name": "HBoxModel",
            "_view_count": null,
            "_view_module": "@jupyter-widgets/controls",
            "_view_module_version": "1.5.0",
            "_view_name": "HBoxView",
            "box_style": "",
            "children": [
              "IPY_MODEL_da4451dfd7e34a098245977609edec40",
              "IPY_MODEL_65d4b688bf0445e39944bca98b68e002",
              "IPY_MODEL_891eb0f992044d249f603ba88fd4c10d"
            ],
            "layout": "IPY_MODEL_2b1fb3fefa57449c9b2f92ce52e6b72b"
          }
        },
        "da4451dfd7e34a098245977609edec40": {
          "model_module": "@jupyter-widgets/controls",
          "model_name": "HTMLModel",
          "model_module_version": "1.5.0",
          "state": {
            "_dom_classes": [],
            "_model_module": "@jupyter-widgets/controls",
            "_model_module_version": "1.5.0",
            "_model_name": "HTMLModel",
            "_view_count": null,
            "_view_module": "@jupyter-widgets/controls",
            "_view_module_version": "1.5.0",
            "_view_name": "HTMLView",
            "description": "",
            "description_tooltip": null,
            "layout": "IPY_MODEL_fdd8097e6a084716a04ed2e0452ec591",
            "placeholder": "​",
            "style": "IPY_MODEL_8b2128f0a2eb4d368ffc1f12345c526c",
            "value": "100%"
          }
        },
        "65d4b688bf0445e39944bca98b68e002": {
          "model_module": "@jupyter-widgets/controls",
          "model_name": "FloatProgressModel",
          "model_module_version": "1.5.0",
          "state": {
            "_dom_classes": [],
            "_model_module": "@jupyter-widgets/controls",
            "_model_module_version": "1.5.0",
            "_model_name": "FloatProgressModel",
            "_view_count": null,
            "_view_module": "@jupyter-widgets/controls",
            "_view_module_version": "1.5.0",
            "_view_name": "ProgressView",
            "bar_style": "success",
            "description": "",
            "description_tooltip": null,
            "layout": "IPY_MODEL_48a72bdfec0a492791a43cb0db281ad7",
            "max": 100,
            "min": 0,
            "orientation": "horizontal",
            "style": "IPY_MODEL_e40257a622d04fca9cb282967369931f",
            "value": 100
          }
        },
        "891eb0f992044d249f603ba88fd4c10d": {
          "model_module": "@jupyter-widgets/controls",
          "model_name": "HTMLModel",
          "model_module_version": "1.5.0",
          "state": {
            "_dom_classes": [],
            "_model_module": "@jupyter-widgets/controls",
            "_model_module_version": "1.5.0",
            "_model_name": "HTMLModel",
            "_view_count": null,
            "_view_module": "@jupyter-widgets/controls",
            "_view_module_version": "1.5.0",
            "_view_name": "HTMLView",
            "description": "",
            "description_tooltip": null,
            "layout": "IPY_MODEL_61f8970d7a5a4710bf9cf40709c43bc2",
            "placeholder": "​",
            "style": "IPY_MODEL_fd760abbbfd247d2b7fb609f813773e5",
            "value": " 100/100 [00:00&lt;00:00, 369.90it/s]"
          }
        },
        "2b1fb3fefa57449c9b2f92ce52e6b72b": {
          "model_module": "@jupyter-widgets/base",
          "model_name": "LayoutModel",
          "model_module_version": "1.2.0",
          "state": {
            "_model_module": "@jupyter-widgets/base",
            "_model_module_version": "1.2.0",
            "_model_name": "LayoutModel",
            "_view_count": null,
            "_view_module": "@jupyter-widgets/base",
            "_view_module_version": "1.2.0",
            "_view_name": "LayoutView",
            "align_content": null,
            "align_items": null,
            "align_self": null,
            "border": null,
            "bottom": null,
            "display": null,
            "flex": null,
            "flex_flow": null,
            "grid_area": null,
            "grid_auto_columns": null,
            "grid_auto_flow": null,
            "grid_auto_rows": null,
            "grid_column": null,
            "grid_gap": null,
            "grid_row": null,
            "grid_template_areas": null,
            "grid_template_columns": null,
            "grid_template_rows": null,
            "height": null,
            "justify_content": null,
            "justify_items": null,
            "left": null,
            "margin": null,
            "max_height": null,
            "max_width": null,
            "min_height": null,
            "min_width": null,
            "object_fit": null,
            "object_position": null,
            "order": null,
            "overflow": null,
            "overflow_x": null,
            "overflow_y": null,
            "padding": null,
            "right": null,
            "top": null,
            "visibility": null,
            "width": null
          }
        },
        "fdd8097e6a084716a04ed2e0452ec591": {
          "model_module": "@jupyter-widgets/base",
          "model_name": "LayoutModel",
          "model_module_version": "1.2.0",
          "state": {
            "_model_module": "@jupyter-widgets/base",
            "_model_module_version": "1.2.0",
            "_model_name": "LayoutModel",
            "_view_count": null,
            "_view_module": "@jupyter-widgets/base",
            "_view_module_version": "1.2.0",
            "_view_name": "LayoutView",
            "align_content": null,
            "align_items": null,
            "align_self": null,
            "border": null,
            "bottom": null,
            "display": null,
            "flex": null,
            "flex_flow": null,
            "grid_area": null,
            "grid_auto_columns": null,
            "grid_auto_flow": null,
            "grid_auto_rows": null,
            "grid_column": null,
            "grid_gap": null,
            "grid_row": null,
            "grid_template_areas": null,
            "grid_template_columns": null,
            "grid_template_rows": null,
            "height": null,
            "justify_content": null,
            "justify_items": null,
            "left": null,
            "margin": null,
            "max_height": null,
            "max_width": null,
            "min_height": null,
            "min_width": null,
            "object_fit": null,
            "object_position": null,
            "order": null,
            "overflow": null,
            "overflow_x": null,
            "overflow_y": null,
            "padding": null,
            "right": null,
            "top": null,
            "visibility": null,
            "width": null
          }
        },
        "8b2128f0a2eb4d368ffc1f12345c526c": {
          "model_module": "@jupyter-widgets/controls",
          "model_name": "DescriptionStyleModel",
          "model_module_version": "1.5.0",
          "state": {
            "_model_module": "@jupyter-widgets/controls",
            "_model_module_version": "1.5.0",
            "_model_name": "DescriptionStyleModel",
            "_view_count": null,
            "_view_module": "@jupyter-widgets/base",
            "_view_module_version": "1.2.0",
            "_view_name": "StyleView",
            "description_width": ""
          }
        },
        "48a72bdfec0a492791a43cb0db281ad7": {
          "model_module": "@jupyter-widgets/base",
          "model_name": "LayoutModel",
          "model_module_version": "1.2.0",
          "state": {
            "_model_module": "@jupyter-widgets/base",
            "_model_module_version": "1.2.0",
            "_model_name": "LayoutModel",
            "_view_count": null,
            "_view_module": "@jupyter-widgets/base",
            "_view_module_version": "1.2.0",
            "_view_name": "LayoutView",
            "align_content": null,
            "align_items": null,
            "align_self": null,
            "border": null,
            "bottom": null,
            "display": null,
            "flex": null,
            "flex_flow": null,
            "grid_area": null,
            "grid_auto_columns": null,
            "grid_auto_flow": null,
            "grid_auto_rows": null,
            "grid_column": null,
            "grid_gap": null,
            "grid_row": null,
            "grid_template_areas": null,
            "grid_template_columns": null,
            "grid_template_rows": null,
            "height": null,
            "justify_content": null,
            "justify_items": null,
            "left": null,
            "margin": null,
            "max_height": null,
            "max_width": null,
            "min_height": null,
            "min_width": null,
            "object_fit": null,
            "object_position": null,
            "order": null,
            "overflow": null,
            "overflow_x": null,
            "overflow_y": null,
            "padding": null,
            "right": null,
            "top": null,
            "visibility": null,
            "width": null
          }
        },
        "e40257a622d04fca9cb282967369931f": {
          "model_module": "@jupyter-widgets/controls",
          "model_name": "ProgressStyleModel",
          "model_module_version": "1.5.0",
          "state": {
            "_model_module": "@jupyter-widgets/controls",
            "_model_module_version": "1.5.0",
            "_model_name": "ProgressStyleModel",
            "_view_count": null,
            "_view_module": "@jupyter-widgets/base",
            "_view_module_version": "1.2.0",
            "_view_name": "StyleView",
            "bar_color": null,
            "description_width": ""
          }
        },
        "61f8970d7a5a4710bf9cf40709c43bc2": {
          "model_module": "@jupyter-widgets/base",
          "model_name": "LayoutModel",
          "model_module_version": "1.2.0",
          "state": {
            "_model_module": "@jupyter-widgets/base",
            "_model_module_version": "1.2.0",
            "_model_name": "LayoutModel",
            "_view_count": null,
            "_view_module": "@jupyter-widgets/base",
            "_view_module_version": "1.2.0",
            "_view_name": "LayoutView",
            "align_content": null,
            "align_items": null,
            "align_self": null,
            "border": null,
            "bottom": null,
            "display": null,
            "flex": null,
            "flex_flow": null,
            "grid_area": null,
            "grid_auto_columns": null,
            "grid_auto_flow": null,
            "grid_auto_rows": null,
            "grid_column": null,
            "grid_gap": null,
            "grid_row": null,
            "grid_template_areas": null,
            "grid_template_columns": null,
            "grid_template_rows": null,
            "height": null,
            "justify_content": null,
            "justify_items": null,
            "left": null,
            "margin": null,
            "max_height": null,
            "max_width": null,
            "min_height": null,
            "min_width": null,
            "object_fit": null,
            "object_position": null,
            "order": null,
            "overflow": null,
            "overflow_x": null,
            "overflow_y": null,
            "padding": null,
            "right": null,
            "top": null,
            "visibility": null,
            "width": null
          }
        },
        "fd760abbbfd247d2b7fb609f813773e5": {
          "model_module": "@jupyter-widgets/controls",
          "model_name": "DescriptionStyleModel",
          "model_module_version": "1.5.0",
          "state": {
            "_model_module": "@jupyter-widgets/controls",
            "_model_module_version": "1.5.0",
            "_model_name": "DescriptionStyleModel",
            "_view_count": null,
            "_view_module": "@jupyter-widgets/base",
            "_view_module_version": "1.2.0",
            "_view_name": "StyleView",
            "description_width": ""
          }
        },
        "db2e438762f24eabafbcfac074de497d": {
          "model_module": "@jupyter-widgets/controls",
          "model_name": "HBoxModel",
          "model_module_version": "1.5.0",
          "state": {
            "_dom_classes": [],
            "_model_module": "@jupyter-widgets/controls",
            "_model_module_version": "1.5.0",
            "_model_name": "HBoxModel",
            "_view_count": null,
            "_view_module": "@jupyter-widgets/controls",
            "_view_module_version": "1.5.0",
            "_view_name": "HBoxView",
            "box_style": "",
            "children": [
              "IPY_MODEL_e9504d95761c4eb6a5da0c56ac890b59",
              "IPY_MODEL_b410b928cf32489c965a64fea90e2697",
              "IPY_MODEL_36a45427374b4620a18eb32329878b64"
            ],
            "layout": "IPY_MODEL_c98df0a495fd49f2b939c9eb3c8bf03d"
          }
        },
        "e9504d95761c4eb6a5da0c56ac890b59": {
          "model_module": "@jupyter-widgets/controls",
          "model_name": "HTMLModel",
          "model_module_version": "1.5.0",
          "state": {
            "_dom_classes": [],
            "_model_module": "@jupyter-widgets/controls",
            "_model_module_version": "1.5.0",
            "_model_name": "HTMLModel",
            "_view_count": null,
            "_view_module": "@jupyter-widgets/controls",
            "_view_module_version": "1.5.0",
            "_view_name": "HTMLView",
            "description": "",
            "description_tooltip": null,
            "layout": "IPY_MODEL_ecad055c7ccc472cb7d812ac8fca86cb",
            "placeholder": "​",
            "style": "IPY_MODEL_dd550157cfe94886bb2af18660dd43d7",
            "value": "100%"
          }
        },
        "b410b928cf32489c965a64fea90e2697": {
          "model_module": "@jupyter-widgets/controls",
          "model_name": "FloatProgressModel",
          "model_module_version": "1.5.0",
          "state": {
            "_dom_classes": [],
            "_model_module": "@jupyter-widgets/controls",
            "_model_module_version": "1.5.0",
            "_model_name": "FloatProgressModel",
            "_view_count": null,
            "_view_module": "@jupyter-widgets/controls",
            "_view_module_version": "1.5.0",
            "_view_name": "ProgressView",
            "bar_style": "success",
            "description": "",
            "description_tooltip": null,
            "layout": "IPY_MODEL_45e0bdc9c4f94ea98869565526c5d5a7",
            "max": 32,
            "min": 0,
            "orientation": "horizontal",
            "style": "IPY_MODEL_bbb530ed3e9d466b8d7092ee2f50e9f0",
            "value": 32
          }
        },
        "36a45427374b4620a18eb32329878b64": {
          "model_module": "@jupyter-widgets/controls",
          "model_name": "HTMLModel",
          "model_module_version": "1.5.0",
          "state": {
            "_dom_classes": [],
            "_model_module": "@jupyter-widgets/controls",
            "_model_module_version": "1.5.0",
            "_model_name": "HTMLModel",
            "_view_count": null,
            "_view_module": "@jupyter-widgets/controls",
            "_view_module_version": "1.5.0",
            "_view_name": "HTMLView",
            "description": "",
            "description_tooltip": null,
            "layout": "IPY_MODEL_e5faef0c1325491c933ded395eb19595",
            "placeholder": "​",
            "style": "IPY_MODEL_76226a62b3af413ba364b66f434facfc",
            "value": " 32/32 [00:04&lt;00:00,  8.00it/s]"
          }
        },
        "c98df0a495fd49f2b939c9eb3c8bf03d": {
          "model_module": "@jupyter-widgets/base",
          "model_name": "LayoutModel",
          "model_module_version": "1.2.0",
          "state": {
            "_model_module": "@jupyter-widgets/base",
            "_model_module_version": "1.2.0",
            "_model_name": "LayoutModel",
            "_view_count": null,
            "_view_module": "@jupyter-widgets/base",
            "_view_module_version": "1.2.0",
            "_view_name": "LayoutView",
            "align_content": null,
            "align_items": null,
            "align_self": null,
            "border": null,
            "bottom": null,
            "display": null,
            "flex": null,
            "flex_flow": null,
            "grid_area": null,
            "grid_auto_columns": null,
            "grid_auto_flow": null,
            "grid_auto_rows": null,
            "grid_column": null,
            "grid_gap": null,
            "grid_row": null,
            "grid_template_areas": null,
            "grid_template_columns": null,
            "grid_template_rows": null,
            "height": null,
            "justify_content": null,
            "justify_items": null,
            "left": null,
            "margin": null,
            "max_height": null,
            "max_width": null,
            "min_height": null,
            "min_width": null,
            "object_fit": null,
            "object_position": null,
            "order": null,
            "overflow": null,
            "overflow_x": null,
            "overflow_y": null,
            "padding": null,
            "right": null,
            "top": null,
            "visibility": null,
            "width": null
          }
        },
        "ecad055c7ccc472cb7d812ac8fca86cb": {
          "model_module": "@jupyter-widgets/base",
          "model_name": "LayoutModel",
          "model_module_version": "1.2.0",
          "state": {
            "_model_module": "@jupyter-widgets/base",
            "_model_module_version": "1.2.0",
            "_model_name": "LayoutModel",
            "_view_count": null,
            "_view_module": "@jupyter-widgets/base",
            "_view_module_version": "1.2.0",
            "_view_name": "LayoutView",
            "align_content": null,
            "align_items": null,
            "align_self": null,
            "border": null,
            "bottom": null,
            "display": null,
            "flex": null,
            "flex_flow": null,
            "grid_area": null,
            "grid_auto_columns": null,
            "grid_auto_flow": null,
            "grid_auto_rows": null,
            "grid_column": null,
            "grid_gap": null,
            "grid_row": null,
            "grid_template_areas": null,
            "grid_template_columns": null,
            "grid_template_rows": null,
            "height": null,
            "justify_content": null,
            "justify_items": null,
            "left": null,
            "margin": null,
            "max_height": null,
            "max_width": null,
            "min_height": null,
            "min_width": null,
            "object_fit": null,
            "object_position": null,
            "order": null,
            "overflow": null,
            "overflow_x": null,
            "overflow_y": null,
            "padding": null,
            "right": null,
            "top": null,
            "visibility": null,
            "width": null
          }
        },
        "dd550157cfe94886bb2af18660dd43d7": {
          "model_module": "@jupyter-widgets/controls",
          "model_name": "DescriptionStyleModel",
          "model_module_version": "1.5.0",
          "state": {
            "_model_module": "@jupyter-widgets/controls",
            "_model_module_version": "1.5.0",
            "_model_name": "DescriptionStyleModel",
            "_view_count": null,
            "_view_module": "@jupyter-widgets/base",
            "_view_module_version": "1.2.0",
            "_view_name": "StyleView",
            "description_width": ""
          }
        },
        "45e0bdc9c4f94ea98869565526c5d5a7": {
          "model_module": "@jupyter-widgets/base",
          "model_name": "LayoutModel",
          "model_module_version": "1.2.0",
          "state": {
            "_model_module": "@jupyter-widgets/base",
            "_model_module_version": "1.2.0",
            "_model_name": "LayoutModel",
            "_view_count": null,
            "_view_module": "@jupyter-widgets/base",
            "_view_module_version": "1.2.0",
            "_view_name": "LayoutView",
            "align_content": null,
            "align_items": null,
            "align_self": null,
            "border": null,
            "bottom": null,
            "display": null,
            "flex": null,
            "flex_flow": null,
            "grid_area": null,
            "grid_auto_columns": null,
            "grid_auto_flow": null,
            "grid_auto_rows": null,
            "grid_column": null,
            "grid_gap": null,
            "grid_row": null,
            "grid_template_areas": null,
            "grid_template_columns": null,
            "grid_template_rows": null,
            "height": null,
            "justify_content": null,
            "justify_items": null,
            "left": null,
            "margin": null,
            "max_height": null,
            "max_width": null,
            "min_height": null,
            "min_width": null,
            "object_fit": null,
            "object_position": null,
            "order": null,
            "overflow": null,
            "overflow_x": null,
            "overflow_y": null,
            "padding": null,
            "right": null,
            "top": null,
            "visibility": null,
            "width": null
          }
        },
        "bbb530ed3e9d466b8d7092ee2f50e9f0": {
          "model_module": "@jupyter-widgets/controls",
          "model_name": "ProgressStyleModel",
          "model_module_version": "1.5.0",
          "state": {
            "_model_module": "@jupyter-widgets/controls",
            "_model_module_version": "1.5.0",
            "_model_name": "ProgressStyleModel",
            "_view_count": null,
            "_view_module": "@jupyter-widgets/base",
            "_view_module_version": "1.2.0",
            "_view_name": "StyleView",
            "bar_color": null,
            "description_width": ""
          }
        },
        "e5faef0c1325491c933ded395eb19595": {
          "model_module": "@jupyter-widgets/base",
          "model_name": "LayoutModel",
          "model_module_version": "1.2.0",
          "state": {
            "_model_module": "@jupyter-widgets/base",
            "_model_module_version": "1.2.0",
            "_model_name": "LayoutModel",
            "_view_count": null,
            "_view_module": "@jupyter-widgets/base",
            "_view_module_version": "1.2.0",
            "_view_name": "LayoutView",
            "align_content": null,
            "align_items": null,
            "align_self": null,
            "border": null,
            "bottom": null,
            "display": null,
            "flex": null,
            "flex_flow": null,
            "grid_area": null,
            "grid_auto_columns": null,
            "grid_auto_flow": null,
            "grid_auto_rows": null,
            "grid_column": null,
            "grid_gap": null,
            "grid_row": null,
            "grid_template_areas": null,
            "grid_template_columns": null,
            "grid_template_rows": null,
            "height": null,
            "justify_content": null,
            "justify_items": null,
            "left": null,
            "margin": null,
            "max_height": null,
            "max_width": null,
            "min_height": null,
            "min_width": null,
            "object_fit": null,
            "object_position": null,
            "order": null,
            "overflow": null,
            "overflow_x": null,
            "overflow_y": null,
            "padding": null,
            "right": null,
            "top": null,
            "visibility": null,
            "width": null
          }
        },
        "76226a62b3af413ba364b66f434facfc": {
          "model_module": "@jupyter-widgets/controls",
          "model_name": "DescriptionStyleModel",
          "model_module_version": "1.5.0",
          "state": {
            "_model_module": "@jupyter-widgets/controls",
            "_model_module_version": "1.5.0",
            "_model_name": "DescriptionStyleModel",
            "_view_count": null,
            "_view_module": "@jupyter-widgets/base",
            "_view_module_version": "1.2.0",
            "_view_name": "StyleView",
            "description_width": ""
          }
        },
        "d690629af76e43068ec73847f8b43b17": {
          "model_module": "@jupyter-widgets/controls",
          "model_name": "HBoxModel",
          "model_module_version": "1.5.0",
          "state": {
            "_dom_classes": [],
            "_model_module": "@jupyter-widgets/controls",
            "_model_module_version": "1.5.0",
            "_model_name": "HBoxModel",
            "_view_count": null,
            "_view_module": "@jupyter-widgets/controls",
            "_view_module_version": "1.5.0",
            "_view_name": "HBoxView",
            "box_style": "",
            "children": [
              "IPY_MODEL_61c1c74c96184c20885425e62f623da8",
              "IPY_MODEL_67be1825fa64484eb5871c4c284fb720",
              "IPY_MODEL_d08962b77542494db00877147e237efc"
            ],
            "layout": "IPY_MODEL_57e1b3f089c9425292806d531725d4e5"
          }
        },
        "61c1c74c96184c20885425e62f623da8": {
          "model_module": "@jupyter-widgets/controls",
          "model_name": "HTMLModel",
          "model_module_version": "1.5.0",
          "state": {
            "_dom_classes": [],
            "_model_module": "@jupyter-widgets/controls",
            "_model_module_version": "1.5.0",
            "_model_name": "HTMLModel",
            "_view_count": null,
            "_view_module": "@jupyter-widgets/controls",
            "_view_module_version": "1.5.0",
            "_view_name": "HTMLView",
            "description": "",
            "description_tooltip": null,
            "layout": "IPY_MODEL_d1fc48837b88490daddde5f85f090bf7",
            "placeholder": "​",
            "style": "IPY_MODEL_48291ac0422147c6bfae27d1030eabd4",
            "value": "100%"
          }
        },
        "67be1825fa64484eb5871c4c284fb720": {
          "model_module": "@jupyter-widgets/controls",
          "model_name": "FloatProgressModel",
          "model_module_version": "1.5.0",
          "state": {
            "_dom_classes": [],
            "_model_module": "@jupyter-widgets/controls",
            "_model_module_version": "1.5.0",
            "_model_name": "FloatProgressModel",
            "_view_count": null,
            "_view_module": "@jupyter-widgets/controls",
            "_view_module_version": "1.5.0",
            "_view_name": "ProgressView",
            "bar_style": "success",
            "description": "",
            "description_tooltip": null,
            "layout": "IPY_MODEL_fa7070447b434a0e9c7b668349e1a877",
            "max": 10,
            "min": 0,
            "orientation": "horizontal",
            "style": "IPY_MODEL_c60dad39f0884488a0e97d18f89a763c",
            "value": 10
          }
        },
        "d08962b77542494db00877147e237efc": {
          "model_module": "@jupyter-widgets/controls",
          "model_name": "HTMLModel",
          "model_module_version": "1.5.0",
          "state": {
            "_dom_classes": [],
            "_model_module": "@jupyter-widgets/controls",
            "_model_module_version": "1.5.0",
            "_model_name": "HTMLModel",
            "_view_count": null,
            "_view_module": "@jupyter-widgets/controls",
            "_view_module_version": "1.5.0",
            "_view_name": "HTMLView",
            "description": "",
            "description_tooltip": null,
            "layout": "IPY_MODEL_1efb73aeb1424e9c9b054e04f2306ec7",
            "placeholder": "​",
            "style": "IPY_MODEL_4f2025ce659e4884b82ab024c6f78423",
            "value": " 10/10 [00:02&lt;00:00,  3.21it/s]"
          }
        },
        "57e1b3f089c9425292806d531725d4e5": {
          "model_module": "@jupyter-widgets/base",
          "model_name": "LayoutModel",
          "model_module_version": "1.2.0",
          "state": {
            "_model_module": "@jupyter-widgets/base",
            "_model_module_version": "1.2.0",
            "_model_name": "LayoutModel",
            "_view_count": null,
            "_view_module": "@jupyter-widgets/base",
            "_view_module_version": "1.2.0",
            "_view_name": "LayoutView",
            "align_content": null,
            "align_items": null,
            "align_self": null,
            "border": null,
            "bottom": null,
            "display": null,
            "flex": null,
            "flex_flow": null,
            "grid_area": null,
            "grid_auto_columns": null,
            "grid_auto_flow": null,
            "grid_auto_rows": null,
            "grid_column": null,
            "grid_gap": null,
            "grid_row": null,
            "grid_template_areas": null,
            "grid_template_columns": null,
            "grid_template_rows": null,
            "height": null,
            "justify_content": null,
            "justify_items": null,
            "left": null,
            "margin": null,
            "max_height": null,
            "max_width": null,
            "min_height": null,
            "min_width": null,
            "object_fit": null,
            "object_position": null,
            "order": null,
            "overflow": null,
            "overflow_x": null,
            "overflow_y": null,
            "padding": null,
            "right": null,
            "top": null,
            "visibility": null,
            "width": null
          }
        },
        "d1fc48837b88490daddde5f85f090bf7": {
          "model_module": "@jupyter-widgets/base",
          "model_name": "LayoutModel",
          "model_module_version": "1.2.0",
          "state": {
            "_model_module": "@jupyter-widgets/base",
            "_model_module_version": "1.2.0",
            "_model_name": "LayoutModel",
            "_view_count": null,
            "_view_module": "@jupyter-widgets/base",
            "_view_module_version": "1.2.0",
            "_view_name": "LayoutView",
            "align_content": null,
            "align_items": null,
            "align_self": null,
            "border": null,
            "bottom": null,
            "display": null,
            "flex": null,
            "flex_flow": null,
            "grid_area": null,
            "grid_auto_columns": null,
            "grid_auto_flow": null,
            "grid_auto_rows": null,
            "grid_column": null,
            "grid_gap": null,
            "grid_row": null,
            "grid_template_areas": null,
            "grid_template_columns": null,
            "grid_template_rows": null,
            "height": null,
            "justify_content": null,
            "justify_items": null,
            "left": null,
            "margin": null,
            "max_height": null,
            "max_width": null,
            "min_height": null,
            "min_width": null,
            "object_fit": null,
            "object_position": null,
            "order": null,
            "overflow": null,
            "overflow_x": null,
            "overflow_y": null,
            "padding": null,
            "right": null,
            "top": null,
            "visibility": null,
            "width": null
          }
        },
        "48291ac0422147c6bfae27d1030eabd4": {
          "model_module": "@jupyter-widgets/controls",
          "model_name": "DescriptionStyleModel",
          "model_module_version": "1.5.0",
          "state": {
            "_model_module": "@jupyter-widgets/controls",
            "_model_module_version": "1.5.0",
            "_model_name": "DescriptionStyleModel",
            "_view_count": null,
            "_view_module": "@jupyter-widgets/base",
            "_view_module_version": "1.2.0",
            "_view_name": "StyleView",
            "description_width": ""
          }
        },
        "fa7070447b434a0e9c7b668349e1a877": {
          "model_module": "@jupyter-widgets/base",
          "model_name": "LayoutModel",
          "model_module_version": "1.2.0",
          "state": {
            "_model_module": "@jupyter-widgets/base",
            "_model_module_version": "1.2.0",
            "_model_name": "LayoutModel",
            "_view_count": null,
            "_view_module": "@jupyter-widgets/base",
            "_view_module_version": "1.2.0",
            "_view_name": "LayoutView",
            "align_content": null,
            "align_items": null,
            "align_self": null,
            "border": null,
            "bottom": null,
            "display": null,
            "flex": null,
            "flex_flow": null,
            "grid_area": null,
            "grid_auto_columns": null,
            "grid_auto_flow": null,
            "grid_auto_rows": null,
            "grid_column": null,
            "grid_gap": null,
            "grid_row": null,
            "grid_template_areas": null,
            "grid_template_columns": null,
            "grid_template_rows": null,
            "height": null,
            "justify_content": null,
            "justify_items": null,
            "left": null,
            "margin": null,
            "max_height": null,
            "max_width": null,
            "min_height": null,
            "min_width": null,
            "object_fit": null,
            "object_position": null,
            "order": null,
            "overflow": null,
            "overflow_x": null,
            "overflow_y": null,
            "padding": null,
            "right": null,
            "top": null,
            "visibility": null,
            "width": null
          }
        },
        "c60dad39f0884488a0e97d18f89a763c": {
          "model_module": "@jupyter-widgets/controls",
          "model_name": "ProgressStyleModel",
          "model_module_version": "1.5.0",
          "state": {
            "_model_module": "@jupyter-widgets/controls",
            "_model_module_version": "1.5.0",
            "_model_name": "ProgressStyleModel",
            "_view_count": null,
            "_view_module": "@jupyter-widgets/base",
            "_view_module_version": "1.2.0",
            "_view_name": "StyleView",
            "bar_color": null,
            "description_width": ""
          }
        },
        "1efb73aeb1424e9c9b054e04f2306ec7": {
          "model_module": "@jupyter-widgets/base",
          "model_name": "LayoutModel",
          "model_module_version": "1.2.0",
          "state": {
            "_model_module": "@jupyter-widgets/base",
            "_model_module_version": "1.2.0",
            "_model_name": "LayoutModel",
            "_view_count": null,
            "_view_module": "@jupyter-widgets/base",
            "_view_module_version": "1.2.0",
            "_view_name": "LayoutView",
            "align_content": null,
            "align_items": null,
            "align_self": null,
            "border": null,
            "bottom": null,
            "display": null,
            "flex": null,
            "flex_flow": null,
            "grid_area": null,
            "grid_auto_columns": null,
            "grid_auto_flow": null,
            "grid_auto_rows": null,
            "grid_column": null,
            "grid_gap": null,
            "grid_row": null,
            "grid_template_areas": null,
            "grid_template_columns": null,
            "grid_template_rows": null,
            "height": null,
            "justify_content": null,
            "justify_items": null,
            "left": null,
            "margin": null,
            "max_height": null,
            "max_width": null,
            "min_height": null,
            "min_width": null,
            "object_fit": null,
            "object_position": null,
            "order": null,
            "overflow": null,
            "overflow_x": null,
            "overflow_y": null,
            "padding": null,
            "right": null,
            "top": null,
            "visibility": null,
            "width": null
          }
        },
        "4f2025ce659e4884b82ab024c6f78423": {
          "model_module": "@jupyter-widgets/controls",
          "model_name": "DescriptionStyleModel",
          "model_module_version": "1.5.0",
          "state": {
            "_model_module": "@jupyter-widgets/controls",
            "_model_module_version": "1.5.0",
            "_model_name": "DescriptionStyleModel",
            "_view_count": null,
            "_view_module": "@jupyter-widgets/base",
            "_view_module_version": "1.2.0",
            "_view_name": "StyleView",
            "description_width": ""
          }
        }
      }
    },
    "colab": {
      "name": "improved-binary-lgb-baseline-0-839.ipynb",
      "provenance": [],
      "include_colab_link": true
    }
  },
  "nbformat": 4,
  "nbformat_minor": 5
}