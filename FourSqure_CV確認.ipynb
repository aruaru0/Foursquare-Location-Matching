{
  "cells": [
    {
      "cell_type": "markdown",
      "metadata": {
        "id": "view-in-github",
        "colab_type": "text"
      },
      "source": [
        "<a href=\"https://colab.research.google.com/github/aruaru0/Foursquare-Location-Matching/blob/main/FourSqure_CV%E7%A2%BA%E8%AA%8D.ipynb\" target=\"_parent\"><img src=\"https://colab.research.google.com/assets/colab-badge.svg\" alt=\"Open In Colab\"/></a>"
      ]
    },
    {
      "cell_type": "markdown",
      "id": "fd2d836a",
      "metadata": {
        "id": "fd2d836a",
        "papermill": {
          "duration": 0.008923,
          "end_time": "2022-06-17T15:12:38.710290",
          "exception": false,
          "start_time": "2022-06-17T15:12:38.701367",
          "status": "completed"
        },
        "tags": []
      },
      "source": [
        "# for colab"
      ]
    },
    {
      "cell_type": "code",
      "execution_count": 2,
      "id": "062eb010",
      "metadata": {
        "execution": {
          "iopub.execute_input": "2022-06-17T15:12:38.728875Z",
          "iopub.status.busy": "2022-06-17T15:12:38.727968Z",
          "iopub.status.idle": "2022-06-17T15:12:38.739701Z",
          "shell.execute_reply": "2022-06-17T15:12:38.738981Z"
        },
        "id": "062eb010",
        "papermill": {
          "duration": 0.02329,
          "end_time": "2022-06-17T15:12:38.741684",
          "exception": false,
          "start_time": "2022-06-17T15:12:38.718394",
          "status": "completed"
        },
        "tags": []
      },
      "outputs": [],
      "source": [
        "import sys\n",
        "is_colab = False\n",
        "if \"google.colab\" in sys.modules:\n",
        "  is_colab = True"
      ]
    },
    {
      "cell_type": "code",
      "execution_count": 3,
      "id": "6e8dc6ca",
      "metadata": {
        "execution": {
          "iopub.execute_input": "2022-06-17T15:12:38.759216Z",
          "iopub.status.busy": "2022-06-17T15:12:38.758405Z",
          "iopub.status.idle": "2022-06-17T15:12:38.763205Z",
          "shell.execute_reply": "2022-06-17T15:12:38.762284Z"
        },
        "id": "6e8dc6ca",
        "outputId": "be88165f-4f74-46cd-dd41-afe9aa804408",
        "papermill": {
          "duration": 0.015567,
          "end_time": "2022-06-17T15:12:38.765049",
          "exception": false,
          "start_time": "2022-06-17T15:12:38.749482",
          "status": "completed"
        },
        "tags": [],
        "colab": {
          "base_uri": "https://localhost:8080/"
        }
      },
      "outputs": [
        {
          "output_type": "stream",
          "name": "stdout",
          "text": [
            "Mounted at /content/drive\n"
          ]
        }
      ],
      "source": [
        "if is_colab:\n",
        "  from google.colab import drive\n",
        "  drive.mount('/content/drive')"
      ]
    },
    {
      "cell_type": "code",
      "execution_count": 4,
      "id": "ad36b394",
      "metadata": {
        "execution": {
          "iopub.execute_input": "2022-06-17T15:12:38.782557Z",
          "iopub.status.busy": "2022-06-17T15:12:38.781689Z",
          "iopub.status.idle": "2022-06-17T15:12:38.787698Z",
          "shell.execute_reply": "2022-06-17T15:12:38.786989Z"
        },
        "id": "ad36b394",
        "papermill": {
          "duration": 0.016444,
          "end_time": "2022-06-17T15:12:38.789359",
          "exception": false,
          "start_time": "2022-06-17T15:12:38.772915",
          "status": "completed"
        },
        "tags": []
      },
      "outputs": [],
      "source": [
        "if is_colab:\n",
        "  !mkdir -p ~/.kaggle\n",
        "  !cp /content/drive/MyDrive/datas/kaggle.json  ~/.kaggle/\n",
        "  !chmod 600 /root/.kaggle/kaggle.json"
      ]
    },
    {
      "cell_type": "code",
      "execution_count": 5,
      "id": "46082035",
      "metadata": {
        "execution": {
          "iopub.execute_input": "2022-06-17T15:12:38.807129Z",
          "iopub.status.busy": "2022-06-17T15:12:38.806390Z",
          "iopub.status.idle": "2022-06-17T15:12:38.811308Z",
          "shell.execute_reply": "2022-06-17T15:12:38.810403Z"
        },
        "id": "46082035",
        "outputId": "124c1d5f-042f-4535-9fd6-9bbd633602ae",
        "papermill": {
          "duration": 0.016164,
          "end_time": "2022-06-17T15:12:38.813253",
          "exception": false,
          "start_time": "2022-06-17T15:12:38.797089",
          "status": "completed"
        },
        "tags": [],
        "colab": {
          "base_uri": "https://localhost:8080/"
        }
      },
      "outputs": [
        {
          "output_type": "stream",
          "name": "stdout",
          "text": [
            "Looking in indexes: https://pypi.org/simple, https://us-python.pkg.dev/colab-wheels/public/simple/\n",
            "Requirement already satisfied: kaggle in /usr/local/lib/python3.7/dist-packages (1.5.12)\n",
            "Requirement already satisfied: requests in /usr/local/lib/python3.7/dist-packages (from kaggle) (2.23.0)\n",
            "Requirement already satisfied: tqdm in /usr/local/lib/python3.7/dist-packages (from kaggle) (4.64.0)\n",
            "Requirement already satisfied: urllib3 in /usr/local/lib/python3.7/dist-packages (from kaggle) (1.24.3)\n",
            "Requirement already satisfied: six>=1.10 in /usr/local/lib/python3.7/dist-packages (from kaggle) (1.15.0)\n",
            "Requirement already satisfied: python-slugify in /usr/local/lib/python3.7/dist-packages (from kaggle) (6.1.2)\n",
            "Requirement already satisfied: python-dateutil in /usr/local/lib/python3.7/dist-packages (from kaggle) (2.8.2)\n",
            "Requirement already satisfied: certifi in /usr/local/lib/python3.7/dist-packages (from kaggle) (2022.6.15)\n",
            "Requirement already satisfied: text-unidecode>=1.3 in /usr/local/lib/python3.7/dist-packages (from python-slugify->kaggle) (1.3)\n",
            "Requirement already satisfied: idna<3,>=2.5 in /usr/local/lib/python3.7/dist-packages (from requests->kaggle) (2.10)\n",
            "Requirement already satisfied: chardet<4,>=3.0.2 in /usr/local/lib/python3.7/dist-packages (from requests->kaggle) (3.0.4)\n",
            "Reading package lists... Done\n",
            "Building dependency tree       \n",
            "Reading state information... Done\n",
            "unzip is already the newest version (6.0-21ubuntu1.1).\n",
            "The following package was automatically installed and is no longer required:\n",
            "  libnvidia-common-460\n",
            "Use 'apt autoremove' to remove it.\n",
            "0 upgraded, 0 newly installed, 0 to remove and 49 not upgraded.\n"
          ]
        }
      ],
      "source": [
        "if is_colab:\n",
        "  !pip install kaggle\n",
        "  !apt install unzip"
      ]
    },
    {
      "cell_type": "code",
      "execution_count": 6,
      "id": "c9734987",
      "metadata": {
        "execution": {
          "iopub.execute_input": "2022-06-17T15:12:38.830540Z",
          "iopub.status.busy": "2022-06-17T15:12:38.829915Z",
          "iopub.status.idle": "2022-06-17T15:12:38.833744Z",
          "shell.execute_reply": "2022-06-17T15:12:38.833087Z"
        },
        "id": "c9734987",
        "papermill": {
          "duration": 0.014691,
          "end_time": "2022-06-17T15:12:38.835720",
          "exception": false,
          "start_time": "2022-06-17T15:12:38.821029",
          "status": "completed"
        },
        "tags": []
      },
      "outputs": [],
      "source": [
        "if is_colab:\n",
        "  !mkdir input output"
      ]
    },
    {
      "cell_type": "code",
      "execution_count": 7,
      "id": "8320c43d",
      "metadata": {
        "execution": {
          "iopub.execute_input": "2022-06-17T15:12:38.853131Z",
          "iopub.status.busy": "2022-06-17T15:12:38.852551Z",
          "iopub.status.idle": "2022-06-17T15:12:38.857296Z",
          "shell.execute_reply": "2022-06-17T15:12:38.856553Z"
        },
        "id": "8320c43d",
        "outputId": "b44a2f66-0209-417b-9d29-0a666b650291",
        "papermill": {
          "duration": 0.015653,
          "end_time": "2022-06-17T15:12:38.859245",
          "exception": false,
          "start_time": "2022-06-17T15:12:38.843592",
          "status": "completed"
        },
        "tags": [],
        "colab": {
          "base_uri": "https://localhost:8080/"
        }
      },
      "outputs": [
        {
          "output_type": "stream",
          "name": "stdout",
          "text": [
            "Downloading foursquare-location-matching.zip to /content\n",
            " 95% 150M/159M [00:00<00:00, 224MB/s]\n",
            "100% 159M/159M [00:00<00:00, 227MB/s]\n",
            "Archive:  foursquare-location-matching.zip\n",
            "  inflating: input/foursquare-location-matching/pairs.csv  \n",
            "  inflating: input/foursquare-location-matching/sample_submission.csv  \n",
            "  inflating: input/foursquare-location-matching/test.csv  \n",
            "  inflating: input/foursquare-location-matching/train.csv  \n"
          ]
        }
      ],
      "source": [
        "if is_colab:\n",
        "  !kaggle competitions download -c foursquare-location-matching\n",
        "  !unzip foursquare-location-matching.zip -d input/foursquare-location-matching"
      ]
    },
    {
      "cell_type": "code",
      "execution_count": 8,
      "id": "d3c553aa",
      "metadata": {
        "execution": {
          "iopub.execute_input": "2022-06-17T15:12:38.876615Z",
          "iopub.status.busy": "2022-06-17T15:12:38.875995Z",
          "iopub.status.idle": "2022-06-17T15:12:38.881109Z",
          "shell.execute_reply": "2022-06-17T15:12:38.880232Z"
        },
        "id": "d3c553aa",
        "outputId": "17fa38fa-34fb-448d-c795-0f43007bcafd",
        "papermill": {
          "duration": 0.016151,
          "end_time": "2022-06-17T15:12:38.883246",
          "exception": false,
          "start_time": "2022-06-17T15:12:38.867095",
          "status": "completed"
        },
        "tags": [],
        "colab": {
          "base_uri": "https://localhost:8080/"
        }
      },
      "outputs": [
        {
          "output_type": "stream",
          "name": "stdout",
          "text": [
            "Downloading binary-lgb-baseline.zip to /content\n",
            "\r  0% 0.00/3.90M [00:00<?, ?B/s]\n",
            "\r100% 3.90M/3.90M [00:00<00:00, 133MB/s]\n",
            "Archive:  /content/binary-lgb-baseline.zip\n",
            "  inflating: input/binary-lgb-baseline/improved_lgb_baseline.lgb  \n",
            "  inflating: input/binary-lgb-baseline/lgb_baseline.lgb  \n"
          ]
        }
      ],
      "source": [
        "if is_colab:\n",
        "  !kaggle datasets download -d guoyonfan/binary-lgb-baseline\n",
        "  !unzip /content/binary-lgb-baseline.zip -d input/binary-lgb-baseline"
      ]
    },
    {
      "cell_type": "code",
      "execution_count": 9,
      "id": "200e0427",
      "metadata": {
        "execution": {
          "iopub.execute_input": "2022-06-17T15:12:38.900296Z",
          "iopub.status.busy": "2022-06-17T15:12:38.899888Z",
          "iopub.status.idle": "2022-06-17T15:12:38.904462Z",
          "shell.execute_reply": "2022-06-17T15:12:38.903517Z"
        },
        "id": "200e0427",
        "papermill": {
          "duration": 0.015321,
          "end_time": "2022-06-17T15:12:38.906382",
          "exception": false,
          "start_time": "2022-06-17T15:12:38.891061",
          "status": "completed"
        },
        "tags": []
      },
      "outputs": [],
      "source": [
        "if is_colab:\n",
        "  !cp input/binary-lgb-baseline/*  /content/drive/MyDrive/datas/foursquare"
      ]
    },
    {
      "cell_type": "code",
      "execution_count": 10,
      "id": "2b768b85",
      "metadata": {
        "execution": {
          "iopub.execute_input": "2022-06-17T15:12:38.924403Z",
          "iopub.status.busy": "2022-06-17T15:12:38.923976Z",
          "iopub.status.idle": "2022-06-17T15:12:38.928876Z",
          "shell.execute_reply": "2022-06-17T15:12:38.927867Z"
        },
        "id": "2b768b85",
        "outputId": "696ce934-73af-4592-ebea-c3924a41f1c4",
        "papermill": {
          "duration": 0.016558,
          "end_time": "2022-06-17T15:12:38.930804",
          "exception": false,
          "start_time": "2022-06-17T15:12:38.914246",
          "status": "completed"
        },
        "tags": [],
        "colab": {
          "base_uri": "https://localhost:8080/"
        }
      },
      "outputs": [
        {
          "output_type": "stream",
          "name": "stdout",
          "text": [
            "Looking in indexes: https://pypi.org/simple, https://us-python.pkg.dev/colab-wheels/public/simple/\n",
            "Collecting Levenshtein\n",
            "  Downloading Levenshtein-0.18.1-cp37-cp37m-manylinux_2_17_x86_64.manylinux2014_x86_64.whl (258 kB)\n",
            "\u001b[K     |████████████████████████████████| 258 kB 29.0 MB/s \n",
            "\u001b[?25hCollecting rapidfuzz<3.0.0,>=2.0.1\n",
            "  Downloading rapidfuzz-2.0.11-cp37-cp37m-manylinux_2_17_x86_64.manylinux2014_x86_64.whl (1.8 MB)\n",
            "\u001b[K     |████████████████████████████████| 1.8 MB 45.1 MB/s \n",
            "\u001b[?25hCollecting jarowinkler<1.1.0,>=1.0.2\n",
            "  Downloading jarowinkler-1.0.2-cp37-cp37m-manylinux_2_17_x86_64.manylinux2014_x86_64.whl (103 kB)\n",
            "\u001b[K     |████████████████████████████████| 103 kB 45.7 MB/s \n",
            "\u001b[?25hInstalling collected packages: jarowinkler, rapidfuzz, Levenshtein\n",
            "Successfully installed Levenshtein-0.18.1 jarowinkler-1.0.2 rapidfuzz-2.0.11\n",
            "Looking in indexes: https://pypi.org/simple, https://us-python.pkg.dev/colab-wheels/public/simple/\n",
            "Collecting catboost\n",
            "  Downloading catboost-1.0.6-cp37-none-manylinux1_x86_64.whl (76.6 MB)\n",
            "\u001b[K     |████████████████████████████████| 76.6 MB 74 kB/s \n",
            "\u001b[?25hRequirement already satisfied: plotly in /usr/local/lib/python3.7/dist-packages (from catboost) (5.5.0)\n",
            "Requirement already satisfied: matplotlib in /usr/local/lib/python3.7/dist-packages (from catboost) (3.2.2)\n",
            "Requirement already satisfied: pandas>=0.24.0 in /usr/local/lib/python3.7/dist-packages (from catboost) (1.3.5)\n",
            "Requirement already satisfied: numpy>=1.16.0 in /usr/local/lib/python3.7/dist-packages (from catboost) (1.21.6)\n",
            "Requirement already satisfied: six in /usr/local/lib/python3.7/dist-packages (from catboost) (1.15.0)\n",
            "Requirement already satisfied: scipy in /usr/local/lib/python3.7/dist-packages (from catboost) (1.4.1)\n",
            "Requirement already satisfied: graphviz in /usr/local/lib/python3.7/dist-packages (from catboost) (0.10.1)\n",
            "Requirement already satisfied: pytz>=2017.3 in /usr/local/lib/python3.7/dist-packages (from pandas>=0.24.0->catboost) (2022.1)\n",
            "Requirement already satisfied: python-dateutil>=2.7.3 in /usr/local/lib/python3.7/dist-packages (from pandas>=0.24.0->catboost) (2.8.2)\n",
            "Requirement already satisfied: pyparsing!=2.0.4,!=2.1.2,!=2.1.6,>=2.0.1 in /usr/local/lib/python3.7/dist-packages (from matplotlib->catboost) (3.0.9)\n",
            "Requirement already satisfied: kiwisolver>=1.0.1 in /usr/local/lib/python3.7/dist-packages (from matplotlib->catboost) (1.4.3)\n",
            "Requirement already satisfied: cycler>=0.10 in /usr/local/lib/python3.7/dist-packages (from matplotlib->catboost) (0.11.0)\n",
            "Requirement already satisfied: typing-extensions in /usr/local/lib/python3.7/dist-packages (from kiwisolver>=1.0.1->matplotlib->catboost) (4.1.1)\n",
            "Requirement already satisfied: tenacity>=6.2.0 in /usr/local/lib/python3.7/dist-packages (from plotly->catboost) (8.0.1)\n",
            "Installing collected packages: catboost\n",
            "Successfully installed catboost-1.0.6\n"
          ]
        }
      ],
      "source": [
        "if is_colab:\n",
        "  !pip install Levenshtein\n",
        "  !pip install catboost"
      ]
    },
    {
      "cell_type": "markdown",
      "id": "4c67304a",
      "metadata": {
        "id": "4c67304a",
        "papermill": {
          "duration": 0.007591,
          "end_time": "2022-06-17T15:12:38.946219",
          "exception": false,
          "start_time": "2022-06-17T15:12:38.938628",
          "status": "completed"
        },
        "tags": []
      },
      "source": [
        "# change directory"
      ]
    },
    {
      "cell_type": "code",
      "execution_count": 11,
      "id": "775aab58",
      "metadata": {
        "execution": {
          "iopub.execute_input": "2022-06-17T15:12:38.963492Z",
          "iopub.status.busy": "2022-06-17T15:12:38.963103Z",
          "iopub.status.idle": "2022-06-17T15:12:38.967507Z",
          "shell.execute_reply": "2022-06-17T15:12:38.966586Z"
        },
        "id": "775aab58",
        "outputId": "86909783-3cc7-4e58-c618-5e2b182888c6",
        "papermill": {
          "duration": 0.015229,
          "end_time": "2022-06-17T15:12:38.969414",
          "exception": false,
          "start_time": "2022-06-17T15:12:38.954185",
          "status": "completed"
        },
        "tags": [],
        "colab": {
          "base_uri": "https://localhost:8080/"
        }
      },
      "outputs": [
        {
          "output_type": "stream",
          "name": "stdout",
          "text": [
            "/content/output\n"
          ]
        }
      ],
      "source": [
        "if is_colab:\n",
        "  %cd /content/output"
      ]
    },
    {
      "cell_type": "code",
      "execution_count": 12,
      "id": "150cc5e9",
      "metadata": {
        "execution": {
          "iopub.execute_input": "2022-06-17T15:12:38.987013Z",
          "iopub.status.busy": "2022-06-17T15:12:38.986599Z",
          "iopub.status.idle": "2022-06-17T15:13:41.507486Z",
          "shell.execute_reply": "2022-06-17T15:13:41.506303Z"
        },
        "papermill": {
          "duration": 62.531972,
          "end_time": "2022-06-17T15:13:41.509784",
          "exception": false,
          "start_time": "2022-06-17T15:12:38.977812",
          "status": "completed"
        },
        "tags": [],
        "colab": {
          "base_uri": "https://localhost:8080/"
        },
        "id": "150cc5e9",
        "outputId": "13067d2e-915c-4c72-f614-2410196eaad5"
      },
      "outputs": [
        {
          "output_type": "stream",
          "name": "stdout",
          "text": [
            "Looking in indexes: https://pypi.org/simple, https://us-python.pkg.dev/colab-wheels/public/simple/\n",
            "Collecting pykakasi\n",
            "  Downloading pykakasi-2.2.1-py3-none-any.whl (2.4 MB)\n",
            "\u001b[K     |████████████████████████████████| 2.4 MB 27.6 MB/s \n",
            "\u001b[?25hCollecting deprecated\n",
            "  Downloading Deprecated-1.2.13-py2.py3-none-any.whl (9.6 kB)\n",
            "Collecting jaconv\n",
            "  Downloading jaconv-0.3.tar.gz (15 kB)\n",
            "Requirement already satisfied: importlib-metadata in /usr/local/lib/python3.7/dist-packages (from pykakasi) (4.11.4)\n",
            "Requirement already satisfied: wrapt<2,>=1.10 in /usr/local/lib/python3.7/dist-packages (from deprecated->pykakasi) (1.14.1)\n",
            "Requirement already satisfied: zipp>=0.5 in /usr/local/lib/python3.7/dist-packages (from importlib-metadata->pykakasi) (3.8.0)\n",
            "Requirement already satisfied: typing-extensions>=3.6.4 in /usr/local/lib/python3.7/dist-packages (from importlib-metadata->pykakasi) (4.1.1)\n",
            "Building wheels for collected packages: jaconv\n",
            "  Building wheel for jaconv (setup.py) ... \u001b[?25l\u001b[?25hdone\n",
            "  Created wheel for jaconv: filename=jaconv-0.3-py3-none-any.whl size=15564 sha256=15c1fb608856de91feeac50d63ff8525184d15104c3f764368ae6a3df81f384b\n",
            "  Stored in directory: /root/.cache/pip/wheels/8f/4f/c2/a2a3b14d0e94f855f4aa8887bf0267bee9ecfb8e62a9ee2d92\n",
            "Successfully built jaconv\n",
            "Installing collected packages: jaconv, deprecated, pykakasi\n",
            "Successfully installed deprecated-1.2.13 jaconv-0.3 pykakasi-2.2.1\n",
            "Looking in indexes: https://pypi.org/simple, https://us-python.pkg.dev/colab-wheels/public/simple/\n",
            "Collecting fuzzywuzzy\n",
            "  Downloading fuzzywuzzy-0.18.0-py2.py3-none-any.whl (18 kB)\n",
            "Installing collected packages: fuzzywuzzy\n",
            "Successfully installed fuzzywuzzy-0.18.0\n"
          ]
        }
      ],
      "source": [
        "if is_colab:\n",
        "    !pip install pykakasi\n",
        "    !pip install fuzzywuzzy\n",
        "else :\n",
        "    !unzip ../input/foursquare-lightgbm-trained/pykakasi_deps.dontopenthiskaggle/pykakasi_deps.dontopenthiskaggle -d .\n",
        "    !conda install ./pykakasi_deps/offline_pykakasi.tar.bz2\n",
        "    !conda install ./pykakasi_deps/offline_jaconv.tar.bz2\n",
        "    !conda install ./pykakasi_deps/offline_deprecated.tar.bz2\n",
        "    !pip install ../input/foursquare-lightgbm-trained/fuzzywuzzy-0.18.0-py2.py3-none-any.whl"
      ]
    },
    {
      "cell_type": "markdown",
      "id": "9edc78b3",
      "metadata": {
        "id": "9edc78b3",
        "papermill": {
          "duration": 0.009475,
          "end_time": "2022-06-17T15:13:41.529433",
          "exception": false,
          "start_time": "2022-06-17T15:13:41.519958",
          "status": "completed"
        },
        "tags": []
      },
      "source": [
        "### This notebook is the improved version of [binary_lgb_baseline](https://www.kaggle.com/code/guoyonfan/binary-lgb-baseline-0-834), and mainly benefits from the [simple_recall_method](https://www.kaggle.com/code/guoyonfan/simple-recall-method). This notebook improves the LB score of the binary_lgb_baseline from 0.834 to 0.839.\n",
        "\n",
        "### If you find these notebooks useful, please UPVOTE!"
      ]
    },
    {
      "cell_type": "code",
      "execution_count": 13,
      "id": "1161799d",
      "metadata": {
        "execution": {
          "iopub.execute_input": "2022-06-17T15:13:41.550276Z",
          "iopub.status.busy": "2022-06-17T15:13:41.549818Z",
          "iopub.status.idle": "2022-06-17T15:13:43.914422Z",
          "shell.execute_reply": "2022-06-17T15:13:43.913480Z"
        },
        "id": "1161799d",
        "papermill": {
          "duration": 2.378235,
          "end_time": "2022-06-17T15:13:43.916937",
          "exception": false,
          "start_time": "2022-06-17T15:13:41.538702",
          "status": "completed"
        },
        "tags": []
      },
      "outputs": [],
      "source": [
        "## Imports\n",
        "import warnings\n",
        "warnings.filterwarnings('ignore')\n",
        "\n",
        "import os\n",
        "import gc\n",
        "import time\n",
        "import random\n",
        "import Levenshtein\n",
        "import difflib\n",
        "import multiprocessing\n",
        "import pandas as pd\n",
        "import numpy as np\n",
        "import lightgbm as lgb\n",
        "from collections import Counter\n",
        "from tqdm.auto import tqdm\n",
        "from tqdm.notebook import tqdm\n",
        "\n",
        "tqdm.pandas()\n",
        "\n",
        "from sklearn.neighbors import KNeighborsRegressor\n",
        "from sklearn.feature_extraction.text import TfidfVectorizer\n",
        "from sklearn.neighbors import NearestNeighbors\n",
        "\n",
        "from catboost import CatBoostClassifier\n",
        "import pykakasi\n",
        "\n",
        "from fuzzywuzzy import fuzz"
      ]
    },
    {
      "cell_type": "code",
      "execution_count": 14,
      "id": "1f1ebd8d",
      "metadata": {
        "execution": {
          "iopub.execute_input": "2022-06-17T15:13:43.937959Z",
          "iopub.status.busy": "2022-06-17T15:13:43.937574Z",
          "iopub.status.idle": "2022-06-17T15:13:43.944667Z",
          "shell.execute_reply": "2022-06-17T15:13:43.943769Z"
        },
        "id": "1f1ebd8d",
        "papermill": {
          "duration": 0.020036,
          "end_time": "2022-06-17T15:13:43.946462",
          "exception": false,
          "start_time": "2022-06-17T15:13:43.926426",
          "status": "completed"
        },
        "tags": []
      },
      "outputs": [],
      "source": [
        "TRAIN_FEATURES = features = ['kdist', 'kneighbors', 'kdist_country',\n",
        "       'kneighbors_country',  'latdiff', 'londiff', 'manhattan',\n",
        "       'euclidean', 'haversine', 'name_sim', 'name_gesh', 'name_leven',\n",
        "       'name_jaro', 'name_lcs', 'name_fuz', 'name_len_diff', 'name_nleven',\n",
        "       'name_nlcsk', 'name_nlcs', 'address_sim', 'address_gesh',\n",
        "       'address_leven', 'address_jaro', 'address_lcs', 'address_fuz',\n",
        "       'address_len_diff', 'address_nleven', 'address_nlcsk', 'address_nlcs',\n",
        "       'city_gesh', 'city_leven', 'city_jaro', 'city_lcs', 'city_fuz',\n",
        "       'city_len_diff', 'city_nleven', 'city_nlcsk', 'city_nlcs', 'state_sim',\n",
        "       'state_gesh', 'state_leven', 'state_jaro', 'state_lcs', 'state_fuz',\n",
        "       'state_len_diff', 'state_nleven', 'state_nlcsk', 'state_nlcs',\n",
        "       'zip_gesh', 'zip_leven', 'zip_jaro', 'zip_lcs', 'zip_fuz', 'url_sim',\n",
        "       'url_gesh', 'url_leven', 'url_jaro', 'url_lcs', 'url_fuz',\n",
        "       'url_len_diff', 'url_nleven', 'url_nlcsk', 'url_nlcs', 'phone_gesh',\n",
        "       'phone_leven', 'phone_jaro', 'phone_lcs', 'phone_fuz', 'categories_sim',\n",
        "       'categories_gesh', 'categories_leven', 'categories_jaro',\n",
        "       'categories_lcs', 'categories_fuz', 'categories_len_diff',\n",
        "       'categories_nleven', 'categories_nlcsk', 'categories_nlcs',\n",
        "       'country_sim', 'country_gesh', 'country_leven', 'country_jaro',\n",
        "       'country_lcs', 'country_fuz', 'country_len_diff', 'country_nleven',\n",
        "       'country_nlcsk', 'country_nlcs', 'kdist_diff',\n",
        "       'kneighbors_mean']"
      ]
    },
    {
      "cell_type": "code",
      "execution_count": 57,
      "id": "a8fc5f61",
      "metadata": {
        "execution": {
          "iopub.execute_input": "2022-06-17T15:13:43.966815Z",
          "iopub.status.busy": "2022-06-17T15:13:43.966417Z",
          "iopub.status.idle": "2022-06-17T15:13:43.972680Z",
          "shell.execute_reply": "2022-06-17T15:13:43.971848Z"
        },
        "id": "a8fc5f61",
        "papermill": {
          "duration": 0.018793,
          "end_time": "2022-06-17T15:13:43.974614",
          "exception": false,
          "start_time": "2022-06-17T15:13:43.955821",
          "status": "completed"
        },
        "tags": []
      },
      "outputs": [],
      "source": [
        "## Parameters\n",
        "NUM_NEIGHBOR = 3\n",
        "NUM_NEIGHBOR2 = 40\n",
        "SEED = 2022\n",
        "THRESHOLD = 0.5\n",
        "NUM_SPLIT = 10\n",
        "feat_columns = ['dist', 'name', 'address', 'city', \n",
        "            'state', 'zip', 'url', \n",
        "           'phone', 'categories', 'country']\n",
        "vec_columns = ['name', 'categories', 'address', \n",
        "               'state', 'url', 'country']\n",
        "rec_columns = ['name', 'address', 'categories', 'address', 'phone']\n",
        "\n",
        "def seed_everything(seed):\n",
        "    random.seed(seed)\n",
        "    np.random.seed(seed)\n",
        "    os.environ['PYTHONHASHSEED'] = str(seed)\n",
        "    \n",
        "seed_everything(SEED)"
      ]
    },
    {
      "cell_type": "code",
      "execution_count": 16,
      "id": "3bd5f378",
      "metadata": {
        "execution": {
          "iopub.execute_input": "2022-06-17T15:13:43.996057Z",
          "iopub.status.busy": "2022-06-17T15:13:43.995076Z",
          "iopub.status.idle": "2022-06-17T15:13:44.675694Z",
          "shell.execute_reply": "2022-06-17T15:13:44.675007Z"
        },
        "id": "3bd5f378",
        "papermill": {
          "duration": 0.693849,
          "end_time": "2022-06-17T15:13:44.677869",
          "exception": false,
          "start_time": "2022-06-17T15:13:43.984020",
          "status": "completed"
        },
        "tags": []
      },
      "outputs": [],
      "source": [
        "%load_ext Cython"
      ]
    },
    {
      "cell_type": "code",
      "execution_count": 17,
      "id": "ccbe0349",
      "metadata": {
        "execution": {
          "iopub.execute_input": "2022-06-17T15:13:44.700352Z",
          "iopub.status.busy": "2022-06-17T15:13:44.699703Z",
          "iopub.status.idle": "2022-06-17T15:13:46.187323Z",
          "shell.execute_reply": "2022-06-17T15:13:46.186122Z"
        },
        "id": "ccbe0349",
        "papermill": {
          "duration": 1.501675,
          "end_time": "2022-06-17T15:13:46.189811",
          "exception": false,
          "start_time": "2022-06-17T15:13:44.688136",
          "status": "completed"
        },
        "tags": []
      },
      "outputs": [],
      "source": [
        "%%cython\n",
        "def LCS(str S, str T):\n",
        "    cdef int i, j\n",
        "    cdef list dp = [[0] * (len(T) + 1) for _ in range(len(S) + 1)]\n",
        "    for i in range(len(S)):\n",
        "        for j in range(len(T)):\n",
        "            dp[i + 1][j + 1] = max(dp[i][j] + (S[i] == T[j]), dp[i + 1][j], dp[i][j + 1], dp[i + 1][j + 1])\n",
        "    return dp[len(S)][len(T)]"
      ]
    },
    {
      "cell_type": "code",
      "execution_count": 18,
      "id": "464eb062",
      "metadata": {
        "execution": {
          "iopub.execute_input": "2022-06-17T15:13:46.212863Z",
          "iopub.status.busy": "2022-06-17T15:13:46.212392Z",
          "iopub.status.idle": "2022-06-17T15:13:46.223839Z",
          "shell.execute_reply": "2022-06-17T15:13:46.222962Z"
        },
        "id": "464eb062",
        "papermill": {
          "duration": 0.025203,
          "end_time": "2022-06-17T15:13:46.225829",
          "exception": false,
          "start_time": "2022-06-17T15:13:46.200626",
          "status": "completed"
        },
        "tags": []
      },
      "outputs": [],
      "source": [
        "def post_process(df):\n",
        "    id2match = dict(zip(df['id'].values, df['matches'].str.split()))\n",
        "\n",
        "    for base, match in df[['id', 'matches']].values:\n",
        "        match = match.split()\n",
        "        if len(match) == 1:        \n",
        "            continue\n",
        "\n",
        "        for m in match:\n",
        "            if base not in id2match[m]:\n",
        "                id2match[m].append(base)\n",
        "    df['matches'] = df['id'].map(id2match).map(' '.join)\n",
        "    return df \n",
        "\n",
        "# get manhattan distance\n",
        "def manhattan(lat1, long1, lat2, long2):\n",
        "    return np.abs(lat2 - lat1) + np.abs(long2 - long1)\n",
        "\n",
        "# get haversine distance\n",
        "def vectorized_haversine(lats1, lats2, longs1, longs2):\n",
        "    radius = 6371\n",
        "    dlat=np.radians(lats2 - lats1)\n",
        "    dlon=np.radians(longs2 - longs1)\n",
        "    a = np.sin(dlat/2) * np.sin(dlat/2) + np.cos(np.radians(lats1)) \\\n",
        "        * np.cos(np.radians(lats2)) * np.sin(dlon/2) * np.sin(dlon/2)\n",
        "    c = 2 * np.arctan2(np.sqrt(a), np.sqrt(1-a))\n",
        "    d = radius * c\n",
        "    return d"
      ]
    },
    {
      "cell_type": "code",
      "execution_count": 19,
      "id": "ca655837",
      "metadata": {
        "execution": {
          "iopub.execute_input": "2022-06-17T15:13:46.249689Z",
          "iopub.status.busy": "2022-06-17T15:13:46.248698Z",
          "iopub.status.idle": "2022-06-17T15:13:46.258777Z",
          "shell.execute_reply": "2022-06-17T15:13:46.257977Z"
        },
        "id": "ca655837",
        "papermill": {
          "duration": 0.023565,
          "end_time": "2022-06-17T15:13:46.260832",
          "exception": false,
          "start_time": "2022-06-17T15:13:46.237267",
          "status": "completed"
        },
        "tags": []
      },
      "outputs": [],
      "source": [
        "def recall_simple(df):\n",
        "    threshold = 2\n",
        "    \n",
        "    val2id_d = {}\n",
        "    for col in rec_columns:\n",
        "        temp_df = df[['id', col]]\n",
        "        temp_df[col] = temp_df[col].str.lower()\n",
        "        val2id = temp_df.groupby(col)['id'].apply(set).to_dict()\n",
        "        val2id_d[col] = val2id\n",
        "        del val2id\n",
        "    \n",
        "    cus_ids = []\n",
        "    match_ids = []\n",
        "    for vals in tqdm(df[rec_columns + ['id']].fillna('null').values):\n",
        "        cus_id = vals[-1]\n",
        "        match_id = []\n",
        "        \n",
        "        rec_match_count = []\n",
        "        for i in range(len(rec_columns)):\n",
        "            col = rec_columns[i]\n",
        "            \n",
        "            if vals[i] != 'null':\n",
        "                rec_match_count += list(val2id_d[col][vals[i].lower()])\n",
        "        rec_match_count = dict(Counter(rec_match_count))\n",
        "        \n",
        "        for k, v in rec_match_count.items():\n",
        "            if v > threshold:\n",
        "                match_id.append(k)\n",
        "        \n",
        "        cus_ids += [cus_id] * len(match_id)\n",
        "        match_ids += match_id\n",
        "    \n",
        "    train_df = pd.DataFrame()\n",
        "    train_df['id'] = cus_ids\n",
        "    train_df['match_id'] = match_ids\n",
        "    train_df = train_df.drop_duplicates()\n",
        "    del cus_ids, match_ids\n",
        "    \n",
        "    num_data = len(train_df)\n",
        "    num_data_per_id = num_data / train_df['id'].nunique()\n",
        "    print('Num of data: %s' % num_data)\n",
        "    print('Num of data per id: %s' % num_data_per_id)\n",
        "    \n",
        "    return train_df"
      ]
    },
    {
      "cell_type": "code",
      "execution_count": 20,
      "id": "bdd658f8",
      "metadata": {
        "execution": {
          "iopub.execute_input": "2022-06-17T15:13:46.282886Z",
          "iopub.status.busy": "2022-06-17T15:13:46.282318Z",
          "iopub.status.idle": "2022-06-17T15:13:46.293035Z",
          "shell.execute_reply": "2022-06-17T15:13:46.292200Z"
        },
        "id": "bdd658f8",
        "papermill": {
          "duration": 0.024084,
          "end_time": "2022-06-17T15:13:46.295110",
          "exception": false,
          "start_time": "2022-06-17T15:13:46.271026",
          "status": "completed"
        },
        "tags": []
      },
      "outputs": [],
      "source": [
        "def recall_knn(df, Neighbors = 10, Neighbors2 = 10):\n",
        "    print('Start knn grouped by country')\n",
        "    train_df_country = []\n",
        "    for country, country_df in tqdm(df.groupby('country')):\n",
        "        country_df = country_df.reset_index(drop = True)\n",
        "\n",
        "        neighbors = min(len(country_df), Neighbors)\n",
        "        knn = KNeighborsRegressor(n_neighbors = neighbors,\n",
        "                                    metric = 'haversine',\n",
        "                                    n_jobs = -1)\n",
        "        knn.fit(country_df[['latitude','longitude']], country_df.index)\n",
        "        dists, nears = knn.kneighbors(country_df[['latitude', 'longitude']], \n",
        "                                        return_distance = True)\n",
        "\n",
        "        for k in range(neighbors):            \n",
        "            cur_df = country_df[['id']]\n",
        "            cur_df['match_id'] = country_df['id'].values[nears[:, k]]\n",
        "            cur_df['kdist_country'] = dists[:, k]\n",
        "            cur_df['kneighbors_country'] = k\n",
        "            \n",
        "            train_df_country.append(cur_df)\n",
        "    train_df_country = pd.concat(train_df_country)\n",
        "    \n",
        "    print('Start knn')\n",
        "    train_df = []\n",
        "    knn = NearestNeighbors(n_neighbors = Neighbors2)\n",
        "    knn.fit(df[['latitude','longitude']], df.index)\n",
        "    dists, nears = knn.kneighbors(df[['latitude','longitude']])\n",
        "    \n",
        "    for k in range(Neighbors2):            \n",
        "        cur_df = df[['id']]\n",
        "        cur_df['match_id'] = df['id'].values[nears[:, k]]\n",
        "        cur_df['kdist'] = dists[:, k]\n",
        "        cur_df['kneighbors'] = k\n",
        "        train_df.append(cur_df)\n",
        "    \n",
        "    train_df = pd.concat(train_df)\n",
        "    train_df = train_df.merge(train_df_country,\n",
        "                                 on = ['id', 'match_id'],\n",
        "                                 how = 'outer')\n",
        "    del train_df_country\n",
        "    \n",
        "    return train_df"
      ]
    },
    {
      "cell_type": "code",
      "execution_count": 21,
      "id": "d2c348d1",
      "metadata": {
        "execution": {
          "iopub.execute_input": "2022-06-17T15:13:46.317858Z",
          "iopub.status.busy": "2022-06-17T15:13:46.317490Z",
          "iopub.status.idle": "2022-06-17T15:13:46.334429Z",
          "shell.execute_reply": "2022-06-17T15:13:46.333605Z"
        },
        "id": "d2c348d1",
        "papermill": {
          "duration": 0.030951,
          "end_time": "2022-06-17T15:13:46.336433",
          "exception": false,
          "start_time": "2022-06-17T15:13:46.305482",
          "status": "completed"
        },
        "tags": []
      },
      "outputs": [],
      "source": [
        "def add_features(df):    \n",
        "    for col in tqdm(feat_columns):\n",
        "        if col == 'dist':\n",
        "            lat = data.loc[df['id']]['latitude'].values\n",
        "            match_lat = data.loc[df['match_id']]['latitude'].values\n",
        "            lon = data.loc[df['id']]['longitude'].values\n",
        "            match_lon = data.loc[df['match_id']]['longitude'].values\n",
        "            df['latdiff'] = (lat - match_lat)\n",
        "            df['londiff'] = (lon - match_lon)\n",
        "            df['manhattan'] = manhattan(lat, lon, match_lat, match_lon)\n",
        "            df['euclidean'] = (df['latdiff'] ** 2 + df['londiff'] ** 2) ** 0.5\n",
        "            df['haversine'] = vectorized_haversine(lat, match_lat, lon, match_lon)\n",
        "            continue\n",
        "        \n",
        "        col_values = data.loc[df['id']][col].values.astype(str)\n",
        "        matcol_values = data.loc[df['match_id']][col].values.astype(str)\n",
        "        \n",
        "        if col in vec_columns:\n",
        "            tv_fit = tfidf_d[col]\n",
        "            indexs = [id2index_d[i] for i in df['id']]\n",
        "            match_indexs = [id2index_d[i] for i in df['match_id']]                    \n",
        "            df[f'{col}_sim'] = tv_fit[indexs].multiply(tv_fit[match_indexs]).\\\n",
        "                                            sum(axis = 1).A.ravel()\n",
        "        \n",
        "        geshs = []\n",
        "        levens = []\n",
        "        jaros = []\n",
        "        lcss = []\n",
        "        fuzwuz = []\n",
        "        for s, match_s in zip(col_values, matcol_values):\n",
        "            if s != 'nan' and match_s != 'nan':                    \n",
        "                geshs.append(difflib.SequenceMatcher(None, s, match_s).ratio())\n",
        "                levens.append(Levenshtein.distance(s, match_s))\n",
        "                jaros.append(Levenshtein.jaro_winkler(s, match_s))\n",
        "                lcss.append(LCS(str(s), str(match_s)))\n",
        "                fuzwuz.append(fuzz.ratio(s, match_s))\n",
        "            else:\n",
        "                geshs.append(np.nan)\n",
        "                levens.append(np.nan)\n",
        "                jaros.append(np.nan)\n",
        "                lcss.append(np.nan)\n",
        "                fuzwuz.append(np.nan)\n",
        "        \n",
        "        df[f'{col}_gesh'] = geshs\n",
        "        df[f'{col}_leven'] = levens\n",
        "        df[f'{col}_jaro'] = jaros\n",
        "        df[f'{col}_lcs'] = lcss\n",
        "        df[f'{col}_fuz'] = fuzwuz\n",
        "        \n",
        "        if col not in ['phone', 'zip']:\n",
        "            df[f'{col}_len'] = list(map(len, col_values))\n",
        "            df[f'match_{col}_len'] = list(map(len, matcol_values)) \n",
        "            df[f'{col}_len_diff'] = np.abs(df[f'{col}_len'] - df[f'match_{col}_len']) /\\\n",
        "                                        df[f'{col}_len'] \n",
        "            df[f'{col}_nleven'] = df[f'{col}_leven'] / \\\n",
        "                                    df[[f'{col}_len', f'match_{col}_len']].max(axis = 1)\n",
        "            \n",
        "            df[f'{col}_nlcsk'] = df[f'{col}_lcs'] / df[f'match_{col}_len']\n",
        "            df[f'{col}_nlcs'] = df[f'{col}_lcs'] / df[f'{col}_len']\n",
        "            \n",
        "            df = df.drop(f'{col}_len', axis = 1)\n",
        "            df = df.drop(f'match_{col}_len', axis = 1)\n",
        "            gc.collect()\n",
        "            \n",
        "    return df"
      ]
    },
    {
      "cell_type": "markdown",
      "id": "9d32a899",
      "metadata": {
        "papermill": {
          "duration": 0.009833,
          "end_time": "2022-06-17T15:13:46.356124",
          "exception": false,
          "start_time": "2022-06-17T15:13:46.346291",
          "status": "completed"
        },
        "tags": [],
        "id": "9d32a899"
      },
      "source": [
        "## alphabet convert"
      ]
    },
    {
      "cell_type": "code",
      "execution_count": 22,
      "id": "2c80345d",
      "metadata": {
        "execution": {
          "iopub.execute_input": "2022-06-17T15:13:46.378497Z",
          "iopub.status.busy": "2022-06-17T15:13:46.377902Z",
          "iopub.status.idle": "2022-06-17T15:13:46.385269Z",
          "shell.execute_reply": "2022-06-17T15:13:46.384485Z"
        },
        "id": "2c80345d",
        "papermill": {
          "duration": 0.020691,
          "end_time": "2022-06-17T15:13:46.387097",
          "exception": false,
          "start_time": "2022-06-17T15:13:46.366406",
          "status": "completed"
        },
        "tags": []
      },
      "outputs": [],
      "source": [
        "def convert_japanese_alphabet(df: pd.DataFrame):\n",
        "    kakasi = pykakasi.kakasi()\n",
        "    kakasi.setMode('H', 'a')  # Convert Hiragana into alphabet\n",
        "    kakasi.setMode('K', 'a')  # Convert Katakana into alphabet\n",
        "    kakasi.setMode('J', 'a')  # Convert Kanji into alphabet\n",
        "    conversion = kakasi.getConverter()\n",
        "\n",
        "    def convert(row):\n",
        "        for column in [\"name\", \"address\", \"city\", \"state\"]:\n",
        "            try:\n",
        "                row[column] = conversion.do(row[column])\n",
        "            except:\n",
        "                pass\n",
        "        return row\n",
        "\n",
        "    df[df[\"country\"] == \"JP\"] = df[df[\"country\"] == \"JP\"].progress_apply(convert, axis=1)\n",
        "    return df"
      ]
    },
    {
      "cell_type": "markdown",
      "source": [
        "## for CV"
      ],
      "metadata": {
        "id": "eXml2rLn1h54"
      },
      "id": "eXml2rLn1h54"
    },
    {
      "cell_type": "code",
      "source": [
        "# https://www.kaggle.com/code/columbia2131/foursquare-iou-metrics\n",
        "def get_id2poi(input_df: pd.DataFrame) -> dict:\n",
        "  return dict(zip(input_df['id'], input_df['point_of_interest']))\n",
        "\n",
        "def get_poi2ids(input_df: pd.DataFrame) -> dict:\n",
        "  return input_df.groupby('point_of_interest')['id'].apply(set).to_dict()\n",
        "\n",
        "# KNNで選ばれたデータの正解のカバー率を計測する\n",
        "def get_score(input_df: pd.DataFrame):\n",
        "  scores = []\n",
        "  for id_str, matches in zip(input_df['id'].to_numpy(), input_df['matches'].to_numpy()):\n",
        "    targets = poi2ids[id2poi[id_str]]\n",
        "    preds = set(matches.split())\n",
        "    score = len((targets & preds)) / len((targets | preds))\n",
        "    scores.append(score)\n",
        "  scores = np.array(scores)\n",
        "  return scores.mean()"
      ],
      "metadata": {
        "id": "El2GKRjWydV0"
      },
      "id": "El2GKRjWydV0",
      "execution_count": 23,
      "outputs": []
    },
    {
      "cell_type": "code",
      "source": [
        ""
      ],
      "metadata": {
        "id": "eIGUir_Mz3W6"
      },
      "id": "eIGUir_Mz3W6",
      "execution_count": 53,
      "outputs": []
    },
    {
      "cell_type": "code",
      "execution_count": 54,
      "id": "024b3989",
      "metadata": {
        "execution": {
          "iopub.execute_input": "2022-06-17T15:13:46.409041Z",
          "iopub.status.busy": "2022-06-17T15:13:46.408636Z",
          "iopub.status.idle": "2022-06-17T15:13:50.400209Z",
          "shell.execute_reply": "2022-06-17T15:13:50.398722Z"
        },
        "id": "024b3989",
        "outputId": "4763351e-1e2f-43a4-f5b5-80884c6592da",
        "papermill": {
          "duration": 4.004798,
          "end_time": "2022-06-17T15:13:50.402205",
          "exception": false,
          "start_time": "2022-06-17T15:13:46.397407",
          "status": "completed"
        },
        "tags": [],
        "colab": {
          "base_uri": "https://localhost:8080/",
          "height": 462,
          "referenced_widgets": [
            "e0d75a4ec40b4eb18184b204e734c53c",
            "cc0a8333405a4b65835d21baeb6a3929",
            "0273910ff9e84f3d8fb120d260b54fca",
            "b20b892325914ae4b72add99a73c79ef",
            "0de9b2beb278411fa92091c1051f813d",
            "994289d7723b4d3daa80aae7d5c0b909",
            "aab3d278710e41c29d29979b08116139",
            "376e536c9b014e6f80fe3807a519952c",
            "e83e6b0cb45d45438bed243d288fd9bc",
            "09a25b0eb90d4a8ab5ec68baf91f68d5",
            "50f65f7dd27b4159928bf53990097df7",
            "0750fe54eab24d68af50fffba78c7dad",
            "614b757412db402fae1b52b6d22d068f",
            "daf8991e10564ce0a87006572ea4f06f",
            "5cf612ec89e5488ea356f8625d33c1e0",
            "b13acce3c6b743638d610f9b6cb75678",
            "a431592e2be9438fbcf0aef039d8f044",
            "b98562a77ba34802b37a21a113b8013f",
            "29b97a7a672d4ca390ca8393ec883f21",
            "82b201f627914127985086827259ede7",
            "b7aa78c9e3aa421cb469d567f30559d7",
            "fdf0664478b5418e898dc49dd8cc1ccf"
          ]
        }
      },
      "outputs": [
        {
          "output_type": "display_data",
          "data": {
            "text/plain": [
              "  0%|          | 0/28471 [00:00<?, ?it/s]"
            ],
            "application/vnd.jupyter.widget-view+json": {
              "version_major": 2,
              "version_minor": 0,
              "model_id": "e0d75a4ec40b4eb18184b204e734c53c"
            }
          },
          "metadata": {}
        },
        {
          "output_type": "stream",
          "name": "stdout",
          "text": [
            "Num of data: 23788\n",
            "Num of data per id: 1.2805770887166237\n",
            "Start knn grouped by country\n"
          ]
        },
        {
          "output_type": "display_data",
          "data": {
            "text/plain": [
              "  0%|          | 0/138 [00:00<?, ?it/s]"
            ],
            "application/vnd.jupyter.widget-view+json": {
              "version_major": 2,
              "version_minor": 0,
              "model_id": "0750fe54eab24d68af50fffba78c7dad"
            }
          },
          "metadata": {}
        },
        {
          "output_type": "stream",
          "name": "stdout",
          "text": [
            "Start knn\n",
            "train data by knn: 1145236\n",
            "Num of unique id: 28471\n",
            "Num of test data: 1147714\n",
            "                      id          match_id     kdist  kneighbors  \\\n",
            "581624  E_6e38efe0275b98  E_73e377041fe897  1.699706        20.0   \n",
            "320160  E_3edc343f3916e6  E_7bcc3dec026565  0.005804        11.0   \n",
            "574786  E_3008f2461c1353  E_915978f4088b76  0.893472        20.0   \n",
            "831284  E_324ae003e3a7d6  E_03ee54dd197fcb  0.039659        29.0   \n",
            "554633  E_7aae30a870f76b  E_2780a1b7894d68  0.012414        19.0   \n",
            "\n",
            "        kdist_country  kneighbors_country  \n",
            "581624            NaN                 NaN  \n",
            "320160            NaN                 NaN  \n",
            "574786            NaN                 NaN  \n",
            "831284            NaN                 NaN  \n",
            "554633            NaN                 NaN  \n"
          ]
        }
      ],
      "source": [
        "from sklearn.model_selection import GroupKFold\n",
        "\n",
        "## Dada process\n",
        "if is_colab:\n",
        "    data = pd.read_csv('../input/foursquare-location-matching/train.csv')\n",
        "    tv_ids_d = np.load('/content/drive/MyDrive/datas/foursquare/traindata3/tv_ids_d.npy', allow_pickle=True).item()\n",
        "    data = data.set_index('id')\n",
        "    data = data.loc[tv_ids_d['valid_ids']]\n",
        "    kf = GroupKFold(n_splits=20)\n",
        "    for trn_idx, val_idx in kf.split(data, \n",
        "                                      data['point_of_interest'], \n",
        "                                      data['point_of_interest']):\n",
        "      idx = val_idx\n",
        "      break\n",
        "    data = data.iloc[idx] \n",
        "    data = data.reset_index()\n",
        "    # id --> poi変換用の辞書. １対１の関係\n",
        "    id2poi = get_id2poi(data)\n",
        "    # poi --> id変換用の辞書辞書. １対多の関係\n",
        "    poi2ids = get_poi2ids(data)   \n",
        "    data = data.drop('point_of_interest', axis = 1)\n",
        "\n",
        "else :\n",
        "    data = pd.read_csv('../input/foursquare-location-matching/test.csv')\n",
        "\n",
        "    if len(data) < 20:\n",
        "        data = pd.read_csv('../input/foursquare-location-matching/train.csv',\n",
        "                          nrows = 100)\n",
        "        data = data.drop('point_of_interest', axis = 1)\n",
        "   \n",
        "#need to new dataset\n",
        "# data = convert_japanese_alphabet(data)\n",
        "\n",
        "# special process\n",
        "def get_lower(x):\n",
        "    try:\n",
        "        return x.lower()\n",
        "    except:\n",
        "        return x\n",
        "\n",
        "for col in data.columns:\n",
        "    if data[col].dtype == object and col != 'id':\n",
        "        data[col] = data[col].apply(get_lower)\n",
        "        \n",
        "id2index_d = dict(zip(data['id'].values, data.index))\n",
        "\n",
        "tfidf_d = {}\n",
        "for col in vec_columns:\n",
        "    tfidf = TfidfVectorizer()\n",
        "    tv_fit = tfidf.fit_transform(data[col].fillna('nan'))\n",
        "    tfidf_d[col] = tv_fit\n",
        "\n",
        "out_df = pd.DataFrame()\n",
        "out_df['id'] = data['id'].unique().tolist()\n",
        "out_df['match_id'] = out_df['id']\n",
        "\n",
        "test_data_simple = recall_simple(data)\n",
        "test_data = recall_knn(data, NUM_NEIGHBOR, NUM_NEIGHBOR2)\n",
        "\n",
        "print('train data by knn: %s' % len(test_data))\n",
        "test_data = test_data.merge(test_data_simple,\n",
        "                             on = ['id', 'match_id'],\n",
        "                             how = 'outer')\n",
        "del test_data_simple\n",
        "gc.collect()\n",
        "\n",
        "data = data.set_index('id')\n",
        "print('Num of unique id: %s' % test_data['id'].nunique())\n",
        "print('Num of test data: %s' % len(test_data))\n",
        "print(test_data.sample(5))"
      ]
    },
    {
      "cell_type": "code",
      "execution_count": 55,
      "id": "1e65615e",
      "metadata": {
        "execution": {
          "iopub.execute_input": "2022-06-17T15:13:50.425382Z",
          "iopub.status.busy": "2022-06-17T15:13:50.424441Z",
          "iopub.status.idle": "2022-06-17T15:13:50.428577Z",
          "shell.execute_reply": "2022-06-17T15:13:50.427824Z"
        },
        "id": "1e65615e",
        "papermill": {
          "duration": 0.018309,
          "end_time": "2022-06-17T15:13:50.430784",
          "exception": false,
          "start_time": "2022-06-17T15:13:50.412475",
          "status": "completed"
        },
        "tags": []
      },
      "outputs": [],
      "source": [
        "# pair = pd.read_csv('../input/foursquare-location-matching/pairs.csv')\n",
        "# test_data = pair[['id_1', 'id_2','match']]\n",
        "# test_data.columns = ['id', 'match_id', 'match']\n",
        "# test_data.head()"
      ]
    },
    {
      "cell_type": "code",
      "execution_count": 56,
      "id": "6c87824e",
      "metadata": {
        "execution": {
          "iopub.execute_input": "2022-06-17T15:13:50.453257Z",
          "iopub.status.busy": "2022-06-17T15:13:50.452387Z",
          "iopub.status.idle": "2022-06-17T15:13:51.461481Z",
          "shell.execute_reply": "2022-06-17T15:13:51.460762Z"
        },
        "id": "6c87824e",
        "papermill": {
          "duration": 1.024,
          "end_time": "2022-06-17T15:13:51.464884",
          "exception": false,
          "start_time": "2022-06-17T15:13:50.440884",
          "status": "completed"
        },
        "tags": [],
        "colab": {
          "base_uri": "https://localhost:8080/",
          "height": 49,
          "referenced_widgets": [
            "3749bd91907d4a088da6e19a5f0caa56",
            "d29d0cd215c7453ca23f1d3bb40ed925",
            "3b8c746bc1404f639a782acaacd23f9f",
            "f2fa0e181d8b406c90a546259dab7fa5",
            "af7eeea17f6441938ba231581e9c8843",
            "9ddf63eadcb744a6aa080c0ead56e2dc",
            "36b40fcb13cf4208b01a8d1067a23756",
            "7dd00dbd944b4cdbb57c63fd7166a312",
            "12504105c80d405381b119d1924b08ad",
            "4e9f89af1c0b40049c8b76ca3551f341",
            "9eda6d02f46c4261b99cc7b045249197"
          ]
        },
        "outputId": "eb875543-1913-4f99-c1cf-8446ca15aa92"
      },
      "outputs": [
        {
          "output_type": "display_data",
          "data": {
            "text/plain": [
              "  0%|          | 0/10 [00:00<?, ?it/s]"
            ],
            "application/vnd.jupyter.widget-view+json": {
              "version_major": 2,
              "version_minor": 0,
              "model_id": "3749bd91907d4a088da6e19a5f0caa56"
            }
          },
          "metadata": {}
        }
      ],
      "source": [
        "x = add_features(test_data[:10])\n",
        "x['kdist_diff'] = (x['kdist'] - x['kdist_country']) /\\\n",
        "                            x['kdist_country']\n",
        "x['kneighbors_mean'] = x[['kneighbors', 'kneighbors_country']].mean(axis = 1)"
      ]
    },
    {
      "cell_type": "code",
      "execution_count": 58,
      "id": "aa7845a4",
      "metadata": {
        "execution": {
          "iopub.execute_input": "2022-06-17T15:13:51.487151Z",
          "iopub.status.busy": "2022-06-17T15:13:51.486386Z",
          "iopub.status.idle": "2022-06-17T15:13:51.490502Z",
          "shell.execute_reply": "2022-06-17T15:13:51.489875Z"
        },
        "papermill": {
          "duration": 0.016875,
          "end_time": "2022-06-17T15:13:51.492211",
          "exception": false,
          "start_time": "2022-06-17T15:13:51.475336",
          "status": "completed"
        },
        "tags": [],
        "id": "aa7845a4"
      },
      "outputs": [],
      "source": [
        "for e in TRAIN_FEATURES:\n",
        "    if e not in x : print(e)"
      ]
    },
    {
      "cell_type": "code",
      "execution_count": 59,
      "id": "3053371a",
      "metadata": {
        "execution": {
          "iopub.execute_input": "2022-06-17T15:13:51.514114Z",
          "iopub.status.busy": "2022-06-17T15:13:51.513510Z",
          "iopub.status.idle": "2022-06-17T15:13:53.248641Z",
          "shell.execute_reply": "2022-06-17T15:13:53.247710Z"
        },
        "id": "3053371a",
        "papermill": {
          "duration": 1.748287,
          "end_time": "2022-06-17T15:13:53.250548",
          "exception": false,
          "start_time": "2022-06-17T15:13:51.502261",
          "status": "completed"
        },
        "tags": [],
        "colab": {
          "base_uri": "https://localhost:8080/"
        },
        "outputId": "c75302ef-c569-4241-e3e5-2a3faef363d1"
      },
      "outputs": [
        {
          "output_type": "execute_result",
          "data": {
            "text/plain": [
              "[<lightgbm.basic.Booster at 0x7f2eb1f29ed0>]"
            ]
          },
          "metadata": {},
          "execution_count": 59
        }
      ],
      "source": [
        "## Model load\n",
        "mtype = [\n",
        "    'lightgbm',\n",
        "    # 'lightgbm',\n",
        "    # 'lightgbm',\n",
        "#     'catboost','catboost','catboost'\n",
        "]\n",
        "models = [\n",
        "    '/content/drive/MyDrive/datas/foursquare/lightgbm/lgbm3_fold0.txt',\n",
        "    # '/content/drive/MyDrive/datas/foursquare/lightgbm/lgbm3_fold1.txt',\n",
        "    # '/content/drive/MyDrive/datas/foursquare/lightgbm/lgbm3_fold2.txt',\n",
        "]\n",
        "features = [\n",
        "           TRAIN_FEATURES,\n",
        "          #  TRAIN_FEATURES,\n",
        "          #  TRAIN_FEATURES,\n",
        "           ]\n",
        "\n",
        "mix_model = []\n",
        "for i, e in enumerate(mtype) :\n",
        "    if e == 'catboost' :\n",
        "      m = CatBoostClassifier()\n",
        "      m.load_model(models[i])\n",
        "      mix_model.append(m)\n",
        "    else :\n",
        "      mix_model.append(lgb.Booster(model_file = models[i]))\n",
        "\n",
        "mix_model"
      ]
    },
    {
      "cell_type": "code",
      "execution_count": null,
      "id": "4d01b4fc",
      "metadata": {
        "execution": {
          "iopub.execute_input": "2022-06-17T15:13:53.273131Z",
          "iopub.status.busy": "2022-06-17T15:13:53.272231Z",
          "iopub.status.idle": "2022-06-17T15:14:06.945773Z",
          "shell.execute_reply": "2022-06-17T15:14:06.944749Z"
        },
        "id": "4d01b4fc",
        "papermill": {
          "duration": 13.687238,
          "end_time": "2022-06-17T15:14:06.947840",
          "exception": false,
          "start_time": "2022-06-17T15:13:53.260602",
          "status": "completed"
        },
        "tags": [],
        "colab": {
          "base_uri": "https://localhost:8080/",
          "height": 170,
          "referenced_widgets": [
            "2bfcda14a8ba4b3ab5783e200e6d54d5",
            "27db4e5b4c2d40e69121cade16782c98",
            "0450953d1ee64ccc8f2ae69eed0a6d9a",
            "8af8a5556de84a9d92c701abdd168686",
            "79969b51b4df46168dcbed4eb8b71131",
            "5cbba72c62dd45268d33d2ca026f6cd5",
            "49d6539a9e7041d98a9b67ff47aa868b",
            "75cdd5dd5fd34264a7c6a8a8617c36a6",
            "e3be58298d4f4dca9cc5cef8a682c9e4",
            "0bd4d91101184afebbce6f2084f07a31",
            "8bec227aaf9644079e31416a724d8373",
            "9876da30721046a185bf235a10d9be63",
            "73ccd3543ef04b99aa08f01621ee9972",
            "8fc3cdea85d240b4845f81a286cb2232",
            "e00a6a7dfd3841dba033f50cc76eb110",
            "69e6f17602074820a3d0b3c1fc9a7a71",
            "e55b92d89a0947ef815a32a07675d7b0",
            "4170bfe2e2bf4342ae34413182c7fc39",
            "234f5a9f764042ae83cacf164846fbf4",
            "b666297db2ef43d094c24118c489babf",
            "3cad8b02ecd94e89a53c335fb2136bc5",
            "2dd879c9b8834856a703a7f0d666b938",
            "8ba8196432f94e34ae7a49ad42946335",
            "4e83f3ab9ba24eb1aecc33f15cdfd5d2",
            "32b3d8dc557f4d3488c2bc6fd52af817",
            "d9c3b1bdc8da42289f4727c5d7d7b724",
            "a54cf4d19854485ab0e7834db5c0c16d",
            "803809ae2abc4286a28276d33a660596",
            "0bc9938d5d034f1a9ee85e2c3feadd10",
            "d958f089452a419eb9595f697848de49",
            "ddbf315bd31d45b5862edf295592b03c",
            "88d16103446a439d8368c694b8e4d08a",
            "b11e71328b9b4af481784799b4cafc0c"
          ]
        },
        "outputId": "dad0ff09-9db5-420e-ac1e-439297e76013"
      },
      "outputs": [
        {
          "output_type": "stream",
          "name": "stdout",
          "text": [
            "Current split: 1\n"
          ]
        },
        {
          "output_type": "display_data",
          "data": {
            "text/plain": [
              "  0%|          | 0/10 [00:00<?, ?it/s]"
            ],
            "application/vnd.jupyter.widget-view+json": {
              "version_major": 2,
              "version_minor": 0,
              "model_id": "2bfcda14a8ba4b3ab5783e200e6d54d5"
            }
          },
          "metadata": {}
        },
        {
          "output_type": "stream",
          "name": "stdout",
          "text": [
            "Current split: 2\n"
          ]
        },
        {
          "output_type": "display_data",
          "data": {
            "text/plain": [
              "  0%|          | 0/10 [00:00<?, ?it/s]"
            ],
            "application/vnd.jupyter.widget-view+json": {
              "version_major": 2,
              "version_minor": 0,
              "model_id": "9876da30721046a185bf235a10d9be63"
            }
          },
          "metadata": {}
        },
        {
          "output_type": "stream",
          "name": "stdout",
          "text": [
            "Current split: 3\n"
          ]
        },
        {
          "output_type": "display_data",
          "data": {
            "text/plain": [
              "  0%|          | 0/10 [00:00<?, ?it/s]"
            ],
            "application/vnd.jupyter.widget-view+json": {
              "version_major": 2,
              "version_minor": 0,
              "model_id": "8ba8196432f94e34ae7a49ad42946335"
            }
          },
          "metadata": {}
        }
      ],
      "source": [
        "## Prediction\n",
        "count = 0\n",
        "start_row = 0\n",
        "pred_df = pd.DataFrame()\n",
        "unique_id = test_data['id'].unique().tolist()\n",
        "num_split_id = len(unique_id) // NUM_SPLIT\n",
        "for k in range(1, NUM_SPLIT + 1):\n",
        "    print('Current split: %s' % k)\n",
        "    end_row = start_row + num_split_id\n",
        "    if k < NUM_SPLIT:\n",
        "        cur_id = unique_id[start_row : end_row]\n",
        "        cur_data = test_data[test_data['id'].isin(cur_id)]\n",
        "    else:\n",
        "        cur_id = unique_id[start_row: ]\n",
        "        cur_data = test_data[test_data['id'].isin(cur_id)]\n",
        "    \n",
        "    # add features & model prediction\n",
        "    cur_data = add_features(cur_data)\n",
        "    cur_data['kdist_diff'] = (cur_data['kdist'] - cur_data['kdist_country']) /\\\n",
        "                                cur_data['kdist_country']\n",
        "    cur_data['kneighbors_mean'] = cur_data[['kneighbors', 'kneighbors_country']].mean(axis = 1)\n",
        "\n",
        "    preds = []\n",
        "    for num, model in enumerate(mix_model) :\n",
        "      if mtype[num] == 'catboost' :\n",
        "          res = model.predict_proba(cur_data[features[num]])[:,1]\n",
        "      else :\n",
        "          res = model.predict(cur_data[features[num]])#,predict_disable_shape_check=True)\n",
        "      cur_data['pred{}'.format(num)] = res\n",
        "      preds.append('pred{}'.format(num))\n",
        "\n",
        "#    cur_pred_df = cur_data[cur_data['pred'] > THRESHOLD][['id', 'match_id']]\n",
        "    cur_pred_df = cur_data[['id','match_id']+preds]\n",
        "    pred_df = pd.concat([pred_df, cur_pred_df])\n",
        "    \n",
        "    start_row = end_row\n",
        "    count += len(cur_data)\n",
        "\n",
        "    del cur_data, cur_pred_df\n",
        "    gc.collect()\n",
        "print(count)"
      ]
    },
    {
      "cell_type": "code",
      "execution_count": null,
      "id": "495b15a9",
      "metadata": {
        "execution": {
          "iopub.execute_input": "2022-06-17T15:14:06.973425Z",
          "iopub.status.busy": "2022-06-17T15:14:06.973072Z",
          "iopub.status.idle": "2022-06-17T15:14:06.990247Z",
          "shell.execute_reply": "2022-06-17T15:14:06.989275Z"
        },
        "id": "495b15a9",
        "papermill": {
          "duration": 0.032086,
          "end_time": "2022-06-17T15:14:06.992158",
          "exception": false,
          "start_time": "2022-06-17T15:14:06.960072",
          "status": "completed"
        },
        "tags": []
      },
      "outputs": [],
      "source": [
        "pred_df"
      ]
    },
    {
      "cell_type": "code",
      "execution_count": null,
      "id": "e7bab131",
      "metadata": {
        "execution": {
          "iopub.execute_input": "2022-06-17T15:14:07.017982Z",
          "iopub.status.busy": "2022-06-17T15:14:07.017063Z",
          "iopub.status.idle": "2022-06-17T15:14:07.023195Z",
          "shell.execute_reply": "2022-06-17T15:14:07.022599Z"
        },
        "id": "e7bab131",
        "papermill": {
          "duration": 0.020663,
          "end_time": "2022-06-17T15:14:07.024835",
          "exception": false,
          "start_time": "2022-06-17T15:14:07.004172",
          "status": "completed"
        },
        "tags": []
      },
      "outputs": [],
      "source": [
        "#pred_df['pred']=(pred_df['pred0'] + pred_df['pred1'] + pred_df['pred2'] + pred_df['pred3'] + pred_df['pred4'] + pred_df['pred5'])/6\n",
        "# pred_df['pred']=(pred_df['pred0']+pred_df['pred1']+pred_df['pred2'])/3\n",
        "pred_df['pred']=pred_df['pred0']"
      ]
    },
    {
      "cell_type": "code",
      "execution_count": null,
      "id": "676f6619",
      "metadata": {
        "execution": {
          "iopub.execute_input": "2022-06-17T15:14:07.050563Z",
          "iopub.status.busy": "2022-06-17T15:14:07.049649Z",
          "iopub.status.idle": "2022-06-17T15:14:07.065404Z",
          "shell.execute_reply": "2022-06-17T15:14:07.064755Z"
        },
        "id": "676f6619",
        "papermill": {
          "duration": 0.030496,
          "end_time": "2022-06-17T15:14:07.067068",
          "exception": false,
          "start_time": "2022-06-17T15:14:07.036572",
          "status": "completed"
        },
        "tags": []
      },
      "outputs": [],
      "source": [
        "pred_df"
      ]
    },
    {
      "cell_type": "code",
      "execution_count": null,
      "id": "7cb3ed0a",
      "metadata": {
        "execution": {
          "iopub.execute_input": "2022-06-17T15:14:07.093160Z",
          "iopub.status.busy": "2022-06-17T15:14:07.092594Z",
          "iopub.status.idle": "2022-06-17T15:14:07.103901Z",
          "shell.execute_reply": "2022-06-17T15:14:07.102982Z"
        },
        "id": "7cb3ed0a",
        "papermill": {
          "duration": 0.026382,
          "end_time": "2022-06-17T15:14:07.105622",
          "exception": false,
          "start_time": "2022-06-17T15:14:07.079240",
          "status": "completed"
        },
        "tags": []
      },
      "outputs": [],
      "source": [
        "pred_df = pred_df[pred_df['pred'] > THRESHOLD][['id', 'match_id']]\n",
        "pred_df"
      ]
    },
    {
      "cell_type": "code",
      "execution_count": null,
      "id": "9fba4655",
      "metadata": {
        "execution": {
          "iopub.execute_input": "2022-06-17T15:14:07.131859Z",
          "iopub.status.busy": "2022-06-17T15:14:07.131346Z",
          "iopub.status.idle": "2022-06-17T15:14:07.153331Z",
          "shell.execute_reply": "2022-06-17T15:14:07.152508Z"
        },
        "id": "9fba4655",
        "papermill": {
          "duration": 0.036926,
          "end_time": "2022-06-17T15:14:07.154952",
          "exception": false,
          "start_time": "2022-06-17T15:14:07.118026",
          "status": "completed"
        },
        "tags": []
      },
      "outputs": [],
      "source": [
        "## Submission    \n",
        "out_df = pd.concat([out_df, pred_df])\n",
        "out_df = out_df.groupby('id')['match_id'].\\\n",
        "                        apply(list).reset_index()\n",
        "out_df['matches'] = out_df['match_id'].apply(lambda x: ' '.join(set(x)))\n",
        "out_df = post_process(out_df)\n",
        "print('Unique id: %s' % len(out_df))\n",
        "print(out_df.head())\n",
        "\n",
        "out_df[['id', 'matches']].to_csv('submission.csv', index = False)"
      ]
    },
    {
      "cell_type": "code",
      "execution_count": null,
      "id": "93e34ea8",
      "metadata": {
        "execution": {
          "iopub.execute_input": "2022-06-17T15:14:07.181283Z",
          "iopub.status.busy": "2022-06-17T15:14:07.180765Z",
          "iopub.status.idle": "2022-06-17T15:14:07.191460Z",
          "shell.execute_reply": "2022-06-17T15:14:07.190801Z"
        },
        "id": "93e34ea8",
        "papermill": {
          "duration": 0.026858,
          "end_time": "2022-06-17T15:14:07.194157",
          "exception": false,
          "start_time": "2022-06-17T15:14:07.167299",
          "status": "completed"
        },
        "tags": []
      },
      "outputs": [],
      "source": [
        "if is_colab:\n",
        "  print(f\"CV: {get_score(out_df):.6f}\")"
      ]
    },
    {
      "cell_type": "code",
      "execution_count": 36,
      "id": "1718cf35",
      "metadata": {
        "id": "1718cf35",
        "papermill": {
          "duration": 0.017551,
          "end_time": "2022-06-17T15:14:07.234109",
          "exception": false,
          "start_time": "2022-06-17T15:14:07.216558",
          "status": "completed"
        },
        "tags": []
      },
      "outputs": [],
      "source": [
        "# "
      ]
    },
    {
      "cell_type": "code",
      "execution_count": 36,
      "id": "ed5a40a9",
      "metadata": {
        "papermill": {
          "duration": 0.017439,
          "end_time": "2022-06-17T15:14:07.272066",
          "exception": false,
          "start_time": "2022-06-17T15:14:07.254627",
          "status": "completed"
        },
        "tags": [],
        "id": "ed5a40a9"
      },
      "outputs": [],
      "source": [
        ""
      ]
    }
  ],
  "metadata": {
    "kernelspec": {
      "display_name": "Python 3",
      "language": "python",
      "name": "python3"
    },
    "language_info": {
      "codemirror_mode": {
        "name": "ipython",
        "version": 3
      },
      "file_extension": ".py",
      "mimetype": "text/x-python",
      "name": "python",
      "nbconvert_exporter": "python",
      "pygments_lexer": "ipython3",
      "version": "3.7.12"
    },
    "papermill": {
      "default_parameters": {},
      "duration": 98.429639,
      "end_time": "2022-06-17T15:14:08.118135",
      "environment_variables": {},
      "exception": null,
      "input_path": "__notebook__.ipynb",
      "output_path": "__notebook__.ipynb",
      "parameters": {},
      "start_time": "2022-06-17T15:12:29.688496",
      "version": "2.3.4"
    },
    "widgets": {
      "application/vnd.jupyter.widget-state+json": {
        "e0d75a4ec40b4eb18184b204e734c53c": {
          "model_module": "@jupyter-widgets/controls",
          "model_name": "HBoxModel",
          "model_module_version": "1.5.0",
          "state": {
            "_dom_classes": [],
            "_model_module": "@jupyter-widgets/controls",
            "_model_module_version": "1.5.0",
            "_model_name": "HBoxModel",
            "_view_count": null,
            "_view_module": "@jupyter-widgets/controls",
            "_view_module_version": "1.5.0",
            "_view_name": "HBoxView",
            "box_style": "",
            "children": [
              "IPY_MODEL_cc0a8333405a4b65835d21baeb6a3929",
              "IPY_MODEL_0273910ff9e84f3d8fb120d260b54fca",
              "IPY_MODEL_b20b892325914ae4b72add99a73c79ef"
            ],
            "layout": "IPY_MODEL_0de9b2beb278411fa92091c1051f813d"
          }
        },
        "cc0a8333405a4b65835d21baeb6a3929": {
          "model_module": "@jupyter-widgets/controls",
          "model_name": "HTMLModel",
          "model_module_version": "1.5.0",
          "state": {
            "_dom_classes": [],
            "_model_module": "@jupyter-widgets/controls",
            "_model_module_version": "1.5.0",
            "_model_name": "HTMLModel",
            "_view_count": null,
            "_view_module": "@jupyter-widgets/controls",
            "_view_module_version": "1.5.0",
            "_view_name": "HTMLView",
            "description": "",
            "description_tooltip": null,
            "layout": "IPY_MODEL_994289d7723b4d3daa80aae7d5c0b909",
            "placeholder": "​",
            "style": "IPY_MODEL_aab3d278710e41c29d29979b08116139",
            "value": "100%"
          }
        },
        "0273910ff9e84f3d8fb120d260b54fca": {
          "model_module": "@jupyter-widgets/controls",
          "model_name": "FloatProgressModel",
          "model_module_version": "1.5.0",
          "state": {
            "_dom_classes": [],
            "_model_module": "@jupyter-widgets/controls",
            "_model_module_version": "1.5.0",
            "_model_name": "FloatProgressModel",
            "_view_count": null,
            "_view_module": "@jupyter-widgets/controls",
            "_view_module_version": "1.5.0",
            "_view_name": "ProgressView",
            "bar_style": "success",
            "description": "",
            "description_tooltip": null,
            "layout": "IPY_MODEL_376e536c9b014e6f80fe3807a519952c",
            "max": 28471,
            "min": 0,
            "orientation": "horizontal",
            "style": "IPY_MODEL_e83e6b0cb45d45438bed243d288fd9bc",
            "value": 28471
          }
        },
        "b20b892325914ae4b72add99a73c79ef": {
          "model_module": "@jupyter-widgets/controls",
          "model_name": "HTMLModel",
          "model_module_version": "1.5.0",
          "state": {
            "_dom_classes": [],
            "_model_module": "@jupyter-widgets/controls",
            "_model_module_version": "1.5.0",
            "_model_name": "HTMLModel",
            "_view_count": null,
            "_view_module": "@jupyter-widgets/controls",
            "_view_module_version": "1.5.0",
            "_view_name": "HTMLView",
            "description": "",
            "description_tooltip": null,
            "layout": "IPY_MODEL_09a25b0eb90d4a8ab5ec68baf91f68d5",
            "placeholder": "​",
            "style": "IPY_MODEL_50f65f7dd27b4159928bf53990097df7",
            "value": " 28471/28471 [00:01&lt;00:00, 20649.05it/s]"
          }
        },
        "0de9b2beb278411fa92091c1051f813d": {
          "model_module": "@jupyter-widgets/base",
          "model_name": "LayoutModel",
          "model_module_version": "1.2.0",
          "state": {
            "_model_module": "@jupyter-widgets/base",
            "_model_module_version": "1.2.0",
            "_model_name": "LayoutModel",
            "_view_count": null,
            "_view_module": "@jupyter-widgets/base",
            "_view_module_version": "1.2.0",
            "_view_name": "LayoutView",
            "align_content": null,
            "align_items": null,
            "align_self": null,
            "border": null,
            "bottom": null,
            "display": null,
            "flex": null,
            "flex_flow": null,
            "grid_area": null,
            "grid_auto_columns": null,
            "grid_auto_flow": null,
            "grid_auto_rows": null,
            "grid_column": null,
            "grid_gap": null,
            "grid_row": null,
            "grid_template_areas": null,
            "grid_template_columns": null,
            "grid_template_rows": null,
            "height": null,
            "justify_content": null,
            "justify_items": null,
            "left": null,
            "margin": null,
            "max_height": null,
            "max_width": null,
            "min_height": null,
            "min_width": null,
            "object_fit": null,
            "object_position": null,
            "order": null,
            "overflow": null,
            "overflow_x": null,
            "overflow_y": null,
            "padding": null,
            "right": null,
            "top": null,
            "visibility": null,
            "width": null
          }
        },
        "994289d7723b4d3daa80aae7d5c0b909": {
          "model_module": "@jupyter-widgets/base",
          "model_name": "LayoutModel",
          "model_module_version": "1.2.0",
          "state": {
            "_model_module": "@jupyter-widgets/base",
            "_model_module_version": "1.2.0",
            "_model_name": "LayoutModel",
            "_view_count": null,
            "_view_module": "@jupyter-widgets/base",
            "_view_module_version": "1.2.0",
            "_view_name": "LayoutView",
            "align_content": null,
            "align_items": null,
            "align_self": null,
            "border": null,
            "bottom": null,
            "display": null,
            "flex": null,
            "flex_flow": null,
            "grid_area": null,
            "grid_auto_columns": null,
            "grid_auto_flow": null,
            "grid_auto_rows": null,
            "grid_column": null,
            "grid_gap": null,
            "grid_row": null,
            "grid_template_areas": null,
            "grid_template_columns": null,
            "grid_template_rows": null,
            "height": null,
            "justify_content": null,
            "justify_items": null,
            "left": null,
            "margin": null,
            "max_height": null,
            "max_width": null,
            "min_height": null,
            "min_width": null,
            "object_fit": null,
            "object_position": null,
            "order": null,
            "overflow": null,
            "overflow_x": null,
            "overflow_y": null,
            "padding": null,
            "right": null,
            "top": null,
            "visibility": null,
            "width": null
          }
        },
        "aab3d278710e41c29d29979b08116139": {
          "model_module": "@jupyter-widgets/controls",
          "model_name": "DescriptionStyleModel",
          "model_module_version": "1.5.0",
          "state": {
            "_model_module": "@jupyter-widgets/controls",
            "_model_module_version": "1.5.0",
            "_model_name": "DescriptionStyleModel",
            "_view_count": null,
            "_view_module": "@jupyter-widgets/base",
            "_view_module_version": "1.2.0",
            "_view_name": "StyleView",
            "description_width": ""
          }
        },
        "376e536c9b014e6f80fe3807a519952c": {
          "model_module": "@jupyter-widgets/base",
          "model_name": "LayoutModel",
          "model_module_version": "1.2.0",
          "state": {
            "_model_module": "@jupyter-widgets/base",
            "_model_module_version": "1.2.0",
            "_model_name": "LayoutModel",
            "_view_count": null,
            "_view_module": "@jupyter-widgets/base",
            "_view_module_version": "1.2.0",
            "_view_name": "LayoutView",
            "align_content": null,
            "align_items": null,
            "align_self": null,
            "border": null,
            "bottom": null,
            "display": null,
            "flex": null,
            "flex_flow": null,
            "grid_area": null,
            "grid_auto_columns": null,
            "grid_auto_flow": null,
            "grid_auto_rows": null,
            "grid_column": null,
            "grid_gap": null,
            "grid_row": null,
            "grid_template_areas": null,
            "grid_template_columns": null,
            "grid_template_rows": null,
            "height": null,
            "justify_content": null,
            "justify_items": null,
            "left": null,
            "margin": null,
            "max_height": null,
            "max_width": null,
            "min_height": null,
            "min_width": null,
            "object_fit": null,
            "object_position": null,
            "order": null,
            "overflow": null,
            "overflow_x": null,
            "overflow_y": null,
            "padding": null,
            "right": null,
            "top": null,
            "visibility": null,
            "width": null
          }
        },
        "e83e6b0cb45d45438bed243d288fd9bc": {
          "model_module": "@jupyter-widgets/controls",
          "model_name": "ProgressStyleModel",
          "model_module_version": "1.5.0",
          "state": {
            "_model_module": "@jupyter-widgets/controls",
            "_model_module_version": "1.5.0",
            "_model_name": "ProgressStyleModel",
            "_view_count": null,
            "_view_module": "@jupyter-widgets/base",
            "_view_module_version": "1.2.0",
            "_view_name": "StyleView",
            "bar_color": null,
            "description_width": ""
          }
        },
        "09a25b0eb90d4a8ab5ec68baf91f68d5": {
          "model_module": "@jupyter-widgets/base",
          "model_name": "LayoutModel",
          "model_module_version": "1.2.0",
          "state": {
            "_model_module": "@jupyter-widgets/base",
            "_model_module_version": "1.2.0",
            "_model_name": "LayoutModel",
            "_view_count": null,
            "_view_module": "@jupyter-widgets/base",
            "_view_module_version": "1.2.0",
            "_view_name": "LayoutView",
            "align_content": null,
            "align_items": null,
            "align_self": null,
            "border": null,
            "bottom": null,
            "display": null,
            "flex": null,
            "flex_flow": null,
            "grid_area": null,
            "grid_auto_columns": null,
            "grid_auto_flow": null,
            "grid_auto_rows": null,
            "grid_column": null,
            "grid_gap": null,
            "grid_row": null,
            "grid_template_areas": null,
            "grid_template_columns": null,
            "grid_template_rows": null,
            "height": null,
            "justify_content": null,
            "justify_items": null,
            "left": null,
            "margin": null,
            "max_height": null,
            "max_width": null,
            "min_height": null,
            "min_width": null,
            "object_fit": null,
            "object_position": null,
            "order": null,
            "overflow": null,
            "overflow_x": null,
            "overflow_y": null,
            "padding": null,
            "right": null,
            "top": null,
            "visibility": null,
            "width": null
          }
        },
        "50f65f7dd27b4159928bf53990097df7": {
          "model_module": "@jupyter-widgets/controls",
          "model_name": "DescriptionStyleModel",
          "model_module_version": "1.5.0",
          "state": {
            "_model_module": "@jupyter-widgets/controls",
            "_model_module_version": "1.5.0",
            "_model_name": "DescriptionStyleModel",
            "_view_count": null,
            "_view_module": "@jupyter-widgets/base",
            "_view_module_version": "1.2.0",
            "_view_name": "StyleView",
            "description_width": ""
          }
        },
        "0750fe54eab24d68af50fffba78c7dad": {
          "model_module": "@jupyter-widgets/controls",
          "model_name": "HBoxModel",
          "model_module_version": "1.5.0",
          "state": {
            "_dom_classes": [],
            "_model_module": "@jupyter-widgets/controls",
            "_model_module_version": "1.5.0",
            "_model_name": "HBoxModel",
            "_view_count": null,
            "_view_module": "@jupyter-widgets/controls",
            "_view_module_version": "1.5.0",
            "_view_name": "HBoxView",
            "box_style": "",
            "children": [
              "IPY_MODEL_614b757412db402fae1b52b6d22d068f",
              "IPY_MODEL_daf8991e10564ce0a87006572ea4f06f",
              "IPY_MODEL_5cf612ec89e5488ea356f8625d33c1e0"
            ],
            "layout": "IPY_MODEL_b13acce3c6b743638d610f9b6cb75678"
          }
        },
        "614b757412db402fae1b52b6d22d068f": {
          "model_module": "@jupyter-widgets/controls",
          "model_name": "HTMLModel",
          "model_module_version": "1.5.0",
          "state": {
            "_dom_classes": [],
            "_model_module": "@jupyter-widgets/controls",
            "_model_module_version": "1.5.0",
            "_model_name": "HTMLModel",
            "_view_count": null,
            "_view_module": "@jupyter-widgets/controls",
            "_view_module_version": "1.5.0",
            "_view_name": "HTMLView",
            "description": "",
            "description_tooltip": null,
            "layout": "IPY_MODEL_a431592e2be9438fbcf0aef039d8f044",
            "placeholder": "​",
            "style": "IPY_MODEL_b98562a77ba34802b37a21a113b8013f",
            "value": "100%"
          }
        },
        "daf8991e10564ce0a87006572ea4f06f": {
          "model_module": "@jupyter-widgets/controls",
          "model_name": "FloatProgressModel",
          "model_module_version": "1.5.0",
          "state": {
            "_dom_classes": [],
            "_model_module": "@jupyter-widgets/controls",
            "_model_module_version": "1.5.0",
            "_model_name": "FloatProgressModel",
            "_view_count": null,
            "_view_module": "@jupyter-widgets/controls",
            "_view_module_version": "1.5.0",
            "_view_name": "ProgressView",
            "bar_style": "success",
            "description": "",
            "description_tooltip": null,
            "layout": "IPY_MODEL_29b97a7a672d4ca390ca8393ec883f21",
            "max": 138,
            "min": 0,
            "orientation": "horizontal",
            "style": "IPY_MODEL_82b201f627914127985086827259ede7",
            "value": 138
          }
        },
        "5cf612ec89e5488ea356f8625d33c1e0": {
          "model_module": "@jupyter-widgets/controls",
          "model_name": "HTMLModel",
          "model_module_version": "1.5.0",
          "state": {
            "_dom_classes": [],
            "_model_module": "@jupyter-widgets/controls",
            "_model_module_version": "1.5.0",
            "_model_name": "HTMLModel",
            "_view_count": null,
            "_view_module": "@jupyter-widgets/controls",
            "_view_module_version": "1.5.0",
            "_view_name": "HTMLView",
            "description": "",
            "description_tooltip": null,
            "layout": "IPY_MODEL_b7aa78c9e3aa421cb469d567f30559d7",
            "placeholder": "​",
            "style": "IPY_MODEL_fdf0664478b5418e898dc49dd8cc1ccf",
            "value": " 138/138 [00:18&lt;00:00,  7.57it/s]"
          }
        },
        "b13acce3c6b743638d610f9b6cb75678": {
          "model_module": "@jupyter-widgets/base",
          "model_name": "LayoutModel",
          "model_module_version": "1.2.0",
          "state": {
            "_model_module": "@jupyter-widgets/base",
            "_model_module_version": "1.2.0",
            "_model_name": "LayoutModel",
            "_view_count": null,
            "_view_module": "@jupyter-widgets/base",
            "_view_module_version": "1.2.0",
            "_view_name": "LayoutView",
            "align_content": null,
            "align_items": null,
            "align_self": null,
            "border": null,
            "bottom": null,
            "display": null,
            "flex": null,
            "flex_flow": null,
            "grid_area": null,
            "grid_auto_columns": null,
            "grid_auto_flow": null,
            "grid_auto_rows": null,
            "grid_column": null,
            "grid_gap": null,
            "grid_row": null,
            "grid_template_areas": null,
            "grid_template_columns": null,
            "grid_template_rows": null,
            "height": null,
            "justify_content": null,
            "justify_items": null,
            "left": null,
            "margin": null,
            "max_height": null,
            "max_width": null,
            "min_height": null,
            "min_width": null,
            "object_fit": null,
            "object_position": null,
            "order": null,
            "overflow": null,
            "overflow_x": null,
            "overflow_y": null,
            "padding": null,
            "right": null,
            "top": null,
            "visibility": null,
            "width": null
          }
        },
        "a431592e2be9438fbcf0aef039d8f044": {
          "model_module": "@jupyter-widgets/base",
          "model_name": "LayoutModel",
          "model_module_version": "1.2.0",
          "state": {
            "_model_module": "@jupyter-widgets/base",
            "_model_module_version": "1.2.0",
            "_model_name": "LayoutModel",
            "_view_count": null,
            "_view_module": "@jupyter-widgets/base",
            "_view_module_version": "1.2.0",
            "_view_name": "LayoutView",
            "align_content": null,
            "align_items": null,
            "align_self": null,
            "border": null,
            "bottom": null,
            "display": null,
            "flex": null,
            "flex_flow": null,
            "grid_area": null,
            "grid_auto_columns": null,
            "grid_auto_flow": null,
            "grid_auto_rows": null,
            "grid_column": null,
            "grid_gap": null,
            "grid_row": null,
            "grid_template_areas": null,
            "grid_template_columns": null,
            "grid_template_rows": null,
            "height": null,
            "justify_content": null,
            "justify_items": null,
            "left": null,
            "margin": null,
            "max_height": null,
            "max_width": null,
            "min_height": null,
            "min_width": null,
            "object_fit": null,
            "object_position": null,
            "order": null,
            "overflow": null,
            "overflow_x": null,
            "overflow_y": null,
            "padding": null,
            "right": null,
            "top": null,
            "visibility": null,
            "width": null
          }
        },
        "b98562a77ba34802b37a21a113b8013f": {
          "model_module": "@jupyter-widgets/controls",
          "model_name": "DescriptionStyleModel",
          "model_module_version": "1.5.0",
          "state": {
            "_model_module": "@jupyter-widgets/controls",
            "_model_module_version": "1.5.0",
            "_model_name": "DescriptionStyleModel",
            "_view_count": null,
            "_view_module": "@jupyter-widgets/base",
            "_view_module_version": "1.2.0",
            "_view_name": "StyleView",
            "description_width": ""
          }
        },
        "29b97a7a672d4ca390ca8393ec883f21": {
          "model_module": "@jupyter-widgets/base",
          "model_name": "LayoutModel",
          "model_module_version": "1.2.0",
          "state": {
            "_model_module": "@jupyter-widgets/base",
            "_model_module_version": "1.2.0",
            "_model_name": "LayoutModel",
            "_view_count": null,
            "_view_module": "@jupyter-widgets/base",
            "_view_module_version": "1.2.0",
            "_view_name": "LayoutView",
            "align_content": null,
            "align_items": null,
            "align_self": null,
            "border": null,
            "bottom": null,
            "display": null,
            "flex": null,
            "flex_flow": null,
            "grid_area": null,
            "grid_auto_columns": null,
            "grid_auto_flow": null,
            "grid_auto_rows": null,
            "grid_column": null,
            "grid_gap": null,
            "grid_row": null,
            "grid_template_areas": null,
            "grid_template_columns": null,
            "grid_template_rows": null,
            "height": null,
            "justify_content": null,
            "justify_items": null,
            "left": null,
            "margin": null,
            "max_height": null,
            "max_width": null,
            "min_height": null,
            "min_width": null,
            "object_fit": null,
            "object_position": null,
            "order": null,
            "overflow": null,
            "overflow_x": null,
            "overflow_y": null,
            "padding": null,
            "right": null,
            "top": null,
            "visibility": null,
            "width": null
          }
        },
        "82b201f627914127985086827259ede7": {
          "model_module": "@jupyter-widgets/controls",
          "model_name": "ProgressStyleModel",
          "model_module_version": "1.5.0",
          "state": {
            "_model_module": "@jupyter-widgets/controls",
            "_model_module_version": "1.5.0",
            "_model_name": "ProgressStyleModel",
            "_view_count": null,
            "_view_module": "@jupyter-widgets/base",
            "_view_module_version": "1.2.0",
            "_view_name": "StyleView",
            "bar_color": null,
            "description_width": ""
          }
        },
        "b7aa78c9e3aa421cb469d567f30559d7": {
          "model_module": "@jupyter-widgets/base",
          "model_name": "LayoutModel",
          "model_module_version": "1.2.0",
          "state": {
            "_model_module": "@jupyter-widgets/base",
            "_model_module_version": "1.2.0",
            "_model_name": "LayoutModel",
            "_view_count": null,
            "_view_module": "@jupyter-widgets/base",
            "_view_module_version": "1.2.0",
            "_view_name": "LayoutView",
            "align_content": null,
            "align_items": null,
            "align_self": null,
            "border": null,
            "bottom": null,
            "display": null,
            "flex": null,
            "flex_flow": null,
            "grid_area": null,
            "grid_auto_columns": null,
            "grid_auto_flow": null,
            "grid_auto_rows": null,
            "grid_column": null,
            "grid_gap": null,
            "grid_row": null,
            "grid_template_areas": null,
            "grid_template_columns": null,
            "grid_template_rows": null,
            "height": null,
            "justify_content": null,
            "justify_items": null,
            "left": null,
            "margin": null,
            "max_height": null,
            "max_width": null,
            "min_height": null,
            "min_width": null,
            "object_fit": null,
            "object_position": null,
            "order": null,
            "overflow": null,
            "overflow_x": null,
            "overflow_y": null,
            "padding": null,
            "right": null,
            "top": null,
            "visibility": null,
            "width": null
          }
        },
        "fdf0664478b5418e898dc49dd8cc1ccf": {
          "model_module": "@jupyter-widgets/controls",
          "model_name": "DescriptionStyleModel",
          "model_module_version": "1.5.0",
          "state": {
            "_model_module": "@jupyter-widgets/controls",
            "_model_module_version": "1.5.0",
            "_model_name": "DescriptionStyleModel",
            "_view_count": null,
            "_view_module": "@jupyter-widgets/base",
            "_view_module_version": "1.2.0",
            "_view_name": "StyleView",
            "description_width": ""
          }
        },
        "3749bd91907d4a088da6e19a5f0caa56": {
          "model_module": "@jupyter-widgets/controls",
          "model_name": "HBoxModel",
          "model_module_version": "1.5.0",
          "state": {
            "_dom_classes": [],
            "_model_module": "@jupyter-widgets/controls",
            "_model_module_version": "1.5.0",
            "_model_name": "HBoxModel",
            "_view_count": null,
            "_view_module": "@jupyter-widgets/controls",
            "_view_module_version": "1.5.0",
            "_view_name": "HBoxView",
            "box_style": "",
            "children": [
              "IPY_MODEL_d29d0cd215c7453ca23f1d3bb40ed925",
              "IPY_MODEL_3b8c746bc1404f639a782acaacd23f9f",
              "IPY_MODEL_f2fa0e181d8b406c90a546259dab7fa5"
            ],
            "layout": "IPY_MODEL_af7eeea17f6441938ba231581e9c8843"
          }
        },
        "d29d0cd215c7453ca23f1d3bb40ed925": {
          "model_module": "@jupyter-widgets/controls",
          "model_name": "HTMLModel",
          "model_module_version": "1.5.0",
          "state": {
            "_dom_classes": [],
            "_model_module": "@jupyter-widgets/controls",
            "_model_module_version": "1.5.0",
            "_model_name": "HTMLModel",
            "_view_count": null,
            "_view_module": "@jupyter-widgets/controls",
            "_view_module_version": "1.5.0",
            "_view_name": "HTMLView",
            "description": "",
            "description_tooltip": null,
            "layout": "IPY_MODEL_9ddf63eadcb744a6aa080c0ead56e2dc",
            "placeholder": "​",
            "style": "IPY_MODEL_36b40fcb13cf4208b01a8d1067a23756",
            "value": "100%"
          }
        },
        "3b8c746bc1404f639a782acaacd23f9f": {
          "model_module": "@jupyter-widgets/controls",
          "model_name": "FloatProgressModel",
          "model_module_version": "1.5.0",
          "state": {
            "_dom_classes": [],
            "_model_module": "@jupyter-widgets/controls",
            "_model_module_version": "1.5.0",
            "_model_name": "FloatProgressModel",
            "_view_count": null,
            "_view_module": "@jupyter-widgets/controls",
            "_view_module_version": "1.5.0",
            "_view_name": "ProgressView",
            "bar_style": "success",
            "description": "",
            "description_tooltip": null,
            "layout": "IPY_MODEL_7dd00dbd944b4cdbb57c63fd7166a312",
            "max": 10,
            "min": 0,
            "orientation": "horizontal",
            "style": "IPY_MODEL_12504105c80d405381b119d1924b08ad",
            "value": 10
          }
        },
        "f2fa0e181d8b406c90a546259dab7fa5": {
          "model_module": "@jupyter-widgets/controls",
          "model_name": "HTMLModel",
          "model_module_version": "1.5.0",
          "state": {
            "_dom_classes": [],
            "_model_module": "@jupyter-widgets/controls",
            "_model_module_version": "1.5.0",
            "_model_name": "HTMLModel",
            "_view_count": null,
            "_view_module": "@jupyter-widgets/controls",
            "_view_module_version": "1.5.0",
            "_view_name": "HTMLView",
            "description": "",
            "description_tooltip": null,
            "layout": "IPY_MODEL_4e9f89af1c0b40049c8b76ca3551f341",
            "placeholder": "​",
            "style": "IPY_MODEL_9eda6d02f46c4261b99cc7b045249197",
            "value": " 10/10 [00:01&lt;00:00, 10.09it/s]"
          }
        },
        "af7eeea17f6441938ba231581e9c8843": {
          "model_module": "@jupyter-widgets/base",
          "model_name": "LayoutModel",
          "model_module_version": "1.2.0",
          "state": {
            "_model_module": "@jupyter-widgets/base",
            "_model_module_version": "1.2.0",
            "_model_name": "LayoutModel",
            "_view_count": null,
            "_view_module": "@jupyter-widgets/base",
            "_view_module_version": "1.2.0",
            "_view_name": "LayoutView",
            "align_content": null,
            "align_items": null,
            "align_self": null,
            "border": null,
            "bottom": null,
            "display": null,
            "flex": null,
            "flex_flow": null,
            "grid_area": null,
            "grid_auto_columns": null,
            "grid_auto_flow": null,
            "grid_auto_rows": null,
            "grid_column": null,
            "grid_gap": null,
            "grid_row": null,
            "grid_template_areas": null,
            "grid_template_columns": null,
            "grid_template_rows": null,
            "height": null,
            "justify_content": null,
            "justify_items": null,
            "left": null,
            "margin": null,
            "max_height": null,
            "max_width": null,
            "min_height": null,
            "min_width": null,
            "object_fit": null,
            "object_position": null,
            "order": null,
            "overflow": null,
            "overflow_x": null,
            "overflow_y": null,
            "padding": null,
            "right": null,
            "top": null,
            "visibility": null,
            "width": null
          }
        },
        "9ddf63eadcb744a6aa080c0ead56e2dc": {
          "model_module": "@jupyter-widgets/base",
          "model_name": "LayoutModel",
          "model_module_version": "1.2.0",
          "state": {
            "_model_module": "@jupyter-widgets/base",
            "_model_module_version": "1.2.0",
            "_model_name": "LayoutModel",
            "_view_count": null,
            "_view_module": "@jupyter-widgets/base",
            "_view_module_version": "1.2.0",
            "_view_name": "LayoutView",
            "align_content": null,
            "align_items": null,
            "align_self": null,
            "border": null,
            "bottom": null,
            "display": null,
            "flex": null,
            "flex_flow": null,
            "grid_area": null,
            "grid_auto_columns": null,
            "grid_auto_flow": null,
            "grid_auto_rows": null,
            "grid_column": null,
            "grid_gap": null,
            "grid_row": null,
            "grid_template_areas": null,
            "grid_template_columns": null,
            "grid_template_rows": null,
            "height": null,
            "justify_content": null,
            "justify_items": null,
            "left": null,
            "margin": null,
            "max_height": null,
            "max_width": null,
            "min_height": null,
            "min_width": null,
            "object_fit": null,
            "object_position": null,
            "order": null,
            "overflow": null,
            "overflow_x": null,
            "overflow_y": null,
            "padding": null,
            "right": null,
            "top": null,
            "visibility": null,
            "width": null
          }
        },
        "36b40fcb13cf4208b01a8d1067a23756": {
          "model_module": "@jupyter-widgets/controls",
          "model_name": "DescriptionStyleModel",
          "model_module_version": "1.5.0",
          "state": {
            "_model_module": "@jupyter-widgets/controls",
            "_model_module_version": "1.5.0",
            "_model_name": "DescriptionStyleModel",
            "_view_count": null,
            "_view_module": "@jupyter-widgets/base",
            "_view_module_version": "1.2.0",
            "_view_name": "StyleView",
            "description_width": ""
          }
        },
        "7dd00dbd944b4cdbb57c63fd7166a312": {
          "model_module": "@jupyter-widgets/base",
          "model_name": "LayoutModel",
          "model_module_version": "1.2.0",
          "state": {
            "_model_module": "@jupyter-widgets/base",
            "_model_module_version": "1.2.0",
            "_model_name": "LayoutModel",
            "_view_count": null,
            "_view_module": "@jupyter-widgets/base",
            "_view_module_version": "1.2.0",
            "_view_name": "LayoutView",
            "align_content": null,
            "align_items": null,
            "align_self": null,
            "border": null,
            "bottom": null,
            "display": null,
            "flex": null,
            "flex_flow": null,
            "grid_area": null,
            "grid_auto_columns": null,
            "grid_auto_flow": null,
            "grid_auto_rows": null,
            "grid_column": null,
            "grid_gap": null,
            "grid_row": null,
            "grid_template_areas": null,
            "grid_template_columns": null,
            "grid_template_rows": null,
            "height": null,
            "justify_content": null,
            "justify_items": null,
            "left": null,
            "margin": null,
            "max_height": null,
            "max_width": null,
            "min_height": null,
            "min_width": null,
            "object_fit": null,
            "object_position": null,
            "order": null,
            "overflow": null,
            "overflow_x": null,
            "overflow_y": null,
            "padding": null,
            "right": null,
            "top": null,
            "visibility": null,
            "width": null
          }
        },
        "12504105c80d405381b119d1924b08ad": {
          "model_module": "@jupyter-widgets/controls",
          "model_name": "ProgressStyleModel",
          "model_module_version": "1.5.0",
          "state": {
            "_model_module": "@jupyter-widgets/controls",
            "_model_module_version": "1.5.0",
            "_model_name": "ProgressStyleModel",
            "_view_count": null,
            "_view_module": "@jupyter-widgets/base",
            "_view_module_version": "1.2.0",
            "_view_name": "StyleView",
            "bar_color": null,
            "description_width": ""
          }
        },
        "4e9f89af1c0b40049c8b76ca3551f341": {
          "model_module": "@jupyter-widgets/base",
          "model_name": "LayoutModel",
          "model_module_version": "1.2.0",
          "state": {
            "_model_module": "@jupyter-widgets/base",
            "_model_module_version": "1.2.0",
            "_model_name": "LayoutModel",
            "_view_count": null,
            "_view_module": "@jupyter-widgets/base",
            "_view_module_version": "1.2.0",
            "_view_name": "LayoutView",
            "align_content": null,
            "align_items": null,
            "align_self": null,
            "border": null,
            "bottom": null,
            "display": null,
            "flex": null,
            "flex_flow": null,
            "grid_area": null,
            "grid_auto_columns": null,
            "grid_auto_flow": null,
            "grid_auto_rows": null,
            "grid_column": null,
            "grid_gap": null,
            "grid_row": null,
            "grid_template_areas": null,
            "grid_template_columns": null,
            "grid_template_rows": null,
            "height": null,
            "justify_content": null,
            "justify_items": null,
            "left": null,
            "margin": null,
            "max_height": null,
            "max_width": null,
            "min_height": null,
            "min_width": null,
            "object_fit": null,
            "object_position": null,
            "order": null,
            "overflow": null,
            "overflow_x": null,
            "overflow_y": null,
            "padding": null,
            "right": null,
            "top": null,
            "visibility": null,
            "width": null
          }
        },
        "9eda6d02f46c4261b99cc7b045249197": {
          "model_module": "@jupyter-widgets/controls",
          "model_name": "DescriptionStyleModel",
          "model_module_version": "1.5.0",
          "state": {
            "_model_module": "@jupyter-widgets/controls",
            "_model_module_version": "1.5.0",
            "_model_name": "DescriptionStyleModel",
            "_view_count": null,
            "_view_module": "@jupyter-widgets/base",
            "_view_module_version": "1.2.0",
            "_view_name": "StyleView",
            "description_width": ""
          }
        },
        "2bfcda14a8ba4b3ab5783e200e6d54d5": {
          "model_module": "@jupyter-widgets/controls",
          "model_name": "HBoxModel",
          "model_module_version": "1.5.0",
          "state": {
            "_dom_classes": [],
            "_model_module": "@jupyter-widgets/controls",
            "_model_module_version": "1.5.0",
            "_model_name": "HBoxModel",
            "_view_count": null,
            "_view_module": "@jupyter-widgets/controls",
            "_view_module_version": "1.5.0",
            "_view_name": "HBoxView",
            "box_style": "",
            "children": [
              "IPY_MODEL_27db4e5b4c2d40e69121cade16782c98",
              "IPY_MODEL_0450953d1ee64ccc8f2ae69eed0a6d9a",
              "IPY_MODEL_8af8a5556de84a9d92c701abdd168686"
            ],
            "layout": "IPY_MODEL_79969b51b4df46168dcbed4eb8b71131"
          }
        },
        "27db4e5b4c2d40e69121cade16782c98": {
          "model_module": "@jupyter-widgets/controls",
          "model_name": "HTMLModel",
          "model_module_version": "1.5.0",
          "state": {
            "_dom_classes": [],
            "_model_module": "@jupyter-widgets/controls",
            "_model_module_version": "1.5.0",
            "_model_name": "HTMLModel",
            "_view_count": null,
            "_view_module": "@jupyter-widgets/controls",
            "_view_module_version": "1.5.0",
            "_view_name": "HTMLView",
            "description": "",
            "description_tooltip": null,
            "layout": "IPY_MODEL_5cbba72c62dd45268d33d2ca026f6cd5",
            "placeholder": "​",
            "style": "IPY_MODEL_49d6539a9e7041d98a9b67ff47aa868b",
            "value": "100%"
          }
        },
        "0450953d1ee64ccc8f2ae69eed0a6d9a": {
          "model_module": "@jupyter-widgets/controls",
          "model_name": "FloatProgressModel",
          "model_module_version": "1.5.0",
          "state": {
            "_dom_classes": [],
            "_model_module": "@jupyter-widgets/controls",
            "_model_module_version": "1.5.0",
            "_model_name": "FloatProgressModel",
            "_view_count": null,
            "_view_module": "@jupyter-widgets/controls",
            "_view_module_version": "1.5.0",
            "_view_name": "ProgressView",
            "bar_style": "success",
            "description": "",
            "description_tooltip": null,
            "layout": "IPY_MODEL_75cdd5dd5fd34264a7c6a8a8617c36a6",
            "max": 10,
            "min": 0,
            "orientation": "horizontal",
            "style": "IPY_MODEL_e3be58298d4f4dca9cc5cef8a682c9e4",
            "value": 10
          }
        },
        "8af8a5556de84a9d92c701abdd168686": {
          "model_module": "@jupyter-widgets/controls",
          "model_name": "HTMLModel",
          "model_module_version": "1.5.0",
          "state": {
            "_dom_classes": [],
            "_model_module": "@jupyter-widgets/controls",
            "_model_module_version": "1.5.0",
            "_model_name": "HTMLModel",
            "_view_count": null,
            "_view_module": "@jupyter-widgets/controls",
            "_view_module_version": "1.5.0",
            "_view_name": "HTMLView",
            "description": "",
            "description_tooltip": null,
            "layout": "IPY_MODEL_0bd4d91101184afebbce6f2084f07a31",
            "placeholder": "​",
            "style": "IPY_MODEL_8bec227aaf9644079e31416a724d8373",
            "value": " 10/10 [00:45&lt;00:00,  4.51s/it]"
          }
        },
        "79969b51b4df46168dcbed4eb8b71131": {
          "model_module": "@jupyter-widgets/base",
          "model_name": "LayoutModel",
          "model_module_version": "1.2.0",
          "state": {
            "_model_module": "@jupyter-widgets/base",
            "_model_module_version": "1.2.0",
            "_model_name": "LayoutModel",
            "_view_count": null,
            "_view_module": "@jupyter-widgets/base",
            "_view_module_version": "1.2.0",
            "_view_name": "LayoutView",
            "align_content": null,
            "align_items": null,
            "align_self": null,
            "border": null,
            "bottom": null,
            "display": null,
            "flex": null,
            "flex_flow": null,
            "grid_area": null,
            "grid_auto_columns": null,
            "grid_auto_flow": null,
            "grid_auto_rows": null,
            "grid_column": null,
            "grid_gap": null,
            "grid_row": null,
            "grid_template_areas": null,
            "grid_template_columns": null,
            "grid_template_rows": null,
            "height": null,
            "justify_content": null,
            "justify_items": null,
            "left": null,
            "margin": null,
            "max_height": null,
            "max_width": null,
            "min_height": null,
            "min_width": null,
            "object_fit": null,
            "object_position": null,
            "order": null,
            "overflow": null,
            "overflow_x": null,
            "overflow_y": null,
            "padding": null,
            "right": null,
            "top": null,
            "visibility": null,
            "width": null
          }
        },
        "5cbba72c62dd45268d33d2ca026f6cd5": {
          "model_module": "@jupyter-widgets/base",
          "model_name": "LayoutModel",
          "model_module_version": "1.2.0",
          "state": {
            "_model_module": "@jupyter-widgets/base",
            "_model_module_version": "1.2.0",
            "_model_name": "LayoutModel",
            "_view_count": null,
            "_view_module": "@jupyter-widgets/base",
            "_view_module_version": "1.2.0",
            "_view_name": "LayoutView",
            "align_content": null,
            "align_items": null,
            "align_self": null,
            "border": null,
            "bottom": null,
            "display": null,
            "flex": null,
            "flex_flow": null,
            "grid_area": null,
            "grid_auto_columns": null,
            "grid_auto_flow": null,
            "grid_auto_rows": null,
            "grid_column": null,
            "grid_gap": null,
            "grid_row": null,
            "grid_template_areas": null,
            "grid_template_columns": null,
            "grid_template_rows": null,
            "height": null,
            "justify_content": null,
            "justify_items": null,
            "left": null,
            "margin": null,
            "max_height": null,
            "max_width": null,
            "min_height": null,
            "min_width": null,
            "object_fit": null,
            "object_position": null,
            "order": null,
            "overflow": null,
            "overflow_x": null,
            "overflow_y": null,
            "padding": null,
            "right": null,
            "top": null,
            "visibility": null,
            "width": null
          }
        },
        "49d6539a9e7041d98a9b67ff47aa868b": {
          "model_module": "@jupyter-widgets/controls",
          "model_name": "DescriptionStyleModel",
          "model_module_version": "1.5.0",
          "state": {
            "_model_module": "@jupyter-widgets/controls",
            "_model_module_version": "1.5.0",
            "_model_name": "DescriptionStyleModel",
            "_view_count": null,
            "_view_module": "@jupyter-widgets/base",
            "_view_module_version": "1.2.0",
            "_view_name": "StyleView",
            "description_width": ""
          }
        },
        "75cdd5dd5fd34264a7c6a8a8617c36a6": {
          "model_module": "@jupyter-widgets/base",
          "model_name": "LayoutModel",
          "model_module_version": "1.2.0",
          "state": {
            "_model_module": "@jupyter-widgets/base",
            "_model_module_version": "1.2.0",
            "_model_name": "LayoutModel",
            "_view_count": null,
            "_view_module": "@jupyter-widgets/base",
            "_view_module_version": "1.2.0",
            "_view_name": "LayoutView",
            "align_content": null,
            "align_items": null,
            "align_self": null,
            "border": null,
            "bottom": null,
            "display": null,
            "flex": null,
            "flex_flow": null,
            "grid_area": null,
            "grid_auto_columns": null,
            "grid_auto_flow": null,
            "grid_auto_rows": null,
            "grid_column": null,
            "grid_gap": null,
            "grid_row": null,
            "grid_template_areas": null,
            "grid_template_columns": null,
            "grid_template_rows": null,
            "height": null,
            "justify_content": null,
            "justify_items": null,
            "left": null,
            "margin": null,
            "max_height": null,
            "max_width": null,
            "min_height": null,
            "min_width": null,
            "object_fit": null,
            "object_position": null,
            "order": null,
            "overflow": null,
            "overflow_x": null,
            "overflow_y": null,
            "padding": null,
            "right": null,
            "top": null,
            "visibility": null,
            "width": null
          }
        },
        "e3be58298d4f4dca9cc5cef8a682c9e4": {
          "model_module": "@jupyter-widgets/controls",
          "model_name": "ProgressStyleModel",
          "model_module_version": "1.5.0",
          "state": {
            "_model_module": "@jupyter-widgets/controls",
            "_model_module_version": "1.5.0",
            "_model_name": "ProgressStyleModel",
            "_view_count": null,
            "_view_module": "@jupyter-widgets/base",
            "_view_module_version": "1.2.0",
            "_view_name": "StyleView",
            "bar_color": null,
            "description_width": ""
          }
        },
        "0bd4d91101184afebbce6f2084f07a31": {
          "model_module": "@jupyter-widgets/base",
          "model_name": "LayoutModel",
          "model_module_version": "1.2.0",
          "state": {
            "_model_module": "@jupyter-widgets/base",
            "_model_module_version": "1.2.0",
            "_model_name": "LayoutModel",
            "_view_count": null,
            "_view_module": "@jupyter-widgets/base",
            "_view_module_version": "1.2.0",
            "_view_name": "LayoutView",
            "align_content": null,
            "align_items": null,
            "align_self": null,
            "border": null,
            "bottom": null,
            "display": null,
            "flex": null,
            "flex_flow": null,
            "grid_area": null,
            "grid_auto_columns": null,
            "grid_auto_flow": null,
            "grid_auto_rows": null,
            "grid_column": null,
            "grid_gap": null,
            "grid_row": null,
            "grid_template_areas": null,
            "grid_template_columns": null,
            "grid_template_rows": null,
            "height": null,
            "justify_content": null,
            "justify_items": null,
            "left": null,
            "margin": null,
            "max_height": null,
            "max_width": null,
            "min_height": null,
            "min_width": null,
            "object_fit": null,
            "object_position": null,
            "order": null,
            "overflow": null,
            "overflow_x": null,
            "overflow_y": null,
            "padding": null,
            "right": null,
            "top": null,
            "visibility": null,
            "width": null
          }
        },
        "8bec227aaf9644079e31416a724d8373": {
          "model_module": "@jupyter-widgets/controls",
          "model_name": "DescriptionStyleModel",
          "model_module_version": "1.5.0",
          "state": {
            "_model_module": "@jupyter-widgets/controls",
            "_model_module_version": "1.5.0",
            "_model_name": "DescriptionStyleModel",
            "_view_count": null,
            "_view_module": "@jupyter-widgets/base",
            "_view_module_version": "1.2.0",
            "_view_name": "StyleView",
            "description_width": ""
          }
        },
        "9876da30721046a185bf235a10d9be63": {
          "model_module": "@jupyter-widgets/controls",
          "model_name": "HBoxModel",
          "model_module_version": "1.5.0",
          "state": {
            "_dom_classes": [],
            "_model_module": "@jupyter-widgets/controls",
            "_model_module_version": "1.5.0",
            "_model_name": "HBoxModel",
            "_view_count": null,
            "_view_module": "@jupyter-widgets/controls",
            "_view_module_version": "1.5.0",
            "_view_name": "HBoxView",
            "box_style": "",
            "children": [
              "IPY_MODEL_73ccd3543ef04b99aa08f01621ee9972",
              "IPY_MODEL_8fc3cdea85d240b4845f81a286cb2232",
              "IPY_MODEL_e00a6a7dfd3841dba033f50cc76eb110"
            ],
            "layout": "IPY_MODEL_69e6f17602074820a3d0b3c1fc9a7a71"
          }
        },
        "73ccd3543ef04b99aa08f01621ee9972": {
          "model_module": "@jupyter-widgets/controls",
          "model_name": "HTMLModel",
          "model_module_version": "1.5.0",
          "state": {
            "_dom_classes": [],
            "_model_module": "@jupyter-widgets/controls",
            "_model_module_version": "1.5.0",
            "_model_name": "HTMLModel",
            "_view_count": null,
            "_view_module": "@jupyter-widgets/controls",
            "_view_module_version": "1.5.0",
            "_view_name": "HTMLView",
            "description": "",
            "description_tooltip": null,
            "layout": "IPY_MODEL_e55b92d89a0947ef815a32a07675d7b0",
            "placeholder": "​",
            "style": "IPY_MODEL_4170bfe2e2bf4342ae34413182c7fc39",
            "value": "100%"
          }
        },
        "8fc3cdea85d240b4845f81a286cb2232": {
          "model_module": "@jupyter-widgets/controls",
          "model_name": "FloatProgressModel",
          "model_module_version": "1.5.0",
          "state": {
            "_dom_classes": [],
            "_model_module": "@jupyter-widgets/controls",
            "_model_module_version": "1.5.0",
            "_model_name": "FloatProgressModel",
            "_view_count": null,
            "_view_module": "@jupyter-widgets/controls",
            "_view_module_version": "1.5.0",
            "_view_name": "ProgressView",
            "bar_style": "success",
            "description": "",
            "description_tooltip": null,
            "layout": "IPY_MODEL_234f5a9f764042ae83cacf164846fbf4",
            "max": 10,
            "min": 0,
            "orientation": "horizontal",
            "style": "IPY_MODEL_b666297db2ef43d094c24118c489babf",
            "value": 10
          }
        },
        "e00a6a7dfd3841dba033f50cc76eb110": {
          "model_module": "@jupyter-widgets/controls",
          "model_name": "HTMLModel",
          "model_module_version": "1.5.0",
          "state": {
            "_dom_classes": [],
            "_model_module": "@jupyter-widgets/controls",
            "_model_module_version": "1.5.0",
            "_model_name": "HTMLModel",
            "_view_count": null,
            "_view_module": "@jupyter-widgets/controls",
            "_view_module_version": "1.5.0",
            "_view_name": "HTMLView",
            "description": "",
            "description_tooltip": null,
            "layout": "IPY_MODEL_3cad8b02ecd94e89a53c335fb2136bc5",
            "placeholder": "​",
            "style": "IPY_MODEL_2dd879c9b8834856a703a7f0d666b938",
            "value": " 10/10 [00:46&lt;00:00,  4.94s/it]"
          }
        },
        "69e6f17602074820a3d0b3c1fc9a7a71": {
          "model_module": "@jupyter-widgets/base",
          "model_name": "LayoutModel",
          "model_module_version": "1.2.0",
          "state": {
            "_model_module": "@jupyter-widgets/base",
            "_model_module_version": "1.2.0",
            "_model_name": "LayoutModel",
            "_view_count": null,
            "_view_module": "@jupyter-widgets/base",
            "_view_module_version": "1.2.0",
            "_view_name": "LayoutView",
            "align_content": null,
            "align_items": null,
            "align_self": null,
            "border": null,
            "bottom": null,
            "display": null,
            "flex": null,
            "flex_flow": null,
            "grid_area": null,
            "grid_auto_columns": null,
            "grid_auto_flow": null,
            "grid_auto_rows": null,
            "grid_column": null,
            "grid_gap": null,
            "grid_row": null,
            "grid_template_areas": null,
            "grid_template_columns": null,
            "grid_template_rows": null,
            "height": null,
            "justify_content": null,
            "justify_items": null,
            "left": null,
            "margin": null,
            "max_height": null,
            "max_width": null,
            "min_height": null,
            "min_width": null,
            "object_fit": null,
            "object_position": null,
            "order": null,
            "overflow": null,
            "overflow_x": null,
            "overflow_y": null,
            "padding": null,
            "right": null,
            "top": null,
            "visibility": null,
            "width": null
          }
        },
        "e55b92d89a0947ef815a32a07675d7b0": {
          "model_module": "@jupyter-widgets/base",
          "model_name": "LayoutModel",
          "model_module_version": "1.2.0",
          "state": {
            "_model_module": "@jupyter-widgets/base",
            "_model_module_version": "1.2.0",
            "_model_name": "LayoutModel",
            "_view_count": null,
            "_view_module": "@jupyter-widgets/base",
            "_view_module_version": "1.2.0",
            "_view_name": "LayoutView",
            "align_content": null,
            "align_items": null,
            "align_self": null,
            "border": null,
            "bottom": null,
            "display": null,
            "flex": null,
            "flex_flow": null,
            "grid_area": null,
            "grid_auto_columns": null,
            "grid_auto_flow": null,
            "grid_auto_rows": null,
            "grid_column": null,
            "grid_gap": null,
            "grid_row": null,
            "grid_template_areas": null,
            "grid_template_columns": null,
            "grid_template_rows": null,
            "height": null,
            "justify_content": null,
            "justify_items": null,
            "left": null,
            "margin": null,
            "max_height": null,
            "max_width": null,
            "min_height": null,
            "min_width": null,
            "object_fit": null,
            "object_position": null,
            "order": null,
            "overflow": null,
            "overflow_x": null,
            "overflow_y": null,
            "padding": null,
            "right": null,
            "top": null,
            "visibility": null,
            "width": null
          }
        },
        "4170bfe2e2bf4342ae34413182c7fc39": {
          "model_module": "@jupyter-widgets/controls",
          "model_name": "DescriptionStyleModel",
          "model_module_version": "1.5.0",
          "state": {
            "_model_module": "@jupyter-widgets/controls",
            "_model_module_version": "1.5.0",
            "_model_name": "DescriptionStyleModel",
            "_view_count": null,
            "_view_module": "@jupyter-widgets/base",
            "_view_module_version": "1.2.0",
            "_view_name": "StyleView",
            "description_width": ""
          }
        },
        "234f5a9f764042ae83cacf164846fbf4": {
          "model_module": "@jupyter-widgets/base",
          "model_name": "LayoutModel",
          "model_module_version": "1.2.0",
          "state": {
            "_model_module": "@jupyter-widgets/base",
            "_model_module_version": "1.2.0",
            "_model_name": "LayoutModel",
            "_view_count": null,
            "_view_module": "@jupyter-widgets/base",
            "_view_module_version": "1.2.0",
            "_view_name": "LayoutView",
            "align_content": null,
            "align_items": null,
            "align_self": null,
            "border": null,
            "bottom": null,
            "display": null,
            "flex": null,
            "flex_flow": null,
            "grid_area": null,
            "grid_auto_columns": null,
            "grid_auto_flow": null,
            "grid_auto_rows": null,
            "grid_column": null,
            "grid_gap": null,
            "grid_row": null,
            "grid_template_areas": null,
            "grid_template_columns": null,
            "grid_template_rows": null,
            "height": null,
            "justify_content": null,
            "justify_items": null,
            "left": null,
            "margin": null,
            "max_height": null,
            "max_width": null,
            "min_height": null,
            "min_width": null,
            "object_fit": null,
            "object_position": null,
            "order": null,
            "overflow": null,
            "overflow_x": null,
            "overflow_y": null,
            "padding": null,
            "right": null,
            "top": null,
            "visibility": null,
            "width": null
          }
        },
        "b666297db2ef43d094c24118c489babf": {
          "model_module": "@jupyter-widgets/controls",
          "model_name": "ProgressStyleModel",
          "model_module_version": "1.5.0",
          "state": {
            "_model_module": "@jupyter-widgets/controls",
            "_model_module_version": "1.5.0",
            "_model_name": "ProgressStyleModel",
            "_view_count": null,
            "_view_module": "@jupyter-widgets/base",
            "_view_module_version": "1.2.0",
            "_view_name": "StyleView",
            "bar_color": null,
            "description_width": ""
          }
        },
        "3cad8b02ecd94e89a53c335fb2136bc5": {
          "model_module": "@jupyter-widgets/base",
          "model_name": "LayoutModel",
          "model_module_version": "1.2.0",
          "state": {
            "_model_module": "@jupyter-widgets/base",
            "_model_module_version": "1.2.0",
            "_model_name": "LayoutModel",
            "_view_count": null,
            "_view_module": "@jupyter-widgets/base",
            "_view_module_version": "1.2.0",
            "_view_name": "LayoutView",
            "align_content": null,
            "align_items": null,
            "align_self": null,
            "border": null,
            "bottom": null,
            "display": null,
            "flex": null,
            "flex_flow": null,
            "grid_area": null,
            "grid_auto_columns": null,
            "grid_auto_flow": null,
            "grid_auto_rows": null,
            "grid_column": null,
            "grid_gap": null,
            "grid_row": null,
            "grid_template_areas": null,
            "grid_template_columns": null,
            "grid_template_rows": null,
            "height": null,
            "justify_content": null,
            "justify_items": null,
            "left": null,
            "margin": null,
            "max_height": null,
            "max_width": null,
            "min_height": null,
            "min_width": null,
            "object_fit": null,
            "object_position": null,
            "order": null,
            "overflow": null,
            "overflow_x": null,
            "overflow_y": null,
            "padding": null,
            "right": null,
            "top": null,
            "visibility": null,
            "width": null
          }
        },
        "2dd879c9b8834856a703a7f0d666b938": {
          "model_module": "@jupyter-widgets/controls",
          "model_name": "DescriptionStyleModel",
          "model_module_version": "1.5.0",
          "state": {
            "_model_module": "@jupyter-widgets/controls",
            "_model_module_version": "1.5.0",
            "_model_name": "DescriptionStyleModel",
            "_view_count": null,
            "_view_module": "@jupyter-widgets/base",
            "_view_module_version": "1.2.0",
            "_view_name": "StyleView",
            "description_width": ""
          }
        },
        "8ba8196432f94e34ae7a49ad42946335": {
          "model_module": "@jupyter-widgets/controls",
          "model_name": "HBoxModel",
          "model_module_version": "1.5.0",
          "state": {
            "_dom_classes": [],
            "_model_module": "@jupyter-widgets/controls",
            "_model_module_version": "1.5.0",
            "_model_name": "HBoxModel",
            "_view_count": null,
            "_view_module": "@jupyter-widgets/controls",
            "_view_module_version": "1.5.0",
            "_view_name": "HBoxView",
            "box_style": "",
            "children": [
              "IPY_MODEL_4e83f3ab9ba24eb1aecc33f15cdfd5d2",
              "IPY_MODEL_32b3d8dc557f4d3488c2bc6fd52af817",
              "IPY_MODEL_d9c3b1bdc8da42289f4727c5d7d7b724"
            ],
            "layout": "IPY_MODEL_a54cf4d19854485ab0e7834db5c0c16d"
          }
        },
        "4e83f3ab9ba24eb1aecc33f15cdfd5d2": {
          "model_module": "@jupyter-widgets/controls",
          "model_name": "HTMLModel",
          "model_module_version": "1.5.0",
          "state": {
            "_dom_classes": [],
            "_model_module": "@jupyter-widgets/controls",
            "_model_module_version": "1.5.0",
            "_model_name": "HTMLModel",
            "_view_count": null,
            "_view_module": "@jupyter-widgets/controls",
            "_view_module_version": "1.5.0",
            "_view_name": "HTMLView",
            "description": "",
            "description_tooltip": null,
            "layout": "IPY_MODEL_803809ae2abc4286a28276d33a660596",
            "placeholder": "​",
            "style": "IPY_MODEL_0bc9938d5d034f1a9ee85e2c3feadd10",
            "value": "100%"
          }
        },
        "32b3d8dc557f4d3488c2bc6fd52af817": {
          "model_module": "@jupyter-widgets/controls",
          "model_name": "FloatProgressModel",
          "model_module_version": "1.5.0",
          "state": {
            "_dom_classes": [],
            "_model_module": "@jupyter-widgets/controls",
            "_model_module_version": "1.5.0",
            "_model_name": "FloatProgressModel",
            "_view_count": null,
            "_view_module": "@jupyter-widgets/controls",
            "_view_module_version": "1.5.0",
            "_view_name": "ProgressView",
            "bar_style": "success",
            "description": "",
            "description_tooltip": null,
            "layout": "IPY_MODEL_d958f089452a419eb9595f697848de49",
            "max": 10,
            "min": 0,
            "orientation": "horizontal",
            "style": "IPY_MODEL_ddbf315bd31d45b5862edf295592b03c",
            "value": 10
          }
        },
        "d9c3b1bdc8da42289f4727c5d7d7b724": {
          "model_module": "@jupyter-widgets/controls",
          "model_name": "HTMLModel",
          "model_module_version": "1.5.0",
          "state": {
            "_dom_classes": [],
            "_model_module": "@jupyter-widgets/controls",
            "_model_module_version": "1.5.0",
            "_model_name": "HTMLModel",
            "_view_count": null,
            "_view_module": "@jupyter-widgets/controls",
            "_view_module_version": "1.5.0",
            "_view_name": "HTMLView",
            "description": "",
            "description_tooltip": null,
            "layout": "IPY_MODEL_88d16103446a439d8368c694b8e4d08a",
            "placeholder": "​",
            "style": "IPY_MODEL_b11e71328b9b4af481784799b4cafc0c",
            "value": " 10/10 [00:44&lt;00:00,  4.58s/it]"
          }
        },
        "a54cf4d19854485ab0e7834db5c0c16d": {
          "model_module": "@jupyter-widgets/base",
          "model_name": "LayoutModel",
          "model_module_version": "1.2.0",
          "state": {
            "_model_module": "@jupyter-widgets/base",
            "_model_module_version": "1.2.0",
            "_model_name": "LayoutModel",
            "_view_count": null,
            "_view_module": "@jupyter-widgets/base",
            "_view_module_version": "1.2.0",
            "_view_name": "LayoutView",
            "align_content": null,
            "align_items": null,
            "align_self": null,
            "border": null,
            "bottom": null,
            "display": null,
            "flex": null,
            "flex_flow": null,
            "grid_area": null,
            "grid_auto_columns": null,
            "grid_auto_flow": null,
            "grid_auto_rows": null,
            "grid_column": null,
            "grid_gap": null,
            "grid_row": null,
            "grid_template_areas": null,
            "grid_template_columns": null,
            "grid_template_rows": null,
            "height": null,
            "justify_content": null,
            "justify_items": null,
            "left": null,
            "margin": null,
            "max_height": null,
            "max_width": null,
            "min_height": null,
            "min_width": null,
            "object_fit": null,
            "object_position": null,
            "order": null,
            "overflow": null,
            "overflow_x": null,
            "overflow_y": null,
            "padding": null,
            "right": null,
            "top": null,
            "visibility": null,
            "width": null
          }
        },
        "803809ae2abc4286a28276d33a660596": {
          "model_module": "@jupyter-widgets/base",
          "model_name": "LayoutModel",
          "model_module_version": "1.2.0",
          "state": {
            "_model_module": "@jupyter-widgets/base",
            "_model_module_version": "1.2.0",
            "_model_name": "LayoutModel",
            "_view_count": null,
            "_view_module": "@jupyter-widgets/base",
            "_view_module_version": "1.2.0",
            "_view_name": "LayoutView",
            "align_content": null,
            "align_items": null,
            "align_self": null,
            "border": null,
            "bottom": null,
            "display": null,
            "flex": null,
            "flex_flow": null,
            "grid_area": null,
            "grid_auto_columns": null,
            "grid_auto_flow": null,
            "grid_auto_rows": null,
            "grid_column": null,
            "grid_gap": null,
            "grid_row": null,
            "grid_template_areas": null,
            "grid_template_columns": null,
            "grid_template_rows": null,
            "height": null,
            "justify_content": null,
            "justify_items": null,
            "left": null,
            "margin": null,
            "max_height": null,
            "max_width": null,
            "min_height": null,
            "min_width": null,
            "object_fit": null,
            "object_position": null,
            "order": null,
            "overflow": null,
            "overflow_x": null,
            "overflow_y": null,
            "padding": null,
            "right": null,
            "top": null,
            "visibility": null,
            "width": null
          }
        },
        "0bc9938d5d034f1a9ee85e2c3feadd10": {
          "model_module": "@jupyter-widgets/controls",
          "model_name": "DescriptionStyleModel",
          "model_module_version": "1.5.0",
          "state": {
            "_model_module": "@jupyter-widgets/controls",
            "_model_module_version": "1.5.0",
            "_model_name": "DescriptionStyleModel",
            "_view_count": null,
            "_view_module": "@jupyter-widgets/base",
            "_view_module_version": "1.2.0",
            "_view_name": "StyleView",
            "description_width": ""
          }
        },
        "d958f089452a419eb9595f697848de49": {
          "model_module": "@jupyter-widgets/base",
          "model_name": "LayoutModel",
          "model_module_version": "1.2.0",
          "state": {
            "_model_module": "@jupyter-widgets/base",
            "_model_module_version": "1.2.0",
            "_model_name": "LayoutModel",
            "_view_count": null,
            "_view_module": "@jupyter-widgets/base",
            "_view_module_version": "1.2.0",
            "_view_name": "LayoutView",
            "align_content": null,
            "align_items": null,
            "align_self": null,
            "border": null,
            "bottom": null,
            "display": null,
            "flex": null,
            "flex_flow": null,
            "grid_area": null,
            "grid_auto_columns": null,
            "grid_auto_flow": null,
            "grid_auto_rows": null,
            "grid_column": null,
            "grid_gap": null,
            "grid_row": null,
            "grid_template_areas": null,
            "grid_template_columns": null,
            "grid_template_rows": null,
            "height": null,
            "justify_content": null,
            "justify_items": null,
            "left": null,
            "margin": null,
            "max_height": null,
            "max_width": null,
            "min_height": null,
            "min_width": null,
            "object_fit": null,
            "object_position": null,
            "order": null,
            "overflow": null,
            "overflow_x": null,
            "overflow_y": null,
            "padding": null,
            "right": null,
            "top": null,
            "visibility": null,
            "width": null
          }
        },
        "ddbf315bd31d45b5862edf295592b03c": {
          "model_module": "@jupyter-widgets/controls",
          "model_name": "ProgressStyleModel",
          "model_module_version": "1.5.0",
          "state": {
            "_model_module": "@jupyter-widgets/controls",
            "_model_module_version": "1.5.0",
            "_model_name": "ProgressStyleModel",
            "_view_count": null,
            "_view_module": "@jupyter-widgets/base",
            "_view_module_version": "1.2.0",
            "_view_name": "StyleView",
            "bar_color": null,
            "description_width": ""
          }
        },
        "88d16103446a439d8368c694b8e4d08a": {
          "model_module": "@jupyter-widgets/base",
          "model_name": "LayoutModel",
          "model_module_version": "1.2.0",
          "state": {
            "_model_module": "@jupyter-widgets/base",
            "_model_module_version": "1.2.0",
            "_model_name": "LayoutModel",
            "_view_count": null,
            "_view_module": "@jupyter-widgets/base",
            "_view_module_version": "1.2.0",
            "_view_name": "LayoutView",
            "align_content": null,
            "align_items": null,
            "align_self": null,
            "border": null,
            "bottom": null,
            "display": null,
            "flex": null,
            "flex_flow": null,
            "grid_area": null,
            "grid_auto_columns": null,
            "grid_auto_flow": null,
            "grid_auto_rows": null,
            "grid_column": null,
            "grid_gap": null,
            "grid_row": null,
            "grid_template_areas": null,
            "grid_template_columns": null,
            "grid_template_rows": null,
            "height": null,
            "justify_content": null,
            "justify_items": null,
            "left": null,
            "margin": null,
            "max_height": null,
            "max_width": null,
            "min_height": null,
            "min_width": null,
            "object_fit": null,
            "object_position": null,
            "order": null,
            "overflow": null,
            "overflow_x": null,
            "overflow_y": null,
            "padding": null,
            "right": null,
            "top": null,
            "visibility": null,
            "width": null
          }
        },
        "b11e71328b9b4af481784799b4cafc0c": {
          "model_module": "@jupyter-widgets/controls",
          "model_name": "DescriptionStyleModel",
          "model_module_version": "1.5.0",
          "state": {
            "_model_module": "@jupyter-widgets/controls",
            "_model_module_version": "1.5.0",
            "_model_name": "DescriptionStyleModel",
            "_view_count": null,
            "_view_module": "@jupyter-widgets/base",
            "_view_module_version": "1.2.0",
            "_view_name": "StyleView",
            "description_width": ""
          }
        }
      }
    },
    "colab": {
      "name": "FourSqure_CV確認.ipynb",
      "provenance": [],
      "collapsed_sections": [],
      "include_colab_link": true
    }
  },
  "nbformat": 4,
  "nbformat_minor": 5
}