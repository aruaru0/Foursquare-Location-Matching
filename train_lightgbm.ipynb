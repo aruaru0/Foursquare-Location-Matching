{
  "nbformat": 4,
  "nbformat_minor": 0,
  "metadata": {
    "colab": {
      "name": "train_lightgbm.ipynb",
      "provenance": [],
      "collapsed_sections": [],
      "machine_shape": "hm",
      "mount_file_id": "1Rrn27XU-ZvbSKf9CiYWbZE-U10jFv8qe",
      "authorship_tag": "ABX9TyO3jDytxJHH0MIsNHA6O3rn",
      "include_colab_link": true
    },
    "kernelspec": {
      "name": "python3",
      "display_name": "Python 3"
    },
    "language_info": {
      "name": "python"
    },
    "accelerator": "TPU"
  },
  "cells": [
    {
      "cell_type": "markdown",
      "metadata": {
        "id": "view-in-github",
        "colab_type": "text"
      },
      "source": [
        "<a href=\"https://colab.research.google.com/github/aruaru0/Foursquare-Location-Matching/blob/main/train_lightgbm.ipynb\" target=\"_parent\"><img src=\"https://colab.research.google.com/assets/colab-badge.svg\" alt=\"Open In Colab\"/></a>"
      ]
    },
    {
      "cell_type": "code",
      "execution_count": 10,
      "metadata": {
        "id": "DxBLBLmUkP_t"
      },
      "outputs": [],
      "source": [
        "!mkdir -p ~/.kaggle\n",
        "!cp /content/drive/MyDrive/datas/kaggle.json  ~/.kaggle/"
      ]
    },
    {
      "cell_type": "code",
      "source": [
        "!pip install kaggle\n",
        "!apt install unzip"
      ],
      "metadata": {
        "colab": {
          "base_uri": "https://localhost:8080/"
        },
        "id": "I47Bx_hOkX5W",
        "outputId": "f73d0dba-8eb4-4ff6-c72c-12d67bae19f0"
      },
      "execution_count": 11,
      "outputs": [
        {
          "output_type": "stream",
          "name": "stdout",
          "text": [
            "Looking in indexes: https://pypi.org/simple, https://us-python.pkg.dev/colab-wheels/public/simple/\n",
            "Requirement already satisfied: kaggle in /usr/local/lib/python3.7/dist-packages (1.5.12)\n",
            "Requirement already satisfied: urllib3 in /usr/local/lib/python3.7/dist-packages (from kaggle) (1.24.3)\n",
            "Requirement already satisfied: tqdm in /usr/local/lib/python3.7/dist-packages (from kaggle) (4.64.0)\n",
            "Requirement already satisfied: six>=1.10 in /usr/local/lib/python3.7/dist-packages (from kaggle) (1.15.0)\n",
            "Requirement already satisfied: certifi in /usr/local/lib/python3.7/dist-packages (from kaggle) (2022.5.18.1)\n",
            "Requirement already satisfied: python-dateutil in /usr/local/lib/python3.7/dist-packages (from kaggle) (2.8.2)\n",
            "Requirement already satisfied: python-slugify in /usr/local/lib/python3.7/dist-packages (from kaggle) (6.1.2)\n",
            "Requirement already satisfied: requests in /usr/local/lib/python3.7/dist-packages (from kaggle) (2.23.0)\n",
            "Requirement already satisfied: text-unidecode>=1.3 in /usr/local/lib/python3.7/dist-packages (from python-slugify->kaggle) (1.3)\n",
            "Requirement already satisfied: idna<3,>=2.5 in /usr/local/lib/python3.7/dist-packages (from requests->kaggle) (2.10)\n",
            "Requirement already satisfied: chardet<4,>=3.0.2 in /usr/local/lib/python3.7/dist-packages (from requests->kaggle) (3.0.4)\n",
            "Reading package lists... Done\n",
            "Building dependency tree       \n",
            "Reading state information... Done\n",
            "unzip is already the newest version (6.0-21ubuntu1.1).\n",
            "The following package was automatically installed and is no longer required:\n",
            "  libnvidia-common-460\n",
            "Use 'apt autoremove' to remove it.\n",
            "0 upgraded, 0 newly installed, 0 to remove and 45 not upgraded.\n"
          ]
        }
      ]
    },
    {
      "cell_type": "code",
      "source": [
        "!chmod 600 /root/.kaggle/kaggle.json"
      ],
      "metadata": {
        "id": "uAY38Z8gkbF_"
      },
      "execution_count": 12,
      "outputs": []
    },
    {
      "cell_type": "code",
      "source": [
        "!mkdir input output"
      ],
      "metadata": {
        "colab": {
          "base_uri": "https://localhost:8080/"
        },
        "id": "hBMhRkcBk5bX",
        "outputId": "2a317c13-a8fa-456d-9a16-43e120549a9d"
      },
      "execution_count": 13,
      "outputs": [
        {
          "output_type": "stream",
          "name": "stdout",
          "text": [
            "mkdir: cannot create directory ‘input’: File exists\n",
            "mkdir: cannot create directory ‘output’: File exists\n"
          ]
        }
      ]
    },
    {
      "cell_type": "code",
      "source": [
        "!kaggle competitions download -c foursquare-location-matching"
      ],
      "metadata": {
        "colab": {
          "base_uri": "https://localhost:8080/"
        },
        "id": "93chQnMHkd9N",
        "outputId": "8ab78ef7-cf70-4e26-e829-fdc771716045"
      },
      "execution_count": 14,
      "outputs": [
        {
          "output_type": "stream",
          "name": "stdout",
          "text": [
            "Downloading foursquare-location-matching.zip to /content\n",
            " 98% 156M/159M [00:01<00:00, 107MB/s]\n",
            "100% 159M/159M [00:01<00:00, 111MB/s]\n"
          ]
        }
      ]
    },
    {
      "cell_type": "code",
      "source": [
        "!unzip foursquare-location-matching.zip -d input/foursquare-location-matching"
      ],
      "metadata": {
        "colab": {
          "base_uri": "https://localhost:8080/"
        },
        "id": "awKrfnimkkK-",
        "outputId": "a9eb934d-19f5-4b41-9159-de624e5bd462"
      },
      "execution_count": 15,
      "outputs": [
        {
          "output_type": "stream",
          "name": "stdout",
          "text": [
            "Archive:  foursquare-location-matching.zip\n",
            "  inflating: input/foursquare-location-matching/pairs.csv  \n",
            "  inflating: input/foursquare-location-matching/sample_submission.csv  \n",
            "  inflating: input/foursquare-location-matching/test.csv  \n",
            "  inflating: input/foursquare-location-matching/train.csv  \n"
          ]
        }
      ]
    },
    {
      "cell_type": "code",
      "source": [
        "!kaggle kernels output aruaru0/training-data-for-binary-lgb-baseline-0-834 -p ./input/train_data"
      ],
      "metadata": {
        "colab": {
          "base_uri": "https://localhost:8080/"
        },
        "id": "BLahOGiplAJO",
        "outputId": "d296cce7-f265-422a-ab40-b392d0756afc"
      },
      "execution_count": 16,
      "outputs": [
        {
          "output_type": "stream",
          "name": "stdout",
          "text": [
            "tcmalloc: large alloc 1212923904 bytes == 0x5ac9a000 @  0x7f93be66d1e7 0x4a3940 0x5b438c 0x5b46f7 0x59afff 0x515655 0x59a257 0x570bf0 0x511ee1 0x549576 0x4bca8a 0x59c019 0x595ef6 0x5134a6 0x549576 0x4bca8a 0x59c019 0x595ef6 0x5134a6 0x549576 0x4bca8a 0x5134a6 0x549576 0x593fce 0x548ae9 0x51566f 0x549576 0x593fce 0x511e2c 0x549576 0x4bca8a\n",
            "Output file downloaded to ./input/train_data/train_data1.csv\n",
            "tcmalloc: large alloc 1215537152 bytes == 0xa3ade000 @  0x7f93be66d1e7 0x4a3940 0x5b438c 0x5b46f7 0x59afff 0x515655 0x59a257 0x570bf0 0x511ee1 0x549576 0x4bca8a 0x59c019 0x595ef6 0x5134a6 0x549576 0x4bca8a 0x59c019 0x595ef6 0x5134a6 0x549576 0x4bca8a 0x5134a6 0x549576 0x593fce 0x548ae9 0x51566f 0x549576 0x593fce 0x511e2c 0x549576 0x4bca8a\n",
            "Output file downloaded to ./input/train_data/train_data2.csv\n",
            "Output file downloaded to ./input/train_data/train_data3.csv\n",
            "Output file downloaded to ./input/train_data/train_data4.csv\n",
            "Output file downloaded to ./input/train_data/train_data5.csv\n",
            "Output file downloaded to ./input/train_data/tv_ids_d.npy\n",
            "Kernel log downloaded to ./input/train_data/training-data-for-binary-lgb-baseline-0-834.log \n"
          ]
        }
      ]
    },
    {
      "cell_type": "markdown",
      "source": [
        "## lightgbm"
      ],
      "metadata": {
        "id": "2B6dHiuFl_VT"
      }
    },
    {
      "cell_type": "code",
      "source": [
        "import lightgbm as lgb\n",
        "import numpy as np\n",
        "import pandas as pd\n",
        "from sklearn.metrics import accuracy_score\n",
        "from sklearn.metrics import confusion_matrix\n",
        "import seaborn as sns"
      ],
      "metadata": {
        "id": "D3PGkjWZluzL"
      },
      "execution_count": 17,
      "outputs": []
    },
    {
      "cell_type": "code",
      "source": [
        "df1 = pd.read_csv('/content/input/train_data/train_data1.csv')\n",
        "df2 = pd.read_csv('/content/input/train_data/train_data2.csv')\n",
        "df3 = pd.read_csv('/content/input/train_data/train_data3.csv')\n",
        "df4 = pd.read_csv('/content/input/train_data/train_data4.csv')\n",
        "df5 = pd.read_csv('/content/input/train_data/train_data5.csv')"
      ],
      "metadata": {
        "id": "pcLrde5Ht-Eg"
      },
      "execution_count": 18,
      "outputs": []
    },
    {
      "cell_type": "code",
      "source": [
        "df = pd.concat([df1, df2, df3])\n",
        "x_train = df[['kdist', 'kneighbors', 'kdist_country',\n",
        "       'kneighbors_country', 'name_sim', 'name_gesh', 'name_leven',\n",
        "       'name_jaro', 'name_lcs', 'name_len_diff', 'name_nleven', 'name_nlcsk',\n",
        "       'name_nlcs', 'address_sim', 'address_gesh', 'address_leven',\n",
        "       'address_jaro', 'address_lcs', 'address_len_diff', 'address_nleven',\n",
        "       'address_nlcsk', 'address_nlcs', 'city_gesh', 'city_leven', 'city_jaro',\n",
        "       'city_lcs', 'city_len_diff', 'city_nleven', 'city_nlcsk', 'city_nlcs',\n",
        "       'state_sim', 'state_gesh', 'state_leven', 'state_jaro', 'state_lcs',\n",
        "       'state_len_diff', 'state_nleven', 'state_nlcsk', 'state_nlcs',\n",
        "       'zip_gesh', 'zip_leven', 'zip_jaro', 'zip_lcs', 'url_sim', 'url_gesh',\n",
        "       'url_leven', 'url_jaro', 'url_lcs', 'url_len_diff', 'url_nleven',\n",
        "       'url_nlcsk', 'url_nlcs', 'phone_gesh', 'phone_leven', 'phone_jaro',\n",
        "       'phone_lcs', 'categories_sim', 'categories_gesh', 'categories_leven',\n",
        "       'categories_jaro', 'categories_lcs', 'categories_len_diff',\n",
        "       'categories_nleven', 'categories_nlcsk', 'categories_nlcs',\n",
        "       'country_sim', 'country_gesh', 'country_leven', 'country_jaro',\n",
        "       'country_lcs', 'country_len_diff', 'country_nleven', 'country_nlcsk',\n",
        "       'country_nlcs']]\n",
        "y_train = df['label']"
      ],
      "metadata": {
        "id": "7SLF7hwanqWd"
      },
      "execution_count": 19,
      "outputs": []
    },
    {
      "cell_type": "code",
      "source": [
        "df = df4\n",
        "x_valid = df[['kdist', 'kneighbors', 'kdist_country',\n",
        "       'kneighbors_country', 'name_sim', 'name_gesh', 'name_leven',\n",
        "       'name_jaro', 'name_lcs', 'name_len_diff', 'name_nleven', 'name_nlcsk',\n",
        "       'name_nlcs', 'address_sim', 'address_gesh', 'address_leven',\n",
        "       'address_jaro', 'address_lcs', 'address_len_diff', 'address_nleven',\n",
        "       'address_nlcsk', 'address_nlcs', 'city_gesh', 'city_leven', 'city_jaro',\n",
        "       'city_lcs', 'city_len_diff', 'city_nleven', 'city_nlcsk', 'city_nlcs',\n",
        "       'state_sim', 'state_gesh', 'state_leven', 'state_jaro', 'state_lcs',\n",
        "       'state_len_diff', 'state_nleven', 'state_nlcsk', 'state_nlcs',\n",
        "       'zip_gesh', 'zip_leven', 'zip_jaro', 'zip_lcs', 'url_sim', 'url_gesh',\n",
        "       'url_leven', 'url_jaro', 'url_lcs', 'url_len_diff', 'url_nleven',\n",
        "       'url_nlcsk', 'url_nlcs', 'phone_gesh', 'phone_leven', 'phone_jaro',\n",
        "       'phone_lcs', 'categories_sim', 'categories_gesh', 'categories_leven',\n",
        "       'categories_jaro', 'categories_lcs', 'categories_len_diff',\n",
        "       'categories_nleven', 'categories_nlcsk', 'categories_nlcs',\n",
        "       'country_sim', 'country_gesh', 'country_leven', 'country_jaro',\n",
        "       'country_lcs', 'country_len_diff', 'country_nleven', 'country_nlcsk',\n",
        "       'country_nlcs']]\n",
        "y_valid = df['label']"
      ],
      "metadata": {
        "id": "t0QM_3hEoJEp"
      },
      "execution_count": 20,
      "outputs": []
    },
    {
      "cell_type": "code",
      "source": [
        "df = df5\n",
        "x_test = df[['kdist', 'kneighbors', 'kdist_country',\n",
        "       'kneighbors_country', 'name_sim', 'name_gesh', 'name_leven',\n",
        "       'name_jaro', 'name_lcs', 'name_len_diff', 'name_nleven', 'name_nlcsk',\n",
        "       'name_nlcs', 'address_sim', 'address_gesh', 'address_leven',\n",
        "       'address_jaro', 'address_lcs', 'address_len_diff', 'address_nleven',\n",
        "       'address_nlcsk', 'address_nlcs', 'city_gesh', 'city_leven', 'city_jaro',\n",
        "       'city_lcs', 'city_len_diff', 'city_nleven', 'city_nlcsk', 'city_nlcs',\n",
        "       'state_sim', 'state_gesh', 'state_leven', 'state_jaro', 'state_lcs',\n",
        "       'state_len_diff', 'state_nleven', 'state_nlcsk', 'state_nlcs',\n",
        "       'zip_gesh', 'zip_leven', 'zip_jaro', 'zip_lcs', 'url_sim', 'url_gesh',\n",
        "       'url_leven', 'url_jaro', 'url_lcs', 'url_len_diff', 'url_nleven',\n",
        "       'url_nlcsk', 'url_nlcs', 'phone_gesh', 'phone_leven', 'phone_jaro',\n",
        "       'phone_lcs', 'categories_sim', 'categories_gesh', 'categories_leven',\n",
        "       'categories_jaro', 'categories_lcs', 'categories_len_diff',\n",
        "       'categories_nleven', 'categories_nlcsk', 'categories_nlcs',\n",
        "       'country_sim', 'country_gesh', 'country_leven', 'country_jaro',\n",
        "       'country_lcs', 'country_len_diff', 'country_nleven', 'country_nlcsk',\n",
        "       'country_nlcs']]\n",
        "y_test = df['label']"
      ],
      "metadata": {
        "id": "0OsVvEWUny_I"
      },
      "execution_count": 21,
      "outputs": []
    },
    {
      "cell_type": "code",
      "source": [
        "train_data = lgb.Dataset(\n",
        "    data=x_train, \n",
        "    label=y_train, \n",
        ")\n",
        "validation_data = lgb.Dataset(\n",
        "    data=x_valid, \n",
        "    label=y_valid, \n",
        ")"
      ],
      "metadata": {
        "id": "JDKLa6aOn0Jk"
      },
      "execution_count": 22,
      "outputs": []
    },
    {
      "cell_type": "code",
      "source": [
        "params = {\n",
        "    'task': 'train',\n",
        "    'boosting_type': 'gbdt',\n",
        "    'objective': 'binary',\n",
        "    'metric': 'binary_logloss',\n",
        "    'num_leaves': 64,\n",
        "    'min_data_in_leaf': 20,\n",
        "    'max_depth': 7,\n",
        "    'verbose': 0,\n",
        "}"
      ],
      "metadata": {
        "id": "do6Cu_a4ofXU"
      },
      "execution_count": 23,
      "outputs": []
    },
    {
      "cell_type": "code",
      "source": [
        "bst = lgb.train(\n",
        "    params=params, \n",
        "    train_set=train_data, \n",
        "    num_boost_round=100, \n",
        "    early_stopping_rounds=20,\n",
        "    valid_sets=[validation_data]\n",
        ")"
      ],
      "metadata": {
        "colab": {
          "base_uri": "https://localhost:8080/"
        },
        "id": "rfXRZge0ojih",
        "outputId": "38e61884-947b-442a-cad4-6cbcfa8547ee"
      },
      "execution_count": 24,
      "outputs": [
        {
          "output_type": "stream",
          "name": "stdout",
          "text": [
            "[1]\tvalid_0's binary_logloss: 0.186246\n",
            "Training until validation scores don't improve for 20 rounds.\n",
            "[2]\tvalid_0's binary_logloss: 0.161619\n",
            "[3]\tvalid_0's binary_logloss: 0.14432\n",
            "[4]\tvalid_0's binary_logloss: 0.130837\n",
            "[5]\tvalid_0's binary_logloss: 0.119826\n",
            "[6]\tvalid_0's binary_logloss: 0.110675\n",
            "[7]\tvalid_0's binary_logloss: 0.102923\n",
            "[8]\tvalid_0's binary_logloss: 0.0962462\n",
            "[9]\tvalid_0's binary_logloss: 0.0904779\n",
            "[10]\tvalid_0's binary_logloss: 0.0854557\n",
            "[11]\tvalid_0's binary_logloss: 0.081053\n",
            "[12]\tvalid_0's binary_logloss: 0.0771231\n",
            "[13]\tvalid_0's binary_logloss: 0.073694\n",
            "[14]\tvalid_0's binary_logloss: 0.0706278\n",
            "[15]\tvalid_0's binary_logloss: 0.0678747\n",
            "[16]\tvalid_0's binary_logloss: 0.0654395\n",
            "[17]\tvalid_0's binary_logloss: 0.0632901\n",
            "[18]\tvalid_0's binary_logloss: 0.0613392\n",
            "[19]\tvalid_0's binary_logloss: 0.0596177\n",
            "[20]\tvalid_0's binary_logloss: 0.0580606\n",
            "[21]\tvalid_0's binary_logloss: 0.0566658\n",
            "[22]\tvalid_0's binary_logloss: 0.0554118\n",
            "[23]\tvalid_0's binary_logloss: 0.0542902\n",
            "[24]\tvalid_0's binary_logloss: 0.0532819\n",
            "[25]\tvalid_0's binary_logloss: 0.0523811\n",
            "[26]\tvalid_0's binary_logloss: 0.0515777\n",
            "[27]\tvalid_0's binary_logloss: 0.0508448\n",
            "[28]\tvalid_0's binary_logloss: 0.0501649\n",
            "[29]\tvalid_0's binary_logloss: 0.0495614\n",
            "[30]\tvalid_0's binary_logloss: 0.0490143\n",
            "[31]\tvalid_0's binary_logloss: 0.0485296\n",
            "[32]\tvalid_0's binary_logloss: 0.0480775\n",
            "[33]\tvalid_0's binary_logloss: 0.0476721\n",
            "[34]\tvalid_0's binary_logloss: 0.0473126\n",
            "[35]\tvalid_0's binary_logloss: 0.0469883\n",
            "[36]\tvalid_0's binary_logloss: 0.04668\n",
            "[37]\tvalid_0's binary_logloss: 0.0463978\n",
            "[38]\tvalid_0's binary_logloss: 0.046145\n",
            "[39]\tvalid_0's binary_logloss: 0.0459033\n",
            "[40]\tvalid_0's binary_logloss: 0.0456441\n",
            "[41]\tvalid_0's binary_logloss: 0.0454529\n",
            "[42]\tvalid_0's binary_logloss: 0.0452766\n",
            "[43]\tvalid_0's binary_logloss: 0.0451238\n",
            "[44]\tvalid_0's binary_logloss: 0.0449652\n",
            "[45]\tvalid_0's binary_logloss: 0.0448234\n",
            "[46]\tvalid_0's binary_logloss: 0.0446627\n",
            "[47]\tvalid_0's binary_logloss: 0.0445354\n",
            "[48]\tvalid_0's binary_logloss: 0.0444166\n",
            "[49]\tvalid_0's binary_logloss: 0.0443135\n",
            "[50]\tvalid_0's binary_logloss: 0.0442037\n",
            "[51]\tvalid_0's binary_logloss: 0.0441073\n",
            "[52]\tvalid_0's binary_logloss: 0.0440276\n",
            "[53]\tvalid_0's binary_logloss: 0.0439277\n",
            "[54]\tvalid_0's binary_logloss: 0.0438309\n",
            "[55]\tvalid_0's binary_logloss: 0.043779\n",
            "[56]\tvalid_0's binary_logloss: 0.043697\n",
            "[57]\tvalid_0's binary_logloss: 0.0436353\n",
            "[58]\tvalid_0's binary_logloss: 0.0435612\n",
            "[59]\tvalid_0's binary_logloss: 0.043512\n",
            "[60]\tvalid_0's binary_logloss: 0.0434418\n",
            "[61]\tvalid_0's binary_logloss: 0.0433929\n",
            "[62]\tvalid_0's binary_logloss: 0.0433463\n",
            "[63]\tvalid_0's binary_logloss: 0.0432672\n",
            "[64]\tvalid_0's binary_logloss: 0.0432297\n",
            "[65]\tvalid_0's binary_logloss: 0.043194\n",
            "[66]\tvalid_0's binary_logloss: 0.043129\n",
            "[67]\tvalid_0's binary_logloss: 0.043069\n",
            "[68]\tvalid_0's binary_logloss: 0.0431385\n",
            "[69]\tvalid_0's binary_logloss: 0.0429884\n",
            "[70]\tvalid_0's binary_logloss: 0.0429348\n",
            "[71]\tvalid_0's binary_logloss: 0.0428835\n",
            "[72]\tvalid_0's binary_logloss: 0.0428277\n",
            "[73]\tvalid_0's binary_logloss: 0.042775\n",
            "[74]\tvalid_0's binary_logloss: 0.0427139\n",
            "[75]\tvalid_0's binary_logloss: 0.0426785\n",
            "[76]\tvalid_0's binary_logloss: 0.0426138\n",
            "[77]\tvalid_0's binary_logloss: 0.042576\n",
            "[78]\tvalid_0's binary_logloss: 0.0425194\n",
            "[79]\tvalid_0's binary_logloss: 0.0424864\n",
            "[80]\tvalid_0's binary_logloss: 0.0424506\n",
            "[81]\tvalid_0's binary_logloss: 0.0424267\n",
            "[82]\tvalid_0's binary_logloss: 0.0423878\n",
            "[83]\tvalid_0's binary_logloss: 0.0423258\n",
            "[84]\tvalid_0's binary_logloss: 0.0422523\n",
            "[85]\tvalid_0's binary_logloss: 0.0423172\n",
            "[86]\tvalid_0's binary_logloss: 0.0422836\n",
            "[87]\tvalid_0's binary_logloss: 0.0422577\n",
            "[88]\tvalid_0's binary_logloss: 0.0422685\n",
            "[89]\tvalid_0's binary_logloss: 0.0422304\n",
            "[90]\tvalid_0's binary_logloss: 0.0422208\n",
            "[91]\tvalid_0's binary_logloss: 0.0421829\n",
            "[92]\tvalid_0's binary_logloss: 0.0421009\n",
            "[93]\tvalid_0's binary_logloss: 0.0420722\n",
            "[94]\tvalid_0's binary_logloss: 0.0420399\n",
            "[95]\tvalid_0's binary_logloss: 0.0421138\n",
            "[96]\tvalid_0's binary_logloss: 0.0420786\n",
            "[97]\tvalid_0's binary_logloss: 0.0420521\n",
            "[98]\tvalid_0's binary_logloss: 0.042005\n",
            "[99]\tvalid_0's binary_logloss: 0.0419283\n",
            "[100]\tvalid_0's binary_logloss: 0.0419861\n",
            "Did not meet early stopping. Best iteration is:\n",
            "[99]\tvalid_0's binary_logloss: 0.0419283\n"
          ]
        }
      ]
    },
    {
      "cell_type": "code",
      "source": [
        "y_pred = bst.predict(x_test, num_iteration=bst.best_iteration)\n",
        "y_pred = y_pred.round(0)"
      ],
      "metadata": {
        "id": "Y0W9mFkqolgY"
      },
      "execution_count": 30,
      "outputs": []
    },
    {
      "cell_type": "code",
      "source": [
        ""
      ],
      "metadata": {
        "colab": {
          "base_uri": "https://localhost:8080/"
        },
        "id": "2fEPjszMy1V7",
        "outputId": "aca012b5-9d04-4212-be19-11a50c9e31f6"
      },
      "execution_count": 29,
      "outputs": [
        {
          "output_type": "execute_result",
          "data": {
            "text/plain": [
              "array([9.99695020e-01, 9.99721652e-01, 9.99821755e-01, ...,\n",
              "       3.88055939e-04, 3.69651091e-04, 4.27451725e-04])"
            ]
          },
          "metadata": {},
          "execution_count": 29
        }
      ]
    },
    {
      "cell_type": "code",
      "source": [
        "accuracy = accuracy_score(y_pred, y_test)\n",
        "print(f\"accuracy score: {accuracy:0.4f}\")\n",
        "# accuracy score: 0.9825"
      ],
      "metadata": {
        "colab": {
          "base_uri": "https://localhost:8080/"
        },
        "id": "vyCUxxJFqE-4",
        "outputId": "94411b98-5241-4027-d6fc-6b3bd7c4d5dc"
      },
      "execution_count": 31,
      "outputs": [
        {
          "output_type": "stream",
          "name": "stdout",
          "text": [
            "accuracy score: 0.9851\n"
          ]
        }
      ]
    },
    {
      "cell_type": "code",
      "source": [
        "cm = confusion_matrix(y_test, y_pred)\n",
        "cm_matrix = pd.DataFrame(data=cm, columns=['Actual Positive:1', 'Actual Negative:0'], \n",
        "                                 index=['Predict Positive:1', 'Predict Negative:0'])\n",
        "\n",
        "sns.heatmap(cm_matrix, annot=True, fmt='d', cmap='YlGnBu')"
      ],
      "metadata": {
        "colab": {
          "base_uri": "https://localhost:8080/",
          "height": 294
        },
        "id": "FxZ25QYFqLTo",
        "outputId": "4aa48ecc-673e-49f3-c121-8359d4ec7a96"
      },
      "execution_count": 32,
      "outputs": [
        {
          "output_type": "execute_result",
          "data": {
            "text/plain": [
              "<matplotlib.axes._subplots.AxesSubplot at 0x7fbccb493550>"
            ]
          },
          "metadata": {},
          "execution_count": 32
        },
        {
          "output_type": "display_data",
          "data": {
            "text/plain": [
              "<Figure size 432x288 with 2 Axes>"
            ],
            "image/png": "[encoded data removed]"
          },
          "metadata": {
            "needs_background": "light"
          }
        }
      ]
    },
    {
      "cell_type": "code",
      "source": [
        ""
      ],
      "metadata": {
        "id": "vhQVfCwJqZJK"
      },
      "execution_count": 27,
      "outputs": []
    }
  ]
}