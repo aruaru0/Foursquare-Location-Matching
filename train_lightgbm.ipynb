{
  "nbformat": 4,
  "nbformat_minor": 0,
  "metadata": {
    "colab": {
      "name": "train_lightgbm.ipynb",
      "provenance": [],
      "collapsed_sections": [],
      "machine_shape": "hm",
      "mount_file_id": "1Rrn27XU-ZvbSKf9CiYWbZE-U10jFv8qe",
      "authorship_tag": "ABX9TyPmcBYmxfRXJAymcWhEjfV5",
      "include_colab_link": true
    },
    "kernelspec": {
      "name": "python3",
      "display_name": "Python 3"
    },
    "language_info": {
      "name": "python"
    },
    "accelerator": "TPU",
    "widgets": {
      "application/vnd.jupyter.widget-state+json": {
        "0b29acd30a9b4ce9ade80b86d9447d11": {
          "model_module": "@jupyter-widgets/controls",
          "model_name": "HBoxModel",
          "model_module_version": "1.5.0",
          "state": {
            "_dom_classes": [],
            "_model_module": "@jupyter-widgets/controls",
            "_model_module_version": "1.5.0",
            "_model_name": "HBoxModel",
            "_view_count": null,
            "_view_module": "@jupyter-widgets/controls",
            "_view_module_version": "1.5.0",
            "_view_name": "HBoxView",
            "box_style": "",
            "children": [
              "IPY_MODEL_87931b2f5ce8404f938967bb5136cbb3",
              "IPY_MODEL_93f4a915d62440c890fd9fba6657599d",
              "IPY_MODEL_0e583512cd994b5eac7c8fab81e0cce2"
            ],
            "layout": "IPY_MODEL_c762874b71ee4c9fa6a1ea250cc0c862"
          }
        },
        "87931b2f5ce8404f938967bb5136cbb3": {
          "model_module": "@jupyter-widgets/controls",
          "model_name": "HTMLModel",
          "model_module_version": "1.5.0",
          "state": {
            "_dom_classes": [],
            "_model_module": "@jupyter-widgets/controls",
            "_model_module_version": "1.5.0",
            "_model_name": "HTMLModel",
            "_view_count": null,
            "_view_module": "@jupyter-widgets/controls",
            "_view_module_version": "1.5.0",
            "_view_name": "HTMLView",
            "description": "",
            "description_tooltip": null,
            "layout": "IPY_MODEL_fc154c47e8764d1984a4d1c86ab8df8e",
            "placeholder": "​",
            "style": "IPY_MODEL_3f1631d02fe442c69be57b2fda43db9c",
            "value": "Model A: 100%"
          }
        },
        "93f4a915d62440c890fd9fba6657599d": {
          "model_module": "@jupyter-widgets/controls",
          "model_name": "FloatProgressModel",
          "model_module_version": "1.5.0",
          "state": {
            "_dom_classes": [],
            "_model_module": "@jupyter-widgets/controls",
            "_model_module_version": "1.5.0",
            "_model_name": "FloatProgressModel",
            "_view_count": null,
            "_view_module": "@jupyter-widgets/controls",
            "_view_module_version": "1.5.0",
            "_view_name": "ProgressView",
            "bar_style": "success",
            "description": "",
            "description_tooltip": null,
            "layout": "IPY_MODEL_63914abb2a554ec09fcfe37fa6b9a95c",
            "max": 500,
            "min": 0,
            "orientation": "horizontal",
            "style": "IPY_MODEL_142dcc1d17c74130aee62a546770dbee",
            "value": 500
          }
        },
        "0e583512cd994b5eac7c8fab81e0cce2": {
          "model_module": "@jupyter-widgets/controls",
          "model_name": "HTMLModel",
          "model_module_version": "1.5.0",
          "state": {
            "_dom_classes": [],
            "_model_module": "@jupyter-widgets/controls",
            "_model_module_version": "1.5.0",
            "_model_name": "HTMLModel",
            "_view_count": null,
            "_view_module": "@jupyter-widgets/controls",
            "_view_module_version": "1.5.0",
            "_view_name": "HTMLView",
            "description": "",
            "description_tooltip": null,
            "layout": "IPY_MODEL_48afcb75ee134e14ae6686896ecf84cc",
            "placeholder": "​",
            "style": "IPY_MODEL_f5aa822c013640d0b3b1ff5f38e4ce5d",
            "value": " 500/500 [17:40&lt;00:00,  3.30it/s, valid_0:binary_logloss=0.03598684360271353]"
          }
        },
        "c762874b71ee4c9fa6a1ea250cc0c862": {
          "model_module": "@jupyter-widgets/base",
          "model_name": "LayoutModel",
          "model_module_version": "1.2.0",
          "state": {
            "_model_module": "@jupyter-widgets/base",
            "_model_module_version": "1.2.0",
            "_model_name": "LayoutModel",
            "_view_count": null,
            "_view_module": "@jupyter-widgets/base",
            "_view_module_version": "1.2.0",
            "_view_name": "LayoutView",
            "align_content": null,
            "align_items": null,
            "align_self": null,
            "border": null,
            "bottom": null,
            "display": null,
            "flex": null,
            "flex_flow": null,
            "grid_area": null,
            "grid_auto_columns": null,
            "grid_auto_flow": null,
            "grid_auto_rows": null,
            "grid_column": null,
            "grid_gap": null,
            "grid_row": null,
            "grid_template_areas": null,
            "grid_template_columns": null,
            "grid_template_rows": null,
            "height": null,
            "justify_content": null,
            "justify_items": null,
            "left": null,
            "margin": null,
            "max_height": null,
            "max_width": null,
            "min_height": null,
            "min_width": null,
            "object_fit": null,
            "object_position": null,
            "order": null,
            "overflow": null,
            "overflow_x": null,
            "overflow_y": null,
            "padding": null,
            "right": null,
            "top": null,
            "visibility": null,
            "width": null
          }
        },
        "fc154c47e8764d1984a4d1c86ab8df8e": {
          "model_module": "@jupyter-widgets/base",
          "model_name": "LayoutModel",
          "model_module_version": "1.2.0",
          "state": {
            "_model_module": "@jupyter-widgets/base",
            "_model_module_version": "1.2.0",
            "_model_name": "LayoutModel",
            "_view_count": null,
            "_view_module": "@jupyter-widgets/base",
            "_view_module_version": "1.2.0",
            "_view_name": "LayoutView",
            "align_content": null,
            "align_items": null,
            "align_self": null,
            "border": null,
            "bottom": null,
            "display": null,
            "flex": null,
            "flex_flow": null,
            "grid_area": null,
            "grid_auto_columns": null,
            "grid_auto_flow": null,
            "grid_auto_rows": null,
            "grid_column": null,
            "grid_gap": null,
            "grid_row": null,
            "grid_template_areas": null,
            "grid_template_columns": null,
            "grid_template_rows": null,
            "height": null,
            "justify_content": null,
            "justify_items": null,
            "left": null,
            "margin": null,
            "max_height": null,
            "max_width": null,
            "min_height": null,
            "min_width": null,
            "object_fit": null,
            "object_position": null,
            "order": null,
            "overflow": null,
            "overflow_x": null,
            "overflow_y": null,
            "padding": null,
            "right": null,
            "top": null,
            "visibility": null,
            "width": null
          }
        },
        "3f1631d02fe442c69be57b2fda43db9c": {
          "model_module": "@jupyter-widgets/controls",
          "model_name": "DescriptionStyleModel",
          "model_module_version": "1.5.0",
          "state": {
            "_model_module": "@jupyter-widgets/controls",
            "_model_module_version": "1.5.0",
            "_model_name": "DescriptionStyleModel",
            "_view_count": null,
            "_view_module": "@jupyter-widgets/base",
            "_view_module_version": "1.2.0",
            "_view_name": "StyleView",
            "description_width": ""
          }
        },
        "63914abb2a554ec09fcfe37fa6b9a95c": {
          "model_module": "@jupyter-widgets/base",
          "model_name": "LayoutModel",
          "model_module_version": "1.2.0",
          "state": {
            "_model_module": "@jupyter-widgets/base",
            "_model_module_version": "1.2.0",
            "_model_name": "LayoutModel",
            "_view_count": null,
            "_view_module": "@jupyter-widgets/base",
            "_view_module_version": "1.2.0",
            "_view_name": "LayoutView",
            "align_content": null,
            "align_items": null,
            "align_self": null,
            "border": null,
            "bottom": null,
            "display": null,
            "flex": null,
            "flex_flow": null,
            "grid_area": null,
            "grid_auto_columns": null,
            "grid_auto_flow": null,
            "grid_auto_rows": null,
            "grid_column": null,
            "grid_gap": null,
            "grid_row": null,
            "grid_template_areas": null,
            "grid_template_columns": null,
            "grid_template_rows": null,
            "height": null,
            "justify_content": null,
            "justify_items": null,
            "left": null,
            "margin": null,
            "max_height": null,
            "max_width": null,
            "min_height": null,
            "min_width": null,
            "object_fit": null,
            "object_position": null,
            "order": null,
            "overflow": null,
            "overflow_x": null,
            "overflow_y": null,
            "padding": null,
            "right": null,
            "top": null,
            "visibility": null,
            "width": null
          }
        },
        "142dcc1d17c74130aee62a546770dbee": {
          "model_module": "@jupyter-widgets/controls",
          "model_name": "ProgressStyleModel",
          "model_module_version": "1.5.0",
          "state": {
            "_model_module": "@jupyter-widgets/controls",
            "_model_module_version": "1.5.0",
            "_model_name": "ProgressStyleModel",
            "_view_count": null,
            "_view_module": "@jupyter-widgets/base",
            "_view_module_version": "1.2.0",
            "_view_name": "StyleView",
            "bar_color": null,
            "description_width": ""
          }
        },
        "48afcb75ee134e14ae6686896ecf84cc": {
          "model_module": "@jupyter-widgets/base",
          "model_name": "LayoutModel",
          "model_module_version": "1.2.0",
          "state": {
            "_model_module": "@jupyter-widgets/base",
            "_model_module_version": "1.2.0",
            "_model_name": "LayoutModel",
            "_view_count": null,
            "_view_module": "@jupyter-widgets/base",
            "_view_module_version": "1.2.0",
            "_view_name": "LayoutView",
            "align_content": null,
            "align_items": null,
            "align_self": null,
            "border": null,
            "bottom": null,
            "display": null,
            "flex": null,
            "flex_flow": null,
            "grid_area": null,
            "grid_auto_columns": null,
            "grid_auto_flow": null,
            "grid_auto_rows": null,
            "grid_column": null,
            "grid_gap": null,
            "grid_row": null,
            "grid_template_areas": null,
            "grid_template_columns": null,
            "grid_template_rows": null,
            "height": null,
            "justify_content": null,
            "justify_items": null,
            "left": null,
            "margin": null,
            "max_height": null,
            "max_width": null,
            "min_height": null,
            "min_width": null,
            "object_fit": null,
            "object_position": null,
            "order": null,
            "overflow": null,
            "overflow_x": null,
            "overflow_y": null,
            "padding": null,
            "right": null,
            "top": null,
            "visibility": null,
            "width": null
          }
        },
        "f5aa822c013640d0b3b1ff5f38e4ce5d": {
          "model_module": "@jupyter-widgets/controls",
          "model_name": "DescriptionStyleModel",
          "model_module_version": "1.5.0",
          "state": {
            "_model_module": "@jupyter-widgets/controls",
            "_model_module_version": "1.5.0",
            "_model_name": "DescriptionStyleModel",
            "_view_count": null,
            "_view_module": "@jupyter-widgets/base",
            "_view_module_version": "1.2.0",
            "_view_name": "StyleView",
            "description_width": ""
          }
        },
        "919384a681f44d6d97b37c09323b40ff": {
          "model_module": "@jupyter-widgets/controls",
          "model_name": "HBoxModel",
          "model_module_version": "1.5.0",
          "state": {
            "_dom_classes": [],
            "_model_module": "@jupyter-widgets/controls",
            "_model_module_version": "1.5.0",
            "_model_name": "HBoxModel",
            "_view_count": null,
            "_view_module": "@jupyter-widgets/controls",
            "_view_module_version": "1.5.0",
            "_view_name": "HBoxView",
            "box_style": "",
            "children": [
              "IPY_MODEL_cacbb6b290b14929b46d8971005706c2",
              "IPY_MODEL_afa6ce50c584421b8a2fc27502c366d2",
              "IPY_MODEL_45462acff8f3455c9c1f9a744b732556"
            ],
            "layout": "IPY_MODEL_f18938650b3148e7a9124ad33ec6df20"
          }
        },
        "cacbb6b290b14929b46d8971005706c2": {
          "model_module": "@jupyter-widgets/controls",
          "model_name": "HTMLModel",
          "model_module_version": "1.5.0",
          "state": {
            "_dom_classes": [],
            "_model_module": "@jupyter-widgets/controls",
            "_model_module_version": "1.5.0",
            "_model_name": "HTMLModel",
            "_view_count": null,
            "_view_module": "@jupyter-widgets/controls",
            "_view_module_version": "1.5.0",
            "_view_name": "HTMLView",
            "description": "",
            "description_tooltip": null,
            "layout": "IPY_MODEL_ffb239d38eeb4e12adc7ac76dbcf5e43",
            "placeholder": "​",
            "style": "IPY_MODEL_cc42b1b3c73d4bbeaea700ddbdf9b5cb",
            "value": "Model A: 100%"
          }
        },
        "afa6ce50c584421b8a2fc27502c366d2": {
          "model_module": "@jupyter-widgets/controls",
          "model_name": "FloatProgressModel",
          "model_module_version": "1.5.0",
          "state": {
            "_dom_classes": [],
            "_model_module": "@jupyter-widgets/controls",
            "_model_module_version": "1.5.0",
            "_model_name": "FloatProgressModel",
            "_view_count": null,
            "_view_module": "@jupyter-widgets/controls",
            "_view_module_version": "1.5.0",
            "_view_name": "ProgressView",
            "bar_style": "success",
            "description": "",
            "description_tooltip": null,
            "layout": "IPY_MODEL_3056c68cc35c4806bda779a762bfa022",
            "max": 500,
            "min": 0,
            "orientation": "horizontal",
            "style": "IPY_MODEL_9e4059b017a4447ab5967115830c08a1",
            "value": 500
          }
        },
        "45462acff8f3455c9c1f9a744b732556": {
          "model_module": "@jupyter-widgets/controls",
          "model_name": "HTMLModel",
          "model_module_version": "1.5.0",
          "state": {
            "_dom_classes": [],
            "_model_module": "@jupyter-widgets/controls",
            "_model_module_version": "1.5.0",
            "_model_name": "HTMLModel",
            "_view_count": null,
            "_view_module": "@jupyter-widgets/controls",
            "_view_module_version": "1.5.0",
            "_view_name": "HTMLView",
            "description": "",
            "description_tooltip": null,
            "layout": "IPY_MODEL_e263cc97dd3c4dd19fdb2c399edd5d51",
            "placeholder": "​",
            "style": "IPY_MODEL_85f03f29320c4ad9a5e2a52bbd33dde3",
            "value": " 500/500 [09:49&lt;00:00,  3.74it/s, valid_0:binary_logloss=0.035612292112005346]"
          }
        },
        "f18938650b3148e7a9124ad33ec6df20": {
          "model_module": "@jupyter-widgets/base",
          "model_name": "LayoutModel",
          "model_module_version": "1.2.0",
          "state": {
            "_model_module": "@jupyter-widgets/base",
            "_model_module_version": "1.2.0",
            "_model_name": "LayoutModel",
            "_view_count": null,
            "_view_module": "@jupyter-widgets/base",
            "_view_module_version": "1.2.0",
            "_view_name": "LayoutView",
            "align_content": null,
            "align_items": null,
            "align_self": null,
            "border": null,
            "bottom": null,
            "display": null,
            "flex": null,
            "flex_flow": null,
            "grid_area": null,
            "grid_auto_columns": null,
            "grid_auto_flow": null,
            "grid_auto_rows": null,
            "grid_column": null,
            "grid_gap": null,
            "grid_row": null,
            "grid_template_areas": null,
            "grid_template_columns": null,
            "grid_template_rows": null,
            "height": null,
            "justify_content": null,
            "justify_items": null,
            "left": null,
            "margin": null,
            "max_height": null,
            "max_width": null,
            "min_height": null,
            "min_width": null,
            "object_fit": null,
            "object_position": null,
            "order": null,
            "overflow": null,
            "overflow_x": null,
            "overflow_y": null,
            "padding": null,
            "right": null,
            "top": null,
            "visibility": null,
            "width": null
          }
        },
        "ffb239d38eeb4e12adc7ac76dbcf5e43": {
          "model_module": "@jupyter-widgets/base",
          "model_name": "LayoutModel",
          "model_module_version": "1.2.0",
          "state": {
            "_model_module": "@jupyter-widgets/base",
            "_model_module_version": "1.2.0",
            "_model_name": "LayoutModel",
            "_view_count": null,
            "_view_module": "@jupyter-widgets/base",
            "_view_module_version": "1.2.0",
            "_view_name": "LayoutView",
            "align_content": null,
            "align_items": null,
            "align_self": null,
            "border": null,
            "bottom": null,
            "display": null,
            "flex": null,
            "flex_flow": null,
            "grid_area": null,
            "grid_auto_columns": null,
            "grid_auto_flow": null,
            "grid_auto_rows": null,
            "grid_column": null,
            "grid_gap": null,
            "grid_row": null,
            "grid_template_areas": null,
            "grid_template_columns": null,
            "grid_template_rows": null,
            "height": null,
            "justify_content": null,
            "justify_items": null,
            "left": null,
            "margin": null,
            "max_height": null,
            "max_width": null,
            "min_height": null,
            "min_width": null,
            "object_fit": null,
            "object_position": null,
            "order": null,
            "overflow": null,
            "overflow_x": null,
            "overflow_y": null,
            "padding": null,
            "right": null,
            "top": null,
            "visibility": null,
            "width": null
          }
        },
        "cc42b1b3c73d4bbeaea700ddbdf9b5cb": {
          "model_module": "@jupyter-widgets/controls",
          "model_name": "DescriptionStyleModel",
          "model_module_version": "1.5.0",
          "state": {
            "_model_module": "@jupyter-widgets/controls",
            "_model_module_version": "1.5.0",
            "_model_name": "DescriptionStyleModel",
            "_view_count": null,
            "_view_module": "@jupyter-widgets/base",
            "_view_module_version": "1.2.0",
            "_view_name": "StyleView",
            "description_width": ""
          }
        },
        "3056c68cc35c4806bda779a762bfa022": {
          "model_module": "@jupyter-widgets/base",
          "model_name": "LayoutModel",
          "model_module_version": "1.2.0",
          "state": {
            "_model_module": "@jupyter-widgets/base",
            "_model_module_version": "1.2.0",
            "_model_name": "LayoutModel",
            "_view_count": null,
            "_view_module": "@jupyter-widgets/base",
            "_view_module_version": "1.2.0",
            "_view_name": "LayoutView",
            "align_content": null,
            "align_items": null,
            "align_self": null,
            "border": null,
            "bottom": null,
            "display": null,
            "flex": null,
            "flex_flow": null,
            "grid_area": null,
            "grid_auto_columns": null,
            "grid_auto_flow": null,
            "grid_auto_rows": null,
            "grid_column": null,
            "grid_gap": null,
            "grid_row": null,
            "grid_template_areas": null,
            "grid_template_columns": null,
            "grid_template_rows": null,
            "height": null,
            "justify_content": null,
            "justify_items": null,
            "left": null,
            "margin": null,
            "max_height": null,
            "max_width": null,
            "min_height": null,
            "min_width": null,
            "object_fit": null,
            "object_position": null,
            "order": null,
            "overflow": null,
            "overflow_x": null,
            "overflow_y": null,
            "padding": null,
            "right": null,
            "top": null,
            "visibility": null,
            "width": null
          }
        },
        "9e4059b017a4447ab5967115830c08a1": {
          "model_module": "@jupyter-widgets/controls",
          "model_name": "ProgressStyleModel",
          "model_module_version": "1.5.0",
          "state": {
            "_model_module": "@jupyter-widgets/controls",
            "_model_module_version": "1.5.0",
            "_model_name": "ProgressStyleModel",
            "_view_count": null,
            "_view_module": "@jupyter-widgets/base",
            "_view_module_version": "1.2.0",
            "_view_name": "StyleView",
            "bar_color": null,
            "description_width": ""
          }
        },
        "e263cc97dd3c4dd19fdb2c399edd5d51": {
          "model_module": "@jupyter-widgets/base",
          "model_name": "LayoutModel",
          "model_module_version": "1.2.0",
          "state": {
            "_model_module": "@jupyter-widgets/base",
            "_model_module_version": "1.2.0",
            "_model_name": "LayoutModel",
            "_view_count": null,
            "_view_module": "@jupyter-widgets/base",
            "_view_module_version": "1.2.0",
            "_view_name": "LayoutView",
            "align_content": null,
            "align_items": null,
            "align_self": null,
            "border": null,
            "bottom": null,
            "display": null,
            "flex": null,
            "flex_flow": null,
            "grid_area": null,
            "grid_auto_columns": null,
            "grid_auto_flow": null,
            "grid_auto_rows": null,
            "grid_column": null,
            "grid_gap": null,
            "grid_row": null,
            "grid_template_areas": null,
            "grid_template_columns": null,
            "grid_template_rows": null,
            "height": null,
            "justify_content": null,
            "justify_items": null,
            "left": null,
            "margin": null,
            "max_height": null,
            "max_width": null,
            "min_height": null,
            "min_width": null,
            "object_fit": null,
            "object_position": null,
            "order": null,
            "overflow": null,
            "overflow_x": null,
            "overflow_y": null,
            "padding": null,
            "right": null,
            "top": null,
            "visibility": null,
            "width": null
          }
        },
        "85f03f29320c4ad9a5e2a52bbd33dde3": {
          "model_module": "@jupyter-widgets/controls",
          "model_name": "DescriptionStyleModel",
          "model_module_version": "1.5.0",
          "state": {
            "_model_module": "@jupyter-widgets/controls",
            "_model_module_version": "1.5.0",
            "_model_name": "DescriptionStyleModel",
            "_view_count": null,
            "_view_module": "@jupyter-widgets/base",
            "_view_module_version": "1.2.0",
            "_view_name": "StyleView",
            "description_width": ""
          }
        },
        "91788c826d444e008e0aee2149102912": {
          "model_module": "@jupyter-widgets/controls",
          "model_name": "HBoxModel",
          "model_module_version": "1.5.0",
          "state": {
            "_dom_classes": [],
            "_model_module": "@jupyter-widgets/controls",
            "_model_module_version": "1.5.0",
            "_model_name": "HBoxModel",
            "_view_count": null,
            "_view_module": "@jupyter-widgets/controls",
            "_view_module_version": "1.5.0",
            "_view_name": "HBoxView",
            "box_style": "",
            "children": [
              "IPY_MODEL_57975d9ba04445339a293b5aba895a6e",
              "IPY_MODEL_4761128944934f92b36053e76d4dc9dd",
              "IPY_MODEL_3b8d507635514685b502c01be81fdaac"
            ],
            "layout": "IPY_MODEL_4888a9d59b0c4725b7550cee5cd41db5"
          }
        },
        "57975d9ba04445339a293b5aba895a6e": {
          "model_module": "@jupyter-widgets/controls",
          "model_name": "HTMLModel",
          "model_module_version": "1.5.0",
          "state": {
            "_dom_classes": [],
            "_model_module": "@jupyter-widgets/controls",
            "_model_module_version": "1.5.0",
            "_model_name": "HTMLModel",
            "_view_count": null,
            "_view_module": "@jupyter-widgets/controls",
            "_view_module_version": "1.5.0",
            "_view_name": "HTMLView",
            "description": "",
            "description_tooltip": null,
            "layout": "IPY_MODEL_c191e8cb57b04a08b846177cf8ee151c",
            "placeholder": "​",
            "style": "IPY_MODEL_b4c4705c12ec47ae85cf1210d372258c",
            "value": "Model A: 100%"
          }
        },
        "4761128944934f92b36053e76d4dc9dd": {
          "model_module": "@jupyter-widgets/controls",
          "model_name": "FloatProgressModel",
          "model_module_version": "1.5.0",
          "state": {
            "_dom_classes": [],
            "_model_module": "@jupyter-widgets/controls",
            "_model_module_version": "1.5.0",
            "_model_name": "FloatProgressModel",
            "_view_count": null,
            "_view_module": "@jupyter-widgets/controls",
            "_view_module_version": "1.5.0",
            "_view_name": "ProgressView",
            "bar_style": "success",
            "description": "",
            "description_tooltip": null,
            "layout": "IPY_MODEL_5b2b510c34e84ff89c13695e1f88d89d",
            "max": 500,
            "min": 0,
            "orientation": "horizontal",
            "style": "IPY_MODEL_84c647ce22a84497a3d2fd6ea0a1ba36",
            "value": 500
          }
        },
        "3b8d507635514685b502c01be81fdaac": {
          "model_module": "@jupyter-widgets/controls",
          "model_name": "HTMLModel",
          "model_module_version": "1.5.0",
          "state": {
            "_dom_classes": [],
            "_model_module": "@jupyter-widgets/controls",
            "_model_module_version": "1.5.0",
            "_model_name": "HTMLModel",
            "_view_count": null,
            "_view_module": "@jupyter-widgets/controls",
            "_view_module_version": "1.5.0",
            "_view_name": "HTMLView",
            "description": "",
            "description_tooltip": null,
            "layout": "IPY_MODEL_b9cf09f1bca440f9b13439504d590f42",
            "placeholder": "​",
            "style": "IPY_MODEL_317b40cddf094a7b83c5f7007fb8fb0a",
            "value": " 500/500 [05:02&lt;00:00,  3.25it/s, valid_0:binary_logloss=0.03556800827290182]"
          }
        },
        "4888a9d59b0c4725b7550cee5cd41db5": {
          "model_module": "@jupyter-widgets/base",
          "model_name": "LayoutModel",
          "model_module_version": "1.2.0",
          "state": {
            "_model_module": "@jupyter-widgets/base",
            "_model_module_version": "1.2.0",
            "_model_name": "LayoutModel",
            "_view_count": null,
            "_view_module": "@jupyter-widgets/base",
            "_view_module_version": "1.2.0",
            "_view_name": "LayoutView",
            "align_content": null,
            "align_items": null,
            "align_self": null,
            "border": null,
            "bottom": null,
            "display": null,
            "flex": null,
            "flex_flow": null,
            "grid_area": null,
            "grid_auto_columns": null,
            "grid_auto_flow": null,
            "grid_auto_rows": null,
            "grid_column": null,
            "grid_gap": null,
            "grid_row": null,
            "grid_template_areas": null,
            "grid_template_columns": null,
            "grid_template_rows": null,
            "height": null,
            "justify_content": null,
            "justify_items": null,
            "left": null,
            "margin": null,
            "max_height": null,
            "max_width": null,
            "min_height": null,
            "min_width": null,
            "object_fit": null,
            "object_position": null,
            "order": null,
            "overflow": null,
            "overflow_x": null,
            "overflow_y": null,
            "padding": null,
            "right": null,
            "top": null,
            "visibility": null,
            "width": null
          }
        },
        "c191e8cb57b04a08b846177cf8ee151c": {
          "model_module": "@jupyter-widgets/base",
          "model_name": "LayoutModel",
          "model_module_version": "1.2.0",
          "state": {
            "_model_module": "@jupyter-widgets/base",
            "_model_module_version": "1.2.0",
            "_model_name": "LayoutModel",
            "_view_count": null,
            "_view_module": "@jupyter-widgets/base",
            "_view_module_version": "1.2.0",
            "_view_name": "LayoutView",
            "align_content": null,
            "align_items": null,
            "align_self": null,
            "border": null,
            "bottom": null,
            "display": null,
            "flex": null,
            "flex_flow": null,
            "grid_area": null,
            "grid_auto_columns": null,
            "grid_auto_flow": null,
            "grid_auto_rows": null,
            "grid_column": null,
            "grid_gap": null,
            "grid_row": null,
            "grid_template_areas": null,
            "grid_template_columns": null,
            "grid_template_rows": null,
            "height": null,
            "justify_content": null,
            "justify_items": null,
            "left": null,
            "margin": null,
            "max_height": null,
            "max_width": null,
            "min_height": null,
            "min_width": null,
            "object_fit": null,
            "object_position": null,
            "order": null,
            "overflow": null,
            "overflow_x": null,
            "overflow_y": null,
            "padding": null,
            "right": null,
            "top": null,
            "visibility": null,
            "width": null
          }
        },
        "b4c4705c12ec47ae85cf1210d372258c": {
          "model_module": "@jupyter-widgets/controls",
          "model_name": "DescriptionStyleModel",
          "model_module_version": "1.5.0",
          "state": {
            "_model_module": "@jupyter-widgets/controls",
            "_model_module_version": "1.5.0",
            "_model_name": "DescriptionStyleModel",
            "_view_count": null,
            "_view_module": "@jupyter-widgets/base",
            "_view_module_version": "1.2.0",
            "_view_name": "StyleView",
            "description_width": ""
          }
        },
        "5b2b510c34e84ff89c13695e1f88d89d": {
          "model_module": "@jupyter-widgets/base",
          "model_name": "LayoutModel",
          "model_module_version": "1.2.0",
          "state": {
            "_model_module": "@jupyter-widgets/base",
            "_model_module_version": "1.2.0",
            "_model_name": "LayoutModel",
            "_view_count": null,
            "_view_module": "@jupyter-widgets/base",
            "_view_module_version": "1.2.0",
            "_view_name": "LayoutView",
            "align_content": null,
            "align_items": null,
            "align_self": null,
            "border": null,
            "bottom": null,
            "display": null,
            "flex": null,
            "flex_flow": null,
            "grid_area": null,
            "grid_auto_columns": null,
            "grid_auto_flow": null,
            "grid_auto_rows": null,
            "grid_column": null,
            "grid_gap": null,
            "grid_row": null,
            "grid_template_areas": null,
            "grid_template_columns": null,
            "grid_template_rows": null,
            "height": null,
            "justify_content": null,
            "justify_items": null,
            "left": null,
            "margin": null,
            "max_height": null,
            "max_width": null,
            "min_height": null,
            "min_width": null,
            "object_fit": null,
            "object_position": null,
            "order": null,
            "overflow": null,
            "overflow_x": null,
            "overflow_y": null,
            "padding": null,
            "right": null,
            "top": null,
            "visibility": null,
            "width": null
          }
        },
        "84c647ce22a84497a3d2fd6ea0a1ba36": {
          "model_module": "@jupyter-widgets/controls",
          "model_name": "ProgressStyleModel",
          "model_module_version": "1.5.0",
          "state": {
            "_model_module": "@jupyter-widgets/controls",
            "_model_module_version": "1.5.0",
            "_model_name": "ProgressStyleModel",
            "_view_count": null,
            "_view_module": "@jupyter-widgets/base",
            "_view_module_version": "1.2.0",
            "_view_name": "StyleView",
            "bar_color": null,
            "description_width": ""
          }
        },
        "b9cf09f1bca440f9b13439504d590f42": {
          "model_module": "@jupyter-widgets/base",
          "model_name": "LayoutModel",
          "model_module_version": "1.2.0",
          "state": {
            "_model_module": "@jupyter-widgets/base",
            "_model_module_version": "1.2.0",
            "_model_name": "LayoutModel",
            "_view_count": null,
            "_view_module": "@jupyter-widgets/base",
            "_view_module_version": "1.2.0",
            "_view_name": "LayoutView",
            "align_content": null,
            "align_items": null,
            "align_self": null,
            "border": null,
            "bottom": null,
            "display": null,
            "flex": null,
            "flex_flow": null,
            "grid_area": null,
            "grid_auto_columns": null,
            "grid_auto_flow": null,
            "grid_auto_rows": null,
            "grid_column": null,
            "grid_gap": null,
            "grid_row": null,
            "grid_template_areas": null,
            "grid_template_columns": null,
            "grid_template_rows": null,
            "height": null,
            "justify_content": null,
            "justify_items": null,
            "left": null,
            "margin": null,
            "max_height": null,
            "max_width": null,
            "min_height": null,
            "min_width": null,
            "object_fit": null,
            "object_position": null,
            "order": null,
            "overflow": null,
            "overflow_x": null,
            "overflow_y": null,
            "padding": null,
            "right": null,
            "top": null,
            "visibility": null,
            "width": null
          }
        },
        "317b40cddf094a7b83c5f7007fb8fb0a": {
          "model_module": "@jupyter-widgets/controls",
          "model_name": "DescriptionStyleModel",
          "model_module_version": "1.5.0",
          "state": {
            "_model_module": "@jupyter-widgets/controls",
            "_model_module_version": "1.5.0",
            "_model_name": "DescriptionStyleModel",
            "_view_count": null,
            "_view_module": "@jupyter-widgets/base",
            "_view_module_version": "1.2.0",
            "_view_name": "StyleView",
            "description_width": ""
          }
        }
      }
    }
  },
  "cells": [
    {
      "cell_type": "markdown",
      "metadata": {
        "id": "view-in-github",
        "colab_type": "text"
      },
      "source": [
        "<a href=\"https://colab.research.google.com/github/aruaru0/Foursquare-Location-Matching/blob/main/train_lightgbm.ipynb\" target=\"_parent\"><img src=\"https://colab.research.google.com/assets/colab-badge.svg\" alt=\"Open In Colab\"/></a>"
      ]
    },
    {
      "cell_type": "code",
      "execution_count": 1,
      "metadata": {
        "id": "DxBLBLmUkP_t"
      },
      "outputs": [],
      "source": [
        "!mkdir -p ~/.kaggle\n",
        "!cp /content/drive/MyDrive/datas/kaggle.json  ~/.kaggle/"
      ]
    },
    {
      "cell_type": "code",
      "source": [
        "!pip install lightgbm==3.3.1"
      ],
      "metadata": {
        "colab": {
          "base_uri": "https://localhost:8080/"
        },
        "id": "QwCQvrc1Fex5",
        "outputId": "b4fab635-ed77-4316-c009-1e0957fd38cf"
      },
      "execution_count": 2,
      "outputs": [
        {
          "output_type": "stream",
          "name": "stdout",
          "text": [
            "Looking in indexes: https://pypi.org/simple, https://us-python.pkg.dev/colab-wheels/public/simple/\n",
            "Collecting lightgbm==3.3.1\n",
            "  Downloading lightgbm-3.3.1-py3-none-manylinux1_x86_64.whl (2.0 MB)\n",
            "\u001b[K     |████████████████████████████████| 2.0 MB 5.3 MB/s \n",
            "\u001b[?25hRequirement already satisfied: scipy in /usr/local/lib/python3.7/dist-packages (from lightgbm==3.3.1) (1.4.1)\n",
            "Requirement already satisfied: wheel in /usr/local/lib/python3.7/dist-packages (from lightgbm==3.3.1) (0.37.1)\n",
            "Requirement already satisfied: scikit-learn!=0.22.0 in /usr/local/lib/python3.7/dist-packages (from lightgbm==3.3.1) (1.0.2)\n",
            "Requirement already satisfied: numpy in /usr/local/lib/python3.7/dist-packages (from lightgbm==3.3.1) (1.21.6)\n",
            "Requirement already satisfied: joblib>=0.11 in /usr/local/lib/python3.7/dist-packages (from scikit-learn!=0.22.0->lightgbm==3.3.1) (1.1.0)\n",
            "Requirement already satisfied: threadpoolctl>=2.0.0 in /usr/local/lib/python3.7/dist-packages (from scikit-learn!=0.22.0->lightgbm==3.3.1) (3.1.0)\n",
            "Installing collected packages: lightgbm\n",
            "  Attempting uninstall: lightgbm\n",
            "    Found existing installation: lightgbm 2.2.3\n",
            "    Uninstalling lightgbm-2.2.3:\n",
            "      Successfully uninstalled lightgbm-2.2.3\n",
            "Successfully installed lightgbm-3.3.1\n"
          ]
        }
      ]
    },
    {
      "cell_type": "code",
      "source": [
        "!pip show lightgbm"
      ],
      "metadata": {
        "colab": {
          "base_uri": "https://localhost:8080/"
        },
        "id": "-UVCmRwCGFsy",
        "outputId": "870f9bee-f142-49c5-dd28-614f4b716b29"
      },
      "execution_count": 3,
      "outputs": [
        {
          "output_type": "stream",
          "name": "stdout",
          "text": [
            "Name: lightgbm\n",
            "Version: 3.3.1\n",
            "Summary: LightGBM Python Package\n",
            "Home-page: https://github.com/microsoft/LightGBM\n",
            "Author: None\n",
            "Author-email: None\n",
            "License: The MIT License (Microsoft)\n",
            "Location: /usr/local/lib/python3.7/dist-packages\n",
            "Requires: scipy, numpy, scikit-learn, wheel\n",
            "Required-by: \n"
          ]
        }
      ]
    },
    {
      "cell_type": "code",
      "source": [
        "!pip install kaggle\n",
        "!apt install unzip"
      ],
      "metadata": {
        "colab": {
          "base_uri": "https://localhost:8080/"
        },
        "id": "I47Bx_hOkX5W",
        "outputId": "94b041ea-206b-4e4b-cbc7-3df95388b4ca"
      },
      "execution_count": 4,
      "outputs": [
        {
          "output_type": "stream",
          "name": "stdout",
          "text": [
            "Looking in indexes: https://pypi.org/simple, https://us-python.pkg.dev/colab-wheels/public/simple/\n",
            "Requirement already satisfied: kaggle in /usr/local/lib/python3.7/dist-packages (1.5.12)\n",
            "Requirement already satisfied: tqdm in /usr/local/lib/python3.7/dist-packages (from kaggle) (4.64.0)\n",
            "Requirement already satisfied: certifi in /usr/local/lib/python3.7/dist-packages (from kaggle) (2022.5.18.1)\n",
            "Requirement already satisfied: python-dateutil in /usr/local/lib/python3.7/dist-packages (from kaggle) (2.8.2)\n",
            "Requirement already satisfied: six>=1.10 in /usr/local/lib/python3.7/dist-packages (from kaggle) (1.15.0)\n",
            "Requirement already satisfied: python-slugify in /usr/local/lib/python3.7/dist-packages (from kaggle) (6.1.2)\n",
            "Requirement already satisfied: urllib3 in /usr/local/lib/python3.7/dist-packages (from kaggle) (1.24.3)\n",
            "Requirement already satisfied: requests in /usr/local/lib/python3.7/dist-packages (from kaggle) (2.23.0)\n",
            "Requirement already satisfied: text-unidecode>=1.3 in /usr/local/lib/python3.7/dist-packages (from python-slugify->kaggle) (1.3)\n",
            "Requirement already satisfied: chardet<4,>=3.0.2 in /usr/local/lib/python3.7/dist-packages (from requests->kaggle) (3.0.4)\n",
            "Requirement already satisfied: idna<3,>=2.5 in /usr/local/lib/python3.7/dist-packages (from requests->kaggle) (2.10)\n",
            "Reading package lists... Done\n",
            "Building dependency tree       \n",
            "Reading state information... Done\n",
            "unzip is already the newest version (6.0-21ubuntu1.1).\n",
            "The following package was automatically installed and is no longer required:\n",
            "  libnvidia-common-460\n",
            "Use 'apt autoremove' to remove it.\n",
            "0 upgraded, 0 newly installed, 0 to remove and 45 not upgraded.\n"
          ]
        }
      ]
    },
    {
      "cell_type": "code",
      "source": [
        "!chmod 600 /root/.kaggle/kaggle.json"
      ],
      "metadata": {
        "id": "uAY38Z8gkbF_"
      },
      "execution_count": 5,
      "outputs": []
    },
    {
      "cell_type": "code",
      "source": [
        "!mkdir input output"
      ],
      "metadata": {
        "id": "hBMhRkcBk5bX"
      },
      "execution_count": 6,
      "outputs": []
    },
    {
      "cell_type": "code",
      "source": [
        "!kaggle competitions download -c foursquare-location-matching"
      ],
      "metadata": {
        "colab": {
          "base_uri": "https://localhost:8080/"
        },
        "id": "93chQnMHkd9N",
        "outputId": "312eb5c3-2c3b-49c6-faf1-2d86d56223f7"
      },
      "execution_count": 7,
      "outputs": [
        {
          "output_type": "stream",
          "name": "stdout",
          "text": [
            "Downloading foursquare-location-matching.zip to /content\n",
            " 91% 144M/159M [00:00<00:00, 190MB/s]\n",
            "100% 159M/159M [00:01<00:00, 145MB/s]\n"
          ]
        }
      ]
    },
    {
      "cell_type": "code",
      "source": [
        "!unzip foursquare-location-matching.zip -d input/foursquare-location-matching"
      ],
      "metadata": {
        "colab": {
          "base_uri": "https://localhost:8080/"
        },
        "id": "awKrfnimkkK-",
        "outputId": "a593a0d1-89df-4149-97d8-b65e12947576"
      },
      "execution_count": 8,
      "outputs": [
        {
          "output_type": "stream",
          "name": "stdout",
          "text": [
            "Archive:  foursquare-location-matching.zip\n",
            "  inflating: input/foursquare-location-matching/pairs.csv  \n",
            "  inflating: input/foursquare-location-matching/sample_submission.csv  \n",
            "  inflating: input/foursquare-location-matching/test.csv  \n",
            "  inflating: input/foursquare-location-matching/train.csv  \n"
          ]
        }
      ]
    },
    {
      "cell_type": "code",
      "source": [
        "#!kaggle kernels output aruaru0/training-data-for-binary-lgb-baseline-0-834 -p ./input/train_data"
      ],
      "metadata": {
        "id": "BLahOGiplAJO"
      },
      "execution_count": 9,
      "outputs": []
    },
    {
      "cell_type": "code",
      "source": [
        "# !pip uninstall --yes lightgbm && pip install --install-option=--gpu lightgbm\n",
        "!pip install optuna\n",
        "!pip install pyarrow\n",
        "!pip install fastparquet"
      ],
      "metadata": {
        "id": "zJwmq4YBSj1F",
        "colab": {
          "base_uri": "https://localhost:8080/"
        },
        "outputId": "9dee41c1-11a5-4e2d-c680-42a21b28a292"
      },
      "execution_count": 31,
      "outputs": [
        {
          "output_type": "stream",
          "name": "stdout",
          "text": [
            "Looking in indexes: https://pypi.org/simple, https://us-python.pkg.dev/colab-wheels/public/simple/\n",
            "Requirement already satisfied: optuna in /usr/local/lib/python3.7/dist-packages (2.10.1)\n",
            "Requirement already satisfied: cliff in /usr/local/lib/python3.7/dist-packages (from optuna) (3.10.1)\n",
            "Requirement already satisfied: colorlog in /usr/local/lib/python3.7/dist-packages (from optuna) (6.6.0)\n",
            "Requirement already satisfied: tqdm in /usr/local/lib/python3.7/dist-packages (from optuna) (4.64.0)\n",
            "Requirement already satisfied: cmaes>=0.8.2 in /usr/local/lib/python3.7/dist-packages (from optuna) (0.8.2)\n",
            "Requirement already satisfied: numpy in /usr/local/lib/python3.7/dist-packages (from optuna) (1.21.6)\n",
            "Requirement already satisfied: PyYAML in /usr/local/lib/python3.7/dist-packages (from optuna) (3.13)\n",
            "Requirement already satisfied: sqlalchemy>=1.1.0 in /usr/local/lib/python3.7/dist-packages (from optuna) (1.4.37)\n",
            "Requirement already satisfied: alembic in /usr/local/lib/python3.7/dist-packages (from optuna) (1.8.0)\n",
            "Requirement already satisfied: packaging>=20.0 in /usr/local/lib/python3.7/dist-packages (from optuna) (21.3)\n",
            "Requirement already satisfied: scipy!=1.4.0 in /usr/local/lib/python3.7/dist-packages (from optuna) (1.4.1)\n",
            "Requirement already satisfied: pyparsing!=3.0.5,>=2.0.2 in /usr/local/lib/python3.7/dist-packages (from packaging>=20.0->optuna) (3.0.9)\n",
            "Requirement already satisfied: greenlet!=0.4.17 in /usr/local/lib/python3.7/dist-packages (from sqlalchemy>=1.1.0->optuna) (1.1.2)\n",
            "Requirement already satisfied: importlib-metadata in /usr/local/lib/python3.7/dist-packages (from sqlalchemy>=1.1.0->optuna) (4.11.4)\n",
            "Requirement already satisfied: Mako in /usr/local/lib/python3.7/dist-packages (from alembic->optuna) (1.2.0)\n",
            "Requirement already satisfied: importlib-resources in /usr/local/lib/python3.7/dist-packages (from alembic->optuna) (5.7.1)\n",
            "Requirement already satisfied: cmd2>=1.0.0 in /usr/local/lib/python3.7/dist-packages (from cliff->optuna) (2.4.1)\n",
            "Requirement already satisfied: pbr!=2.1.0,>=2.0.0 in /usr/local/lib/python3.7/dist-packages (from cliff->optuna) (5.9.0)\n",
            "Requirement already satisfied: PrettyTable>=0.7.2 in /usr/local/lib/python3.7/dist-packages (from cliff->optuna) (3.3.0)\n",
            "Requirement already satisfied: autopage>=0.4.0 in /usr/local/lib/python3.7/dist-packages (from cliff->optuna) (0.5.1)\n",
            "Requirement already satisfied: stevedore>=2.0.1 in /usr/local/lib/python3.7/dist-packages (from cliff->optuna) (3.5.0)\n",
            "Requirement already satisfied: wcwidth>=0.1.7 in /usr/local/lib/python3.7/dist-packages (from cmd2>=1.0.0->cliff->optuna) (0.2.5)\n",
            "Requirement already satisfied: pyperclip>=1.6 in /usr/local/lib/python3.7/dist-packages (from cmd2>=1.0.0->cliff->optuna) (1.8.2)\n",
            "Requirement already satisfied: typing-extensions in /usr/local/lib/python3.7/dist-packages (from cmd2>=1.0.0->cliff->optuna) (4.2.0)\n",
            "Requirement already satisfied: attrs>=16.3.0 in /usr/local/lib/python3.7/dist-packages (from cmd2>=1.0.0->cliff->optuna) (21.4.0)\n",
            "Requirement already satisfied: zipp>=0.5 in /usr/local/lib/python3.7/dist-packages (from importlib-metadata->sqlalchemy>=1.1.0->optuna) (3.8.0)\n",
            "Requirement already satisfied: MarkupSafe>=0.9.2 in /usr/local/lib/python3.7/dist-packages (from Mako->alembic->optuna) (2.0.1)\n",
            "Looking in indexes: https://pypi.org/simple, https://us-python.pkg.dev/colab-wheels/public/simple/\n",
            "Requirement already satisfied: pyarrow in /usr/local/lib/python3.7/dist-packages (6.0.1)\n",
            "Requirement already satisfied: numpy>=1.16.6 in /usr/local/lib/python3.7/dist-packages (from pyarrow) (1.21.6)\n",
            "Looking in indexes: https://pypi.org/simple, https://us-python.pkg.dev/colab-wheels/public/simple/\n",
            "Collecting fastparquet\n",
            "  Downloading fastparquet-0.8.1-cp37-cp37m-manylinux_2_17_x86_64.manylinux2014_x86_64.whl (1.5 MB)\n",
            "\u001b[K     |████████████████████████████████| 1.5 MB 5.0 MB/s \n",
            "\u001b[?25hCollecting fsspec\n",
            "  Downloading fsspec-2022.5.0-py3-none-any.whl (140 kB)\n",
            "\u001b[K     |████████████████████████████████| 140 kB 91.2 MB/s \n",
            "\u001b[?25hCollecting cramjam>=2.3.0\n",
            "  Downloading cramjam-2.5.0-cp37-cp37m-manylinux_2_5_x86_64.manylinux1_x86_64.whl (1.6 MB)\n",
            "\u001b[K     |████████████████████████████████| 1.6 MB 72.1 MB/s \n",
            "\u001b[?25hRequirement already satisfied: pandas>=1.1.0 in /usr/local/lib/python3.7/dist-packages (from fastparquet) (1.3.5)\n",
            "Requirement already satisfied: numpy>=1.18 in /usr/local/lib/python3.7/dist-packages (from fastparquet) (1.21.6)\n",
            "Requirement already satisfied: pytz>=2017.3 in /usr/local/lib/python3.7/dist-packages (from pandas>=1.1.0->fastparquet) (2022.1)\n",
            "Requirement already satisfied: python-dateutil>=2.7.3 in /usr/local/lib/python3.7/dist-packages (from pandas>=1.1.0->fastparquet) (2.8.2)\n",
            "Requirement already satisfied: six>=1.5 in /usr/local/lib/python3.7/dist-packages (from python-dateutil>=2.7.3->pandas>=1.1.0->fastparquet) (1.15.0)\n",
            "Installing collected packages: fsspec, cramjam, fastparquet\n",
            "Successfully installed cramjam-2.5.0 fastparquet-0.8.1 fsspec-2022.5.0\n"
          ]
        }
      ]
    },
    {
      "cell_type": "markdown",
      "source": [
        "## lightgbm"
      ],
      "metadata": {
        "id": "2B6dHiuFl_VT"
      }
    },
    {
      "cell_type": "code",
      "source": [
        "import lightgbm as lgb\n",
        "\n",
        "import numpy as np\n",
        "import pandas as pd\n",
        "from sklearn.metrics import accuracy_score\n",
        "from sklearn.metrics import confusion_matrix\n",
        "from sklearn.utils.class_weight import compute_sample_weight\n",
        "import seaborn as sns\n",
        "import pickle\n",
        "import gc\n",
        "import os"
      ],
      "metadata": {
        "id": "D3PGkjWZluzL"
      },
      "execution_count": 1,
      "outputs": []
    },
    {
      "cell_type": "code",
      "source": [
        "class CFG:\n",
        "    seed = 46\n",
        "    target = \"point_of_interest\"\n",
        "    n_splits = 3\n",
        "\n",
        "    n_neighbors = 25\n",
        "    is_debug = False\n",
        "\n",
        "    model_path = '/content/drive/MyDrive/datas/foursquare'"
      ],
      "metadata": {
        "id": "rDIoATQ8vQl0"
      },
      "execution_count": 2,
      "outputs": []
    },
    {
      "cell_type": "code",
      "source": [
        "def reduce_memory(df):\n",
        "    for col in df.columns:\n",
        "        col_type = df[col].dtypes\n",
        "        if col_type != object:\n",
        "            cmin = df[col].min()\n",
        "            cmax = df[col].max()\n",
        "            if str(col_type)[:3] == 'int':\n",
        "                if cmin > np.iinfo(np.int8).min and cmax < np.iinfo(np.int8).max:\n",
        "                    df[col] = df[col].astype(np.int8)\n",
        "                elif cmin > np.iinfo(np.int16).min and cmax < np.iinfo(np.int16).max:\n",
        "                    df[col] = df[col].astype(np.int16)\n",
        "                elif cmin > np.iinfo(np.int32).min and cmax < np.iinfo(np.int32).max:\n",
        "                    df[col] = df[col].astype(np.int32)\n",
        "                elif cmin > np.iinfo(np.int64).min and cmax < np.iinfo(np.int64).max:\n",
        "                    df[col] = df[col].astype(np.int64)\n",
        "            else:\n",
        "                if cmin > np.finfo(np.float16).min and cmax < np.finfo(np.float16).max:\n",
        "                    df[col] = df[col].astype(np.float16)\n",
        "                elif cmin > np.finfo(np.float32).min and cmax < np.finfo(np.float32).max:\n",
        "                    df[col] = df[col].astype(np.float32)\n",
        "                else:\n",
        "                    df[col] = df[col].astype(np.float64)\n",
        "    return df"
      ],
      "metadata": {
        "id": "_4pl7jRuyxMG"
      },
      "execution_count": 3,
      "outputs": []
    },
    {
      "cell_type": "code",
      "source": [
        "sel = \"\""
      ],
      "metadata": {
        "id": "gigrmqbYVoWm"
      },
      "execution_count": 4,
      "outputs": []
    },
    {
      "cell_type": "code",
      "source": [
        "df1 = reduce_memory(pd.read_csv(f'/content/drive/MyDrive/datas/foursquare/traindata{sel}/train_data1.csv'))\n",
        "df2 = reduce_memory(pd.read_csv(f'/content/drive/MyDrive/datas/foursquare/traindata{sel}/train_data2.csv'))\n",
        "df3 = reduce_memory(pd.read_csv(f'/content/drive/MyDrive/datas/foursquare/traindata{sel}/train_data3.csv'))\n",
        "df4 = reduce_memory(pd.read_csv(f'/content/drive/MyDrive/datas/foursquare/traindata{sel}/train_data4.csv'))\n",
        "df5 = reduce_memory(pd.read_csv(f'/content/drive/MyDrive/datas/foursquare/traindata{sel}/train_data5.csv'))"
      ],
      "metadata": {
        "id": "pcLrde5Ht-Eg"
      },
      "execution_count": 5,
      "outputs": []
    },
    {
      "cell_type": "code",
      "source": [
        "from sklearn.model_selection import GroupKFold, KFold, StratifiedKFold\n",
        "from tqdm import tqdm\n",
        "\n",
        "def add_fold(df) :\n",
        "  kf = StratifiedKFold(n_splits=CFG.n_splits, shuffle=True, random_state=CFG.seed)\n",
        "  for i, (trn_idx, val_idx) in tqdm(enumerate(kf.split(df, df[\"label\"], df[\"label\"]))):\n",
        "      df.loc[val_idx, \"fold\"] = i\n",
        "  return df\n"
      ],
      "metadata": {
        "id": "ysGK0qFX9LIH"
      },
      "execution_count": 6,
      "outputs": []
    },
    {
      "cell_type": "code",
      "source": [
        "df1 = add_fold(df1)\n",
        "df2 = add_fold(df2)\n",
        "df3 = add_fold(df3)\n",
        "df4 = add_fold(df4)\n",
        "df5 = add_fold(df5)"
      ],
      "metadata": {
        "colab": {
          "base_uri": "https://localhost:8080/"
        },
        "id": "sMryFBIk9YiG",
        "outputId": "20b3d9e9-8576-41e4-eb96-11e61200a60c"
      },
      "execution_count": 7,
      "outputs": [
        {
          "output_type": "stream",
          "name": "stderr",
          "text": [
            "3it [00:00,  4.76it/s]\n",
            "3it [00:00,  4.75it/s]\n",
            "3it [00:00,  4.82it/s]\n",
            "3it [00:00,  4.82it/s]\n",
            "3it [00:00,  4.81it/s]\n"
          ]
        }
      ]
    },
    {
      "cell_type": "code",
      "source": [
        "train = pd.concat([df1,df2,df3,df4,df5])\n",
        "train = train.reset_index(drop=True)"
      ],
      "metadata": {
        "id": "xpe9ZFsO1BKx"
      },
      "execution_count": 8,
      "outputs": []
    },
    {
      "cell_type": "code",
      "source": [
        "train.head()"
      ],
      "metadata": {
        "id": "h_c5Guem8XVC"
      },
      "execution_count": 9,
      "outputs": []
    },
    {
      "cell_type": "code",
      "source": [
        "del df1, df2, df3, df4, df5\n",
        "gc.collect()"
      ],
      "metadata": {
        "colab": {
          "base_uri": "https://localhost:8080/"
        },
        "id": "O0CLDc37-9yP",
        "outputId": "b8809a2e-ee73-4cad-bd26-d0867161b224"
      },
      "execution_count": 10,
      "outputs": [
        {
          "output_type": "execute_result",
          "data": {
            "text/plain": [
              "111"
            ]
          },
          "metadata": {},
          "execution_count": 10
        }
      ]
    },
    {
      "cell_type": "code",
      "source": [
        "train['kdist_diff'] = (train['kdist'] - train['kdist_country']) /\\\n",
        "                            train['kdist_country']\n",
        "train['kneighbors_mean'] = train[['kneighbors', 'kneighbors_country']].mean(axis = 1)"
      ],
      "metadata": {
        "id": "Yqyiz1Lwr6jz"
      },
      "execution_count": 11,
      "outputs": []
    },
    {
      "cell_type": "code",
      "source": [
        "train = reduce_memory(train)"
      ],
      "metadata": {
        "id": "1pGCw5vCI6wz"
      },
      "execution_count": 12,
      "outputs": []
    },
    {
      "cell_type": "code",
      "source": [
        ""
      ],
      "metadata": {
        "id": "nIjQsiq6ZYu9"
      },
      "execution_count": 13,
      "outputs": []
    },
    {
      "cell_type": "code",
      "source": [
        "gc.collect()"
      ],
      "metadata": {
        "colab": {
          "base_uri": "https://localhost:8080/"
        },
        "id": "DTyFqe4_-qsa",
        "outputId": "95e48d46-6172-45b5-fa7e-e01a50b67cdb"
      },
      "execution_count": 17,
      "outputs": [
        {
          "output_type": "execute_result",
          "data": {
            "text/plain": [
              "152"
            ]
          },
          "metadata": {},
          "execution_count": 17
        }
      ]
    },
    {
      "cell_type": "code",
      "source": [
        "# str | Noneって書きたいところだけど3.7系でもいけるようにOptionalを使う\n",
        "from typing import Optional\n",
        "from collections import OrderedDict\n",
        "from lightgbm.callback import CallbackEnv\n",
        "from tqdm.auto import tqdm\n",
        "\n",
        "class LgbmProgressBarCallback:\n",
        "    description: Optional[str]\n",
        "    pbar: tqdm\n",
        "\n",
        "    def __init__(self, description: Optional[str] = None):\n",
        "        self.description = description\n",
        "        self.pbar = tqdm()\n",
        "\n",
        "    def __call__(self, env: CallbackEnv):\n",
        "\n",
        "        # 初回だけProgressBarを初期化する\n",
        "        is_first_iteration: bool = env.iteration == env.begin_iteration\n",
        "\n",
        "        if is_first_iteration:\n",
        "            total: int = env.end_iteration - env.begin_iteration\n",
        "            self.pbar.reset(total=total)\n",
        "            self.pbar.set_description(self.description, refresh=False)\n",
        "\n",
        "        # valid_setsの評価結果を更新\n",
        "        if len(env.evaluation_result_list) > 0:\n",
        "            # OrderedDictにしないと表示順がバラバラになって若干見にくい\n",
        "            postfix = OrderedDict(\n",
        "                [\n",
        "                    (f\"{entry[0]}:{entry[1]}\", str(entry[2]))\n",
        "                    for entry in env.evaluation_result_list\n",
        "                ]\n",
        "            )\n",
        "            self.pbar.set_postfix(ordered_dict=postfix, refresh=False)\n",
        "\n",
        "        # 進捗を1進める\n",
        "        self.pbar.update(1)\n",
        "        self.pbar.refresh()\n"
      ],
      "metadata": {
        "id": "BmXuRl7gNrQ7"
      },
      "execution_count": 18,
      "outputs": []
    },
    {
      "cell_type": "code",
      "source": [
        "def fit_lgbm(X, y, params=None, es_rounds=20, seed=42, N_SPLITS=5, \n",
        "             n_class=None, model_dir=None, folds=None):\n",
        "  models = []\n",
        "  oof = np.zeros((len(y), n_class), dtype=np.float64)\n",
        "  \n",
        "  for i in tqdm(range(CFG.n_splits)):\n",
        "    print(f\"== fold {i} ==\")\n",
        "    trn_idx = folds!=i\n",
        "    val_idx = folds==i\n",
        "    # train, validデータに分割\n",
        "    X_train, y_train = X[trn_idx], y.iloc[trn_idx]\n",
        "    X_valid, y_valid = X.iloc[val_idx], y.iloc[val_idx]\n",
        "\n",
        "    if model_dir is None:\n",
        "      # 学習\n",
        "      model = lgb.LGBMClassifier(**params)\n",
        "      model.fit(\n",
        "          X_train, y_train, \n",
        "          eval_set=[(X_valid, y_valid)],  \n",
        "          early_stopping_rounds=es_rounds, \n",
        "          eval_metric='logloss',  \n",
        "          verbose=-1,\n",
        "          # verbose=50,\n",
        "          callbacks=[LgbmProgressBarCallback(description=\"Model A\"),],\n",
        "          )\n",
        "    else: \n",
        "      # 既に学習している場合は、読み込む（トレーニングをしない）\n",
        "      with open(f'{model_dir}/lgbm_fold{i}.pkl', 'rb') as f:\n",
        "          model = pickle.load(f)\n",
        "\n",
        "    # validデータに対して予測し、結果を格納    \n",
        "    pred = model.predict_proba(X_valid)\n",
        "    oof[val_idx] = pred\n",
        "    models.append(model)\n",
        "    \n",
        "    # 学習した結果をファイルに保存（！！！colabの場合は、、google driveに保存するように変更しておくしておく！！！）\n",
        "    #file = f'lgbm_fold{i}.pkl'\n",
        "    # file = f'{CFG.model_path}/lgbm_fold{i}.pkl'\n",
        "    # pickle.dump(model, open(file, 'wb'))\n",
        "    print()\n",
        "    model.booster_.save_model(f'{CFG.model_path}/lgbm_fold{i}.txt')\n",
        "\n",
        "  cv = (oof.argmax(axis=-1) == y).mean()\n",
        "  print(f\"CV-accuracy: {cv}\")\n",
        "\n",
        "  return oof, models\n"
      ],
      "metadata": {
        "id": "79Io8tcy0ug_"
      },
      "execution_count": 19,
      "outputs": []
    },
    {
      "cell_type": "code",
      "source": [
        ""
      ],
      "metadata": {
        "id": "sUJ5zYH6pqYU"
      },
      "execution_count": 19,
      "outputs": []
    },
    {
      "cell_type": "code",
      "source": [
        "import optuna.integration.lightgbm as lgbopt\n",
        "import lightgbm as lgb"
      ],
      "metadata": {
        "id": "HHW1YGG0pmph"
      },
      "execution_count": 20,
      "outputs": []
    },
    {
      "cell_type": "code",
      "source": [
        "def sample_scheduler_func(current_lr, eval_history, best_round, is_higher_better):\n",
        "    \"\"\"次のラウンドで用いる学習率を決定するための関数 (この中身を好きに改造する)\n",
        "\n",
        "    :param current_lr: 現在の学習率 (指定されていない場合の初期値は None)\n",
        "    :param eval_history: 検証用データに対する評価指標の履歴\n",
        "    :param best_round: 現状で最も評価指標の良かったラウンド数\n",
        "    :param is_higher_better: 高い方が性能指標として優れているか否か\n",
        "    :return: 次のラウンドで用いる学習率\n",
        "\n",
        "    NOTE: 学習を打ち切りたいときには callback.EarlyStopException を上げる\n",
        "    \"\"\"\n",
        "    # 学習率が設定されていない場合のデフォルト\n",
        "    #current_lr = current_lr or 0.05\n",
        "\n",
        "\n",
        "    # 試しに 20 ラウンド毎に学習率を半分にしてみる\n",
        "    # if len(eval_history) % 20 == 0:\n",
        "    #     current_lr /= 2\n",
        "\n",
        "    # # 小さすぎるとほとんど学習が進まないので下限も用意する\n",
        "    # min_threshold = 0.001\n",
        "    # current_lr = max(min_threshold, current_lr)\n",
        "    n = len(eval_history) \n",
        "    \n",
        "    if n == 100 : # 1.0 -> 0.5\n",
        "      current_lr *= 0.5\n",
        "    elif n == 500 : # 0.5 -> 0.2 \n",
        "      current_lr *= 0.4\n",
        "    \n",
        "    return current_lr\n",
        "\n",
        "\n",
        "class LrSchedulingCallback(object):\n",
        "    \"\"\"ラウンドごとの学習率を動的に制御するためのコールバック\"\"\"\n",
        "\n",
        "    def __init__(self, strategy_func):\n",
        "        # 学習率を決定するための関数\n",
        "        self.scheduler_func = strategy_func\n",
        "        # 検証用データに対する評価指標の履歴\n",
        "        self.eval_metric_history = []\n",
        "\n",
        "    def __call__(self, env):\n",
        "        # 現在の学習率を取得する\n",
        "        current_lr = env.params.get('learning_rate')\n",
        "\n",
        "        # 検証用データに対する評価結果を取り出す (先頭の評価指標)\n",
        "        first_eval_result = env.evaluation_result_list[0]\n",
        "        # スコア\n",
        "        metric_score = first_eval_result[2]\n",
        "        # 評価指標は大きい方が優れているか否か\n",
        "        is_higher_better = first_eval_result[3]\n",
        "\n",
        "        # 評価指標の履歴を更新する\n",
        "        self.eval_metric_history.append(metric_score)\n",
        "        # 現状で最も優れたラウンド数を計算する\n",
        "        best_round_find_func = np.argmax if is_higher_better else np.argmin\n",
        "        best_round = best_round_find_func(self.eval_metric_history)\n",
        "\n",
        "        # 新しい学習率を計算する\n",
        "        new_lr = self.scheduler_func(current_lr=current_lr,\n",
        "                                     eval_history=self.eval_metric_history,\n",
        "                                     best_round=best_round,\n",
        "                                     is_higher_better=is_higher_better)\n",
        "\n",
        "        # 次のラウンドで使う学習率を更新する\n",
        "        update_params = {\n",
        "            'learning_rate': new_lr,\n",
        "        }\n",
        "        env.model.reset_parameter(update_params)\n",
        "        env.params.update(update_params)\n",
        "\n",
        "    @property\n",
        "    def before_iteration(self):\n",
        "        # コールバックは各イテレーションの後に実行する\n",
        "        return False"
      ],
      "metadata": {
        "id": "-2fcuj_d6NBM"
      },
      "execution_count": 21,
      "outputs": []
    },
    {
      "cell_type": "code",
      "source": [
        "def fit_lgbm_optuna(X, y, params=None, es_rounds=20, seed=42, N_SPLITS=5, \n",
        "             n_class=None, model_dir=None, folds=None):\n",
        "  models = []\n",
        "  oof = []\n",
        "  \n",
        "  for i in range(CFG.n_splits):\n",
        "    print(f\"== fold {i} ==\")\n",
        "    trn_idx = folds!=i\n",
        "    val_idx = folds==i\n",
        "    # train, validデータに分割\n",
        "    X_train, y_train = X[trn_idx], y.iloc[trn_idx]\n",
        "    X_valid, y_valid = X.iloc[val_idx], y.iloc[val_idx]\n",
        "\n",
        "\n",
        "    train_data = lgb.Dataset(\n",
        "        data=X_train, \n",
        "        label=y_train, \n",
        "        # weight=compute_sample_weight(class_weight='balanced', y=y_train).astype('float32'),\n",
        "    )\n",
        "    validation_data = lgb.Dataset(\n",
        "        data=X_valid, \n",
        "        label=y_valid, \n",
        "        # weight=np.ones(len(X_valid)).astype('float32'),\n",
        "    )\n",
        "\n",
        "    model = lgbopt.train(\n",
        "      params=params,\n",
        "      train_set=train_data, \n",
        "      num_boost_round=300, \n",
        "      early_stopping_rounds=20,\n",
        "      valid_sets=[validation_data],\n",
        "      verbose_eval=False,\n",
        "      callbacks=[LgbmProgressBarCallback(description=\"Model A\"),\n",
        "                 ],\n",
        "    )\n",
        "    print(\"best_params \" , model.params)\n",
        "    model.save_model(f'{CFG.model_path}/lgbm_fold{i}.txt', num_iteration=model.best_iteration)\n",
        "\n",
        "\n",
        "    # validデータに対して予測し、結果を格納 \n",
        "    pred = model.predict(X_valid, num_iteration=model.best_iteration)\n",
        "    pred = pred.round(0)\n",
        "    accuracy = accuracy_score(pred, y_valid) \n",
        "    print()\n",
        "    print(accuracy)\n",
        "    oof.append(pred)\n",
        "    models.append(model)\n",
        "    break\n",
        "\n",
        "  return oof, models\n"
      ],
      "metadata": {
        "id": "PEZFqsoz-5PO"
      },
      "execution_count": 22,
      "outputs": []
    },
    {
      "cell_type": "code",
      "source": [
        "\n",
        "def fit_lgbm2(X, y, params=None, es_rounds=20, seed=42, N_SPLITS=5, \n",
        "             n_class=None, model_dir=None, folds=None):\n",
        "  models = []\n",
        "  oof = []\n",
        "  \n",
        "  for i in range(CFG.n_splits):\n",
        "    print(f\"== fold {i} ==\")\n",
        "    trn_idx = folds!=i\n",
        "    val_idx = folds==i\n",
        "    # train, validデータに分割\n",
        "    X_train, y_train = X[trn_idx], y.iloc[trn_idx]\n",
        "    X_valid, y_valid = X.iloc[val_idx], y.iloc[val_idx]\n",
        "\n",
        "\n",
        "    train_data = lgb.Dataset(\n",
        "        data=X_train, \n",
        "        label=y_train, \n",
        "        # weight=compute_sample_weight(class_weight='balanced', y=y_train).astype('float32'),\n",
        "    )\n",
        "    validation_data = lgb.Dataset(\n",
        "        data=X_valid, \n",
        "        label=y_valid, \n",
        "        # weight=np.ones(len(X_valid)).astype('float32'),\n",
        "    )\n",
        "\n",
        "    model = lgb.train(\n",
        "      params=params,\n",
        "      train_set=train_data, \n",
        "      num_boost_round=500, \n",
        "      early_stopping_rounds=20,\n",
        "      valid_sets=[validation_data],\n",
        "      verbose_eval=False,\n",
        "      callbacks=[LgbmProgressBarCallback(description=\"Model A\"),\n",
        "                 #LrSchedulingCallback(strategy_func=sample_scheduler_func),\n",
        "                ],\n",
        "    )\n",
        "    # print(\"best_params \" , model.params)\n",
        "    model.save_model(f'{CFG.model_path}/lgbm_fold{i}.txt', num_iteration=model.best_iteration)\n",
        "\n",
        "\n",
        "    # validデータに対して予測し、結果を格納 \n",
        "    pred = model.predict(X_valid, num_iteration=model.best_iteration)\n",
        "    pred = pred.round(0)\n",
        "    accuracy = accuracy_score(pred, y_valid) \n",
        "    print()\n",
        "    print(accuracy)\n",
        "    oof.append(pred)\n",
        "    models.append(model)\n",
        "\n",
        "  return oof, models\n"
      ],
      "metadata": {
        "id": "Wd-l9EqRMRCl"
      },
      "execution_count": 23,
      "outputs": []
    },
    {
      "cell_type": "code",
      "source": [
        "features = ['kdist', 'kneighbors', 'kdist_country',\n",
        "        'kneighbors_country', 'name_sim', 'name_gesh', 'name_leven',\n",
        "        'name_jaro', 'name_lcs', 'name_len_diff', 'name_nleven', 'name_nlcsk',\n",
        "        'name_nlcs', 'address_sim', 'address_gesh', 'address_leven',\n",
        "        'address_jaro', 'address_lcs', 'address_len_diff', 'address_nleven',\n",
        "        'address_nlcsk', 'address_nlcs', 'city_gesh', 'city_leven', 'city_jaro',\n",
        "        'city_lcs', 'city_len_diff', 'city_nleven', 'city_nlcsk', 'city_nlcs',\n",
        "        'state_sim', 'state_gesh', 'state_leven', 'state_jaro', 'state_lcs',\n",
        "        'state_len_diff', 'state_nleven', 'state_nlcsk', 'state_nlcs',\n",
        "        'zip_gesh', 'zip_leven', 'zip_jaro', 'zip_lcs', 'url_sim', 'url_gesh',\n",
        "        'url_leven', 'url_jaro', 'url_lcs', 'url_len_diff', 'url_nleven',\n",
        "        'url_nlcsk', 'url_nlcs', 'phone_gesh', 'phone_leven', 'phone_jaro',\n",
        "        'phone_lcs', 'categories_sim', 'categories_gesh', 'categories_leven',\n",
        "        'categories_jaro', 'categories_lcs', 'categories_len_diff',\n",
        "        'categories_nleven', 'categories_nlcsk', 'categories_nlcs',\n",
        "        'country_sim', 'country_gesh', 'country_leven', 'country_jaro',\n",
        "        'country_lcs', 'country_len_diff', 'country_nleven', 'country_nlcsk',\n",
        "        'country_nlcs']"
      ],
      "metadata": {
        "id": "wJTyrRMZ1qZV"
      },
      "execution_count": 24,
      "outputs": []
    },
    {
      "cell_type": "code",
      "source": [
        "TRAIN_FEATURES = ['kdist',\n",
        "                'kneighbors',\n",
        "                'kdist_country',\n",
        "                'kneighbors_country',\n",
        "                'latdiff',\n",
        "                'londiff',\n",
        "                'manhattan',\n",
        "                'euclidean',\n",
        "                'haversine',\n",
        "                'name_sim',\n",
        "                'name_gesh',\n",
        "                'name_leven',\n",
        "                'name_jaro',\n",
        "                'name_lcs',\n",
        "                'name_len_diff',\n",
        "                'name_nleven',\n",
        "                'name_nlcsk',\n",
        "                'name_nlcs',\n",
        "                'address_sim',\n",
        "                'address_gesh',\n",
        "                'address_leven',\n",
        "                'address_jaro',\n",
        "                'address_lcs',\n",
        "                'address_len_diff',\n",
        "                'address_nleven',\n",
        "                'address_nlcsk',\n",
        "                'address_nlcs',\n",
        "                'city_gesh',\n",
        "                'city_leven',\n",
        "                'city_jaro',\n",
        "                'city_lcs',\n",
        "                'city_len_diff',\n",
        "                'city_nleven',\n",
        "                'city_nlcsk',\n",
        "                'city_nlcs',\n",
        "                'state_sim',\n",
        "                'state_gesh',\n",
        "                'state_leven',\n",
        "                'state_jaro',\n",
        "                'state_lcs',\n",
        "                'state_len_diff',\n",
        "                'state_nleven',\n",
        "                'state_nlcsk',\n",
        "                'state_nlcs',\n",
        "                'zip_gesh',\n",
        "                'zip_leven',\n",
        "                'zip_jaro',\n",
        "                'zip_lcs',\n",
        "                'url_sim',\n",
        "                'url_gesh',\n",
        "                'url_leven',\n",
        "                'url_jaro',\n",
        "                'url_lcs',\n",
        "                'url_len_diff',\n",
        "                'url_nleven',\n",
        "                'url_nlcsk',\n",
        "                'url_nlcs',\n",
        "                'phone_gesh',\n",
        "                'phone_leven',\n",
        "                'phone_jaro',\n",
        "                'phone_lcs',\n",
        "                'categories_sim',\n",
        "                'categories_gesh',\n",
        "                'categories_leven',\n",
        "                'categories_jaro',\n",
        "                'categories_lcs',\n",
        "                'categories_len_diff',\n",
        "                'categories_nleven',\n",
        "                'categories_nlcsk',\n",
        "                'categories_nlcs',\n",
        "                'country_sim',\n",
        "                'country_gesh',\n",
        "                'country_leven',\n",
        "                'country_nleven',\n",
        "                'country_jaro',\n",
        "                'country_lcs', 'country_len_diff', 'country_nlcsk',\n",
        "                'country_nlcs',\n",
        "                'kdist_diff',\n",
        "                'kneighbors_mean',]"
      ],
      "metadata": {
        "id": "4KC09JODH_WV"
      },
      "execution_count": 25,
      "outputs": []
    },
    {
      "cell_type": "code",
      "source": [
        ""
      ],
      "metadata": {
        "id": "MPxBT5B2sGnM"
      },
      "execution_count": 25,
      "outputs": []
    },
    {
      "cell_type": "code",
      "source": [
        "features = ['kdist', 'kneighbors', 'kdist_country',\n",
        "       'kneighbors_country', 'latdiff', 'londiff', 'manhattan',\n",
        "       'euclidean', 'haversine', 'name_sim', 'name_gesh', 'name_leven',\n",
        "       'name_jaro', 'name_lcs', 'name_len_diff', 'name_nleven', 'name_nlcsk',\n",
        "       'name_nlcs', 'address_sim', 'address_gesh', 'address_leven',\n",
        "       'address_jaro', 'address_lcs', 'address_len_diff', 'address_nleven',\n",
        "       'address_nlcsk', 'address_nlcs', 'city_gesh', 'city_leven', 'city_jaro',\n",
        "       'city_lcs', 'city_len_diff', 'city_nleven', 'city_nlcsk', 'city_nlcs',\n",
        "       'state_sim', 'state_gesh', 'state_leven', 'state_jaro', 'state_lcs',\n",
        "       'state_len_diff', 'state_nleven', 'state_nlcsk', 'state_nlcs',\n",
        "       'zip_gesh', 'zip_leven', 'zip_jaro', 'zip_lcs', 'url_sim', 'url_gesh',\n",
        "       'url_leven', 'url_jaro', 'url_lcs', 'url_len_diff', 'url_nleven',\n",
        "       'url_nlcsk', 'url_nlcs', 'phone_gesh', 'phone_leven', 'phone_jaro',\n",
        "       'phone_lcs', 'categories_sim', 'categories_gesh', 'categories_leven',\n",
        "       'categories_jaro', 'categories_lcs', 'categories_len_diff',\n",
        "       'categories_nleven', 'categories_nlcsk', 'categories_nlcs',\n",
        "       'country_sim', 'country_gesh', 'country_leven', 'country_jaro',\n",
        "       'country_lcs', 'country_len_diff', 'country_nleven', 'country_nlcsk',\n",
        "       'country_nlcs', 'kdist_diff', 'kneighbors_mean']"
      ],
      "metadata": {
        "id": "h-hgccO5JVBd"
      },
      "execution_count": 26,
      "outputs": []
    },
    {
      "cell_type": "code",
      "source": [
        "for e in train.columns : \n",
        "  if e not in features : print(e)"
      ],
      "metadata": {
        "colab": {
          "base_uri": "https://localhost:8080/"
        },
        "id": "v9Gy-BRBX2HW",
        "outputId": "28527566-ca52-41cf-936d-a7e3c20da17f"
      },
      "execution_count": 27,
      "outputs": [
        {
          "output_type": "stream",
          "name": "stdout",
          "text": [
            "id\n",
            "match_id\n",
            "label\n",
            "fold\n"
          ]
        }
      ]
    },
    {
      "cell_type": "code",
      "source": [
        "train.columns"
      ],
      "metadata": {
        "colab": {
          "base_uri": "https://localhost:8080/"
        },
        "id": "cPDfQ7bNIzFH",
        "outputId": "d9ed2c79-ae5d-4658-e41f-bf9101751182"
      },
      "execution_count": 28,
      "outputs": [
        {
          "output_type": "execute_result",
          "data": {
            "text/plain": [
              "Index(['id', 'match_id', 'kdist', 'kneighbors', 'kdist_country',\n",
              "       'kneighbors_country', 'label', 'latdiff', 'londiff', 'manhattan',\n",
              "       'euclidean', 'haversine', 'name_sim', 'name_gesh', 'name_leven',\n",
              "       'name_jaro', 'name_lcs', 'name_len_diff', 'name_nleven', 'name_nlcsk',\n",
              "       'name_nlcs', 'address_sim', 'address_gesh', 'address_leven',\n",
              "       'address_jaro', 'address_lcs', 'address_len_diff', 'address_nleven',\n",
              "       'address_nlcsk', 'address_nlcs', 'city_gesh', 'city_leven', 'city_jaro',\n",
              "       'city_lcs', 'city_len_diff', 'city_nleven', 'city_nlcsk', 'city_nlcs',\n",
              "       'state_sim', 'state_gesh', 'state_leven', 'state_jaro', 'state_lcs',\n",
              "       'state_len_diff', 'state_nleven', 'state_nlcsk', 'state_nlcs',\n",
              "       'zip_gesh', 'zip_leven', 'zip_jaro', 'zip_lcs', 'url_sim', 'url_gesh',\n",
              "       'url_leven', 'url_jaro', 'url_lcs', 'url_len_diff', 'url_nleven',\n",
              "       'url_nlcsk', 'url_nlcs', 'phone_gesh', 'phone_leven', 'phone_jaro',\n",
              "       'phone_lcs', 'categories_sim', 'categories_gesh', 'categories_leven',\n",
              "       'categories_jaro', 'categories_lcs', 'categories_len_diff',\n",
              "       'categories_nleven', 'categories_nlcsk', 'categories_nlcs',\n",
              "       'country_sim', 'country_gesh', 'country_leven', 'country_jaro',\n",
              "       'country_lcs', 'country_len_diff', 'country_nleven', 'country_nlcsk',\n",
              "       'country_nlcs', 'fold', 'kdist_diff', 'kneighbors_mean'],\n",
              "      dtype='object')"
            ]
          },
          "metadata": {},
          "execution_count": 28
        }
      ]
    },
    {
      "cell_type": "code",
      "source": [
        "# params = {\n",
        "#     'objective': \"binary\",\n",
        "#     'learning_rate': 0.2,\n",
        "#     'reg_alpha': 0.1,\n",
        "#     'reg_lambda': 0.1,\n",
        "#     'random_state': 42,\n",
        "\n",
        "#     'max_depth': 7,   \n",
        "#     'num_leaves': 35, \n",
        "#     'n_estimators': 1000000, \n",
        "#     \"colsample_bytree\": 0.9,\n",
        "# }\n",
        "\n",
        "# params = {\n",
        "#   'task': 'train',\n",
        "#   'boosting_type': 'gbdt',\n",
        "#   'objective': 'binary',\n",
        "#   'metric': 'binary_logloss',\n",
        "#   'num_leaves': 48,\n",
        "#   'min_data_in_leaf': 200,\n",
        "#   'max_depth': 6,\n",
        "\n",
        "#   'learning_rate': 0.2,\n",
        "#   'reg_alpha': 0.1,\n",
        "#   'reg_lambda': 0.1,\n",
        "#   \"colsample_bytree\": 0.7,\n",
        "\n",
        "#   # 'n_estimators': 5000,\n",
        "#   'random_state': 42,\n",
        "# }\n",
        "\n",
        "# params = {\n",
        "#   'task': 'train',\n",
        "#   'boosting_type': 'gbdt',\n",
        "#   'objective': \"binary\",\n",
        "#   'learning_rate': 0.2,\n",
        "#   'random_state': 42,\n",
        "#   'n_estimators': 100,\n",
        "# }\n",
        "\n",
        "# params = {\n",
        "#     'objective': \"binary\",\n",
        "#     'learning_rate': 0.2,\n",
        "#     'reg_alpha': 0.1,\n",
        "#     'reg_lambda': 0.1,\n",
        "#     'random_state': 42,\n",
        "#     'min_data_in_leaf': 20,\n",
        "\n",
        "#     'max_depth': 7,   \n",
        "#     'num_leaves': 200, \n",
        "#     # 'n_estimators': 1000000, \n",
        "#     'n_estimators': 10000, \n",
        "#     \"colsample_bytree\": 0.9,\n",
        "#     \"verbose\": -1,\n",
        "# }\n",
        "# params = {'task': 'train', 'boosting_type': 'gbdt', 'objective': 'binary', 'metric': 'binary_logloss', \n",
        "#           'num_leaves': 61, 'min_data_in_leaf': 200, 'max_depth': 6, 'learning_rate': 0.2, 'random_state': 42, \n",
        "#           'feature_pre_filter': False, 'feature_fraction': 0.88, 'lambda_l1': 5.5168523748814025, 'lambda_l2': 0.029477410051213494, \n",
        "#           'bagging_fraction': 0.9846184137245049, 'bagging_freq': 7, 'min_child_samples': 25}\n",
        "\n",
        "# params = {'task': 'train', 'boosting_type': 'gbdt', 'objective': 'binary', 'metric': 'binary_logloss',\n",
        "#           'learning_rate': 0.05, \n",
        "#           'num_leaves': 200,\n",
        "#           'max_depth': -1, \n",
        "#           'min_data_in_leaf': 20,  \n",
        "#           'random_state': 42, \n",
        "\n",
        "#           'lambda_l1': 1,\n",
        "#           'max_bin': 255,\n",
        "#           'feature_pre_filter': True, \n",
        "#           'feature_fraction': 0.75, \n",
        "#           'bagging_fraction': 0.80, \n",
        "#           'bagging_freq': 10, \n",
        "\n",
        "#           \"verbose\": -1,\n",
        "#           }\n",
        "\n",
        "params = {'task': 'train', 'boosting_type': 'gbdt', 'objective': 'binary', 'metric': 'binary_logloss', \n",
        "          'learning_rate': 0.05, 'num_leaves': 256, 'max_depth': -1, 'min_data_in_leaf': 20, \n",
        "          'random_state': 42, \n",
        "          'lambda_l1': 0.7964782150381488,\n",
        "          'max_bin': 255, 'feature_pre_filter': False, \n",
        "          'feature_fraction': 0.4,\n",
        "          'bagging_fraction': 0.9277418926611961, 'bagging_freq': 5,\n",
        "          'verbose': -1, 'lambda_l2': 0.7677209353759652, 'min_child_samples': 10,\n",
        "          #'is_unbalance': True,\n",
        "          }\n",
        "\n",
        "\n",
        "oof, models = fit_lgbm2(train[features], train[\"label\"].astype(int), \n",
        "                      params=params, \n",
        "                      n_class=int(train[\"label\"].max() + 1), \n",
        "                      N_SPLITS=CFG.n_splits, \n",
        "                      folds=train[\"fold\"].values)"
      ],
      "metadata": {
        "colab": {
          "base_uri": "https://localhost:8080/",
          "height": 589,
          "referenced_widgets": [
            "0b29acd30a9b4ce9ade80b86d9447d11",
            "87931b2f5ce8404f938967bb5136cbb3",
            "93f4a915d62440c890fd9fba6657599d",
            "0e583512cd994b5eac7c8fab81e0cce2",
            "c762874b71ee4c9fa6a1ea250cc0c862",
            "fc154c47e8764d1984a4d1c86ab8df8e",
            "3f1631d02fe442c69be57b2fda43db9c",
            "63914abb2a554ec09fcfe37fa6b9a95c",
            "142dcc1d17c74130aee62a546770dbee",
            "48afcb75ee134e14ae6686896ecf84cc",
            "f5aa822c013640d0b3b1ff5f38e4ce5d",
            "919384a681f44d6d97b37c09323b40ff",
            "cacbb6b290b14929b46d8971005706c2",
            "afa6ce50c584421b8a2fc27502c366d2",
            "45462acff8f3455c9c1f9a744b732556",
            "f18938650b3148e7a9124ad33ec6df20",
            "ffb239d38eeb4e12adc7ac76dbcf5e43",
            "cc42b1b3c73d4bbeaea700ddbdf9b5cb",
            "3056c68cc35c4806bda779a762bfa022",
            "9e4059b017a4447ab5967115830c08a1",
            "e263cc97dd3c4dd19fdb2c399edd5d51",
            "85f03f29320c4ad9a5e2a52bbd33dde3",
            "91788c826d444e008e0aee2149102912",
            "57975d9ba04445339a293b5aba895a6e",
            "4761128944934f92b36053e76d4dc9dd",
            "3b8d507635514685b502c01be81fdaac",
            "4888a9d59b0c4725b7550cee5cd41db5",
            "c191e8cb57b04a08b846177cf8ee151c",
            "b4c4705c12ec47ae85cf1210d372258c",
            "5b2b510c34e84ff89c13695e1f88d89d",
            "84c647ce22a84497a3d2fd6ea0a1ba36",
            "b9cf09f1bca440f9b13439504d590f42",
            "317b40cddf094a7b83c5f7007fb8fb0a"
          ]
        },
        "id": "Yx5UFfMQ0ueR",
        "outputId": "578ed6b6-2511-4239-dde6-fbf230a8c489"
      },
      "execution_count": 29,
      "outputs": [
        {
          "output_type": "stream",
          "name": "stdout",
          "text": [
            "== fold 0 ==\n"
          ]
        },
        {
          "output_type": "display_data",
          "data": {
            "text/plain": [
              "0it [00:00, ?it/s]"
            ],
            "application/vnd.jupyter.widget-view+json": {
              "version_major": 2,
              "version_minor": 0,
              "model_id": "0b29acd30a9b4ce9ade80b86d9447d11"
            }
          },
          "metadata": {}
        },
        {
          "output_type": "stream",
          "name": "stderr",
          "text": [
            "/usr/local/lib/python3.7/dist-packages/lightgbm/engine.py:181: UserWarning: 'early_stopping_rounds' argument is deprecated and will be removed in a future release of LightGBM. Pass 'early_stopping()' callback via 'callbacks' argument instead.\n",
            "  _log_warning(\"'early_stopping_rounds' argument is deprecated and will be removed in a future release of LightGBM. \"\n",
            "/usr/local/lib/python3.7/dist-packages/lightgbm/engine.py:239: UserWarning: 'verbose_eval' argument is deprecated and will be removed in a future release of LightGBM. Pass 'log_evaluation()' callback via 'callbacks' argument instead.\n",
            "  _log_warning(\"'verbose_eval' argument is deprecated and will be removed in a future release of LightGBM. \"\n"
          ]
        },
        {
          "output_type": "stream",
          "name": "stdout",
          "text": [
            "[LightGBM] [Warning] min_data_in_leaf is set=20, min_child_samples=10 will be ignored. Current value: min_data_in_leaf=20\n",
            "\n",
            "0.9871072506072454\n",
            "== fold 1 ==\n"
          ]
        },
        {
          "output_type": "display_data",
          "data": {
            "text/plain": [
              "0it [00:00, ?it/s]"
            ],
            "application/vnd.jupyter.widget-view+json": {
              "version_major": 2,
              "version_minor": 0,
              "model_id": "919384a681f44d6d97b37c09323b40ff"
            }
          },
          "metadata": {}
        },
        {
          "output_type": "stream",
          "name": "stderr",
          "text": [
            "/usr/local/lib/python3.7/dist-packages/lightgbm/engine.py:181: UserWarning: 'early_stopping_rounds' argument is deprecated and will be removed in a future release of LightGBM. Pass 'early_stopping()' callback via 'callbacks' argument instead.\n",
            "  _log_warning(\"'early_stopping_rounds' argument is deprecated and will be removed in a future release of LightGBM. \"\n",
            "/usr/local/lib/python3.7/dist-packages/lightgbm/engine.py:239: UserWarning: 'verbose_eval' argument is deprecated and will be removed in a future release of LightGBM. Pass 'log_evaluation()' callback via 'callbacks' argument instead.\n",
            "  _log_warning(\"'verbose_eval' argument is deprecated and will be removed in a future release of LightGBM. \"\n"
          ]
        },
        {
          "output_type": "stream",
          "name": "stdout",
          "text": [
            "[LightGBM] [Warning] min_data_in_leaf is set=20, min_child_samples=10 will be ignored. Current value: min_data_in_leaf=20\n",
            "\n",
            "0.9873041166255913\n",
            "== fold 2 ==\n"
          ]
        },
        {
          "output_type": "display_data",
          "data": {
            "text/plain": [
              "0it [00:00, ?it/s]"
            ],
            "application/vnd.jupyter.widget-view+json": {
              "version_major": 2,
              "version_minor": 0,
              "model_id": "91788c826d444e008e0aee2149102912"
            }
          },
          "metadata": {}
        },
        {
          "output_type": "stream",
          "name": "stderr",
          "text": [
            "/usr/local/lib/python3.7/dist-packages/lightgbm/engine.py:181: UserWarning: 'early_stopping_rounds' argument is deprecated and will be removed in a future release of LightGBM. Pass 'early_stopping()' callback via 'callbacks' argument instead.\n",
            "  _log_warning(\"'early_stopping_rounds' argument is deprecated and will be removed in a future release of LightGBM. \"\n",
            "/usr/local/lib/python3.7/dist-packages/lightgbm/engine.py:239: UserWarning: 'verbose_eval' argument is deprecated and will be removed in a future release of LightGBM. Pass 'log_evaluation()' callback via 'callbacks' argument instead.\n",
            "  _log_warning(\"'verbose_eval' argument is deprecated and will be removed in a future release of LightGBM. \"\n"
          ]
        },
        {
          "output_type": "stream",
          "name": "stdout",
          "text": [
            "[LightGBM] [Warning] min_data_in_leaf is set=20, min_child_samples=10 will be ignored. Current value: min_data_in_leaf=20\n",
            "\n",
            "0.9872967878063638\n"
          ]
        }
      ]
    },
    {
      "cell_type": "code",
      "source": [
        "# 0.9832166157227484\n",
        "# 0.986433063288391\n",
        "#0.9879528738117864 0.9877047494263559"
      ],
      "metadata": {
        "id": "LVQdQxL00uVp"
      },
      "execution_count": null,
      "outputs": []
    },
    {
      "cell_type": "code",
      "source": [
        ""
      ],
      "metadata": {
        "id": "1nLv5Bkn0uSg"
      },
      "execution_count": null,
      "outputs": []
    },
    {
      "cell_type": "code",
      "source": [
        ""
      ],
      "metadata": {
        "id": "RW1R_M3c0uPk"
      },
      "execution_count": null,
      "outputs": []
    },
    {
      "cell_type": "code",
      "source": [
        "# import gc\n",
        "# del df1, df2, df3, df4, df5 \n",
        "# gc.collect()"
      ],
      "metadata": {
        "id": "bjt_G6bKyNlo"
      },
      "execution_count": null,
      "outputs": []
    },
    {
      "cell_type": "code",
      "source": [
        "# def set_datas(train, valid, test) :\n",
        "#   df = pd.concat(train)\n",
        "#   x_train = df[['kdist', 'kneighbors', 'kdist_country',\n",
        "#         'kneighbors_country', 'name_sim', 'name_gesh', 'name_leven',\n",
        "#         'name_jaro', 'name_lcs', 'name_len_diff', 'name_nleven', 'name_nlcsk',\n",
        "#         'name_nlcs', 'address_sim', 'address_gesh', 'address_leven',\n",
        "#         'address_jaro', 'address_lcs', 'address_len_diff', 'address_nleven',\n",
        "#         'address_nlcsk', 'address_nlcs', 'city_gesh', 'city_leven', 'city_jaro',\n",
        "#         'city_lcs', 'city_len_diff', 'city_nleven', 'city_nlcsk', 'city_nlcs',\n",
        "#         'state_sim', 'state_gesh', 'state_leven', 'state_jaro', 'state_lcs',\n",
        "#         'state_len_diff', 'state_nleven', 'state_nlcsk', 'state_nlcs',\n",
        "#         'zip_gesh', 'zip_leven', 'zip_jaro', 'zip_lcs', 'url_sim', 'url_gesh',\n",
        "#         'url_leven', 'url_jaro', 'url_lcs', 'url_len_diff', 'url_nleven',\n",
        "#         'url_nlcsk', 'url_nlcs', 'phone_gesh', 'phone_leven', 'phone_jaro',\n",
        "#         'phone_lcs', 'categories_sim', 'categories_gesh', 'categories_leven',\n",
        "#         'categories_jaro', 'categories_lcs', 'categories_len_diff',\n",
        "#         'categories_nleven', 'categories_nlcsk', 'categories_nlcs',\n",
        "#         'country_sim', 'country_gesh', 'country_leven', 'country_jaro',\n",
        "#         'country_lcs', 'country_len_diff', 'country_nleven', 'country_nlcsk',\n",
        "#         'country_nlcs']]\n",
        "#   y_train = df['label']\n",
        "\n",
        "#   df = pd.concat(valid)\n",
        "#   x_valid = df[['kdist', 'kneighbors', 'kdist_country',\n",
        "#         'kneighbors_country', 'name_sim', 'name_gesh', 'name_leven',\n",
        "#         'name_jaro', 'name_lcs', 'name_len_diff', 'name_nleven', 'name_nlcsk',\n",
        "#         'name_nlcs', 'address_sim', 'address_gesh', 'address_leven',\n",
        "#         'address_jaro', 'address_lcs', 'address_len_diff', 'address_nleven',\n",
        "#         'address_nlcsk', 'address_nlcs', 'city_gesh', 'city_leven', 'city_jaro',\n",
        "#         'city_lcs', 'city_len_diff', 'city_nleven', 'city_nlcsk', 'city_nlcs',\n",
        "#         'state_sim', 'state_gesh', 'state_leven', 'state_jaro', 'state_lcs',\n",
        "#         'state_len_diff', 'state_nleven', 'state_nlcsk', 'state_nlcs',\n",
        "#         'zip_gesh', 'zip_leven', 'zip_jaro', 'zip_lcs', 'url_sim', 'url_gesh',\n",
        "#         'url_leven', 'url_jaro', 'url_lcs', 'url_len_diff', 'url_nleven',\n",
        "#         'url_nlcsk', 'url_nlcs', 'phone_gesh', 'phone_leven', 'phone_jaro',\n",
        "#         'phone_lcs', 'categories_sim', 'categories_gesh', 'categories_leven',\n",
        "#         'categories_jaro', 'categories_lcs', 'categories_len_diff',\n",
        "#         'categories_nleven', 'categories_nlcsk', 'categories_nlcs',\n",
        "#         'country_sim', 'country_gesh', 'country_leven', 'country_jaro',\n",
        "#         'country_lcs', 'country_len_diff', 'country_nleven', 'country_nlcsk',\n",
        "#         'country_nlcs']]\n",
        "#   y_valid = df['label']\n",
        "\n",
        "#   df = pd.concat(test)\n",
        "#   x_test = df[['kdist', 'kneighbors', 'kdist_country',\n",
        "#         'kneighbors_country', 'name_sim', 'name_gesh', 'name_leven',\n",
        "#         'name_jaro', 'name_lcs', 'name_len_diff', 'name_nleven', 'name_nlcsk',\n",
        "#         'name_nlcs', 'address_sim', 'address_gesh', 'address_leven',\n",
        "#         'address_jaro', 'address_lcs', 'address_len_diff', 'address_nleven',\n",
        "#         'address_nlcsk', 'address_nlcs', 'city_gesh', 'city_leven', 'city_jaro',\n",
        "#         'city_lcs', 'city_len_diff', 'city_nleven', 'city_nlcsk', 'city_nlcs',\n",
        "#         'state_sim', 'state_gesh', 'state_leven', 'state_jaro', 'state_lcs',\n",
        "#         'state_len_diff', 'state_nleven', 'state_nlcsk', 'state_nlcs',\n",
        "#         'zip_gesh', 'zip_leven', 'zip_jaro', 'zip_lcs', 'url_sim', 'url_gesh',\n",
        "#         'url_leven', 'url_jaro', 'url_lcs', 'url_len_diff', 'url_nleven',\n",
        "#         'url_nlcsk', 'url_nlcs', 'phone_gesh', 'phone_leven', 'phone_jaro',\n",
        "#         'phone_lcs', 'categories_sim', 'categories_gesh', 'categories_leven',\n",
        "#         'categories_jaro', 'categories_lcs', 'categories_len_diff',\n",
        "#         'categories_nleven', 'categories_nlcsk', 'categories_nlcs',\n",
        "#         'country_sim', 'country_gesh', 'country_leven', 'country_jaro',\n",
        "#         'country_lcs', 'country_len_diff', 'country_nleven', 'country_nlcsk',\n",
        "#         'country_nlcs']]\n",
        "#   y_test = df['label']\n",
        "#   del df\n",
        "#   return x_train, y_train, x_valid, y_valid, x_test, y_test"
      ],
      "metadata": {
        "id": "Fbd8D9IyPrBr"
      },
      "execution_count": null,
      "outputs": []
    },
    {
      "cell_type": "code",
      "source": [
        "# def train(train, valid, test, outfile): \n",
        "#   x_train, y_train, x_valid, y_valid, x_test, y_test = set_datas(train, valid, test)\n",
        "\n",
        "#   train_data = lgb.Dataset(\n",
        "#       data=x_train, \n",
        "#       label=y_train, \n",
        "#       weight=compute_sample_weight(class_weight='balanced', y=y_train).astype('float32'),\n",
        "#   )\n",
        "#   validation_data = lgb.Dataset(\n",
        "#       data=x_valid, \n",
        "#       label=y_valid, \n",
        "#       weight=np.ones(len(x_valid)).astype('float32'),\n",
        "#   )\n",
        "#   params = {\n",
        "#     'task': 'train',\n",
        "#     'boosting_type': 'gbdt',\n",
        "#     'objective': 'binary',\n",
        "#     'metric': 'binary_logloss',\n",
        "#     'num_leaves': 64,\n",
        "#     'min_data_in_leaf': 20,\n",
        "#     'max_depth': 7,\n",
        "#     'verbose': 0,\n",
        "\n",
        "#     'learning_rate': 0.2,\n",
        "#     'random_state': 42,\n",
        "#   }\n",
        "#   # params = {\n",
        "#   #   'objective': \"logloss\",\n",
        "#   #   'learning_rate': 0.2,\n",
        "#   #   'reg_alpha': 0.1,\n",
        "#   #   'reg_lambda': 0.1,\n",
        "#   #   'random_state': 42,\n",
        "\n",
        "#   #   'max_depth': 7,   \n",
        "#   #   'num_leaves': 35, \n",
        "#   #   'n_estimators': 1000000, \n",
        "#   #   \"colsample_bytree\": 0.9,\n",
        "#   # }\n",
        "\n",
        "#   bst = lgb.train(\n",
        "#     params=params, \n",
        "#     train_set=train_data, \n",
        "#     num_boost_round=100, \n",
        "#     early_stopping_rounds=20,\n",
        "#     valid_sets=[validation_data],\n",
        "#   )\n",
        "#   bst.save_model(outfile, num_iteration=bst.best_iteration)\n",
        "\n",
        "#   y_pred = bst.predict(x_test, num_iteration=bst.best_iteration)\n",
        "#   y_pred = y_pred.round(0)\n",
        "#   accuracy = accuracy_score(y_pred, y_test)\n",
        "#   print(f\"accuracy score: {accuracy:0.4f}\")\n",
        "#   # accuracy score: 0.9825\n",
        "#   cm = confusion_matrix(y_test, y_pred)\n",
        "#   cm_matrix = pd.DataFrame(data=cm, columns=['Actual Positive:1', 'Actual Negative:0'], \n",
        "#                                   index=['Predict Positive:1', 'Predict Negative:0'])\n",
        "\n",
        "#   sns.heatmap(cm_matrix, annot=True, fmt='d', cmap='YlGnBu')\n",
        "#   del x_train, y_train, x_valid, y_valid, x_test, y_test, bst, y_pred, cm_matrix"
      ],
      "metadata": {
        "id": "t06kefVrPZMq"
      },
      "execution_count": null,
      "outputs": []
    },
    {
      "cell_type": "code",
      "source": [
        "# train([df1,df2,df3,df4], [df5], [df5], '/content/drive/MyDrive/datas/foursquare/model1.txt')\n",
        "# gc.collect()"
      ],
      "metadata": {
        "id": "JDKLa6aOn0Jk"
      },
      "execution_count": null,
      "outputs": []
    },
    {
      "cell_type": "code",
      "source": [
        "# train([df2,df3,df4], [df5], [df1], '/content/drive/MyDrive/datas/foursquare/model2.txt')\n",
        "# gc.collect()"
      ],
      "metadata": {
        "id": "yzoaOzSwWfwG"
      },
      "execution_count": null,
      "outputs": []
    },
    {
      "cell_type": "code",
      "source": [
        "# train([df3,df4,df5], [df1], [df2], '/content/drive/MyDrive/datas/foursquare/model3.txt')\n",
        "# gc.collect()"
      ],
      "metadata": {
        "id": "mtNTYk5RYfHr"
      },
      "execution_count": null,
      "outputs": []
    },
    {
      "cell_type": "code",
      "source": [
        "# train([df4,df5,df1], [df2], [df3], '/content/drive/MyDrive/datas/foursquare/model4.txt')\n",
        "# gc.collect()"
      ],
      "metadata": {
        "id": "T6VRgBuRYqf6"
      },
      "execution_count": null,
      "outputs": []
    },
    {
      "cell_type": "code",
      "source": [
        "# train([df5,df1,df2], [df3], [df4], '/content/drive/MyDrive/datas/foursquare/model5.txt')\n",
        "# gc.collect()"
      ],
      "metadata": {
        "id": "MqzDftT7YvJs"
      },
      "execution_count": null,
      "outputs": []
    },
    {
      "cell_type": "code",
      "source": [
        "# df = df1\n",
        "# x_test = df[['kdist', 'kneighbors', 'kdist_country',\n",
        "#       'kneighbors_country', 'name_sim', 'name_gesh', 'name_leven',\n",
        "#       'name_jaro', 'name_lcs', 'name_len_diff', 'name_nleven', 'name_nlcsk',\n",
        "#       'name_nlcs', 'address_sim', 'address_gesh', 'address_leven',\n",
        "#       'address_jaro', 'address_lcs', 'address_len_diff', 'address_nleven',\n",
        "#       'address_nlcsk', 'address_nlcs', 'city_gesh', 'city_leven', 'city_jaro',\n",
        "#       'city_lcs', 'city_len_diff', 'city_nleven', 'city_nlcsk', 'city_nlcs',\n",
        "#       'state_sim', 'state_gesh', 'state_leven', 'state_jaro', 'state_lcs',\n",
        "#       'state_len_diff', 'state_nleven', 'state_nlcsk', 'state_nlcs',\n",
        "#       'zip_gesh', 'zip_leven', 'zip_jaro', 'zip_lcs', 'url_sim', 'url_gesh',\n",
        "#       'url_leven', 'url_jaro', 'url_lcs', 'url_len_diff', 'url_nleven',\n",
        "#       'url_nlcsk', 'url_nlcs', 'phone_gesh', 'phone_leven', 'phone_jaro',\n",
        "#       'phone_lcs', 'categories_sim', 'categories_gesh', 'categories_leven',\n",
        "#       'categories_jaro', 'categories_lcs', 'categories_len_diff',\n",
        "#       'categories_nleven', 'categories_nlcsk', 'categories_nlcs',\n",
        "#       'country_sim', 'country_gesh', 'country_leven', 'country_jaro',\n",
        "#       'country_lcs', 'country_len_diff', 'country_nleven', 'country_nlcsk',\n",
        "#       'country_nlcs']]\n",
        "# y_test = df['label']"
      ],
      "metadata": {
        "id": "b6EjJYaAU3Q0"
      },
      "execution_count": null,
      "outputs": []
    },
    {
      "cell_type": "code",
      "source": [
        "# bst = lgb.Booster(model_file = '/content/drive/MyDrive/datas/foursquare/improved_lgb_baseline.lgb')\n",
        "\n",
        "# y_pred = bst.predict(x_test, num_iteration=bst.best_iteration)\n",
        "# y_pred = y_pred.round(0)\n",
        "# accuracy = accuracy_score(y_pred, y_test)\n",
        "# print(f\"accuracy score: {accuracy:0.4f}\")\n",
        "# # accuracy score: 0.9825\n",
        "# cm = confusion_matrix(y_test, y_pred)\n",
        "# cm_matrix = pd.DataFrame(data=cm, columns=['Actual Positive:1', 'Actual Negative:0'], \n",
        "#                                 index=['Predict Positive:1', 'Predict Negative:0'])\n",
        "\n",
        "# sns.heatmap(cm_matrix, annot=True, fmt='d', cmap='YlGnBu')"
      ],
      "metadata": {
        "id": "knuxM9DZZLW1"
      },
      "execution_count": null,
      "outputs": []
    },
    {
      "cell_type": "code",
      "source": [
        ""
      ],
      "metadata": {
        "id": "Nk-H7b4DUpp-"
      },
      "execution_count": null,
      "outputs": []
    }
  ]
}