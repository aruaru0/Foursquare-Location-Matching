{
  "nbformat": 4,
  "nbformat_minor": 0,
  "metadata": {
    "colab": {
      "name": "train_lightgbm.ipynb",
      "provenance": [],
      "collapsed_sections": [],
      "machine_shape": "hm",
      "mount_file_id": "1Rrn27XU-ZvbSKf9CiYWbZE-U10jFv8qe",
      "authorship_tag": "ABX9TyMotj4lB/uBZmwmVlbpqzes",
      "include_colab_link": true
    },
    "kernelspec": {
      "name": "python3",
      "display_name": "Python 3"
    },
    "language_info": {
      "name": "python"
    },
    "accelerator": "TPU",
    "widgets": {
      "application/vnd.jupyter.widget-state+json": {
        "a42a58ad0a484f34a058290cc261a4f9": {
          "model_module": "@jupyter-widgets/controls",
          "model_name": "HBoxModel",
          "model_module_version": "1.5.0",
          "state": {
            "_dom_classes": [],
            "_model_module": "@jupyter-widgets/controls",
            "_model_module_version": "1.5.0",
            "_model_name": "HBoxModel",
            "_view_count": null,
            "_view_module": "@jupyter-widgets/controls",
            "_view_module_version": "1.5.0",
            "_view_name": "HBoxView",
            "box_style": "",
            "children": [
              "IPY_MODEL_96aa701356554e4aa85a24fd74e353af",
              "IPY_MODEL_dee844721f5a44dabc386156d95032a9",
              "IPY_MODEL_102376580f97402cb0ba87fa1dc04beb"
            ],
            "layout": "IPY_MODEL_5fead1975e544c07b8c4cbb438eacb06"
          }
        },
        "96aa701356554e4aa85a24fd74e353af": {
          "model_module": "@jupyter-widgets/controls",
          "model_name": "HTMLModel",
          "model_module_version": "1.5.0",
          "state": {
            "_dom_classes": [],
            "_model_module": "@jupyter-widgets/controls",
            "_model_module_version": "1.5.0",
            "_model_name": "HTMLModel",
            "_view_count": null,
            "_view_module": "@jupyter-widgets/controls",
            "_view_module_version": "1.5.0",
            "_view_name": "HTMLView",
            "description": "",
            "description_tooltip": null,
            "layout": "IPY_MODEL_05b76930d2f045808b08632c0644b9f7",
            "placeholder": "​",
            "style": "IPY_MODEL_da5443b41f5646efa9221c66799e612f",
            "value": "Model A:   2%"
          }
        },
        "dee844721f5a44dabc386156d95032a9": {
          "model_module": "@jupyter-widgets/controls",
          "model_name": "FloatProgressModel",
          "model_module_version": "1.5.0",
          "state": {
            "_dom_classes": [],
            "_model_module": "@jupyter-widgets/controls",
            "_model_module_version": "1.5.0",
            "_model_name": "FloatProgressModel",
            "_view_count": null,
            "_view_module": "@jupyter-widgets/controls",
            "_view_module_version": "1.5.0",
            "_view_name": "ProgressView",
            "bar_style": "danger",
            "description": "",
            "description_tooltip": null,
            "layout": "IPY_MODEL_fbbeb86fa5c54b61a30ec927a678f75d",
            "max": 3000,
            "min": 0,
            "orientation": "horizontal",
            "style": "IPY_MODEL_8f62d8a6c2294501b94e30c22bf46968",
            "value": 47
          }
        },
        "102376580f97402cb0ba87fa1dc04beb": {
          "model_module": "@jupyter-widgets/controls",
          "model_name": "HTMLModel",
          "model_module_version": "1.5.0",
          "state": {
            "_dom_classes": [],
            "_model_module": "@jupyter-widgets/controls",
            "_model_module_version": "1.5.0",
            "_model_name": "HTMLModel",
            "_view_count": null,
            "_view_module": "@jupyter-widgets/controls",
            "_view_module_version": "1.5.0",
            "_view_name": "HTMLView",
            "description": "",
            "description_tooltip": null,
            "layout": "IPY_MODEL_92061db8aba14c6fa8a68826d5ac0c98",
            "placeholder": "​",
            "style": "IPY_MODEL_85b10718cdab4e068774a08728750797",
            "value": " 47/3000 [00:50&lt;22:40,  2.17it/s, valid_0:binary_logloss=0.04521021847740571]"
          }
        },
        "5fead1975e544c07b8c4cbb438eacb06": {
          "model_module": "@jupyter-widgets/base",
          "model_name": "LayoutModel",
          "model_module_version": "1.2.0",
          "state": {
            "_model_module": "@jupyter-widgets/base",
            "_model_module_version": "1.2.0",
            "_model_name": "LayoutModel",
            "_view_count": null,
            "_view_module": "@jupyter-widgets/base",
            "_view_module_version": "1.2.0",
            "_view_name": "LayoutView",
            "align_content": null,
            "align_items": null,
            "align_self": null,
            "border": null,
            "bottom": null,
            "display": null,
            "flex": null,
            "flex_flow": null,
            "grid_area": null,
            "grid_auto_columns": null,
            "grid_auto_flow": null,
            "grid_auto_rows": null,
            "grid_column": null,
            "grid_gap": null,
            "grid_row": null,
            "grid_template_areas": null,
            "grid_template_columns": null,
            "grid_template_rows": null,
            "height": null,
            "justify_content": null,
            "justify_items": null,
            "left": null,
            "margin": null,
            "max_height": null,
            "max_width": null,
            "min_height": null,
            "min_width": null,
            "object_fit": null,
            "object_position": null,
            "order": null,
            "overflow": null,
            "overflow_x": null,
            "overflow_y": null,
            "padding": null,
            "right": null,
            "top": null,
            "visibility": null,
            "width": null
          }
        },
        "05b76930d2f045808b08632c0644b9f7": {
          "model_module": "@jupyter-widgets/base",
          "model_name": "LayoutModel",
          "model_module_version": "1.2.0",
          "state": {
            "_model_module": "@jupyter-widgets/base",
            "_model_module_version": "1.2.0",
            "_model_name": "LayoutModel",
            "_view_count": null,
            "_view_module": "@jupyter-widgets/base",
            "_view_module_version": "1.2.0",
            "_view_name": "LayoutView",
            "align_content": null,
            "align_items": null,
            "align_self": null,
            "border": null,
            "bottom": null,
            "display": null,
            "flex": null,
            "flex_flow": null,
            "grid_area": null,
            "grid_auto_columns": null,
            "grid_auto_flow": null,
            "grid_auto_rows": null,
            "grid_column": null,
            "grid_gap": null,
            "grid_row": null,
            "grid_template_areas": null,
            "grid_template_columns": null,
            "grid_template_rows": null,
            "height": null,
            "justify_content": null,
            "justify_items": null,
            "left": null,
            "margin": null,
            "max_height": null,
            "max_width": null,
            "min_height": null,
            "min_width": null,
            "object_fit": null,
            "object_position": null,
            "order": null,
            "overflow": null,
            "overflow_x": null,
            "overflow_y": null,
            "padding": null,
            "right": null,
            "top": null,
            "visibility": null,
            "width": null
          }
        },
        "da5443b41f5646efa9221c66799e612f": {
          "model_module": "@jupyter-widgets/controls",
          "model_name": "DescriptionStyleModel",
          "model_module_version": "1.5.0",
          "state": {
            "_model_module": "@jupyter-widgets/controls",
            "_model_module_version": "1.5.0",
            "_model_name": "DescriptionStyleModel",
            "_view_count": null,
            "_view_module": "@jupyter-widgets/base",
            "_view_module_version": "1.2.0",
            "_view_name": "StyleView",
            "description_width": ""
          }
        },
        "fbbeb86fa5c54b61a30ec927a678f75d": {
          "model_module": "@jupyter-widgets/base",
          "model_name": "LayoutModel",
          "model_module_version": "1.2.0",
          "state": {
            "_model_module": "@jupyter-widgets/base",
            "_model_module_version": "1.2.0",
            "_model_name": "LayoutModel",
            "_view_count": null,
            "_view_module": "@jupyter-widgets/base",
            "_view_module_version": "1.2.0",
            "_view_name": "LayoutView",
            "align_content": null,
            "align_items": null,
            "align_self": null,
            "border": null,
            "bottom": null,
            "display": null,
            "flex": null,
            "flex_flow": null,
            "grid_area": null,
            "grid_auto_columns": null,
            "grid_auto_flow": null,
            "grid_auto_rows": null,
            "grid_column": null,
            "grid_gap": null,
            "grid_row": null,
            "grid_template_areas": null,
            "grid_template_columns": null,
            "grid_template_rows": null,
            "height": null,
            "justify_content": null,
            "justify_items": null,
            "left": null,
            "margin": null,
            "max_height": null,
            "max_width": null,
            "min_height": null,
            "min_width": null,
            "object_fit": null,
            "object_position": null,
            "order": null,
            "overflow": null,
            "overflow_x": null,
            "overflow_y": null,
            "padding": null,
            "right": null,
            "top": null,
            "visibility": null,
            "width": null
          }
        },
        "8f62d8a6c2294501b94e30c22bf46968": {
          "model_module": "@jupyter-widgets/controls",
          "model_name": "ProgressStyleModel",
          "model_module_version": "1.5.0",
          "state": {
            "_model_module": "@jupyter-widgets/controls",
            "_model_module_version": "1.5.0",
            "_model_name": "ProgressStyleModel",
            "_view_count": null,
            "_view_module": "@jupyter-widgets/base",
            "_view_module_version": "1.2.0",
            "_view_name": "StyleView",
            "bar_color": null,
            "description_width": ""
          }
        },
        "92061db8aba14c6fa8a68826d5ac0c98": {
          "model_module": "@jupyter-widgets/base",
          "model_name": "LayoutModel",
          "model_module_version": "1.2.0",
          "state": {
            "_model_module": "@jupyter-widgets/base",
            "_model_module_version": "1.2.0",
            "_model_name": "LayoutModel",
            "_view_count": null,
            "_view_module": "@jupyter-widgets/base",
            "_view_module_version": "1.2.0",
            "_view_name": "LayoutView",
            "align_content": null,
            "align_items": null,
            "align_self": null,
            "border": null,
            "bottom": null,
            "display": null,
            "flex": null,
            "flex_flow": null,
            "grid_area": null,
            "grid_auto_columns": null,
            "grid_auto_flow": null,
            "grid_auto_rows": null,
            "grid_column": null,
            "grid_gap": null,
            "grid_row": null,
            "grid_template_areas": null,
            "grid_template_columns": null,
            "grid_template_rows": null,
            "height": null,
            "justify_content": null,
            "justify_items": null,
            "left": null,
            "margin": null,
            "max_height": null,
            "max_width": null,
            "min_height": null,
            "min_width": null,
            "object_fit": null,
            "object_position": null,
            "order": null,
            "overflow": null,
            "overflow_x": null,
            "overflow_y": null,
            "padding": null,
            "right": null,
            "top": null,
            "visibility": null,
            "width": null
          }
        },
        "85b10718cdab4e068774a08728750797": {
          "model_module": "@jupyter-widgets/controls",
          "model_name": "DescriptionStyleModel",
          "model_module_version": "1.5.0",
          "state": {
            "_model_module": "@jupyter-widgets/controls",
            "_model_module_version": "1.5.0",
            "_model_name": "DescriptionStyleModel",
            "_view_count": null,
            "_view_module": "@jupyter-widgets/base",
            "_view_module_version": "1.2.0",
            "_view_name": "StyleView",
            "description_width": ""
          }
        },
        "b6e708867e6a4106a288499ad4ed5bb1": {
          "model_module": "@jupyter-widgets/controls",
          "model_name": "HBoxModel",
          "model_module_version": "1.5.0",
          "state": {
            "_dom_classes": [],
            "_model_module": "@jupyter-widgets/controls",
            "_model_module_version": "1.5.0",
            "_model_name": "HBoxModel",
            "_view_count": null,
            "_view_module": "@jupyter-widgets/controls",
            "_view_module_version": "1.5.0",
            "_view_name": "HBoxView",
            "box_style": "",
            "children": [
              "IPY_MODEL_73c862e6e0a24a3f9340549a1e208287",
              "IPY_MODEL_e786ca12e8d743e9960bb0ba09efe1f0",
              "IPY_MODEL_57eb8ed00a8e495f84e4e2eaf3592fea"
            ],
            "layout": "IPY_MODEL_f382abf0d1024355918c9d56bd17fa4e"
          }
        },
        "73c862e6e0a24a3f9340549a1e208287": {
          "model_module": "@jupyter-widgets/controls",
          "model_name": "HTMLModel",
          "model_module_version": "1.5.0",
          "state": {
            "_dom_classes": [],
            "_model_module": "@jupyter-widgets/controls",
            "_model_module_version": "1.5.0",
            "_model_name": "HTMLModel",
            "_view_count": null,
            "_view_module": "@jupyter-widgets/controls",
            "_view_module_version": "1.5.0",
            "_view_name": "HTMLView",
            "description": "",
            "description_tooltip": null,
            "layout": "IPY_MODEL_1ebc822f22ea4bc59eaf35826d6a0c58",
            "placeholder": "​",
            "style": "IPY_MODEL_6fce030e71724085a6348716c597dfa1",
            "value": "Model A:   2%"
          }
        },
        "e786ca12e8d743e9960bb0ba09efe1f0": {
          "model_module": "@jupyter-widgets/controls",
          "model_name": "FloatProgressModel",
          "model_module_version": "1.5.0",
          "state": {
            "_dom_classes": [],
            "_model_module": "@jupyter-widgets/controls",
            "_model_module_version": "1.5.0",
            "_model_name": "FloatProgressModel",
            "_view_count": null,
            "_view_module": "@jupyter-widgets/controls",
            "_view_module_version": "1.5.0",
            "_view_name": "ProgressView",
            "bar_style": "",
            "description": "",
            "description_tooltip": null,
            "layout": "IPY_MODEL_e1cec163dfed4b56b7241f1dfd79ea41",
            "max": 3000,
            "min": 0,
            "orientation": "horizontal",
            "style": "IPY_MODEL_f94ed347974a4a69b266c94fea6c2b05",
            "value": 51
          }
        },
        "57eb8ed00a8e495f84e4e2eaf3592fea": {
          "model_module": "@jupyter-widgets/controls",
          "model_name": "HTMLModel",
          "model_module_version": "1.5.0",
          "state": {
            "_dom_classes": [],
            "_model_module": "@jupyter-widgets/controls",
            "_model_module_version": "1.5.0",
            "_model_name": "HTMLModel",
            "_view_count": null,
            "_view_module": "@jupyter-widgets/controls",
            "_view_module_version": "1.5.0",
            "_view_name": "HTMLView",
            "description": "",
            "description_tooltip": null,
            "layout": "IPY_MODEL_9161d2d0072645469dcba59a9382e28f",
            "placeholder": "​",
            "style": "IPY_MODEL_8389e979ca6f426080f2e6f6219fd7e8",
            "value": " 51/3000 [00:26&lt;47:31,  1.03it/s, valid_0:binary_logloss=0.04596844566323534]"
          }
        },
        "f382abf0d1024355918c9d56bd17fa4e": {
          "model_module": "@jupyter-widgets/base",
          "model_name": "LayoutModel",
          "model_module_version": "1.2.0",
          "state": {
            "_model_module": "@jupyter-widgets/base",
            "_model_module_version": "1.2.0",
            "_model_name": "LayoutModel",
            "_view_count": null,
            "_view_module": "@jupyter-widgets/base",
            "_view_module_version": "1.2.0",
            "_view_name": "LayoutView",
            "align_content": null,
            "align_items": null,
            "align_self": null,
            "border": null,
            "bottom": null,
            "display": null,
            "flex": null,
            "flex_flow": null,
            "grid_area": null,
            "grid_auto_columns": null,
            "grid_auto_flow": null,
            "grid_auto_rows": null,
            "grid_column": null,
            "grid_gap": null,
            "grid_row": null,
            "grid_template_areas": null,
            "grid_template_columns": null,
            "grid_template_rows": null,
            "height": null,
            "justify_content": null,
            "justify_items": null,
            "left": null,
            "margin": null,
            "max_height": null,
            "max_width": null,
            "min_height": null,
            "min_width": null,
            "object_fit": null,
            "object_position": null,
            "order": null,
            "overflow": null,
            "overflow_x": null,
            "overflow_y": null,
            "padding": null,
            "right": null,
            "top": null,
            "visibility": null,
            "width": null
          }
        },
        "1ebc822f22ea4bc59eaf35826d6a0c58": {
          "model_module": "@jupyter-widgets/base",
          "model_name": "LayoutModel",
          "model_module_version": "1.2.0",
          "state": {
            "_model_module": "@jupyter-widgets/base",
            "_model_module_version": "1.2.0",
            "_model_name": "LayoutModel",
            "_view_count": null,
            "_view_module": "@jupyter-widgets/base",
            "_view_module_version": "1.2.0",
            "_view_name": "LayoutView",
            "align_content": null,
            "align_items": null,
            "align_self": null,
            "border": null,
            "bottom": null,
            "display": null,
            "flex": null,
            "flex_flow": null,
            "grid_area": null,
            "grid_auto_columns": null,
            "grid_auto_flow": null,
            "grid_auto_rows": null,
            "grid_column": null,
            "grid_gap": null,
            "grid_row": null,
            "grid_template_areas": null,
            "grid_template_columns": null,
            "grid_template_rows": null,
            "height": null,
            "justify_content": null,
            "justify_items": null,
            "left": null,
            "margin": null,
            "max_height": null,
            "max_width": null,
            "min_height": null,
            "min_width": null,
            "object_fit": null,
            "object_position": null,
            "order": null,
            "overflow": null,
            "overflow_x": null,
            "overflow_y": null,
            "padding": null,
            "right": null,
            "top": null,
            "visibility": null,
            "width": null
          }
        },
        "6fce030e71724085a6348716c597dfa1": {
          "model_module": "@jupyter-widgets/controls",
          "model_name": "DescriptionStyleModel",
          "model_module_version": "1.5.0",
          "state": {
            "_model_module": "@jupyter-widgets/controls",
            "_model_module_version": "1.5.0",
            "_model_name": "DescriptionStyleModel",
            "_view_count": null,
            "_view_module": "@jupyter-widgets/base",
            "_view_module_version": "1.2.0",
            "_view_name": "StyleView",
            "description_width": ""
          }
        },
        "e1cec163dfed4b56b7241f1dfd79ea41": {
          "model_module": "@jupyter-widgets/base",
          "model_name": "LayoutModel",
          "model_module_version": "1.2.0",
          "state": {
            "_model_module": "@jupyter-widgets/base",
            "_model_module_version": "1.2.0",
            "_model_name": "LayoutModel",
            "_view_count": null,
            "_view_module": "@jupyter-widgets/base",
            "_view_module_version": "1.2.0",
            "_view_name": "LayoutView",
            "align_content": null,
            "align_items": null,
            "align_self": null,
            "border": null,
            "bottom": null,
            "display": null,
            "flex": null,
            "flex_flow": null,
            "grid_area": null,
            "grid_auto_columns": null,
            "grid_auto_flow": null,
            "grid_auto_rows": null,
            "grid_column": null,
            "grid_gap": null,
            "grid_row": null,
            "grid_template_areas": null,
            "grid_template_columns": null,
            "grid_template_rows": null,
            "height": null,
            "justify_content": null,
            "justify_items": null,
            "left": null,
            "margin": null,
            "max_height": null,
            "max_width": null,
            "min_height": null,
            "min_width": null,
            "object_fit": null,
            "object_position": null,
            "order": null,
            "overflow": null,
            "overflow_x": null,
            "overflow_y": null,
            "padding": null,
            "right": null,
            "top": null,
            "visibility": null,
            "width": null
          }
        },
        "f94ed347974a4a69b266c94fea6c2b05": {
          "model_module": "@jupyter-widgets/controls",
          "model_name": "ProgressStyleModel",
          "model_module_version": "1.5.0",
          "state": {
            "_model_module": "@jupyter-widgets/controls",
            "_model_module_version": "1.5.0",
            "_model_name": "ProgressStyleModel",
            "_view_count": null,
            "_view_module": "@jupyter-widgets/base",
            "_view_module_version": "1.2.0",
            "_view_name": "StyleView",
            "bar_color": null,
            "description_width": ""
          }
        },
        "9161d2d0072645469dcba59a9382e28f": {
          "model_module": "@jupyter-widgets/base",
          "model_name": "LayoutModel",
          "model_module_version": "1.2.0",
          "state": {
            "_model_module": "@jupyter-widgets/base",
            "_model_module_version": "1.2.0",
            "_model_name": "LayoutModel",
            "_view_count": null,
            "_view_module": "@jupyter-widgets/base",
            "_view_module_version": "1.2.0",
            "_view_name": "LayoutView",
            "align_content": null,
            "align_items": null,
            "align_self": null,
            "border": null,
            "bottom": null,
            "display": null,
            "flex": null,
            "flex_flow": null,
            "grid_area": null,
            "grid_auto_columns": null,
            "grid_auto_flow": null,
            "grid_auto_rows": null,
            "grid_column": null,
            "grid_gap": null,
            "grid_row": null,
            "grid_template_areas": null,
            "grid_template_columns": null,
            "grid_template_rows": null,
            "height": null,
            "justify_content": null,
            "justify_items": null,
            "left": null,
            "margin": null,
            "max_height": null,
            "max_width": null,
            "min_height": null,
            "min_width": null,
            "object_fit": null,
            "object_position": null,
            "order": null,
            "overflow": null,
            "overflow_x": null,
            "overflow_y": null,
            "padding": null,
            "right": null,
            "top": null,
            "visibility": null,
            "width": null
          }
        },
        "8389e979ca6f426080f2e6f6219fd7e8": {
          "model_module": "@jupyter-widgets/controls",
          "model_name": "DescriptionStyleModel",
          "model_module_version": "1.5.0",
          "state": {
            "_model_module": "@jupyter-widgets/controls",
            "_model_module_version": "1.5.0",
            "_model_name": "DescriptionStyleModel",
            "_view_count": null,
            "_view_module": "@jupyter-widgets/base",
            "_view_module_version": "1.2.0",
            "_view_name": "StyleView",
            "description_width": ""
          }
        },
        "3ec054e10edb459b9aa3a586548a024a": {
          "model_module": "@jupyter-widgets/controls",
          "model_name": "HBoxModel",
          "model_module_version": "1.5.0",
          "state": {
            "_dom_classes": [],
            "_model_module": "@jupyter-widgets/controls",
            "_model_module_version": "1.5.0",
            "_model_name": "HBoxModel",
            "_view_count": null,
            "_view_module": "@jupyter-widgets/controls",
            "_view_module_version": "1.5.0",
            "_view_name": "HBoxView",
            "box_style": "",
            "children": [
              "IPY_MODEL_f4c60e7cbcb7451f860efdf079e2b909",
              "IPY_MODEL_032b84c9902c469cabcdb4b2e87628bc",
              "IPY_MODEL_3dd0acc1cb9948faa22fdaeb063db8cc"
            ],
            "layout": "IPY_MODEL_8fd284d44536409581ffd8c5db329fee"
          }
        },
        "f4c60e7cbcb7451f860efdf079e2b909": {
          "model_module": "@jupyter-widgets/controls",
          "model_name": "HTMLModel",
          "model_module_version": "1.5.0",
          "state": {
            "_dom_classes": [],
            "_model_module": "@jupyter-widgets/controls",
            "_model_module_version": "1.5.0",
            "_model_name": "HTMLModel",
            "_view_count": null,
            "_view_module": "@jupyter-widgets/controls",
            "_view_module_version": "1.5.0",
            "_view_name": "HTMLView",
            "description": "",
            "description_tooltip": null,
            "layout": "IPY_MODEL_49366adb51ba411f87d3015f11e6ced4",
            "placeholder": "​",
            "style": "IPY_MODEL_ee4c2c61420f4637a8b0e53f36e8eb77",
            "value": "Model A:   2%"
          }
        },
        "032b84c9902c469cabcdb4b2e87628bc": {
          "model_module": "@jupyter-widgets/controls",
          "model_name": "FloatProgressModel",
          "model_module_version": "1.5.0",
          "state": {
            "_dom_classes": [],
            "_model_module": "@jupyter-widgets/controls",
            "_model_module_version": "1.5.0",
            "_model_name": "FloatProgressModel",
            "_view_count": null,
            "_view_module": "@jupyter-widgets/controls",
            "_view_module_version": "1.5.0",
            "_view_name": "ProgressView",
            "bar_style": "",
            "description": "",
            "description_tooltip": null,
            "layout": "IPY_MODEL_11aa1cc4a01e4cf8a71e83cb6cfaca9b",
            "max": 3000,
            "min": 0,
            "orientation": "horizontal",
            "style": "IPY_MODEL_7c6ffdb06d2b49d8bc2b94531740c438",
            "value": 52
          }
        },
        "3dd0acc1cb9948faa22fdaeb063db8cc": {
          "model_module": "@jupyter-widgets/controls",
          "model_name": "HTMLModel",
          "model_module_version": "1.5.0",
          "state": {
            "_dom_classes": [],
            "_model_module": "@jupyter-widgets/controls",
            "_model_module_version": "1.5.0",
            "_model_name": "HTMLModel",
            "_view_count": null,
            "_view_module": "@jupyter-widgets/controls",
            "_view_module_version": "1.5.0",
            "_view_name": "HTMLView",
            "description": "",
            "description_tooltip": null,
            "layout": "IPY_MODEL_ef408774bd3b47c9b01dabc71e316193",
            "placeholder": "​",
            "style": "IPY_MODEL_80973d83a37d40019dc5c80ec9a7b3e6",
            "value": " 52/3000 [00:26&lt;32:37,  1.51it/s, valid_0:binary_logloss=0.044053560036966366]"
          }
        },
        "8fd284d44536409581ffd8c5db329fee": {
          "model_module": "@jupyter-widgets/base",
          "model_name": "LayoutModel",
          "model_module_version": "1.2.0",
          "state": {
            "_model_module": "@jupyter-widgets/base",
            "_model_module_version": "1.2.0",
            "_model_name": "LayoutModel",
            "_view_count": null,
            "_view_module": "@jupyter-widgets/base",
            "_view_module_version": "1.2.0",
            "_view_name": "LayoutView",
            "align_content": null,
            "align_items": null,
            "align_self": null,
            "border": null,
            "bottom": null,
            "display": null,
            "flex": null,
            "flex_flow": null,
            "grid_area": null,
            "grid_auto_columns": null,
            "grid_auto_flow": null,
            "grid_auto_rows": null,
            "grid_column": null,
            "grid_gap": null,
            "grid_row": null,
            "grid_template_areas": null,
            "grid_template_columns": null,
            "grid_template_rows": null,
            "height": null,
            "justify_content": null,
            "justify_items": null,
            "left": null,
            "margin": null,
            "max_height": null,
            "max_width": null,
            "min_height": null,
            "min_width": null,
            "object_fit": null,
            "object_position": null,
            "order": null,
            "overflow": null,
            "overflow_x": null,
            "overflow_y": null,
            "padding": null,
            "right": null,
            "top": null,
            "visibility": null,
            "width": null
          }
        },
        "49366adb51ba411f87d3015f11e6ced4": {
          "model_module": "@jupyter-widgets/base",
          "model_name": "LayoutModel",
          "model_module_version": "1.2.0",
          "state": {
            "_model_module": "@jupyter-widgets/base",
            "_model_module_version": "1.2.0",
            "_model_name": "LayoutModel",
            "_view_count": null,
            "_view_module": "@jupyter-widgets/base",
            "_view_module_version": "1.2.0",
            "_view_name": "LayoutView",
            "align_content": null,
            "align_items": null,
            "align_self": null,
            "border": null,
            "bottom": null,
            "display": null,
            "flex": null,
            "flex_flow": null,
            "grid_area": null,
            "grid_auto_columns": null,
            "grid_auto_flow": null,
            "grid_auto_rows": null,
            "grid_column": null,
            "grid_gap": null,
            "grid_row": null,
            "grid_template_areas": null,
            "grid_template_columns": null,
            "grid_template_rows": null,
            "height": null,
            "justify_content": null,
            "justify_items": null,
            "left": null,
            "margin": null,
            "max_height": null,
            "max_width": null,
            "min_height": null,
            "min_width": null,
            "object_fit": null,
            "object_position": null,
            "order": null,
            "overflow": null,
            "overflow_x": null,
            "overflow_y": null,
            "padding": null,
            "right": null,
            "top": null,
            "visibility": null,
            "width": null
          }
        },
        "ee4c2c61420f4637a8b0e53f36e8eb77": {
          "model_module": "@jupyter-widgets/controls",
          "model_name": "DescriptionStyleModel",
          "model_module_version": "1.5.0",
          "state": {
            "_model_module": "@jupyter-widgets/controls",
            "_model_module_version": "1.5.0",
            "_model_name": "DescriptionStyleModel",
            "_view_count": null,
            "_view_module": "@jupyter-widgets/base",
            "_view_module_version": "1.2.0",
            "_view_name": "StyleView",
            "description_width": ""
          }
        },
        "11aa1cc4a01e4cf8a71e83cb6cfaca9b": {
          "model_module": "@jupyter-widgets/base",
          "model_name": "LayoutModel",
          "model_module_version": "1.2.0",
          "state": {
            "_model_module": "@jupyter-widgets/base",
            "_model_module_version": "1.2.0",
            "_model_name": "LayoutModel",
            "_view_count": null,
            "_view_module": "@jupyter-widgets/base",
            "_view_module_version": "1.2.0",
            "_view_name": "LayoutView",
            "align_content": null,
            "align_items": null,
            "align_self": null,
            "border": null,
            "bottom": null,
            "display": null,
            "flex": null,
            "flex_flow": null,
            "grid_area": null,
            "grid_auto_columns": null,
            "grid_auto_flow": null,
            "grid_auto_rows": null,
            "grid_column": null,
            "grid_gap": null,
            "grid_row": null,
            "grid_template_areas": null,
            "grid_template_columns": null,
            "grid_template_rows": null,
            "height": null,
            "justify_content": null,
            "justify_items": null,
            "left": null,
            "margin": null,
            "max_height": null,
            "max_width": null,
            "min_height": null,
            "min_width": null,
            "object_fit": null,
            "object_position": null,
            "order": null,
            "overflow": null,
            "overflow_x": null,
            "overflow_y": null,
            "padding": null,
            "right": null,
            "top": null,
            "visibility": null,
            "width": null
          }
        },
        "7c6ffdb06d2b49d8bc2b94531740c438": {
          "model_module": "@jupyter-widgets/controls",
          "model_name": "ProgressStyleModel",
          "model_module_version": "1.5.0",
          "state": {
            "_model_module": "@jupyter-widgets/controls",
            "_model_module_version": "1.5.0",
            "_model_name": "ProgressStyleModel",
            "_view_count": null,
            "_view_module": "@jupyter-widgets/base",
            "_view_module_version": "1.2.0",
            "_view_name": "StyleView",
            "bar_color": null,
            "description_width": ""
          }
        },
        "ef408774bd3b47c9b01dabc71e316193": {
          "model_module": "@jupyter-widgets/base",
          "model_name": "LayoutModel",
          "model_module_version": "1.2.0",
          "state": {
            "_model_module": "@jupyter-widgets/base",
            "_model_module_version": "1.2.0",
            "_model_name": "LayoutModel",
            "_view_count": null,
            "_view_module": "@jupyter-widgets/base",
            "_view_module_version": "1.2.0",
            "_view_name": "LayoutView",
            "align_content": null,
            "align_items": null,
            "align_self": null,
            "border": null,
            "bottom": null,
            "display": null,
            "flex": null,
            "flex_flow": null,
            "grid_area": null,
            "grid_auto_columns": null,
            "grid_auto_flow": null,
            "grid_auto_rows": null,
            "grid_column": null,
            "grid_gap": null,
            "grid_row": null,
            "grid_template_areas": null,
            "grid_template_columns": null,
            "grid_template_rows": null,
            "height": null,
            "justify_content": null,
            "justify_items": null,
            "left": null,
            "margin": null,
            "max_height": null,
            "max_width": null,
            "min_height": null,
            "min_width": null,
            "object_fit": null,
            "object_position": null,
            "order": null,
            "overflow": null,
            "overflow_x": null,
            "overflow_y": null,
            "padding": null,
            "right": null,
            "top": null,
            "visibility": null,
            "width": null
          }
        },
        "80973d83a37d40019dc5c80ec9a7b3e6": {
          "model_module": "@jupyter-widgets/controls",
          "model_name": "DescriptionStyleModel",
          "model_module_version": "1.5.0",
          "state": {
            "_model_module": "@jupyter-widgets/controls",
            "_model_module_version": "1.5.0",
            "_model_name": "DescriptionStyleModel",
            "_view_count": null,
            "_view_module": "@jupyter-widgets/base",
            "_view_module_version": "1.2.0",
            "_view_name": "StyleView",
            "description_width": ""
          }
        }
      }
    }
  },
  "cells": [
    {
      "cell_type": "markdown",
      "metadata": {
        "id": "view-in-github",
        "colab_type": "text"
      },
      "source": [
        "<a href=\"https://colab.research.google.com/github/aruaru0/Foursquare-Location-Matching/blob/main/train_lightgbm.ipynb\" target=\"_parent\"><img src=\"https://colab.research.google.com/assets/colab-badge.svg\" alt=\"Open In Colab\"/></a>"
      ]
    },
    {
      "cell_type": "code",
      "execution_count": 1,
      "metadata": {
        "id": "DxBLBLmUkP_t"
      },
      "outputs": [],
      "source": [
        "!mkdir -p ~/.kaggle\n",
        "!cp /content/drive/MyDrive/datas/kaggle.json  ~/.kaggle/"
      ]
    },
    {
      "cell_type": "code",
      "source": [
        " "
      ],
      "metadata": {
        "colab": {
          "base_uri": "https://localhost:8080/"
        },
        "id": "QwCQvrc1Fex5",
        "outputId": "af6a3de0-6053-4dbc-fd76-687a4a872162"
      },
      "execution_count": 2,
      "outputs": [
        {
          "output_type": "stream",
          "name": "stdout",
          "text": [
            "Looking in indexes: https://pypi.org/simple, https://us-python.pkg.dev/colab-wheels/public/simple/\n",
            "Collecting lightgbm==3.3.1\n",
            "  Downloading lightgbm-3.3.1-py3-none-manylinux1_x86_64.whl (2.0 MB)\n",
            "\u001b[K     |████████████████████████████████| 2.0 MB 5.1 MB/s \n",
            "\u001b[?25hRequirement already satisfied: scipy in /usr/local/lib/python3.7/dist-packages (from lightgbm==3.3.1) (1.4.1)\n",
            "Requirement already satisfied: numpy in /usr/local/lib/python3.7/dist-packages (from lightgbm==3.3.1) (1.21.6)\n",
            "Requirement already satisfied: scikit-learn!=0.22.0 in /usr/local/lib/python3.7/dist-packages (from lightgbm==3.3.1) (1.0.2)\n",
            "Requirement already satisfied: wheel in /usr/local/lib/python3.7/dist-packages (from lightgbm==3.3.1) (0.37.1)\n",
            "Requirement already satisfied: threadpoolctl>=2.0.0 in /usr/local/lib/python3.7/dist-packages (from scikit-learn!=0.22.0->lightgbm==3.3.1) (3.1.0)\n",
            "Requirement already satisfied: joblib>=0.11 in /usr/local/lib/python3.7/dist-packages (from scikit-learn!=0.22.0->lightgbm==3.3.1) (1.1.0)\n",
            "Installing collected packages: lightgbm\n",
            "  Attempting uninstall: lightgbm\n",
            "    Found existing installation: lightgbm 2.2.3\n",
            "    Uninstalling lightgbm-2.2.3:\n",
            "      Successfully uninstalled lightgbm-2.2.3\n",
            "Successfully installed lightgbm-3.3.1\n"
          ]
        }
      ]
    },
    {
      "cell_type": "code",
      "source": [
        "!pip show lightgbm"
      ],
      "metadata": {
        "colab": {
          "base_uri": "https://localhost:8080/"
        },
        "id": "-UVCmRwCGFsy",
        "outputId": "ed953004-c42b-483d-c76a-4541773f80e0"
      },
      "execution_count": 3,
      "outputs": [
        {
          "output_type": "stream",
          "name": "stdout",
          "text": [
            "Name: lightgbm\n",
            "Version: 3.3.1\n",
            "Summary: LightGBM Python Package\n",
            "Home-page: https://github.com/microsoft/LightGBM\n",
            "Author: None\n",
            "Author-email: None\n",
            "License: The MIT License (Microsoft)\n",
            "Location: /usr/local/lib/python3.7/dist-packages\n",
            "Requires: scipy, numpy, scikit-learn, wheel\n",
            "Required-by: \n"
          ]
        }
      ]
    },
    {
      "cell_type": "code",
      "source": [
        "!pip install kaggle\n",
        "!apt install unzip"
      ],
      "metadata": {
        "colab": {
          "base_uri": "https://localhost:8080/"
        },
        "id": "I47Bx_hOkX5W",
        "outputId": "d9d2ab20-f4a9-47be-a97c-eb3dd6ebac21"
      },
      "execution_count": 4,
      "outputs": [
        {
          "output_type": "stream",
          "name": "stdout",
          "text": [
            "Looking in indexes: https://pypi.org/simple, https://us-python.pkg.dev/colab-wheels/public/simple/\n",
            "Requirement already satisfied: kaggle in /usr/local/lib/python3.7/dist-packages (1.5.12)\n",
            "Requirement already satisfied: certifi in /usr/local/lib/python3.7/dist-packages (from kaggle) (2022.5.18.1)\n",
            "Requirement already satisfied: tqdm in /usr/local/lib/python3.7/dist-packages (from kaggle) (4.64.0)\n",
            "Requirement already satisfied: urllib3 in /usr/local/lib/python3.7/dist-packages (from kaggle) (1.24.3)\n",
            "Requirement already satisfied: python-dateutil in /usr/local/lib/python3.7/dist-packages (from kaggle) (2.8.2)\n",
            "Requirement already satisfied: six>=1.10 in /usr/local/lib/python3.7/dist-packages (from kaggle) (1.15.0)\n",
            "Requirement already satisfied: python-slugify in /usr/local/lib/python3.7/dist-packages (from kaggle) (6.1.2)\n",
            "Requirement already satisfied: requests in /usr/local/lib/python3.7/dist-packages (from kaggle) (2.23.0)\n",
            "Requirement already satisfied: text-unidecode>=1.3 in /usr/local/lib/python3.7/dist-packages (from python-slugify->kaggle) (1.3)\n",
            "Requirement already satisfied: chardet<4,>=3.0.2 in /usr/local/lib/python3.7/dist-packages (from requests->kaggle) (3.0.4)\n",
            "Requirement already satisfied: idna<3,>=2.5 in /usr/local/lib/python3.7/dist-packages (from requests->kaggle) (2.10)\n",
            "Reading package lists... Done\n",
            "Building dependency tree       \n",
            "Reading state information... Done\n",
            "unzip is already the newest version (6.0-21ubuntu1.1).\n",
            "The following package was automatically installed and is no longer required:\n",
            "  libnvidia-common-460\n",
            "Use 'apt autoremove' to remove it.\n",
            "0 upgraded, 0 newly installed, 0 to remove and 45 not upgraded.\n"
          ]
        }
      ]
    },
    {
      "cell_type": "code",
      "source": [
        "!chmod 600 /root/.kaggle/kaggle.json"
      ],
      "metadata": {
        "id": "uAY38Z8gkbF_"
      },
      "execution_count": 5,
      "outputs": []
    },
    {
      "cell_type": "code",
      "source": [
        "!mkdir input output"
      ],
      "metadata": {
        "id": "hBMhRkcBk5bX"
      },
      "execution_count": 6,
      "outputs": []
    },
    {
      "cell_type": "code",
      "source": [
        "!kaggle competitions download -c foursquare-location-matching"
      ],
      "metadata": {
        "colab": {
          "base_uri": "https://localhost:8080/"
        },
        "id": "93chQnMHkd9N",
        "outputId": "89daae35-ee00-4d98-e64d-baac0d1e0af1"
      },
      "execution_count": 7,
      "outputs": [
        {
          "output_type": "stream",
          "name": "stdout",
          "text": [
            "Downloading foursquare-location-matching.zip to /content\n",
            " 93% 147M/159M [00:01<00:00, 103MB/s] \n",
            "100% 159M/159M [00:01<00:00, 99.8MB/s]\n"
          ]
        }
      ]
    },
    {
      "cell_type": "code",
      "source": [
        "!unzip foursquare-location-matching.zip -d input/foursquare-location-matching"
      ],
      "metadata": {
        "colab": {
          "base_uri": "https://localhost:8080/"
        },
        "id": "awKrfnimkkK-",
        "outputId": "c0c20045-d3d7-40e8-b52e-df9dfe50fd56"
      },
      "execution_count": 8,
      "outputs": [
        {
          "output_type": "stream",
          "name": "stdout",
          "text": [
            "Archive:  foursquare-location-matching.zip\n",
            "  inflating: input/foursquare-location-matching/pairs.csv  \n",
            "  inflating: input/foursquare-location-matching/sample_submission.csv  \n",
            "  inflating: input/foursquare-location-matching/test.csv  \n",
            "  inflating: input/foursquare-location-matching/train.csv  \n"
          ]
        }
      ]
    },
    {
      "cell_type": "code",
      "source": [
        "#!kaggle kernels output aruaru0/training-data-for-binary-lgb-baseline-0-834 -p ./input/train_data"
      ],
      "metadata": {
        "id": "BLahOGiplAJO"
      },
      "execution_count": 9,
      "outputs": []
    },
    {
      "cell_type": "code",
      "source": [
        "# !pip uninstall --yes lightgbm && pip install --install-option=--gpu lightgbm\n",
        "!pip install optuna"
      ],
      "metadata": {
        "id": "zJwmq4YBSj1F",
        "colab": {
          "base_uri": "https://localhost:8080/"
        },
        "outputId": "03f8dba3-5fec-42fd-b5e7-65aff9c48c82"
      },
      "execution_count": 10,
      "outputs": [
        {
          "output_type": "stream",
          "name": "stdout",
          "text": [
            "Looking in indexes: https://pypi.org/simple, https://us-python.pkg.dev/colab-wheels/public/simple/\n",
            "Collecting optuna\n",
            "  Downloading optuna-2.10.1-py3-none-any.whl (308 kB)\n",
            "\u001b[K     |████████████████████████████████| 308 kB 5.0 MB/s \n",
            "\u001b[?25hCollecting colorlog\n",
            "  Downloading colorlog-6.6.0-py2.py3-none-any.whl (11 kB)\n",
            "Collecting cliff\n",
            "  Downloading cliff-3.10.1-py3-none-any.whl (81 kB)\n",
            "\u001b[K     |████████████████████████████████| 81 kB 10.5 MB/s \n",
            "\u001b[?25hCollecting alembic\n",
            "  Downloading alembic-1.8.0-py3-none-any.whl (209 kB)\n",
            "\u001b[K     |████████████████████████████████| 209 kB 103.6 MB/s \n",
            "\u001b[?25hRequirement already satisfied: packaging>=20.0 in /usr/local/lib/python3.7/dist-packages (from optuna) (21.3)\n",
            "Requirement already satisfied: tqdm in /usr/local/lib/python3.7/dist-packages (from optuna) (4.64.0)\n",
            "Collecting cmaes>=0.8.2\n",
            "  Downloading cmaes-0.8.2-py3-none-any.whl (15 kB)\n",
            "Requirement already satisfied: sqlalchemy>=1.1.0 in /usr/local/lib/python3.7/dist-packages (from optuna) (1.4.37)\n",
            "Requirement already satisfied: numpy in /usr/local/lib/python3.7/dist-packages (from optuna) (1.21.6)\n",
            "Requirement already satisfied: scipy!=1.4.0 in /usr/local/lib/python3.7/dist-packages (from optuna) (1.4.1)\n",
            "Requirement already satisfied: PyYAML in /usr/local/lib/python3.7/dist-packages (from optuna) (3.13)\n",
            "Requirement already satisfied: pyparsing!=3.0.5,>=2.0.2 in /usr/local/lib/python3.7/dist-packages (from packaging>=20.0->optuna) (3.0.9)\n",
            "Requirement already satisfied: importlib-metadata in /usr/local/lib/python3.7/dist-packages (from sqlalchemy>=1.1.0->optuna) (4.11.4)\n",
            "Requirement already satisfied: greenlet!=0.4.17 in /usr/local/lib/python3.7/dist-packages (from sqlalchemy>=1.1.0->optuna) (1.1.2)\n",
            "Collecting Mako\n",
            "  Downloading Mako-1.2.0-py3-none-any.whl (78 kB)\n",
            "\u001b[K     |████████████████████████████████| 78 kB 8.0 MB/s \n",
            "\u001b[?25hRequirement already satisfied: importlib-resources in /usr/local/lib/python3.7/dist-packages (from alembic->optuna) (5.7.1)\n",
            "Collecting stevedore>=2.0.1\n",
            "  Downloading stevedore-3.5.0-py3-none-any.whl (49 kB)\n",
            "\u001b[K     |████████████████████████████████| 49 kB 6.9 MB/s \n",
            "\u001b[?25hCollecting pbr!=2.1.0,>=2.0.0\n",
            "  Downloading pbr-5.9.0-py2.py3-none-any.whl (112 kB)\n",
            "\u001b[K     |████████████████████████████████| 112 kB 90.9 MB/s \n",
            "\u001b[?25hCollecting cmd2>=1.0.0\n",
            "  Downloading cmd2-2.4.1-py3-none-any.whl (146 kB)\n",
            "\u001b[K     |████████████████████████████████| 146 kB 90.6 MB/s \n",
            "\u001b[?25hCollecting autopage>=0.4.0\n",
            "  Downloading autopage-0.5.1-py3-none-any.whl (29 kB)\n",
            "Requirement already satisfied: PrettyTable>=0.7.2 in /usr/local/lib/python3.7/dist-packages (from cliff->optuna) (3.3.0)\n",
            "Requirement already satisfied: typing-extensions in /usr/local/lib/python3.7/dist-packages (from cmd2>=1.0.0->cliff->optuna) (4.2.0)\n",
            "Collecting pyperclip>=1.6\n",
            "  Downloading pyperclip-1.8.2.tar.gz (20 kB)\n",
            "Requirement already satisfied: wcwidth>=0.1.7 in /usr/local/lib/python3.7/dist-packages (from cmd2>=1.0.0->cliff->optuna) (0.2.5)\n",
            "Requirement already satisfied: attrs>=16.3.0 in /usr/local/lib/python3.7/dist-packages (from cmd2>=1.0.0->cliff->optuna) (21.4.0)\n",
            "Requirement already satisfied: zipp>=0.5 in /usr/local/lib/python3.7/dist-packages (from importlib-metadata->sqlalchemy>=1.1.0->optuna) (3.8.0)\n",
            "Requirement already satisfied: MarkupSafe>=0.9.2 in /usr/local/lib/python3.7/dist-packages (from Mako->alembic->optuna) (2.0.1)\n",
            "Building wheels for collected packages: pyperclip\n",
            "  Building wheel for pyperclip (setup.py) ... \u001b[?25l\u001b[?25hdone\n",
            "  Created wheel for pyperclip: filename=pyperclip-1.8.2-py3-none-any.whl size=11137 sha256=e6c3747c2672172b8de2a1458f2b69539d4d32dd8e29ed193425914c9f8a5ad4\n",
            "  Stored in directory: /root/.cache/pip/wheels/9f/18/84/8f69f8b08169c7bae2dde6bd7daf0c19fca8c8e500ee620a28\n",
            "Successfully built pyperclip\n",
            "Installing collected packages: pyperclip, pbr, stevedore, Mako, cmd2, autopage, colorlog, cmaes, cliff, alembic, optuna\n",
            "Successfully installed Mako-1.2.0 alembic-1.8.0 autopage-0.5.1 cliff-3.10.1 cmaes-0.8.2 cmd2-2.4.1 colorlog-6.6.0 optuna-2.10.1 pbr-5.9.0 pyperclip-1.8.2 stevedore-3.5.0\n"
          ]
        }
      ]
    },
    {
      "cell_type": "markdown",
      "source": [
        "## lightgbm"
      ],
      "metadata": {
        "id": "2B6dHiuFl_VT"
      }
    },
    {
      "cell_type": "code",
      "source": [
        "import lightgbm as lgb\n",
        "\n",
        "import numpy as np\n",
        "import pandas as pd\n",
        "from sklearn.metrics import accuracy_score\n",
        "from sklearn.metrics import confusion_matrix\n",
        "from sklearn.utils.class_weight import compute_sample_weight\n",
        "import seaborn as sns\n",
        "import pickle\n",
        "import gc"
      ],
      "metadata": {
        "id": "D3PGkjWZluzL"
      },
      "execution_count": 2,
      "outputs": []
    },
    {
      "cell_type": "code",
      "source": [
        "class CFG:\n",
        "    seed = 46\n",
        "    target = \"point_of_interest\"\n",
        "    n_splits = 3\n",
        "\n",
        "    n_neighbors = 25\n",
        "    is_debug = False\n",
        "\n",
        "    model_path = '/content/drive/MyDrive/datas/foursquare'"
      ],
      "metadata": {
        "id": "rDIoATQ8vQl0"
      },
      "execution_count": 3,
      "outputs": []
    },
    {
      "cell_type": "code",
      "source": [
        "def reduce_memory(df):\n",
        "    for col in df.columns:\n",
        "        col_type = df[col].dtypes\n",
        "        if col_type != object:\n",
        "            cmin = df[col].min()\n",
        "            cmax = df[col].max()\n",
        "            if str(col_type)[:3] == 'int':\n",
        "                if cmin > np.iinfo(np.int8).min and cmax < np.iinfo(np.int8).max:\n",
        "                    df[col] = df[col].astype(np.int8)\n",
        "                elif cmin > np.iinfo(np.int16).min and cmax < np.iinfo(np.int16).max:\n",
        "                    df[col] = df[col].astype(np.int16)\n",
        "                elif cmin > np.iinfo(np.int32).min and cmax < np.iinfo(np.int32).max:\n",
        "                    df[col] = df[col].astype(np.int32)\n",
        "                elif cmin > np.iinfo(np.int64).min and cmax < np.iinfo(np.int64).max:\n",
        "                    df[col] = df[col].astype(np.int64)\n",
        "            else:\n",
        "                if cmin > np.finfo(np.float16).min and cmax < np.finfo(np.float16).max:\n",
        "                    df[col] = df[col].astype(np.float16)\n",
        "                elif cmin > np.finfo(np.float32).min and cmax < np.finfo(np.float32).max:\n",
        "                    df[col] = df[col].astype(np.float32)\n",
        "                else:\n",
        "                    df[col] = df[col].astype(np.float64)\n",
        "    return df"
      ],
      "metadata": {
        "id": "_4pl7jRuyxMG"
      },
      "execution_count": 4,
      "outputs": []
    },
    {
      "cell_type": "code",
      "source": [
        "df1 = reduce_memory(pd.read_csv('/content/drive/MyDrive/datas/foursquare/traindata/train_data1.csv'))\n",
        "df2 = reduce_memory(pd.read_csv('/content/drive/MyDrive/datas/foursquare/traindata/train_data2.csv'))\n",
        "df3 = reduce_memory(pd.read_csv('/content/drive/MyDrive/datas/foursquare/traindata/train_data3.csv'))\n",
        "df4 = reduce_memory(pd.read_csv('/content/drive/MyDrive/datas/foursquare/traindata/train_data4.csv'))\n",
        "df5 = reduce_memory(pd.read_csv('/content/drive/MyDrive/datas/foursquare/traindata/train_data5.csv'))"
      ],
      "metadata": {
        "id": "pcLrde5Ht-Eg"
      },
      "execution_count": 5,
      "outputs": []
    },
    {
      "cell_type": "code",
      "source": [
        "from sklearn.model_selection import GroupKFold, KFold, StratifiedKFold\n",
        "from tqdm import tqdm\n",
        "\n",
        "def add_fold(df) :\n",
        "  kf = StratifiedKFold(n_splits=CFG.n_splits, shuffle=True, random_state=CFG.seed)\n",
        "  for i, (trn_idx, val_idx) in tqdm(enumerate(kf.split(df, df[\"label\"], df[\"label\"]))):\n",
        "      df.loc[val_idx, \"fold\"] = i\n",
        "  return df\n"
      ],
      "metadata": {
        "id": "ysGK0qFX9LIH"
      },
      "execution_count": 6,
      "outputs": []
    },
    {
      "cell_type": "code",
      "source": [
        "df1 = add_fold(df1)\n",
        "df2 = add_fold(df2)\n",
        "df3 = add_fold(df3)\n",
        "df4 = add_fold(df4)\n",
        "df5 = add_fold(df5)"
      ],
      "metadata": {
        "colab": {
          "base_uri": "https://localhost:8080/"
        },
        "id": "sMryFBIk9YiG",
        "outputId": "d396875b-bc53-4a7d-c814-9256ef430911"
      },
      "execution_count": 7,
      "outputs": [
        {
          "output_type": "stream",
          "name": "stderr",
          "text": [
            "3it [00:01,  1.98it/s]\n",
            "3it [00:01,  2.00it/s]\n",
            "3it [00:01,  2.01it/s]\n",
            "3it [00:01,  2.08it/s]\n",
            "3it [00:01,  2.07it/s]\n"
          ]
        }
      ]
    },
    {
      "cell_type": "code",
      "source": [
        "train = pd.concat([df1,df2,df3,df4,df5])\n",
        "train = train.reset_index(drop=True)"
      ],
      "metadata": {
        "id": "xpe9ZFsO1BKx"
      },
      "execution_count": 8,
      "outputs": []
    },
    {
      "cell_type": "code",
      "source": [
        "train.head()"
      ],
      "metadata": {
        "colab": {
          "base_uri": "https://localhost:8080/",
          "height": 299
        },
        "id": "h_c5Guem8XVC",
        "outputId": "a9c0ac45-e553-49f8-ea4d-cd8e9b002f57"
      },
      "execution_count": 9,
      "outputs": [
        {
          "output_type": "execute_result",
          "data": {
            "text/plain": [
              "                 id          match_id  kdist  kneighbors  kdist_country  \\\n",
              "0  E_000001272c6c5d  E_000001272c6c5d    0.0         0.0            0.0   \n",
              "1  E_00009ab517afac  E_00009ab517afac    0.0         0.0            0.0   \n",
              "2  E_0000c362229d93  E_0000c362229d93    0.0         0.0            0.0   \n",
              "3  E_0000c566a81ea1  E_0000c566a81ea1    0.0         0.0            0.0   \n",
              "4  E_0000d9e584ed9f  E_0000d9e584ed9f    0.0         0.0            0.0   \n",
              "\n",
              "   kneighbors_country  label  latdiff  londiff  manhattan  ...  country_sim  \\\n",
              "0                 0.0      1      0.0      0.0        0.0  ...          1.0   \n",
              "1                 0.0      1      0.0      0.0        0.0  ...          1.0   \n",
              "2                 0.0      1      0.0      0.0        0.0  ...          1.0   \n",
              "3                 0.0      1      0.0      0.0        0.0  ...          1.0   \n",
              "4                 0.0      1      0.0      0.0        0.0  ...          1.0   \n",
              "\n",
              "   country_gesh  country_leven  country_jaro  country_lcs  country_len_diff  \\\n",
              "0           1.0            0.0           1.0          2.0               0.0   \n",
              "1           1.0            0.0           1.0          2.0               0.0   \n",
              "2           1.0            0.0           1.0          2.0               0.0   \n",
              "3           1.0            0.0           1.0          2.0               0.0   \n",
              "4           1.0            0.0           1.0          2.0               0.0   \n",
              "\n",
              "   country_nleven  country_nlcsk  country_nlcs  fold  \n",
              "0             0.0            1.0           1.0   1.0  \n",
              "1             0.0            1.0           1.0   1.0  \n",
              "2             0.0            1.0           1.0   1.0  \n",
              "3             0.0            1.0           1.0   1.0  \n",
              "4             0.0            1.0           1.0   1.0  \n",
              "\n",
              "[5 rows x 83 columns]"
            ],
            "text/html": [
              "\n",
              "  <div id=\"df-73802940-0a86-4f9f-848d-78764854bb3d\">\n",
              "    <div class=\"colab-df-container\">\n",
              "      <div>\n",
              "<style scoped>\n",
              "    .dataframe tbody tr th:only-of-type {\n",
              "        vertical-align: middle;\n",
              "    }\n",
              "\n",
              "    .dataframe tbody tr th {\n",
              "        vertical-align: top;\n",
              "    }\n",
              "\n",
              "    .dataframe thead th {\n",
              "        text-align: right;\n",
              "    }\n",
              "</style>\n",
              "<table border=\"1\" class=\"dataframe\">\n",
              "  <thead>\n",
              "    <tr style=\"text-align: right;\">\n",
              "      <th></th>\n",
              "      <th>id</th>\n",
              "      <th>match_id</th>\n",
              "      <th>kdist</th>\n",
              "      <th>kneighbors</th>\n",
              "      <th>kdist_country</th>\n",
              "      <th>kneighbors_country</th>\n",
              "      <th>label</th>\n",
              "      <th>latdiff</th>\n",
              "      <th>londiff</th>\n",
              "      <th>manhattan</th>\n",
              "      <th>...</th>\n",
              "      <th>country_sim</th>\n",
              "      <th>country_gesh</th>\n",
              "      <th>country_leven</th>\n",
              "      <th>country_jaro</th>\n",
              "      <th>country_lcs</th>\n",
              "      <th>country_len_diff</th>\n",
              "      <th>country_nleven</th>\n",
              "      <th>country_nlcsk</th>\n",
              "      <th>country_nlcs</th>\n",
              "      <th>fold</th>\n",
              "    </tr>\n",
              "  </thead>\n",
              "  <tbody>\n",
              "    <tr>\n",
              "      <th>0</th>\n",
              "      <td>E_000001272c6c5d</td>\n",
              "      <td>E_000001272c6c5d</td>\n",
              "      <td>0.0</td>\n",
              "      <td>0.0</td>\n",
              "      <td>0.0</td>\n",
              "      <td>0.0</td>\n",
              "      <td>1</td>\n",
              "      <td>0.0</td>\n",
              "      <td>0.0</td>\n",
              "      <td>0.0</td>\n",
              "      <td>...</td>\n",
              "      <td>1.0</td>\n",
              "      <td>1.0</td>\n",
              "      <td>0.0</td>\n",
              "      <td>1.0</td>\n",
              "      <td>2.0</td>\n",
              "      <td>0.0</td>\n",
              "      <td>0.0</td>\n",
              "      <td>1.0</td>\n",
              "      <td>1.0</td>\n",
              "      <td>1.0</td>\n",
              "    </tr>\n",
              "    <tr>\n",
              "      <th>1</th>\n",
              "      <td>E_00009ab517afac</td>\n",
              "      <td>E_00009ab517afac</td>\n",
              "      <td>0.0</td>\n",
              "      <td>0.0</td>\n",
              "      <td>0.0</td>\n",
              "      <td>0.0</td>\n",
              "      <td>1</td>\n",
              "      <td>0.0</td>\n",
              "      <td>0.0</td>\n",
              "      <td>0.0</td>\n",
              "      <td>...</td>\n",
              "      <td>1.0</td>\n",
              "      <td>1.0</td>\n",
              "      <td>0.0</td>\n",
              "      <td>1.0</td>\n",
              "      <td>2.0</td>\n",
              "      <td>0.0</td>\n",
              "      <td>0.0</td>\n",
              "      <td>1.0</td>\n",
              "      <td>1.0</td>\n",
              "      <td>1.0</td>\n",
              "    </tr>\n",
              "    <tr>\n",
              "      <th>2</th>\n",
              "      <td>E_0000c362229d93</td>\n",
              "      <td>E_0000c362229d93</td>\n",
              "      <td>0.0</td>\n",
              "      <td>0.0</td>\n",
              "      <td>0.0</td>\n",
              "      <td>0.0</td>\n",
              "      <td>1</td>\n",
              "      <td>0.0</td>\n",
              "      <td>0.0</td>\n",
              "      <td>0.0</td>\n",
              "      <td>...</td>\n",
              "      <td>1.0</td>\n",
              "      <td>1.0</td>\n",
              "      <td>0.0</td>\n",
              "      <td>1.0</td>\n",
              "      <td>2.0</td>\n",
              "      <td>0.0</td>\n",
              "      <td>0.0</td>\n",
              "      <td>1.0</td>\n",
              "      <td>1.0</td>\n",
              "      <td>1.0</td>\n",
              "    </tr>\n",
              "    <tr>\n",
              "      <th>3</th>\n",
              "      <td>E_0000c566a81ea1</td>\n",
              "      <td>E_0000c566a81ea1</td>\n",
              "      <td>0.0</td>\n",
              "      <td>0.0</td>\n",
              "      <td>0.0</td>\n",
              "      <td>0.0</td>\n",
              "      <td>1</td>\n",
              "      <td>0.0</td>\n",
              "      <td>0.0</td>\n",
              "      <td>0.0</td>\n",
              "      <td>...</td>\n",
              "      <td>1.0</td>\n",
              "      <td>1.0</td>\n",
              "      <td>0.0</td>\n",
              "      <td>1.0</td>\n",
              "      <td>2.0</td>\n",
              "      <td>0.0</td>\n",
              "      <td>0.0</td>\n",
              "      <td>1.0</td>\n",
              "      <td>1.0</td>\n",
              "      <td>1.0</td>\n",
              "    </tr>\n",
              "    <tr>\n",
              "      <th>4</th>\n",
              "      <td>E_0000d9e584ed9f</td>\n",
              "      <td>E_0000d9e584ed9f</td>\n",
              "      <td>0.0</td>\n",
              "      <td>0.0</td>\n",
              "      <td>0.0</td>\n",
              "      <td>0.0</td>\n",
              "      <td>1</td>\n",
              "      <td>0.0</td>\n",
              "      <td>0.0</td>\n",
              "      <td>0.0</td>\n",
              "      <td>...</td>\n",
              "      <td>1.0</td>\n",
              "      <td>1.0</td>\n",
              "      <td>0.0</td>\n",
              "      <td>1.0</td>\n",
              "      <td>2.0</td>\n",
              "      <td>0.0</td>\n",
              "      <td>0.0</td>\n",
              "      <td>1.0</td>\n",
              "      <td>1.0</td>\n",
              "      <td>1.0</td>\n",
              "    </tr>\n",
              "  </tbody>\n",
              "</table>\n",
              "<p>5 rows × 83 columns</p>\n",
              "</div>\n",
              "      <button class=\"colab-df-convert\" onclick=\"convertToInteractive('df-73802940-0a86-4f9f-848d-78764854bb3d')\"\n",
              "              title=\"Convert this dataframe to an interactive table.\"\n",
              "              style=\"display:none;\">\n",
              "        \n",
              "  <svg xmlns=\"http://www.w3.org/2000/svg\" height=\"24px\"viewBox=\"0 0 24 24\"\n",
              "       width=\"24px\">\n",
              "    <path d=\"M0 0h24v24H0V0z\" fill=\"none\"/>\n",
              "    <path d=\"M18.56 5.44l.94 2.06.94-2.06 2.06-.94-2.06-.94-.94-2.06-.94 2.06-2.06.94zm-11 1L8.5 8.5l.94-2.06 2.06-.94-2.06-.94L8.5 2.5l-.94 2.06-2.06.94zm10 10l.94 2.06.94-2.06 2.06-.94-2.06-.94-.94-2.06-.94 2.06-2.06.94z\"/><path d=\"M17.41 7.96l-1.37-1.37c-.4-.4-.92-.59-1.43-.59-.52 0-1.04.2-1.43.59L10.3 9.45l-7.72 7.72c-.78.78-.78 2.05 0 2.83L4 21.41c.39.39.9.59 1.41.59.51 0 1.02-.2 1.41-.59l7.78-7.78 2.81-2.81c.8-.78.8-2.07 0-2.86zM5.41 20L4 18.59l7.72-7.72 1.47 1.35L5.41 20z\"/>\n",
              "  </svg>\n",
              "      </button>\n",
              "      \n",
              "  <style>\n",
              "    .colab-df-container {\n",
              "      display:flex;\n",
              "      flex-wrap:wrap;\n",
              "      gap: 12px;\n",
              "    }\n",
              "\n",
              "    .colab-df-convert {\n",
              "      background-color: #E8F0FE;\n",
              "      border: none;\n",
              "      border-radius: 50%;\n",
              "      cursor: pointer;\n",
              "      display: none;\n",
              "      fill: #1967D2;\n",
              "      height: 32px;\n",
              "      padding: 0 0 0 0;\n",
              "      width: 32px;\n",
              "    }\n",
              "\n",
              "    .colab-df-convert:hover {\n",
              "      background-color: #E2EBFA;\n",
              "      box-shadow: 0px 1px 2px rgba(60, 64, 67, 0.3), 0px 1px 3px 1px rgba(60, 64, 67, 0.15);\n",
              "      fill: #174EA6;\n",
              "    }\n",
              "\n",
              "    [theme=dark] .colab-df-convert {\n",
              "      background-color: #3B4455;\n",
              "      fill: #D2E3FC;\n",
              "    }\n",
              "\n",
              "    [theme=dark] .colab-df-convert:hover {\n",
              "      background-color: #434B5C;\n",
              "      box-shadow: 0px 1px 3px 1px rgba(0, 0, 0, 0.15);\n",
              "      filter: drop-shadow(0px 1px 2px rgba(0, 0, 0, 0.3));\n",
              "      fill: #FFFFFF;\n",
              "    }\n",
              "  </style>\n",
              "\n",
              "      <script>\n",
              "        const buttonEl =\n",
              "          document.querySelector('#df-73802940-0a86-4f9f-848d-78764854bb3d button.colab-df-convert');\n",
              "        buttonEl.style.display =\n",
              "          google.colab.kernel.accessAllowed ? 'block' : 'none';\n",
              "\n",
              "        async function convertToInteractive(key) {\n",
              "          const element = document.querySelector('#df-73802940-0a86-4f9f-848d-78764854bb3d');\n",
              "          const dataTable =\n",
              "            await google.colab.kernel.invokeFunction('convertToInteractive',\n",
              "                                                     [key], {});\n",
              "          if (!dataTable) return;\n",
              "\n",
              "          const docLinkHtml = 'Like what you see? Visit the ' +\n",
              "            '<a target=\"_blank\" href=https://colab.research.google.com/notebooks/data_table.ipynb>data table notebook</a>'\n",
              "            + ' to learn more about interactive tables.';\n",
              "          element.innerHTML = '';\n",
              "          dataTable['output_type'] = 'display_data';\n",
              "          await google.colab.output.renderOutput(dataTable, element);\n",
              "          const docLink = document.createElement('div');\n",
              "          docLink.innerHTML = docLinkHtml;\n",
              "          element.appendChild(docLink);\n",
              "        }\n",
              "      </script>\n",
              "    </div>\n",
              "  </div>\n",
              "  "
            ]
          },
          "metadata": {},
          "execution_count": 9
        }
      ]
    },
    {
      "cell_type": "code",
      "source": [
        "del df1, df2, df3, df4, df5\n",
        "gc.collect()"
      ],
      "metadata": {
        "colab": {
          "base_uri": "https://localhost:8080/"
        },
        "id": "O0CLDc37-9yP",
        "outputId": "2ede093a-09fa-4c49-a9fa-343437c8ca8c"
      },
      "execution_count": 10,
      "outputs": [
        {
          "output_type": "execute_result",
          "data": {
            "text/plain": [
              "50"
            ]
          },
          "metadata": {},
          "execution_count": 10
        }
      ]
    },
    {
      "cell_type": "code",
      "source": [
        "train['kdist_diff'] = (train['kdist'] - train['kdist_country']) /\\\n",
        "                            train['kdist_country']\n",
        "train['kneighbors_mean'] = train[['kneighbors', 'kneighbors_country']].mean(axis = 1)"
      ],
      "metadata": {
        "id": "Yqyiz1Lwr6jz"
      },
      "execution_count": 11,
      "outputs": []
    },
    {
      "cell_type": "code",
      "source": [
        "train = reduce_memory(train)"
      ],
      "metadata": {
        "id": "1pGCw5vCI6wz"
      },
      "execution_count": 12,
      "outputs": []
    },
    {
      "cell_type": "code",
      "source": [
        "# str | Noneって書きたいところだけど3.7系でもいけるようにOptionalを使う\n",
        "from typing import Optional\n",
        "from collections import OrderedDict\n",
        "from lightgbm.callback import CallbackEnv\n",
        "from tqdm.auto import tqdm\n",
        "\n",
        "class LgbmProgressBarCallback:\n",
        "    description: Optional[str]\n",
        "    pbar: tqdm\n",
        "\n",
        "    def __init__(self, description: Optional[str] = None):\n",
        "        self.description = description\n",
        "        self.pbar = tqdm()\n",
        "\n",
        "    def __call__(self, env: CallbackEnv):\n",
        "\n",
        "        # 初回だけProgressBarを初期化する\n",
        "        is_first_iteration: bool = env.iteration == env.begin_iteration\n",
        "\n",
        "        if is_first_iteration:\n",
        "            total: int = env.end_iteration - env.begin_iteration\n",
        "            self.pbar.reset(total=total)\n",
        "            self.pbar.set_description(self.description, refresh=False)\n",
        "\n",
        "        # valid_setsの評価結果を更新\n",
        "        if len(env.evaluation_result_list) > 0:\n",
        "            # OrderedDictにしないと表示順がバラバラになって若干見にくい\n",
        "            postfix = OrderedDict(\n",
        "                [\n",
        "                    (f\"{entry[0]}:{entry[1]}\", str(entry[2]))\n",
        "                    for entry in env.evaluation_result_list\n",
        "                ]\n",
        "            )\n",
        "            self.pbar.set_postfix(ordered_dict=postfix, refresh=False)\n",
        "\n",
        "        # 進捗を1進める\n",
        "        self.pbar.update(1)\n",
        "        self.pbar.refresh()\n"
      ],
      "metadata": {
        "id": "BmXuRl7gNrQ7"
      },
      "execution_count": 13,
      "outputs": []
    },
    {
      "cell_type": "code",
      "source": [
        "def fit_lgbm(X, y, params=None, es_rounds=20, seed=42, N_SPLITS=5, \n",
        "             n_class=None, model_dir=None, folds=None):\n",
        "  models = []\n",
        "  oof = np.zeros((len(y), n_class), dtype=np.float64)\n",
        "  \n",
        "  for i in tqdm(range(CFG.n_splits)):\n",
        "    print(f\"== fold {i} ==\")\n",
        "    trn_idx = folds!=i\n",
        "    val_idx = folds==i\n",
        "    # train, validデータに分割\n",
        "    X_train, y_train = X[trn_idx], y.iloc[trn_idx]\n",
        "    X_valid, y_valid = X.iloc[val_idx], y.iloc[val_idx]\n",
        "\n",
        "    if model_dir is None:\n",
        "      # 学習\n",
        "      model = lgb.LGBMClassifier(**params)\n",
        "      model.fit(\n",
        "          X_train, y_train, \n",
        "          eval_set=[(X_valid, y_valid)],  \n",
        "          early_stopping_rounds=es_rounds, \n",
        "          eval_metric='logloss',  \n",
        "          verbose=-1,\n",
        "          # verbose=50,\n",
        "          callbacks=[LgbmProgressBarCallback(description=\"Model A\"),],\n",
        "          )\n",
        "    else: \n",
        "      # 既に学習している場合は、読み込む（トレーニングをしない）\n",
        "      with open(f'{model_dir}/lgbm_fold{i}.pkl', 'rb') as f:\n",
        "          model = pickle.load(f)\n",
        "\n",
        "    # validデータに対して予測し、結果を格納    \n",
        "    pred = model.predict_proba(X_valid)\n",
        "    oof[val_idx] = pred\n",
        "    models.append(model)\n",
        "    \n",
        "    # 学習した結果をファイルに保存（！！！colabの場合は、、google driveに保存するように変更しておくしておく！！！）\n",
        "    #file = f'lgbm_fold{i}.pkl'\n",
        "    # file = f'{CFG.model_path}/lgbm_fold{i}.pkl'\n",
        "    # pickle.dump(model, open(file, 'wb'))\n",
        "    print()\n",
        "    model.booster_.save_model(f'{CFG.model_path}/lgbm_fold{i}.txt')\n",
        "\n",
        "  cv = (oof.argmax(axis=-1) == y).mean()\n",
        "  print(f\"CV-accuracy: {cv}\")\n",
        "\n",
        "  return oof, models\n"
      ],
      "metadata": {
        "id": "79Io8tcy0ug_"
      },
      "execution_count": 14,
      "outputs": []
    },
    {
      "cell_type": "code",
      "source": [
        ""
      ],
      "metadata": {
        "id": "sUJ5zYH6pqYU"
      },
      "execution_count": 14,
      "outputs": []
    },
    {
      "cell_type": "code",
      "source": [
        "import optuna.integration.lightgbm as lgbopt\n",
        "import lightgbm as lgb"
      ],
      "metadata": {
        "id": "HHW1YGG0pmph"
      },
      "execution_count": 15,
      "outputs": []
    },
    {
      "cell_type": "code",
      "source": [
        "def sample_scheduler_func(current_lr, eval_history, best_round, is_higher_better):\n",
        "    \"\"\"次のラウンドで用いる学習率を決定するための関数 (この中身を好きに改造する)\n",
        "\n",
        "    :param current_lr: 現在の学習率 (指定されていない場合の初期値は None)\n",
        "    :param eval_history: 検証用データに対する評価指標の履歴\n",
        "    :param best_round: 現状で最も評価指標の良かったラウンド数\n",
        "    :param is_higher_better: 高い方が性能指標として優れているか否か\n",
        "    :return: 次のラウンドで用いる学習率\n",
        "\n",
        "    NOTE: 学習を打ち切りたいときには callback.EarlyStopException を上げる\n",
        "    \"\"\"\n",
        "    # 学習率が設定されていない場合のデフォルト\n",
        "    #current_lr = current_lr or 0.05\n",
        "\n",
        "\n",
        "    # 試しに 20 ラウンド毎に学習率を半分にしてみる\n",
        "    # if len(eval_history) % 20 == 0:\n",
        "    #     current_lr /= 2\n",
        "\n",
        "    # # 小さすぎるとほとんど学習が進まないので下限も用意する\n",
        "    # min_threshold = 0.001\n",
        "    # current_lr = max(min_threshold, current_lr)\n",
        "    n = len(eval_history) \n",
        "    \n",
        "    if n == 100 : # 1.0 -> 0.5\n",
        "      current_lr *= 0.5\n",
        "    elif n == 500 : # 0.5 -> 0.2 \n",
        "      current_lr *= 0.4\n",
        "    \n",
        "    return current_lr\n",
        "\n",
        "\n",
        "class LrSchedulingCallback(object):\n",
        "    \"\"\"ラウンドごとの学習率を動的に制御するためのコールバック\"\"\"\n",
        "\n",
        "    def __init__(self, strategy_func):\n",
        "        # 学習率を決定するための関数\n",
        "        self.scheduler_func = strategy_func\n",
        "        # 検証用データに対する評価指標の履歴\n",
        "        self.eval_metric_history = []\n",
        "\n",
        "    def __call__(self, env):\n",
        "        # 現在の学習率を取得する\n",
        "        current_lr = env.params.get('learning_rate')\n",
        "\n",
        "        # 検証用データに対する評価結果を取り出す (先頭の評価指標)\n",
        "        first_eval_result = env.evaluation_result_list[0]\n",
        "        # スコア\n",
        "        metric_score = first_eval_result[2]\n",
        "        # 評価指標は大きい方が優れているか否か\n",
        "        is_higher_better = first_eval_result[3]\n",
        "\n",
        "        # 評価指標の履歴を更新する\n",
        "        self.eval_metric_history.append(metric_score)\n",
        "        # 現状で最も優れたラウンド数を計算する\n",
        "        best_round_find_func = np.argmax if is_higher_better else np.argmin\n",
        "        best_round = best_round_find_func(self.eval_metric_history)\n",
        "\n",
        "        # 新しい学習率を計算する\n",
        "        new_lr = self.scheduler_func(current_lr=current_lr,\n",
        "                                     eval_history=self.eval_metric_history,\n",
        "                                     best_round=best_round,\n",
        "                                     is_higher_better=is_higher_better)\n",
        "\n",
        "        # 次のラウンドで使う学習率を更新する\n",
        "        update_params = {\n",
        "            'learning_rate': new_lr,\n",
        "        }\n",
        "        env.model.reset_parameter(update_params)\n",
        "        env.params.update(update_params)\n",
        "\n",
        "    @property\n",
        "    def before_iteration(self):\n",
        "        # コールバックは各イテレーションの後に実行する\n",
        "        return False"
      ],
      "metadata": {
        "id": "-2fcuj_d6NBM"
      },
      "execution_count": 16,
      "outputs": []
    },
    {
      "cell_type": "code",
      "source": [
        "def fit_lgbm_optina(X, y, params=None, es_rounds=20, seed=42, N_SPLITS=5, \n",
        "             n_class=None, model_dir=None, folds=None):\n",
        "  models = []\n",
        "  oof = []\n",
        "  \n",
        "  for i in range(CFG.n_splits):\n",
        "    print(f\"== fold {i} ==\")\n",
        "    trn_idx = folds!=i\n",
        "    val_idx = folds==i\n",
        "    # train, validデータに分割\n",
        "    X_train, y_train = X[trn_idx], y.iloc[trn_idx]\n",
        "    X_valid, y_valid = X.iloc[val_idx], y.iloc[val_idx]\n",
        "\n",
        "\n",
        "    train_data = lgb.Dataset(\n",
        "        data=X_train, \n",
        "        label=y_train, \n",
        "        weight=compute_sample_weight(class_weight='balanced', y=y_train).astype('float32'),\n",
        "    )\n",
        "    validation_data = lgb.Dataset(\n",
        "        data=X_valid, \n",
        "        label=y_valid, \n",
        "        weight=np.ones(len(X_valid)).astype('float32'),\n",
        "    )\n",
        "\n",
        "    model = lgbopt.train(\n",
        "      params=params,\n",
        "      train_set=train_data, \n",
        "      num_boost_round=300, \n",
        "      early_stopping_rounds=20,\n",
        "      valid_sets=[validation_data],\n",
        "      verbose_eval=False,\n",
        "      callbacks=[LgbmProgressBarCallback(description=\"Model A\"),\n",
        "                 ],\n",
        "    )\n",
        "    print(\"best_params \" , model.params)\n",
        "    model.save_model(f'{CFG.model_path}/lgbm_fold{i}.txt', num_iteration=model.best_iteration)\n",
        "\n",
        "\n",
        "    # validデータに対して予測し、結果を格納 \n",
        "    pred = model.predict(X_valid, num_iteration=model.best_iteration)\n",
        "    pred = pred.round(0)\n",
        "    accuracy = accuracy_score(pred, y_valid) \n",
        "    print()\n",
        "    print(accuracy)\n",
        "    oof.append(pred)\n",
        "    models.append(model)\n",
        "    break\n",
        "\n",
        "  return oof, models\n"
      ],
      "metadata": {
        "id": "PEZFqsoz-5PO"
      },
      "execution_count": 17,
      "outputs": []
    },
    {
      "cell_type": "code",
      "source": [
        "\n",
        "def fit_lgbm2(X, y, params=None, es_rounds=20, seed=42, N_SPLITS=5, \n",
        "             n_class=None, model_dir=None, folds=None):\n",
        "  models = []\n",
        "  oof = []\n",
        "  \n",
        "  for i in range(CFG.n_splits):\n",
        "    print(f\"== fold {i} ==\")\n",
        "    trn_idx = folds!=i\n",
        "    val_idx = folds==i\n",
        "    # train, validデータに分割\n",
        "    X_train, y_train = X[trn_idx], y.iloc[trn_idx]\n",
        "    X_valid, y_valid = X.iloc[val_idx], y.iloc[val_idx]\n",
        "\n",
        "\n",
        "    train_data = lgb.Dataset(\n",
        "        data=X_train, \n",
        "        label=y_train, \n",
        "        # weight=compute_sample_weight(class_weight='balanced', y=y_train).astype('float32'),\n",
        "    )\n",
        "    validation_data = lgb.Dataset(\n",
        "        data=X_valid, \n",
        "        label=y_valid, \n",
        "        # weight=np.ones(len(X_valid)).astype('float32'),\n",
        "    )\n",
        "\n",
        "    model = lgb.train(\n",
        "      params=params,\n",
        "      train_set=train_data, \n",
        "      num_boost_round=3000, \n",
        "      early_stopping_rounds=20,\n",
        "      valid_sets=[validation_data],\n",
        "      verbose_eval=False,\n",
        "      callbacks=[LgbmProgressBarCallback(description=\"Model A\"),\n",
        "                 #LrSchedulingCallback(strategy_func=sample_scheduler_func),\n",
        "                ],\n",
        "    )\n",
        "    # print(\"best_params \" , model.params)\n",
        "    model.save_model(f'{CFG.model_path}/lgbm_fold{i}.txt', num_iteration=model.best_iteration)\n",
        "\n",
        "\n",
        "    # validデータに対して予測し、結果を格納 \n",
        "    pred = model.predict(X_valid, num_iteration=model.best_iteration)\n",
        "    pred = pred.round(0)\n",
        "    accuracy = accuracy_score(pred, y_valid) \n",
        "    print()\n",
        "    print(accuracy)\n",
        "    oof.append(pred)\n",
        "    models.append(model)\n",
        "\n",
        "  return oof, models\n"
      ],
      "metadata": {
        "id": "Wd-l9EqRMRCl"
      },
      "execution_count": 18,
      "outputs": []
    },
    {
      "cell_type": "code",
      "source": [
        "features = ['kdist', 'kneighbors', 'kdist_country',\n",
        "        'kneighbors_country', 'name_sim', 'name_gesh', 'name_leven',\n",
        "        'name_jaro', 'name_lcs', 'name_len_diff', 'name_nleven', 'name_nlcsk',\n",
        "        'name_nlcs', 'address_sim', 'address_gesh', 'address_leven',\n",
        "        'address_jaro', 'address_lcs', 'address_len_diff', 'address_nleven',\n",
        "        'address_nlcsk', 'address_nlcs', 'city_gesh', 'city_leven', 'city_jaro',\n",
        "        'city_lcs', 'city_len_diff', 'city_nleven', 'city_nlcsk', 'city_nlcs',\n",
        "        'state_sim', 'state_gesh', 'state_leven', 'state_jaro', 'state_lcs',\n",
        "        'state_len_diff', 'state_nleven', 'state_nlcsk', 'state_nlcs',\n",
        "        'zip_gesh', 'zip_leven', 'zip_jaro', 'zip_lcs', 'url_sim', 'url_gesh',\n",
        "        'url_leven', 'url_jaro', 'url_lcs', 'url_len_diff', 'url_nleven',\n",
        "        'url_nlcsk', 'url_nlcs', 'phone_gesh', 'phone_leven', 'phone_jaro',\n",
        "        'phone_lcs', 'categories_sim', 'categories_gesh', 'categories_leven',\n",
        "        'categories_jaro', 'categories_lcs', 'categories_len_diff',\n",
        "        'categories_nleven', 'categories_nlcsk', 'categories_nlcs',\n",
        "        'country_sim', 'country_gesh', 'country_leven', 'country_jaro',\n",
        "        'country_lcs', 'country_len_diff', 'country_nleven', 'country_nlcsk',\n",
        "        'country_nlcs']"
      ],
      "metadata": {
        "id": "wJTyrRMZ1qZV"
      },
      "execution_count": 19,
      "outputs": []
    },
    {
      "cell_type": "code",
      "source": [
        "TRAIN_FEATURES = ['kdist',\n",
        "                'kneighbors',\n",
        "                'kdist_country',\n",
        "                'kneighbors_country',\n",
        "                'latdiff',\n",
        "                'londiff',\n",
        "                'manhattan',\n",
        "                'euclidean',\n",
        "                'haversine',\n",
        "                'name_sim',\n",
        "                'name_gesh',\n",
        "                'name_leven',\n",
        "                'name_jaro',\n",
        "                'name_lcs',\n",
        "                'name_len_diff',\n",
        "                'name_nleven',\n",
        "                'name_nlcsk',\n",
        "                'name_nlcs',\n",
        "                'address_sim',\n",
        "                'address_gesh',\n",
        "                'address_leven',\n",
        "                'address_jaro',\n",
        "                'address_lcs',\n",
        "                'address_len_diff',\n",
        "                'address_nleven',\n",
        "                'address_nlcsk',\n",
        "                'address_nlcs',\n",
        "                'city_gesh',\n",
        "                'city_leven',\n",
        "                'city_jaro',\n",
        "                'city_lcs',\n",
        "                'city_len_diff',\n",
        "                'city_nleven',\n",
        "                'city_nlcsk',\n",
        "                'city_nlcs',\n",
        "                'state_sim',\n",
        "                'state_gesh',\n",
        "                'state_leven',\n",
        "                'state_jaro',\n",
        "                'state_lcs',\n",
        "                'state_len_diff',\n",
        "                'state_nleven',\n",
        "                'state_nlcsk',\n",
        "                'state_nlcs',\n",
        "                'zip_gesh',\n",
        "                'zip_leven',\n",
        "                'zip_jaro',\n",
        "                'zip_lcs',\n",
        "                'url_sim',\n",
        "                'url_gesh',\n",
        "                'url_leven',\n",
        "                'url_jaro',\n",
        "                'url_lcs',\n",
        "                'url_len_diff',\n",
        "                'url_nleven',\n",
        "                'url_nlcsk',\n",
        "                'url_nlcs',\n",
        "                'phone_gesh',\n",
        "                'phone_leven',\n",
        "                'phone_jaro',\n",
        "                'phone_lcs',\n",
        "                'categories_sim',\n",
        "                'categories_gesh',\n",
        "                'categories_leven',\n",
        "                'categories_jaro',\n",
        "                'categories_lcs',\n",
        "                'categories_len_diff',\n",
        "                'categories_nleven',\n",
        "                'categories_nlcsk',\n",
        "                'categories_nlcs',\n",
        "                'country_sim',\n",
        "                'country_gesh',\n",
        "                'country_leven',\n",
        "                'country_nleven',\n",
        "                'country_jaro',\n",
        "                'country_lcs', 'country_len_diff', 'country_nlcsk',\n",
        "                'country_nlcs',\n",
        "                'kdist_diff',\n",
        "                'kneighbors_mean',]"
      ],
      "metadata": {
        "id": "4KC09JODH_WV"
      },
      "execution_count": 20,
      "outputs": []
    },
    {
      "cell_type": "code",
      "source": [
        "for e in train.columns : \n",
        "  if e not in TRAIN_FEATURES : print(e)"
      ],
      "metadata": {
        "colab": {
          "base_uri": "https://localhost:8080/"
        },
        "id": "MPxBT5B2sGnM",
        "outputId": "fba7360c-5e79-41d5-8b8b-644769929d55"
      },
      "execution_count": 21,
      "outputs": [
        {
          "output_type": "stream",
          "name": "stdout",
          "text": [
            "id\n",
            "match_id\n",
            "label\n",
            "fold\n"
          ]
        }
      ]
    },
    {
      "cell_type": "code",
      "source": [
        "features = TRAIN_FEATURES"
      ],
      "metadata": {
        "id": "h-hgccO5JVBd"
      },
      "execution_count": 22,
      "outputs": []
    },
    {
      "cell_type": "code",
      "source": [
        "train.columns"
      ],
      "metadata": {
        "colab": {
          "base_uri": "https://localhost:8080/"
        },
        "id": "cPDfQ7bNIzFH",
        "outputId": "2b6e5269-2cba-4eeb-e5e8-fa00b0438755"
      },
      "execution_count": 23,
      "outputs": [
        {
          "output_type": "execute_result",
          "data": {
            "text/plain": [
              "Index(['id', 'match_id', 'kdist', 'kneighbors', 'kdist_country',\n",
              "       'kneighbors_country', 'label', 'latdiff', 'londiff', 'manhattan',\n",
              "       'euclidean', 'haversine', 'name_sim', 'name_gesh', 'name_leven',\n",
              "       'name_jaro', 'name_lcs', 'name_len_diff', 'name_nleven', 'name_nlcsk',\n",
              "       'name_nlcs', 'address_sim', 'address_gesh', 'address_leven',\n",
              "       'address_jaro', 'address_lcs', 'address_len_diff', 'address_nleven',\n",
              "       'address_nlcsk', 'address_nlcs', 'city_gesh', 'city_leven', 'city_jaro',\n",
              "       'city_lcs', 'city_len_diff', 'city_nleven', 'city_nlcsk', 'city_nlcs',\n",
              "       'state_sim', 'state_gesh', 'state_leven', 'state_jaro', 'state_lcs',\n",
              "       'state_len_diff', 'state_nleven', 'state_nlcsk', 'state_nlcs',\n",
              "       'zip_gesh', 'zip_leven', 'zip_jaro', 'zip_lcs', 'url_sim', 'url_gesh',\n",
              "       'url_leven', 'url_jaro', 'url_lcs', 'url_len_diff', 'url_nleven',\n",
              "       'url_nlcsk', 'url_nlcs', 'phone_gesh', 'phone_leven', 'phone_jaro',\n",
              "       'phone_lcs', 'categories_sim', 'categories_gesh', 'categories_leven',\n",
              "       'categories_jaro', 'categories_lcs', 'categories_len_diff',\n",
              "       'categories_nleven', 'categories_nlcsk', 'categories_nlcs',\n",
              "       'country_sim', 'country_gesh', 'country_leven', 'country_jaro',\n",
              "       'country_lcs', 'country_len_diff', 'country_nleven', 'country_nlcsk',\n",
              "       'country_nlcs', 'fold', 'kdist_diff', 'kneighbors_mean'],\n",
              "      dtype='object')"
            ]
          },
          "metadata": {},
          "execution_count": 23
        }
      ]
    },
    {
      "cell_type": "code",
      "source": [
        "# params = {\n",
        "#     'objective': \"binary\",\n",
        "#     'learning_rate': 0.2,\n",
        "#     'reg_alpha': 0.1,\n",
        "#     'reg_lambda': 0.1,\n",
        "#     'random_state': 42,\n",
        "\n",
        "#     'max_depth': 7,   \n",
        "#     'num_leaves': 35, \n",
        "#     'n_estimators': 1000000, \n",
        "#     \"colsample_bytree\": 0.9,\n",
        "# }\n",
        "\n",
        "# params = {\n",
        "#   'task': 'train',\n",
        "#   'boosting_type': 'gbdt',\n",
        "#   'objective': 'binary',\n",
        "#   'metric': 'binary_logloss',\n",
        "#   'num_leaves': 48,\n",
        "#   'min_data_in_leaf': 200,\n",
        "#   'max_depth': 6,\n",
        "\n",
        "#   'learning_rate': 0.2,\n",
        "#   'reg_alpha': 0.1,\n",
        "#   'reg_lambda': 0.1,\n",
        "#   \"colsample_bytree\": 0.7,\n",
        "\n",
        "#   # 'n_estimators': 5000,\n",
        "#   'random_state': 42,\n",
        "# }\n",
        "\n",
        "# params = {\n",
        "#   'task': 'train',\n",
        "#   'boosting_type': 'gbdt',\n",
        "#   'objective': \"binary\",\n",
        "#   'learning_rate': 0.2,\n",
        "#   'random_state': 42,\n",
        "#   'n_estimators': 100,\n",
        "# }\n",
        "\n",
        "# params = {\n",
        "#     'objective': \"binary\",\n",
        "#     'learning_rate': 0.2,\n",
        "#     'reg_alpha': 0.1,\n",
        "#     'reg_lambda': 0.1,\n",
        "#     'random_state': 42,\n",
        "#     'min_data_in_leaf': 20,\n",
        "\n",
        "#     'max_depth': 7,   \n",
        "#     'num_leaves': 200, \n",
        "#     # 'n_estimators': 1000000, \n",
        "#     'n_estimators': 10000, \n",
        "#     \"colsample_bytree\": 0.9,\n",
        "#     \"verbose\": -1,\n",
        "# }\n",
        "# params = {'task': 'train', 'boosting_type': 'gbdt', 'objective': 'binary', 'metric': 'binary_logloss', \n",
        "#           'num_leaves': 61, 'min_data_in_leaf': 200, 'max_depth': 6, 'learning_rate': 0.2, 'random_state': 42, \n",
        "#           'feature_pre_filter': False, 'feature_fraction': 0.88, 'lambda_l1': 5.5168523748814025, 'lambda_l2': 0.029477410051213494, \n",
        "#           'bagging_fraction': 0.9846184137245049, 'bagging_freq': 7, 'min_child_samples': 25}\n",
        "\n",
        "params = {'task': 'train', 'boosting_type': 'gbdt', 'objective': 'binary', 'metric': 'binary_logloss',\n",
        "          'learning_rate': 0.2, \n",
        "          'num_leaves': 200,\n",
        "          'max_depth': -1, \n",
        "          'min_data_in_leaf': 20,  \n",
        "          'random_state': 42, \n",
        "\n",
        "          'lambda_l1': 1,\n",
        "          'max_bin': 255,\n",
        "          'feature_pre_filter': True, \n",
        "          'feature_fraction': 0.75, \n",
        "          'bagging_fraction': 0.80, \n",
        "          'bagging_freq': 10, \n",
        "          }\n",
        "\n",
        "\n",
        "oof, models = fit_lgbm2(train[features], train[\"label\"].astype(int), \n",
        "                      params=params, \n",
        "                      n_class=int(train[\"label\"].max() + 1), \n",
        "                      N_SPLITS=CFG.n_splits, \n",
        "                      folds=train[\"fold\"].values)"
      ],
      "metadata": {
        "colab": {
          "base_uri": "https://localhost:8080/",
          "height": 989,
          "referenced_widgets": [
            "a42a58ad0a484f34a058290cc261a4f9",
            "96aa701356554e4aa85a24fd74e353af",
            "dee844721f5a44dabc386156d95032a9",
            "102376580f97402cb0ba87fa1dc04beb",
            "5fead1975e544c07b8c4cbb438eacb06",
            "05b76930d2f045808b08632c0644b9f7",
            "da5443b41f5646efa9221c66799e612f",
            "fbbeb86fa5c54b61a30ec927a678f75d",
            "8f62d8a6c2294501b94e30c22bf46968",
            "92061db8aba14c6fa8a68826d5ac0c98",
            "85b10718cdab4e068774a08728750797",
            "b6e708867e6a4106a288499ad4ed5bb1",
            "73c862e6e0a24a3f9340549a1e208287",
            "e786ca12e8d743e9960bb0ba09efe1f0",
            "57eb8ed00a8e495f84e4e2eaf3592fea",
            "f382abf0d1024355918c9d56bd17fa4e",
            "1ebc822f22ea4bc59eaf35826d6a0c58",
            "6fce030e71724085a6348716c597dfa1",
            "e1cec163dfed4b56b7241f1dfd79ea41",
            "f94ed347974a4a69b266c94fea6c2b05",
            "9161d2d0072645469dcba59a9382e28f",
            "8389e979ca6f426080f2e6f6219fd7e8",
            "3ec054e10edb459b9aa3a586548a024a",
            "f4c60e7cbcb7451f860efdf079e2b909",
            "032b84c9902c469cabcdb4b2e87628bc",
            "3dd0acc1cb9948faa22fdaeb063db8cc",
            "8fd284d44536409581ffd8c5db329fee",
            "49366adb51ba411f87d3015f11e6ced4",
            "ee4c2c61420f4637a8b0e53f36e8eb77",
            "11aa1cc4a01e4cf8a71e83cb6cfaca9b",
            "7c6ffdb06d2b49d8bc2b94531740c438",
            "ef408774bd3b47c9b01dabc71e316193",
            "80973d83a37d40019dc5c80ec9a7b3e6"
          ]
        },
        "id": "Yx5UFfMQ0ueR",
        "outputId": "17318624-aca5-4ca0-e296-08b99a2cb1d4"
      },
      "execution_count": 24,
      "outputs": [
        {
          "output_type": "stream",
          "name": "stdout",
          "text": [
            "== fold 0 ==\n"
          ]
        },
        {
          "output_type": "display_data",
          "data": {
            "text/plain": [
              "0it [00:00, ?it/s]"
            ],
            "application/vnd.jupyter.widget-view+json": {
              "version_major": 2,
              "version_minor": 0,
              "model_id": "a42a58ad0a484f34a058290cc261a4f9"
            }
          },
          "metadata": {}
        },
        {
          "output_type": "stream",
          "name": "stderr",
          "text": [
            "/usr/local/lib/python3.7/dist-packages/lightgbm/engine.py:181: UserWarning: 'early_stopping_rounds' argument is deprecated and will be removed in a future release of LightGBM. Pass 'early_stopping()' callback via 'callbacks' argument instead.\n",
            "  _log_warning(\"'early_stopping_rounds' argument is deprecated and will be removed in a future release of LightGBM. \"\n",
            "/usr/local/lib/python3.7/dist-packages/lightgbm/engine.py:239: UserWarning: 'verbose_eval' argument is deprecated and will be removed in a future release of LightGBM. Pass 'log_evaluation()' callback via 'callbacks' argument instead.\n",
            "  _log_warning(\"'verbose_eval' argument is deprecated and will be removed in a future release of LightGBM. \"\n"
          ]
        },
        {
          "output_type": "stream",
          "name": "stdout",
          "text": [
            "[LightGBM] [Info] Number of positive: 672528, number of negative: 8612842\n",
            "[LightGBM] [Warning] Auto-choosing row-wise multi-threading, the overhead of testing was 0.547119 seconds.\n",
            "You can set `force_row_wise=true` to remove the overhead.\n",
            "And if memory is not enough, you can set `force_col_wise=true`.\n",
            "[LightGBM] [Info] Total Bins 13076\n",
            "[LightGBM] [Info] Number of data points in the train set: 9285370, number of used features: 81\n",
            "[LightGBM] [Info] [binary:BoostFromScore]: pavg=0.072429 -> initscore=-2.549966\n",
            "[LightGBM] [Info] Start training from score -2.549966\n",
            "\n",
            "0.9852421668744845\n",
            "== fold 1 ==\n"
          ]
        },
        {
          "output_type": "display_data",
          "data": {
            "text/plain": [
              "0it [00:00, ?it/s]"
            ],
            "application/vnd.jupyter.widget-view+json": {
              "version_major": 2,
              "version_minor": 0,
              "model_id": "b6e708867e6a4106a288499ad4ed5bb1"
            }
          },
          "metadata": {}
        },
        {
          "output_type": "stream",
          "name": "stderr",
          "text": [
            "/usr/local/lib/python3.7/dist-packages/lightgbm/engine.py:181: UserWarning: 'early_stopping_rounds' argument is deprecated and will be removed in a future release of LightGBM. Pass 'early_stopping()' callback via 'callbacks' argument instead.\n",
            "  _log_warning(\"'early_stopping_rounds' argument is deprecated and will be removed in a future release of LightGBM. \"\n",
            "/usr/local/lib/python3.7/dist-packages/lightgbm/engine.py:239: UserWarning: 'verbose_eval' argument is deprecated and will be removed in a future release of LightGBM. Pass 'log_evaluation()' callback via 'callbacks' argument instead.\n",
            "  _log_warning(\"'verbose_eval' argument is deprecated and will be removed in a future release of LightGBM. \"\n"
          ]
        },
        {
          "output_type": "stream",
          "name": "stdout",
          "text": [
            "[LightGBM] [Info] Number of positive: 672531, number of negative: 8612840\n",
            "[LightGBM] [Warning] Auto-choosing row-wise multi-threading, the overhead of testing was 0.477265 seconds.\n",
            "You can set `force_row_wise=true` to remove the overhead.\n",
            "And if memory is not enough, you can set `force_col_wise=true`.\n",
            "[LightGBM] [Info] Total Bins 13147\n",
            "[LightGBM] [Info] Number of data points in the train set: 9285371, number of used features: 81\n",
            "[LightGBM] [Info] [binary:BoostFromScore]: pavg=0.072429 -> initscore=-2.549961\n",
            "[LightGBM] [Info] Start training from score -2.549961\n",
            "\n",
            "0.9855402669919956\n",
            "== fold 2 ==\n"
          ]
        },
        {
          "output_type": "display_data",
          "data": {
            "text/plain": [
              "0it [00:00, ?it/s]"
            ],
            "application/vnd.jupyter.widget-view+json": {
              "version_major": 2,
              "version_minor": 0,
              "model_id": "3ec054e10edb459b9aa3a586548a024a"
            }
          },
          "metadata": {}
        },
        {
          "output_type": "stream",
          "name": "stderr",
          "text": [
            "/usr/local/lib/python3.7/dist-packages/lightgbm/engine.py:181: UserWarning: 'early_stopping_rounds' argument is deprecated and will be removed in a future release of LightGBM. Pass 'early_stopping()' callback via 'callbacks' argument instead.\n",
            "  _log_warning(\"'early_stopping_rounds' argument is deprecated and will be removed in a future release of LightGBM. \"\n",
            "/usr/local/lib/python3.7/dist-packages/lightgbm/engine.py:239: UserWarning: 'verbose_eval' argument is deprecated and will be removed in a future release of LightGBM. Pass 'log_evaluation()' callback via 'callbacks' argument instead.\n",
            "  _log_warning(\"'verbose_eval' argument is deprecated and will be removed in a future release of LightGBM. \"\n"
          ]
        },
        {
          "output_type": "stream",
          "name": "stdout",
          "text": [
            "[LightGBM] [Info] Number of positive: 672533, number of negative: 8612840\n",
            "[LightGBM] [Warning] Auto-choosing row-wise multi-threading, the overhead of testing was 0.515445 seconds.\n",
            "You can set `force_row_wise=true` to remove the overhead.\n",
            "And if memory is not enough, you can set `force_col_wise=true`.\n",
            "[LightGBM] [Info] Total Bins 13143\n",
            "[LightGBM] [Info] Number of data points in the train set: 9285373, number of used features: 81\n",
            "[LightGBM] [Info] [binary:BoostFromScore]: pavg=0.072429 -> initscore=-2.549958\n",
            "[LightGBM] [Info] Start training from score -2.549958\n",
            "\n",
            "0.9855053671539997\n"
          ]
        }
      ]
    },
    {
      "cell_type": "code",
      "source": [
        "# 0.9832166157227484"
      ],
      "metadata": {
        "id": "LVQdQxL00uVp"
      },
      "execution_count": 25,
      "outputs": []
    },
    {
      "cell_type": "code",
      "source": [
        ""
      ],
      "metadata": {
        "id": "1nLv5Bkn0uSg"
      },
      "execution_count": 25,
      "outputs": []
    },
    {
      "cell_type": "code",
      "source": [
        ""
      ],
      "metadata": {
        "id": "RW1R_M3c0uPk"
      },
      "execution_count": 25,
      "outputs": []
    },
    {
      "cell_type": "code",
      "source": [
        "# import gc\n",
        "# del df1, df2, df3, df4, df5 \n",
        "# gc.collect()"
      ],
      "metadata": {
        "id": "bjt_G6bKyNlo"
      },
      "execution_count": 26,
      "outputs": []
    },
    {
      "cell_type": "code",
      "source": [
        "# def set_datas(train, valid, test) :\n",
        "#   df = pd.concat(train)\n",
        "#   x_train = df[['kdist', 'kneighbors', 'kdist_country',\n",
        "#         'kneighbors_country', 'name_sim', 'name_gesh', 'name_leven',\n",
        "#         'name_jaro', 'name_lcs', 'name_len_diff', 'name_nleven', 'name_nlcsk',\n",
        "#         'name_nlcs', 'address_sim', 'address_gesh', 'address_leven',\n",
        "#         'address_jaro', 'address_lcs', 'address_len_diff', 'address_nleven',\n",
        "#         'address_nlcsk', 'address_nlcs', 'city_gesh', 'city_leven', 'city_jaro',\n",
        "#         'city_lcs', 'city_len_diff', 'city_nleven', 'city_nlcsk', 'city_nlcs',\n",
        "#         'state_sim', 'state_gesh', 'state_leven', 'state_jaro', 'state_lcs',\n",
        "#         'state_len_diff', 'state_nleven', 'state_nlcsk', 'state_nlcs',\n",
        "#         'zip_gesh', 'zip_leven', 'zip_jaro', 'zip_lcs', 'url_sim', 'url_gesh',\n",
        "#         'url_leven', 'url_jaro', 'url_lcs', 'url_len_diff', 'url_nleven',\n",
        "#         'url_nlcsk', 'url_nlcs', 'phone_gesh', 'phone_leven', 'phone_jaro',\n",
        "#         'phone_lcs', 'categories_sim', 'categories_gesh', 'categories_leven',\n",
        "#         'categories_jaro', 'categories_lcs', 'categories_len_diff',\n",
        "#         'categories_nleven', 'categories_nlcsk', 'categories_nlcs',\n",
        "#         'country_sim', 'country_gesh', 'country_leven', 'country_jaro',\n",
        "#         'country_lcs', 'country_len_diff', 'country_nleven', 'country_nlcsk',\n",
        "#         'country_nlcs']]\n",
        "#   y_train = df['label']\n",
        "\n",
        "#   df = pd.concat(valid)\n",
        "#   x_valid = df[['kdist', 'kneighbors', 'kdist_country',\n",
        "#         'kneighbors_country', 'name_sim', 'name_gesh', 'name_leven',\n",
        "#         'name_jaro', 'name_lcs', 'name_len_diff', 'name_nleven', 'name_nlcsk',\n",
        "#         'name_nlcs', 'address_sim', 'address_gesh', 'address_leven',\n",
        "#         'address_jaro', 'address_lcs', 'address_len_diff', 'address_nleven',\n",
        "#         'address_nlcsk', 'address_nlcs', 'city_gesh', 'city_leven', 'city_jaro',\n",
        "#         'city_lcs', 'city_len_diff', 'city_nleven', 'city_nlcsk', 'city_nlcs',\n",
        "#         'state_sim', 'state_gesh', 'state_leven', 'state_jaro', 'state_lcs',\n",
        "#         'state_len_diff', 'state_nleven', 'state_nlcsk', 'state_nlcs',\n",
        "#         'zip_gesh', 'zip_leven', 'zip_jaro', 'zip_lcs', 'url_sim', 'url_gesh',\n",
        "#         'url_leven', 'url_jaro', 'url_lcs', 'url_len_diff', 'url_nleven',\n",
        "#         'url_nlcsk', 'url_nlcs', 'phone_gesh', 'phone_leven', 'phone_jaro',\n",
        "#         'phone_lcs', 'categories_sim', 'categories_gesh', 'categories_leven',\n",
        "#         'categories_jaro', 'categories_lcs', 'categories_len_diff',\n",
        "#         'categories_nleven', 'categories_nlcsk', 'categories_nlcs',\n",
        "#         'country_sim', 'country_gesh', 'country_leven', 'country_jaro',\n",
        "#         'country_lcs', 'country_len_diff', 'country_nleven', 'country_nlcsk',\n",
        "#         'country_nlcs']]\n",
        "#   y_valid = df['label']\n",
        "\n",
        "#   df = pd.concat(test)\n",
        "#   x_test = df[['kdist', 'kneighbors', 'kdist_country',\n",
        "#         'kneighbors_country', 'name_sim', 'name_gesh', 'name_leven',\n",
        "#         'name_jaro', 'name_lcs', 'name_len_diff', 'name_nleven', 'name_nlcsk',\n",
        "#         'name_nlcs', 'address_sim', 'address_gesh', 'address_leven',\n",
        "#         'address_jaro', 'address_lcs', 'address_len_diff', 'address_nleven',\n",
        "#         'address_nlcsk', 'address_nlcs', 'city_gesh', 'city_leven', 'city_jaro',\n",
        "#         'city_lcs', 'city_len_diff', 'city_nleven', 'city_nlcsk', 'city_nlcs',\n",
        "#         'state_sim', 'state_gesh', 'state_leven', 'state_jaro', 'state_lcs',\n",
        "#         'state_len_diff', 'state_nleven', 'state_nlcsk', 'state_nlcs',\n",
        "#         'zip_gesh', 'zip_leven', 'zip_jaro', 'zip_lcs', 'url_sim', 'url_gesh',\n",
        "#         'url_leven', 'url_jaro', 'url_lcs', 'url_len_diff', 'url_nleven',\n",
        "#         'url_nlcsk', 'url_nlcs', 'phone_gesh', 'phone_leven', 'phone_jaro',\n",
        "#         'phone_lcs', 'categories_sim', 'categories_gesh', 'categories_leven',\n",
        "#         'categories_jaro', 'categories_lcs', 'categories_len_diff',\n",
        "#         'categories_nleven', 'categories_nlcsk', 'categories_nlcs',\n",
        "#         'country_sim', 'country_gesh', 'country_leven', 'country_jaro',\n",
        "#         'country_lcs', 'country_len_diff', 'country_nleven', 'country_nlcsk',\n",
        "#         'country_nlcs']]\n",
        "#   y_test = df['label']\n",
        "#   del df\n",
        "#   return x_train, y_train, x_valid, y_valid, x_test, y_test"
      ],
      "metadata": {
        "id": "Fbd8D9IyPrBr"
      },
      "execution_count": 27,
      "outputs": []
    },
    {
      "cell_type": "code",
      "source": [
        "# def train(train, valid, test, outfile): \n",
        "#   x_train, y_train, x_valid, y_valid, x_test, y_test = set_datas(train, valid, test)\n",
        "\n",
        "#   train_data = lgb.Dataset(\n",
        "#       data=x_train, \n",
        "#       label=y_train, \n",
        "#       weight=compute_sample_weight(class_weight='balanced', y=y_train).astype('float32'),\n",
        "#   )\n",
        "#   validation_data = lgb.Dataset(\n",
        "#       data=x_valid, \n",
        "#       label=y_valid, \n",
        "#       weight=np.ones(len(x_valid)).astype('float32'),\n",
        "#   )\n",
        "#   params = {\n",
        "#     'task': 'train',\n",
        "#     'boosting_type': 'gbdt',\n",
        "#     'objective': 'binary',\n",
        "#     'metric': 'binary_logloss',\n",
        "#     'num_leaves': 64,\n",
        "#     'min_data_in_leaf': 20,\n",
        "#     'max_depth': 7,\n",
        "#     'verbose': 0,\n",
        "\n",
        "#     'learning_rate': 0.2,\n",
        "#     'random_state': 42,\n",
        "#   }\n",
        "#   # params = {\n",
        "#   #   'objective': \"logloss\",\n",
        "#   #   'learning_rate': 0.2,\n",
        "#   #   'reg_alpha': 0.1,\n",
        "#   #   'reg_lambda': 0.1,\n",
        "#   #   'random_state': 42,\n",
        "\n",
        "#   #   'max_depth': 7,   \n",
        "#   #   'num_leaves': 35, \n",
        "#   #   'n_estimators': 1000000, \n",
        "#   #   \"colsample_bytree\": 0.9,\n",
        "#   # }\n",
        "\n",
        "#   bst = lgb.train(\n",
        "#     params=params, \n",
        "#     train_set=train_data, \n",
        "#     num_boost_round=100, \n",
        "#     early_stopping_rounds=20,\n",
        "#     valid_sets=[validation_data],\n",
        "#   )\n",
        "#   bst.save_model(outfile, num_iteration=bst.best_iteration)\n",
        "\n",
        "#   y_pred = bst.predict(x_test, num_iteration=bst.best_iteration)\n",
        "#   y_pred = y_pred.round(0)\n",
        "#   accuracy = accuracy_score(y_pred, y_test)\n",
        "#   print(f\"accuracy score: {accuracy:0.4f}\")\n",
        "#   # accuracy score: 0.9825\n",
        "#   cm = confusion_matrix(y_test, y_pred)\n",
        "#   cm_matrix = pd.DataFrame(data=cm, columns=['Actual Positive:1', 'Actual Negative:0'], \n",
        "#                                   index=['Predict Positive:1', 'Predict Negative:0'])\n",
        "\n",
        "#   sns.heatmap(cm_matrix, annot=True, fmt='d', cmap='YlGnBu')\n",
        "#   del x_train, y_train, x_valid, y_valid, x_test, y_test, bst, y_pred, cm_matrix"
      ],
      "metadata": {
        "id": "t06kefVrPZMq"
      },
      "execution_count": 28,
      "outputs": []
    },
    {
      "cell_type": "code",
      "source": [
        "# train([df1,df2,df3,df4], [df5], [df5], '/content/drive/MyDrive/datas/foursquare/model1.txt')\n",
        "# gc.collect()"
      ],
      "metadata": {
        "id": "JDKLa6aOn0Jk"
      },
      "execution_count": 29,
      "outputs": []
    },
    {
      "cell_type": "code",
      "source": [
        "# train([df2,df3,df4], [df5], [df1], '/content/drive/MyDrive/datas/foursquare/model2.txt')\n",
        "# gc.collect()"
      ],
      "metadata": {
        "id": "yzoaOzSwWfwG"
      },
      "execution_count": 30,
      "outputs": []
    },
    {
      "cell_type": "code",
      "source": [
        "# train([df3,df4,df5], [df1], [df2], '/content/drive/MyDrive/datas/foursquare/model3.txt')\n",
        "# gc.collect()"
      ],
      "metadata": {
        "id": "mtNTYk5RYfHr"
      },
      "execution_count": 31,
      "outputs": []
    },
    {
      "cell_type": "code",
      "source": [
        "# train([df4,df5,df1], [df2], [df3], '/content/drive/MyDrive/datas/foursquare/model4.txt')\n",
        "# gc.collect()"
      ],
      "metadata": {
        "id": "T6VRgBuRYqf6"
      },
      "execution_count": 32,
      "outputs": []
    },
    {
      "cell_type": "code",
      "source": [
        "# train([df5,df1,df2], [df3], [df4], '/content/drive/MyDrive/datas/foursquare/model5.txt')\n",
        "# gc.collect()"
      ],
      "metadata": {
        "id": "MqzDftT7YvJs"
      },
      "execution_count": 33,
      "outputs": []
    },
    {
      "cell_type": "code",
      "source": [
        "# df = df1\n",
        "# x_test = df[['kdist', 'kneighbors', 'kdist_country',\n",
        "#       'kneighbors_country', 'name_sim', 'name_gesh', 'name_leven',\n",
        "#       'name_jaro', 'name_lcs', 'name_len_diff', 'name_nleven', 'name_nlcsk',\n",
        "#       'name_nlcs', 'address_sim', 'address_gesh', 'address_leven',\n",
        "#       'address_jaro', 'address_lcs', 'address_len_diff', 'address_nleven',\n",
        "#       'address_nlcsk', 'address_nlcs', 'city_gesh', 'city_leven', 'city_jaro',\n",
        "#       'city_lcs', 'city_len_diff', 'city_nleven', 'city_nlcsk', 'city_nlcs',\n",
        "#       'state_sim', 'state_gesh', 'state_leven', 'state_jaro', 'state_lcs',\n",
        "#       'state_len_diff', 'state_nleven', 'state_nlcsk', 'state_nlcs',\n",
        "#       'zip_gesh', 'zip_leven', 'zip_jaro', 'zip_lcs', 'url_sim', 'url_gesh',\n",
        "#       'url_leven', 'url_jaro', 'url_lcs', 'url_len_diff', 'url_nleven',\n",
        "#       'url_nlcsk', 'url_nlcs', 'phone_gesh', 'phone_leven', 'phone_jaro',\n",
        "#       'phone_lcs', 'categories_sim', 'categories_gesh', 'categories_leven',\n",
        "#       'categories_jaro', 'categories_lcs', 'categories_len_diff',\n",
        "#       'categories_nleven', 'categories_nlcsk', 'categories_nlcs',\n",
        "#       'country_sim', 'country_gesh', 'country_leven', 'country_jaro',\n",
        "#       'country_lcs', 'country_len_diff', 'country_nleven', 'country_nlcsk',\n",
        "#       'country_nlcs']]\n",
        "# y_test = df['label']"
      ],
      "metadata": {
        "id": "b6EjJYaAU3Q0"
      },
      "execution_count": 34,
      "outputs": []
    },
    {
      "cell_type": "code",
      "source": [
        "# bst = lgb.Booster(model_file = '/content/drive/MyDrive/datas/foursquare/improved_lgb_baseline.lgb')\n",
        "\n",
        "# y_pred = bst.predict(x_test, num_iteration=bst.best_iteration)\n",
        "# y_pred = y_pred.round(0)\n",
        "# accuracy = accuracy_score(y_pred, y_test)\n",
        "# print(f\"accuracy score: {accuracy:0.4f}\")\n",
        "# # accuracy score: 0.9825\n",
        "# cm = confusion_matrix(y_test, y_pred)\n",
        "# cm_matrix = pd.DataFrame(data=cm, columns=['Actual Positive:1', 'Actual Negative:0'], \n",
        "#                                 index=['Predict Positive:1', 'Predict Negative:0'])\n",
        "\n",
        "# sns.heatmap(cm_matrix, annot=True, fmt='d', cmap='YlGnBu')"
      ],
      "metadata": {
        "id": "knuxM9DZZLW1"
      },
      "execution_count": 35,
      "outputs": []
    },
    {
      "cell_type": "code",
      "source": [
        ""
      ],
      "metadata": {
        "id": "Nk-H7b4DUpp-"
      },
      "execution_count": 35,
      "outputs": []
    }
  ]
}